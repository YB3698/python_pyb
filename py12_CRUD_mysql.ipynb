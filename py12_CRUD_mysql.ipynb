{
 "cells": [
  {
   "cell_type": "code",
   "execution_count": 1,
   "id": "af4a154a-4e76-4a83-9923-f7533af5567a",
   "metadata": {},
   "outputs": [
    {
     "name": "stdout",
     "output_type": "stream",
     "text": [
      "eth0: flags=4163<UP,BROADCAST,RUNNING,MULTICAST>  mtu 1500\n",
      "        inet 172.18.0.5  netmask 255.255.0.0  broadcast 172.18.255.255\n",
      "        ether 02:42:ac:12:00:05  txqueuelen 0  (Ethernet)\n",
      "        RX packets 765  bytes 181541 (181.5 KB)\n",
      "        RX errors 0  dropped 0  overruns 0  frame 0\n",
      "        TX packets 762  bytes 4088692 (4.0 MB)\n",
      "        TX errors 0  dropped 0 overruns 0  carrier 0  collisions 0\n",
      "\n",
      "lo: flags=73<UP,LOOPBACK,RUNNING>  mtu 65536\n",
      "        inet 127.0.0.1  netmask 255.0.0.0\n",
      "        inet6 ::1  prefixlen 128  scopeid 0x10<host>\n",
      "        loop  txqueuelen 1000  (Local Loopback)\n",
      "        RX packets 545  bytes 110020 (110.0 KB)\n",
      "        RX errors 0  dropped 0  overruns 0  frame 0\n",
      "        TX packets 545  bytes 110020 (110.0 KB)\n",
      "        TX errors 0  dropped 0 overruns 0  carrier 0  collisions 0\n",
      "\n"
     ]
    }
   ],
   "source": [
    "!ifconfig"
   ]
  },
  {
   "cell_type": "code",
   "execution_count": null,
   "id": "3cfacb76-ff5e-4a97-b54a-c9e3fd33d77d",
   "metadata": {},
   "outputs": [],
   "source": [
    "# !ping MONGODB"
   ]
  },
  {
   "cell_type": "code",
   "execution_count": 1,
   "id": "154c1921-5f8a-480f-ab62-c3ba5bd0dc18",
   "metadata": {},
   "outputs": [
    {
     "name": "stdout",
     "output_type": "stream",
     "text": [
      "PING 172.18.0.3 (172.18.0.3) 56(84) bytes of data.\n",
      "64 bytes from 172.18.0.3: icmp_seq=1 ttl=64 time=0.152 ms\n",
      "64 bytes from 172.18.0.3: icmp_seq=2 ttl=64 time=0.092 ms\n",
      "64 bytes from 172.18.0.3: icmp_seq=3 ttl=64 time=0.089 ms\n",
      "64 bytes from 172.18.0.3: icmp_seq=4 ttl=64 time=0.140 ms\n",
      "64 bytes from 172.18.0.3: icmp_seq=5 ttl=64 time=0.058 ms\n",
      "64 bytes from 172.18.0.3: icmp_seq=6 ttl=64 time=0.077 ms\n",
      "64 bytes from 172.18.0.3: icmp_seq=7 ttl=64 time=0.093 ms\n",
      "64 bytes from 172.18.0.3: icmp_seq=8 ttl=64 time=0.109 ms\n",
      "64 bytes from 172.18.0.3: icmp_seq=9 ttl=64 time=0.053 ms\n",
      "64 bytes from 172.18.0.3: icmp_seq=10 ttl=64 time=0.072 ms\n",
      "64 bytes from 172.18.0.3: icmp_seq=11 ttl=64 time=0.054 ms\n",
      "64 bytes from 172.18.0.3: icmp_seq=12 ttl=64 time=0.103 ms\n",
      "64 bytes from 172.18.0.3: icmp_seq=13 ttl=64 time=0.129 ms\n",
      "64 bytes from 172.18.0.3: icmp_seq=14 ttl=64 time=0.103 ms\n",
      "^C\n",
      "\n",
      "--- 172.18.0.3 ping statistics ---\n",
      "14 packets transmitted, 14 received, 0% packet loss, time 12987ms\n",
      "rtt min/avg/max/mdev = 0.053/0.094/0.152/0.029 ms\n"
     ]
    }
   ],
   "source": [
    "!ping 172.18.0.3"
   ]
  },
  {
   "cell_type": "code",
   "execution_count": 1,
   "id": "66d3185e-fb80-4f40-af80-69f1809515d4",
   "metadata": {},
   "outputs": [
    {
     "name": "stdout",
     "output_type": "stream",
     "text": [
      "PING 172.18.0.4 (172.18.0.4) 56(84) bytes of data.\n",
      "64 bytes from 172.18.0.4: icmp_seq=1 ttl=64 time=0.104 ms\n",
      "64 bytes from 172.18.0.4: icmp_seq=2 ttl=64 time=0.077 ms\n",
      "64 bytes from 172.18.0.4: icmp_seq=3 ttl=64 time=0.170 ms\n",
      "64 bytes from 172.18.0.4: icmp_seq=4 ttl=64 time=0.075 ms\n",
      "64 bytes from 172.18.0.4: icmp_seq=5 ttl=64 time=0.049 ms\n",
      "64 bytes from 172.18.0.4: icmp_seq=6 ttl=64 time=0.051 ms\n",
      "64 bytes from 172.18.0.4: icmp_seq=7 ttl=64 time=0.052 ms\n",
      "64 bytes from 172.18.0.4: icmp_seq=8 ttl=64 time=0.054 ms\n",
      "64 bytes from 172.18.0.4: icmp_seq=9 ttl=64 time=0.054 ms\n",
      "64 bytes from 172.18.0.4: icmp_seq=10 ttl=64 time=0.053 ms\n",
      "^C\n",
      "\n",
      "--- 172.18.0.4 ping statistics ---\n",
      "10 packets transmitted, 10 received, 0% packet loss, time 8991ms\n",
      "rtt min/avg/max/mdev = 0.049/0.073/0.170/0.036 ms\n"
     ]
    }
   ],
   "source": [
    "!ping 172.18.0.4"
   ]
  },
  {
   "cell_type": "code",
   "execution_count": 2,
   "id": "ea591cba-1154-40be-9f75-ee0e85fd8b37",
   "metadata": {},
   "outputs": [
    {
     "name": "stdout",
     "output_type": "stream",
     "text": [
      "/usr/bin/ping\n"
     ]
    }
   ],
   "source": [
    "!which ping"
   ]
  },
  {
   "cell_type": "code",
   "execution_count": 3,
   "id": "e2a934d8-1463-44ed-bda7-58d21a56d76d",
   "metadata": {},
   "outputs": [
    {
     "name": "stdout",
     "output_type": "stream",
     "text": [
      "Defaulting to user installation because normal site-packages is not writeable\n",
      "Collecting mysql-connector-python\n",
      "  Downloading mysql_connector_python-9.2.0-cp310-cp310-manylinux_2_28_x86_64.whl.metadata (6.0 kB)\n",
      "Downloading mysql_connector_python-9.2.0-cp310-cp310-manylinux_2_28_x86_64.whl (33.9 MB)\n",
      "\u001b[2K   \u001b[90m━━━━━━━━━━━━━━━━━━━━━━━━━━━━━━━━━━━━━━━━\u001b[0m \u001b[32m33.9/33.9 MB\u001b[0m \u001b[31m23.1 MB/s\u001b[0m eta \u001b[36m0:00:00\u001b[0m00:01\u001b[0m00:01\u001b[0m\n",
      "\u001b[?25hInstalling collected packages: mysql-connector-python\n",
      "Successfully installed mysql-connector-python-9.2.0\n"
     ]
    }
   ],
   "source": [
    "!pip install mysql-connector-python"
   ]
  },
  {
   "cell_type": "code",
   "execution_count": 5,
   "id": "5be829ea-8860-4dbf-a306-b9e885c5c359",
   "metadata": {},
   "outputs": [
    {
     "name": "stdout",
     "output_type": "stream",
     "text": [
      "MYSQL 서버에 성공적으로 연결되었습니다.\n",
      "연결중...\n"
     ]
    }
   ],
   "source": [
    "import mysql.connector\n",
    "\n",
    "try:\n",
    "    conn = mysql.connector.connect(\n",
    "        host=\"mysql\", # MYSQL 서버주소\n",
    "        user=\"root\",\n",
    "        password=\"1234\"\n",
    "    )\n",
    "    if conn.is_connected():\n",
    "        print(\"MYSQL 서버에 성공적으로 연결되었습니다.\")\n",
    "except mysql.connector.Error as err:\n",
    "    print(\"MYSQL 연결 실패:\")\n",
    "finally:\n",
    "    if conn.is_connected():\n",
    "        print(\"연결중...\")"
   ]
  },
  {
   "cell_type": "code",
   "execution_count": 6,
   "id": "2092e7ca-9038-41bf-bb35-8820d6721df7",
   "metadata": {},
   "outputs": [],
   "source": [
    "# 커서 생성\n",
    "cursor = conn.cursor()\n",
    "que = \"CREATE DATABASE IF NOT EXISTS judb\"\n",
    "cursor.execute(que)\n",
    "conn.close()"
   ]
  },
  {
   "cell_type": "code",
   "execution_count": 7,
   "id": "eac1476d-2a35-41a4-b715-4e328e79a6d0",
   "metadata": {},
   "outputs": [
    {
     "name": "stdout",
     "output_type": "stream",
     "text": [
      "MySQL 연결 성공!\n"
     ]
    }
   ],
   "source": [
    "# MySQL에 연결\n",
    "conn = mysql.connector.connect(\n",
    "    host=\"mysql\", # MYSQL 서버주소\n",
    "    user=\"root\",\n",
    "    password=\"1234\",\n",
    "    database=\"judb\" # 사용할 데이터 베이스\n",
    ")\n",
    "cursor = conn.cursor()\n",
    "print(\"MySQL 연결 성공!\")"
   ]
  },
  {
   "cell_type": "code",
   "execution_count": 8,
   "id": "d5caa3b8-f5eb-41d4-b9e8-1518d1ed5594",
   "metadata": {},
   "outputs": [
    {
     "name": "stdout",
     "output_type": "stream",
     "text": [
      "테이블 생성완료\n"
     ]
    }
   ],
   "source": [
    "# 테이블 생성\n",
    "query = \"CREATE TABLE IF NOT EXISTS users(id INT AUTO_INCREMENT PRIMARY KEY, name VARCHAR(100), age INT, city VARCHAR(50))\"\n",
    "cursor.execute(query)\n",
    "print(\"테이블 생성완료\")"
   ]
  },
  {
   "attachments": {
    "e5da981a-f823-4d33-b95b-6fe3f1cbf2ca.png": {
     "image/png": "[encoded data removed]"
    }
   },
   "cell_type": "markdown",
   "id": "25374c19-a525-405d-9e52-34ef8430c19f",
   "metadata": {},
   "source": [
    "![image.png](attachment:e5da981a-f823-4d33-b95b-6fe3f1cbf2ca.png)"
   ]
  },
  {
   "cell_type": "code",
   "execution_count": 21,
   "id": "ec9ad1b2-730e-4281-aa4f-141a4b98758d",
   "metadata": {},
   "outputs": [
    {
     "name": "stdout",
     "output_type": "stream",
     "text": [
      "1개의 데이터 삽입 완료, ID: 4\n"
     ]
    }
   ],
   "source": [
    "# 단일 데이터 삽입\n",
    "sql = \"INSERT INTO users (name, age, city) VALUES (%s, %s, %s)\"\n",
    "values = (\"Alice\", 25, \"Seoul\")\n",
    "cursor.execute(sql, values)\n",
    "conn.commit()\n",
    "print(\"1개의 데이터 삽입 완료, ID:\", cursor.lastrowid)"
   ]
  },
  {
   "cell_type": "code",
   "execution_count": 18,
   "id": "4ec3760d-2413-4ef4-a12c-68ac80d07412",
   "metadata": {},
   "outputs": [
    {
     "ename": "ProgrammingError",
     "evalue": "Not enough parameters for the SQL statement",
     "output_type": "error",
     "traceback": [
      "\u001b[0;31m---------------------------------------------------------------------------\u001b[0m",
      "\u001b[0;31mProgrammingError\u001b[0m                          Traceback (most recent call last)",
      "Cell \u001b[0;32mIn[18], line 4\u001b[0m\n\u001b[1;32m      2\u001b[0m sql \u001b[38;5;241m=\u001b[39m \u001b[38;5;124m\"\u001b[39m\u001b[38;5;124mDELETE FROM users WHERE id = \u001b[39m\u001b[38;5;132;01m%s\u001b[39;00m\u001b[38;5;124m, \u001b[39m\u001b[38;5;132;01m%s\u001b[39;00m\u001b[38;5;124m, \u001b[39m\u001b[38;5;132;01m%s\u001b[39;00m\u001b[38;5;124m\"\u001b[39m\n\u001b[1;32m      3\u001b[0m value \u001b[38;5;241m=\u001b[39m (\u001b[38;5;241m2\u001b[39m,\u001b[38;5;241m3\u001b[39m)\n\u001b[0;32m----> 4\u001b[0m \u001b[43mcursor\u001b[49m\u001b[38;5;241;43m.\u001b[39;49m\u001b[43mexecute\u001b[49m\u001b[43m(\u001b[49m\u001b[43msql\u001b[49m\u001b[43m,\u001b[49m\u001b[43m \u001b[49m\u001b[43mvalue\u001b[49m\u001b[43m)\u001b[49m\n\u001b[1;32m      5\u001b[0m conn\u001b[38;5;241m.\u001b[39mcommit()\n\u001b[1;32m      6\u001b[0m \u001b[38;5;28mprint\u001b[39m(\u001b[38;5;124m\"\u001b[39m\u001b[38;5;124mID 2,3번 데이터 삭제 완료\u001b[39m\u001b[38;5;124m\"\u001b[39m)\n",
      "File \u001b[0;32m~/.local/lib/python3.10/site-packages/mysql/connector/cursor_cext.py:331\u001b[0m, in \u001b[0;36mCMySQLCursor.execute\u001b[0;34m(self, operation, params, map_results)\u001b[0m\n\u001b[1;32m    329\u001b[0m \u001b[38;5;28;01melif\u001b[39;00m \u001b[38;5;28misinstance\u001b[39m(prepared, (\u001b[38;5;28mlist\u001b[39m, \u001b[38;5;28mtuple\u001b[39m)):\n\u001b[1;32m    330\u001b[0m     psub \u001b[38;5;241m=\u001b[39m _ParamSubstitutor(prepared)\n\u001b[0;32m--> 331\u001b[0m     stmt \u001b[38;5;241m=\u001b[39m \u001b[43mRE_PY_PARAM\u001b[49m\u001b[38;5;241;43m.\u001b[39;49m\u001b[43msub\u001b[49m\u001b[43m(\u001b[49m\u001b[43mpsub\u001b[49m\u001b[43m,\u001b[49m\u001b[43m \u001b[49m\u001b[43mstmt\u001b[49m\u001b[43m)\u001b[49m\n\u001b[1;32m    332\u001b[0m     \u001b[38;5;28;01mif\u001b[39;00m psub\u001b[38;5;241m.\u001b[39mremaining \u001b[38;5;241m!=\u001b[39m \u001b[38;5;241m0\u001b[39m:\n\u001b[1;32m    333\u001b[0m         \u001b[38;5;28;01mraise\u001b[39;00m ProgrammingError(\n\u001b[1;32m    334\u001b[0m             \u001b[38;5;124m\"\u001b[39m\u001b[38;5;124mNot all parameters were used in the SQL statement\u001b[39m\u001b[38;5;124m\"\u001b[39m\n\u001b[1;32m    335\u001b[0m         )\n",
      "File \u001b[0;32m~/.local/lib/python3.10/site-packages/mysql/connector/cursor_cext.py:113\u001b[0m, in \u001b[0;36m_ParamSubstitutor.__call__\u001b[0;34m(self, matchobj)\u001b[0m\n\u001b[1;32m    111\u001b[0m     \u001b[38;5;28;01mreturn\u001b[39;00m \u001b[38;5;28mself\u001b[39m\u001b[38;5;241m.\u001b[39mparams[index]\n\u001b[1;32m    112\u001b[0m \u001b[38;5;28;01mexcept\u001b[39;00m \u001b[38;5;167;01mIndexError\u001b[39;00m:\n\u001b[0;32m--> 113\u001b[0m     \u001b[38;5;28;01mraise\u001b[39;00m ProgrammingError(\n\u001b[1;32m    114\u001b[0m         \u001b[38;5;124m\"\u001b[39m\u001b[38;5;124mNot enough parameters for the SQL statement\u001b[39m\u001b[38;5;124m\"\u001b[39m\n\u001b[1;32m    115\u001b[0m     ) \u001b[38;5;28;01mfrom\u001b[39;00m\u001b[38;5;250m \u001b[39m\u001b[38;5;28;01mNone\u001b[39;00m\n",
      "\u001b[0;31mProgrammingError\u001b[0m: Not enough parameters for the SQL statement"
     ]
    }
   ],
   "source": [
    "# 잘못만든 데이터 하나 삭제\n",
    "sql = \"DELETE FROM users WHERE id = %s\"\n",
    "value = (2,3)\n",
    "cursor.execute(sql, value)\n",
    "conn.commit()\n",
    "print(\"ID 2,3번 데이터 삭제 완료\")"
   ]
  },
  {
   "cell_type": "code",
   "execution_count": 22,
   "id": "c9e3a510-2833-414a-90e6-5001975f61f7",
   "metadata": {},
   "outputs": [
    {
     "name": "stdout",
     "output_type": "stream",
     "text": [
      "여러 개의 데이터 삽입 완료 !\n"
     ]
    }
   ],
   "source": [
    "# 여러개의 데이터 삽입\n",
    "m_values = [(\"superman\", 33, \"Busan\"), (\"Cutegirl\", 17, \"Incheon\"), (\"Coolboy\", 22, \"Jeju\")]\n",
    "cursor.executemany(sql, m_values)\n",
    "conn.commit()\n",
    "print(\"여러 개의 데이터 삽입 완료 !\")"
   ]
  },
  {
   "cell_type": "code",
   "execution_count": 23,
   "id": "29b094b9-edb6-40e4-a02b-825bb911a712",
   "metadata": {},
   "outputs": [
    {
     "name": "stdout",
     "output_type": "stream",
     "text": [
      "(1, 'Alice', 25, 'seoul')\n",
      "(3, 'Alice', 25, 'Seoul')\n",
      "(4, 'Alice', 25, 'Seoul')\n",
      "(5, 'superman', 33, 'Busan')\n",
      "(6, 'Cutegirl', 17, 'Incheon')\n",
      "(7, 'Coolboy', 22, 'Jeju')\n"
     ]
    }
   ],
   "source": [
    "# 모든 데이터 조회\n",
    "que = \"SELECT * FROM users\"\n",
    "cursor.execute(que)\n",
    "users = cursor.fetchall()\n",
    "# print(users)\n",
    "for user in users:\n",
    "    print(user)"
   ]
  },
  {
   "cell_type": "code",
   "execution_count": 25,
   "id": "4a45d70f-5ce2-4514-911d-1032256ec564",
   "metadata": {},
   "outputs": [
    {
     "name": "stdout",
     "output_type": "stream",
     "text": [
      "(1, 'Alice', 25, 'seoul')\n",
      "(3, 'Alice', 25, 'Seoul')\n",
      "(4, 'Alice', 25, 'Seoul')\n",
      "(5, 'superman', 33, 'Busan')\n"
     ]
    }
   ],
   "source": [
    "# 특정 조건 데이터 조회(24살 이상만 조회)\n",
    "que = \"SELECT * FROM users\"\n",
    "filters = \" WHERE age >= 24\"\n",
    "cursor.execute(que + filters)\n",
    "\n",
    "filtered = cursor.fetchall()\n",
    "for f in filtered:\n",
    "    print(f)"
   ]
  },
  {
   "cell_type": "code",
   "execution_count": 26,
   "id": "b16f3879-060d-4338-83df-eb82fda3f9f6",
   "metadata": {},
   "outputs": [
    {
     "name": "stdout",
     "output_type": "stream",
     "text": [
      "수정된 행 개수: 3\n"
     ]
    }
   ],
   "source": [
    "# 특정 사용자의 나이 수정\n",
    "sql = \"UPDATE users SET age = %s WHERE name = %s\"\n",
    "values = (19,\"Alice\")\n",
    "cursor.execute(sql, values)\n",
    "conn.commit()\n",
    "print(\"수정된 행 개수:\", cursor.rowcount)"
   ]
  },
  {
   "cell_type": "code",
   "execution_count": 29,
   "id": "a1951088-d0e5-46db-9e98-40c1dda9d3b2",
   "metadata": {},
   "outputs": [
    {
     "name": "stdout",
     "output_type": "stream",
     "text": [
      "('jeju',)에 해당하는 목록을 삭제하였습니다.\n"
     ]
    }
   ],
   "source": [
    "# 특정 사용자 삭제\n",
    "que = \"DELETE FROM users WHERE city = %s\"\n",
    "filters = (\"jeju\",)\n",
    "cursor.execute(que, filters)\n",
    "conn.commit()\n",
    "print(f\"{filters}에 해당하는 목록을 삭제하였습니다.\")"
   ]
  }
 ],
 "metadata": {
  "kernelspec": {
   "display_name": "Python 3 (ipykernel)",
   "language": "python",
   "name": "python3"
  },
  "language_info": {
   "codemirror_mode": {
    "name": "ipython",
    "version": 3
   },
   "file_extension": ".py",
   "mimetype": "text/x-python",
   "name": "python",
   "nbconvert_exporter": "python",
   "pygments_lexer": "ipython3",
   "version": "3.10.12"
  }
 },
 "nbformat": 4,
 "nbformat_minor": 5
}
