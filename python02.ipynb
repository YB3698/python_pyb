{
 "cells": [
  {
   "cell_type": "markdown",
   "id": "1c131492-4767-432f-96ea-999e6786d125",
   "metadata": {},
   "source": [
    "# 1. 자료형"
   ]
  },
  {
   "cell_type": "markdown",
   "id": "7c72194b-2c03-4d4c-9813-51a7594a611f",
   "metadata": {},
   "source": [
    "## 1.1 리스트 자료형"
   ]
  },
  {
   "cell_type": "markdown",
   "id": "cfc6cd0e-280d-452f-9d2f-444fb0e14798",
   "metadata": {},
   "source": [
    "### 1.1.1 리스트의 인덱싱과 슬라이싱"
   ]
  },
  {
   "cell_type": "code",
   "execution_count": 4,
   "id": "b58fa6d2-749f-46bf-aa3c-a1def5fdc85d",
   "metadata": {},
   "outputs": [],
   "source": [
    "odd = [1,3,5,7,9]"
   ]
  },
  {
   "cell_type": "code",
   "execution_count": 6,
   "id": "f5b5bc43-f322-4390-8fee-345946249a1d",
   "metadata": {},
   "outputs": [
    {
     "name": "stdout",
     "output_type": "stream",
     "text": [
      "['Life', 'is']\n",
      "Life\n",
      "is\n"
     ]
    }
   ],
   "source": [
    "a = []\n",
    "b = [1,2,3]\n",
    "c = ['Life', 'is', 'too', 'short']\n",
    "d = [1, 2, 'Life', 'is']\n",
    "e = [1, 2, ['Life', 'is']]\n",
    "print(e[2])\n",
    "print(e[2][0])\n",
    "print(e[2][1])"
   ]
  },
  {
   "cell_type": "code",
   "execution_count": 7,
   "id": "39b8abb5-4a6b-4abe-83ea-ec3885e0c9dd",
   "metadata": {},
   "outputs": [
    {
     "name": "stdout",
     "output_type": "stream",
     "text": [
      "5\n"
     ]
    }
   ],
   "source": [
    "print(b[1] + b[2])"
   ]
  },
  {
   "cell_type": "code",
   "execution_count": 9,
   "id": "9663fb46-bbc7-487c-8ae6-c10638408e36",
   "metadata": {},
   "outputs": [
    {
     "name": "stdout",
     "output_type": "stream",
     "text": [
      "5\n",
      "Lifeshort\n",
      "LifeLifeLife\n"
     ]
    }
   ],
   "source": [
    "print(b[1] + b[2])\n",
    "print(c[0] + c[3])\n",
    "print(c[0] * b[2])"
   ]
  },
  {
   "cell_type": "code",
   "execution_count": 29,
   "id": "ebf8dd15-2bb8-4792-927a-066f0844ffc3",
   "metadata": {},
   "outputs": [
    {
     "name": "stdout",
     "output_type": "stream",
     "text": [
      "[11, 22, 33, 44, 55]\n",
      "[33, 44, 55]\n",
      "[11, 22]\n",
      "[44, 55]\n",
      "[55, 44, 33, 22, 11]\n"
     ]
    }
   ],
   "source": [
    "# 리스트의 슬라이싱\n",
    "a = [11,22,33,44,55]\n",
    "print(a[:])\n",
    "print(a[2:])\n",
    "print(a[:-3])\n",
    "print(a[-2:])\n",
    "print(a[::-1])"
   ]
  },
  {
   "cell_type": "code",
   "execution_count": 16,
   "id": "18ef89db-3083-413c-86bf-3de519b8dab5",
   "metadata": {},
   "outputs": [
    {
     "name": "stdout",
     "output_type": "stream",
     "text": [
      "[2, 3]\n"
     ]
    }
   ],
   "source": [
    "a = [1,2,3,4,5]\n",
    "print(a[1:3])"
   ]
  },
  {
   "cell_type": "markdown",
   "id": "71dcd249-4d6e-416b-8f26-863594d54a43",
   "metadata": {},
   "source": [
    "### 1.1.2. 리스트 연산하기"
   ]
  },
  {
   "cell_type": "code",
   "execution_count": 22,
   "id": "23842523-0286-4508-aa1b-800c2bbef0b0",
   "metadata": {},
   "outputs": [
    {
     "name": "stdout",
     "output_type": "stream",
     "text": [
      "[11, 22, 33, 44, 55, 66]\n",
      "[11, 22, 33, 11, 22, 33, 11, 22, 33]\n"
     ]
    },
    {
     "data": {
      "text/plain": [
       "9"
      ]
     },
     "execution_count": 22,
     "metadata": {},
     "output_type": "execute_result"
    }
   ],
   "source": [
    "a = [11,22,33]\n",
    "b = [44,55,66]\n",
    "# 리스트 더하기\n",
    "print(a+b)\n",
    "# 리스트 반복하기\n",
    "c = a * 3\n",
    "print(c)\n",
    "# 리스트 길이 구하기\n",
    "len(c)"
   ]
  },
  {
   "cell_type": "code",
   "execution_count": 30,
   "id": "ad8a9f63-8e3e-4fbe-993f-35b243c37cef",
   "metadata": {},
   "outputs": [
    {
     "name": "stdout",
     "output_type": "stream",
     "text": [
      "[11, 22, 44]\n",
      "[11, 44]\n"
     ]
    }
   ],
   "source": [
    "# 리스트 값 수정하기\n",
    "a = [11,22,33]\n",
    "a[2] = 44\n",
    "print(a)\n",
    "# a[3] = 55 \n",
    "# print(a) #없는 요소를 수정하려고 하면 에러가 뜬다\n",
    "# 리스트 값 삭제하기\n",
    "del a[1] \n",
    "print(a)"
   ]
  },
  {
   "cell_type": "code",
   "execution_count": 32,
   "id": "387bf664-a052-4df4-8d86-9e37073a1849",
   "metadata": {},
   "outputs": [
    {
     "name": "stdout",
     "output_type": "stream",
     "text": [
      "[1, 2, 3, 4, 5]\n",
      "[5]\n"
     ]
    }
   ],
   "source": [
    "# 리스트값 슬라이싱으로 삭제\n",
    "c = [1,2,3,4,5]\n",
    "print(c)\n",
    "del c[:4]\n",
    "print(c)"
   ]
  },
  {
   "cell_type": "code",
   "execution_count": 32,
   "id": "ba34194c-49a9-4d18-b89e-43a5e2188397",
   "metadata": {},
   "outputs": [
    {
     "name": "stdout",
     "output_type": "stream",
     "text": [
      "[]\n"
     ]
    }
   ],
   "source": [
    "# 리스트 요소 비우기\n",
    "c.clear()\n",
    "print(c)"
   ]
  },
  {
   "cell_type": "code",
   "execution_count": 33,
   "id": "767ee9a0-5a0a-456a-87c4-3a2ae21d3cc3",
   "metadata": {},
   "outputs": [],
   "source": [
    "a=[] # 리스트 초기화"
   ]
  },
  {
   "cell_type": "code",
   "execution_count": 34,
   "id": "165ab056-fffc-4bd3-bbf5-7fcf7c6cdb72",
   "metadata": {},
   "outputs": [
    {
     "name": "stdout",
     "output_type": "stream",
     "text": [
      "[11, 44, 4, [11, 22], 4]\n",
      "[11, 44, 4, [11, 22], 4, [11, 22]]\n"
     ]
    }
   ],
   "source": [
    "# 리스트 요소 추가\n",
    "a.append(4)\n",
    "print(a)\n",
    "a. append([11,22])\n",
    "print(a)"
   ]
  },
  {
   "cell_type": "code",
   "execution_count": 37,
   "id": "75b66e5c-d3e0-4355-9237-834080235b08",
   "metadata": {},
   "outputs": [],
   "source": [
    "b = []\n",
    "num = 0"
   ]
  },
  {
   "cell_type": "code",
   "execution_count": 38,
   "id": "31c46baf-aaf6-47e5-8bda-15dd1cc6331b",
   "metadata": {},
   "outputs": [
    {
     "name": "stdout",
     "output_type": "stream",
     "text": [
      "[1]\n"
     ]
    }
   ],
   "source": [
    "num += 1\n",
    "b.append(num)\n",
    "print(b)"
   ]
  },
  {
   "cell_type": "code",
   "execution_count": 39,
   "id": "89fde674-901d-4943-a005-10c0abc7c079",
   "metadata": {},
   "outputs": [
    {
     "name": "stdout",
     "output_type": "stream",
     "text": [
      "[11, 22, 33, 44, 55]\n"
     ]
    }
   ],
   "source": [
    "# 리스트 정렬(오름차순) - sort\n",
    "a = [11, 44, 33, 22, 55]\n",
    "a.sort()\n",
    "print(a)"
   ]
  },
  {
   "cell_type": "code",
   "execution_count": 41,
   "id": "b5e74050-e608-4d84-be2f-b5c615295e8e",
   "metadata": {},
   "outputs": [
    {
     "name": "stdout",
     "output_type": "stream",
     "text": [
      "[55, 44, 33, 22, 11]\n"
     ]
    }
   ],
   "source": [
    "# 리스트 정렬(내림차순) - sort\n",
    "a = [11, 44, 33, 22, 55]\n",
    "a.sort(reverse=True)\n",
    "print(a)"
   ]
  },
  {
   "cell_type": "code",
   "execution_count": 42,
   "id": "6a52fc4c-90c3-4722-89cd-da4ffde0b220",
   "metadata": {},
   "outputs": [
    {
     "name": "stdout",
     "output_type": "stream",
     "text": [
      "[66, 77, 88, 99, 0]\n",
      "[0, 66, 77, 88, 99]\n",
      "[99, 88, 77, 66, 0]\n"
     ]
    }
   ],
   "source": [
    "# 리스트 정렬 원본유지하기\n",
    "aa = [66,77,88,99,0]\n",
    "bb = sorted(aa)\n",
    "cc = sorted(aa,reverse=True)\n",
    "print(aa)\n",
    "print(bb)\n",
    "print(cc)"
   ]
  },
  {
   "cell_type": "code",
   "execution_count": 43,
   "id": "1ae6ba12-953b-4c3d-9db9-4cfc75df6c86",
   "metadata": {},
   "outputs": [
    {
     "name": "stdout",
     "output_type": "stream",
     "text": [
      "[55, 22, 33, 44, 11]\n"
     ]
    }
   ],
   "source": [
    "#리스트 뒤집기 - reverse\n",
    "a = [11, 44, 33, 22, 55]\n",
    "a.reverse()\n",
    "print(a)"
   ]
  },
  {
   "cell_type": "code",
   "execution_count": 45,
   "id": "ed4121b8-bb48-47fa-9b2c-998fbdf9e38d",
   "metadata": {},
   "outputs": [
    {
     "name": "stdout",
     "output_type": "stream",
     "text": [
      "['banana', 'kiwi', 'orange', 'melon', 'pear', 'strawberry', 'blueberry']\n",
      "['kiwi', 'pear', 'melon', 'banana', 'orange', 'blueberry', 'strawberry']\n",
      "['strawberry', 'blueberry', 'banana', 'orange', 'melon', 'kiwi', 'pear']\n"
     ]
    }
   ],
   "source": [
    "# sorted 응용\n",
    "fruit = ['banana', 'kiwi', 'orange', 'melon', 'pear', 'strawberry', 'blueberry']\n",
    "result = sorted(fruit, key = len)\n",
    "result2 = sorted(fruit, key = len, reverse = True)\n",
    "print(fruit)\n",
    "print(result)\n",
    "print(result2)"
   ]
  },
  {
   "cell_type": "code",
   "execution_count": 35,
   "id": "d09475dc-a0a8-4c64-a0a9-9e29b4c4e212",
   "metadata": {},
   "outputs": [
    {
     "name": "stdout",
     "output_type": "stream",
     "text": [
      "과일을 먹어볼까?\n"
     ]
    },
    {
     "ename": "NameError",
     "evalue": "name 'result' is not defined",
     "output_type": "error",
     "traceback": [
      "\u001b[1;31m---------------------------------------------------------------------------\u001b[0m",
      "\u001b[1;31mNameError\u001b[0m                                 Traceback (most recent call last)",
      "Cell \u001b[1;32mIn[35], line 2\u001b[0m\n\u001b[0;32m      1\u001b[0m \u001b[38;5;28mprint\u001b[39m(\u001b[38;5;124m'\u001b[39m\u001b[38;5;124m과일을 먹어볼까?\u001b[39m\u001b[38;5;124m'\u001b[39m)\n\u001b[1;32m----> 2\u001b[0m \u001b[38;5;28;01mfor\u001b[39;00m r \u001b[38;5;129;01min\u001b[39;00m \u001b[43mresult\u001b[49m:\n\u001b[0;32m      3\u001b[0m     \u001b[38;5;28mprint\u001b[39m(r \u001b[38;5;241m+\u001b[39m \u001b[38;5;124m'\u001b[39m\u001b[38;5;124m냠냠 맛있다.\u001b[39m\u001b[38;5;124m'\u001b[39m)\n\u001b[0;32m      4\u001b[0m \u001b[38;5;28mprint\u001b[39m(\u001b[38;5;124m'\u001b[39m\u001b[38;5;124m와 ~ 다먹었다.\u001b[39m\u001b[38;5;124m'\u001b[39m)\n",
      "\u001b[1;31mNameError\u001b[0m: name 'result' is not defined"
     ]
    }
   ],
   "source": [
    "print('과일을 먹어볼까?')\n",
    "for r in result:\n",
    "    print(r + '냠냠 맛있다.')\n",
    "print('와 ~ 다먹었다.')"
   ]
  },
  {
   "cell_type": "code",
   "execution_count": 49,
   "id": "425b795e-0208-49fe-87e1-5177a61383e7",
   "metadata": {},
   "outputs": [
    {
     "data": {
      "text/plain": [
       "3"
      ]
     },
     "execution_count": 49,
     "metadata": {},
     "output_type": "execute_result"
    }
   ],
   "source": [
    "# 인덱스 반환 - index\n",
    "fruit = ['banana','kiwi','orange','melon','pear','apple','strawberry','blueberry']\n",
    "fruit.index('melon')"
   ]
  },
  {
   "cell_type": "code",
   "execution_count": 53,
   "id": "31197fbf-bed7-42a8-b72f-bd7cfe70cf09",
   "metadata": {},
   "outputs": [
    {
     "name": "stdin",
     "output_type": "stream",
     "text": [
      "먹고 싶은 과일을 입력하세요 melon\n"
     ]
    },
    {
     "name": "stdout",
     "output_type": "stream",
     "text": [
      "melon를 좋아하시는군요!!! 그것은 4번 째에 있습니다.\n"
     ]
    }
   ],
   "source": [
    "# 인덱스 응용\n",
    "fruit = ['banana','kiwi','orange','melon','pear','apple','strawberry','blueberry']\n",
    "want = input('먹고 싶은 과일을 입력하세요')\n",
    "where = fruit.index(wnat)\n",
    "print(f'{want}를 좋아하시는군요!!! 그것은 {where + 1}번 째에 있습니다.')"
   ]
  },
  {
   "cell_type": "code",
   "execution_count": 55,
   "id": "6c96133f-e409-443a-bbe6-0da535ca0e13",
   "metadata": {},
   "outputs": [
    {
     "name": "stdout",
     "output_type": "stream",
     "text": [
      "[11, 22, 33, 55, 66, 77, 88]\n",
      "[11, 22, 33, 44, 55, 66, 77, 88]\n"
     ]
    }
   ],
   "source": [
    "# 리스트에 요소 삽입 - insert\n",
    "num = [11, 22, 33, 55, 66, 77, 88]\n",
    "print(num)\n",
    "num.insert(3,44) # 3은 인덱스 위치, 44는 원하는 값\n",
    "print(num)"
   ]
  },
  {
   "cell_type": "code",
   "execution_count": 59,
   "id": "8190fe4a-6f93-4257-8005-7f5a6351e86f",
   "metadata": {},
   "outputs": [],
   "source": [
    "ex = []"
   ]
  },
  {
   "cell_type": "code",
   "execution_count": 62,
   "id": "5dee4587-c8a0-4c48-8106-06c2b223c2fb",
   "metadata": {},
   "outputs": [
    {
     "name": "stdout",
     "output_type": "stream",
     "text": [
      "['맨앞', '맨앞', '-1인덱스', '맨앞', '-1인덱스', '제일 끝', '제일 끝']\n",
      "['맨앞', '맨앞', '-1인덱스', '맨앞', '-1인덱스', '제일 끝', '-1인덱스', '제일 끝']\n",
      "['맨앞', '맨앞', '맨앞', '-1인덱스', '맨앞', '-1인덱스', '제일 끝', '-1인덱스', '제일 끝', '제일 끝']\n"
     ]
    }
   ],
   "source": [
    "ex.insert(0,'맨앞')\n",
    "print(ex)\n",
    "ex.insert(-1, '-1인덱스')\n",
    "print(ex)\n",
    "ex.insert(0,'맨앞')\n",
    "ex.insert(len(ex),'제일 끝')\n",
    "print(ex)"
   ]
  },
  {
   "cell_type": "code",
   "execution_count": 5,
   "id": "3021cd1b-535f-48e1-bb8d-aa3185e1dc93",
   "metadata": {},
   "outputs": [
    {
     "name": "stdout",
     "output_type": "stream",
     "text": [
      "[1, 2, 1, 2, 3]\n"
     ]
    }
   ],
   "source": [
    "# 리스트 요소제거 - remove\n",
    "a = [1,2,3,1,2,3]\n",
    "a.remove(3)\n",
    "print(a)"
   ]
  },
  {
   "cell_type": "code",
   "execution_count": 18,
   "id": "2e6b8e95-924f-42dd-bd09-c0d54c5d9a57",
   "metadata": {},
   "outputs": [],
   "source": [
    "# 리스트 요소 끄집어 내기 - pop (우클릭 + split cell)\n",
    "a = [1,2,3]"
   ]
  },
  {
   "cell_type": "code",
   "execution_count": 8,
   "id": "2ab59f6d-614c-49b7-b9f1-dbdc72e01e85",
   "metadata": {},
   "outputs": [
    {
     "name": "stdout",
     "output_type": "stream",
     "text": [
      "[1, 2]\n",
      "받은거 1\n"
     ]
    }
   ],
   "source": [
    "hand = a.pop() # 리턴값을 받음\n",
    "print(a)\n",
    "print(\"받은거\",hand)"
   ]
  },
  {
   "cell_type": "code",
   "execution_count": 9,
   "id": "65ea38c8-f38f-4f6c-a957-7ed9a9b9c60a",
   "metadata": {},
   "outputs": [
    {
     "name": "stdout",
     "output_type": "stream",
     "text": [
      "2\n",
      "8\n"
     ]
    }
   ],
   "source": [
    "# 리스트에 포함된 요소 x의 개수 세기 - count\n",
    "st = \"안녕하세요 반가워요\"\n",
    "print(st.count(\"요\"))\n",
    "a = [1,2,3,1,1,1,1,1,2,3,24,5,34,1,1,]\n",
    "print(a.count(1))"
   ]
  },
  {
   "cell_type": "code",
   "execution_count": 10,
   "id": "7486a955-32da-4c40-9a84-c9f256fcc6a3",
   "metadata": {},
   "outputs": [
    {
     "name": "stdout",
     "output_type": "stream",
     "text": [
      "[1, 2, 3, 4, 5]\n",
      "[11, 22, 33, 44, 55, 66]\n"
     ]
    }
   ],
   "source": [
    "# 리스트 확장\n",
    "a = [1,2,3]\n",
    "a.extend([4,5])\n",
    "print(a)\n",
    "b = [11,22,33]\n",
    "c = [44,55,66]\n",
    "print(b+c)"
   ]
  },
  {
   "cell_type": "code",
   "execution_count": 40,
   "id": "491b66cb-5437-4de0-b044-44b85aa6c1a4",
   "metadata": {},
   "outputs": [],
   "source": [
    "# create 생성 (bag split 해줘야됨)\n",
    "bag = []"
   ]
  },
  {
   "cell_type": "code",
   "execution_count": 44,
   "id": "912c68fe-9127-44c9-9619-b76ccbfac353",
   "metadata": {},
   "outputs": [
    {
     "name": "stdin",
     "output_type": "stream",
     "text": [
      "필요한 항목을 넣어주세요. 맥주\n"
     ]
    },
    {
     "name": "stdout",
     "output_type": "stream",
     "text": [
      "장바구니에는 ['호박', '감자', '술', '맥주']들이 있습니다.\n"
     ]
    }
   ],
   "source": [
    "inp = input('필요한 항목을 넣어주세요.')\n",
    "bag.append(inp)\n",
    "print(f'장바구니에는 {bag}들이 있습니다.')"
   ]
  },
  {
   "cell_type": "code",
   "execution_count": 45,
   "id": "0d36ca6d-d2e1-4dce-84f2-3f77f9998d1b",
   "metadata": {},
   "outputs": [
    {
     "name": "stdout",
     "output_type": "stream",
     "text": [
      "호박꺼내서 장바구니에 ['감자', '술', '맥주']가 남았습니다.\n"
     ]
    }
   ],
   "source": [
    "# FIFO 출력(큐 출력)\n",
    "hand = bag.pop(0)\n",
    "print(f'{hand}꺼내서 장바구니에 {bag}가 남았습니다.')"
   ]
  },
  {
   "cell_type": "code",
   "execution_count": 47,
   "id": "3cd893e7-e5d2-4221-af07-4efec4326796",
   "metadata": {},
   "outputs": [
    {
     "name": "stdout",
     "output_type": "stream",
     "text": [
      "바구니에 ['호박', '감자', '소주', '맥주', '피자'] 물품이 있습니다.\n"
     ]
    },
    {
     "name": "stdin",
     "output_type": "stream",
     "text": [
      "꺼내고 싶은 물품을 입력하세요 소주\n"
     ]
    },
    {
     "name": "stdout",
     "output_type": "stream",
     "text": [
      "바구니에서 소주 꺼내어 ['호박', '감자', '맥주', '피자']이 남았습니다.\n"
     ]
    }
   ],
   "source": [
    "# 선택 출력\n",
    "bag = ['호박', '감자', '소주', '맥주', '피자']\n",
    "print(f\"바구니에 {bag} 물품이 있습니다.\")\n",
    "bring = input('꺼내고 싶은 물품을 입력하세요')\n",
    "hand2 = bag.pop(bag.index(bring))\n",
    "print(f\"바구니에서 {hand2} 꺼내어 {bag}이 남았습니다.\")"
   ]
  },
  {
   "cell_type": "code",
   "execution_count": 38,
   "id": "1b603d5a-e894-413a-93a9-99c666d988bc",
   "metadata": {},
   "outputs": [
    {
     "name": "stdout",
     "output_type": "stream",
     "text": [
      "33을(를) 제거 하였습니다.\n"
     ]
    }
   ],
   "source": [
    "# 테스트 remove는 리턴값이 없다.\n",
    "choice = 33\n",
    "a = [11,22,33,44,55,66]\n",
    "a.remove(choice)\n",
    "print(f'{choice}을(를) 제거 하였습니다.')"
   ]
  },
  {
   "cell_type": "code",
   "execution_count": 61,
   "id": "efd7112e-791e-4e17-9019-c929f03c9d3d",
   "metadata": {},
   "outputs": [
    {
     "name": "stdin",
     "output_type": "stream",
     "text": [
      "추가할 물건 이름을 적어주세요 바나나\n",
      "어느 물품의 뒤에 넣어둘까요? 맥주\n"
     ]
    },
    {
     "name": "stdout",
     "output_type": "stream",
     "text": [
      "['호박', '감자', '소주', '맥주', '바나나', '피자']\n"
     ]
    }
   ],
   "source": [
    "# 실습\n",
    "bag = ['호박', '감자', '소주', '맥주', '피자']\n",
    "# 물품 하나를 추가하기. 단, 지정한 물품 바로 뒤에 추가하기\n",
    "thing = input('추가할 물건 이름을 적어주세요')\n",
    "where = input('어느 물품의 뒤에 넣어둘까요?')\n",
    "search = bag.index(where)\n",
    "bag.insert(search + 1,thing)\n",
    "print(bag)"
   ]
  },
  {
   "cell_type": "code",
   "execution_count": 64,
   "id": "77c21da3-9c31-45a5-b666-38fced857fcd",
   "metadata": {},
   "outputs": [
    {
     "name": "stdin",
     "output_type": "stream",
     "text": [
      "추가할 물건 이름을 적어주세요 바나나\n",
      "어느 물품의 뒤에 넣어둘까요? 맥주\n"
     ]
    },
    {
     "name": "stdout",
     "output_type": "stream",
     "text": [
      "['호박', '감자', '소주', '바나나', '맥주', '피자']\n"
     ]
    }
   ],
   "source": [
    "# + 실습\n",
    "bag = ['호박', '감자', '소주', '맥주', '피자']\n",
    "# 물품 하나를 추가하기. 단, 지정한 물품 바로 뒤에 추가하기\n",
    "test1 = input('추가할 물건 이름을 적어주세요')\n",
    "test2 = input('어느 물품의 뒤에 넣어둘까요?')\n",
    "bag.insert(bag.index(test2), test1)\n",
    "print(bag)"
   ]
  },
  {
   "cell_type": "code",
   "execution_count": 70,
   "id": "d5ea07eb-f634-40da-83df-a4599e5f523a",
   "metadata": {},
   "outputs": [
    {
     "name": "stdin",
     "output_type": "stream",
     "text": [
      "내가 누구게? 숫자를 입력하세요. 1234\n"
     ]
    },
    {
     "name": "stdout",
     "output_type": "stream",
     "text": [
      "1238 <class 'int'>\n"
     ]
    }
   ],
   "source": [
    "# 테스트\n",
    "num = int(input('내가 누구게? 숫자를 입력하세요.'))\n",
    "# int 안씌워주면 문자로 인식해서 아래 type도 string으로 뜸\n",
    "print(num + 4, type(num))\n",
    "# num+4 에 int를 씌워줄 경우 인풋에 입력한 숫자에 4가 더해지긴 하지만 type은 string으로 나옴\n",
    "# int를 아무데도 안씌웠을 경우 4도 string으로 인식돼 (인풋에 입력한 숫자)4이렇게 나옴"
   ]
  },
  {
   "cell_type": "code",
   "execution_count": 79,
   "id": "1e45f6bc-5a8c-4487-ac4f-9d286bdb7d29",
   "metadata": {},
   "outputs": [
    {
     "name": "stdin",
     "output_type": "stream",
     "text": [
      "원화로 계산할 달러를 입력하세요. 45\n"
     ]
    },
    {
     "name": "stdout",
     "output_type": "stream",
     "text": [
      "1달러는 1,450원 이므로\n",
      "요청하신 45달러 변환겂은 65,250원 입니다.\n"
     ]
    }
   ],
   "source": [
    "# 환율 계산기 만들기\n",
    "exc = 1450\n",
    "dollar = int(input(\"원화로 계산할 달러를 입력하세요.\"))\n",
    "won = dollar * exc\n",
    "print(f\"1달러는 {exc:,}원 이므로\\n요청하신 {dollar}달러 변환값은 {won:,}원 입니다.\")"
   ]
  },
  {
   "cell_type": "code",
   "execution_count": 125,
   "id": "d0add913-56ee-4436-aa84-271542dba682",
   "metadata": {},
   "outputs": [
    {
     "name": "stdout",
     "output_type": "stream",
     "text": [
      "<class 'list'>\n",
      "1,460.8 <class 'str'>\n",
      "14608 <class 'str'>\n"
     ]
    }
   ],
   "source": [
    "import requests\n",
    "import json\n",
    "url = 'https://www.koreaexim.go.kr/site/program/financial/exchangeJSON?authkey=P8BCEwczI7rfxdaAnhmW8Cwkom2XBoEb&data=AP01'\n",
    "res = requests.get(url).text\n",
    "data = json.loads(res)\n",
    "print(type(data))\n",
    "result = data[-1]['deal_bas_r']\n",
    "print(result,type(result))\n",
    "result2 = result.replace(\",\",\"\").replace(\".\",\"\")\n",
    "print(result2,type(result2))\n",
    "exc = int(result2)/10"
   ]
  },
  {
   "cell_type": "code",
   "execution_count": 94,
   "id": "c417dd81-eea8-4732-9b60-6b33ea5d81a0",
   "metadata": {},
   "outputs": [
    {
     "name": "stdin",
     "output_type": "stream",
     "text": [
      "질문3 ㅅㅅㅅ\n"
     ]
    },
    {
     "name": "stdout",
     "output_type": "stream",
     "text": [
      "ㅋㅋㅋ\n",
      "ㅎㅎㅎ\n",
      "ㅅㅅㅅ\n"
     ]
    }
   ],
   "source": [
    "from IPython.display import clear_output\n",
    "#test\n",
    "inp1 = input('질문1')\n",
    "clear_output(wait=True)\n",
    "inp2 = input('질문2')\n",
    "clear_output(wait=True)\n",
    "inp3 = input('질문3')\n",
    "print(inp1)\n",
    "print(inp2)\n",
    "print(inp3)"
   ]
  },
  {
   "cell_type": "code",
   "execution_count": 98,
   "id": "e38f9c62-0b1f-426f-8b34-12e5e6d2621b",
   "metadata": {},
   "outputs": [
    {
     "name": "stdout",
     "output_type": "stream",
     "text": [
      "2898.8\n"
     ]
    }
   ],
   "source": [
    "# test\n",
    "# from decimal import Decimal # 더 정밀한 계산을 위해 넣는 코드로 안넣어도 됨\n",
    "# result = Decimal(rr)*2\n",
    "rr = 1449.4 * 2\n",
    "print(round(rr,1))"
   ]
  },
  {
   "cell_type": "markdown",
   "id": "01a57dad-ffb7-4337-9b1c-c23227d964d8",
   "metadata": {},
   "source": [
    "# 튜플 자료형"
   ]
  },
  {
   "cell_type": "code",
   "execution_count": 99,
   "id": "c5772fdc-cf7e-4eaf-9e8d-2c0aaa5c4725",
   "metadata": {},
   "outputs": [],
   "source": [
    "t1 = ()\n",
    "t2 = (1,)\n",
    "t3 = (1,2,3)\n",
    "t4 = 1, 2, 3\n",
    "t5 = ('a','b',('ab','cd'))"
   ]
  },
  {
   "cell_type": "code",
   "execution_count": 100,
   "id": "0088d792-c414-4506-9f6b-7650d83c5b87",
   "metadata": {},
   "outputs": [
    {
     "ename": "TypeError",
     "evalue": "'tuple' object doesn't support item deletion",
     "output_type": "error",
     "traceback": [
      "\u001b[1;31m---------------------------------------------------------------------------\u001b[0m",
      "\u001b[1;31mTypeError\u001b[0m                                 Traceback (most recent call last)",
      "Cell \u001b[1;32mIn[100], line 3\u001b[0m\n\u001b[0;32m      1\u001b[0m \u001b[38;5;66;03m# 튜플의 요소값을 삭제하려 할 때\u001b[39;00m\n\u001b[0;32m      2\u001b[0m t1 \u001b[38;5;241m=\u001b[39m (\u001b[38;5;241m1\u001b[39m,\u001b[38;5;241m2\u001b[39m,\u001b[38;5;124m'\u001b[39m\u001b[38;5;124ma\u001b[39m\u001b[38;5;124m'\u001b[39m,\u001b[38;5;124m'\u001b[39m\u001b[38;5;124mb\u001b[39m\u001b[38;5;124m'\u001b[39m)\n\u001b[1;32m----> 3\u001b[0m \u001b[38;5;28;01mdel\u001b[39;00m \u001b[43mt1\u001b[49m\u001b[43m[\u001b[49m\u001b[38;5;241;43m0\u001b[39;49m\u001b[43m]\u001b[49m\n",
      "\u001b[1;31mTypeError\u001b[0m: 'tuple' object doesn't support item deletion"
     ]
    }
   ],
   "source": [
    "# 튜플의 요소값을 삭제하려 할 때 : 튜플은 삭제가 안되기 때문에 에러가 뜸\n",
    "t1 = (1,2,'a','b')\n",
    "del t1[0]"
   ]
  },
  {
   "cell_type": "code",
   "execution_count": 101,
   "id": "26d70d52-d015-4ec4-ad81-917f95793c42",
   "metadata": {},
   "outputs": [
    {
     "ename": "TypeError",
     "evalue": "'tuple' object does not support item assignment",
     "output_type": "error",
     "traceback": [
      "\u001b[1;31m---------------------------------------------------------------------------\u001b[0m",
      "\u001b[1;31mTypeError\u001b[0m                                 Traceback (most recent call last)",
      "Cell \u001b[1;32mIn[101], line 3\u001b[0m\n\u001b[0;32m      1\u001b[0m \u001b[38;5;66;03m# 튜플 요솟값을 변경하려 할 때\u001b[39;00m\n\u001b[0;32m      2\u001b[0m t1 \u001b[38;5;241m=\u001b[39m (\u001b[38;5;241m1\u001b[39m,\u001b[38;5;241m2\u001b[39m,\u001b[38;5;124m'\u001b[39m\u001b[38;5;124ma\u001b[39m\u001b[38;5;124m'\u001b[39m,\u001b[38;5;124m'\u001b[39m\u001b[38;5;124mb\u001b[39m\u001b[38;5;124m'\u001b[39m)\n\u001b[1;32m----> 3\u001b[0m \u001b[43mt1\u001b[49m\u001b[43m[\u001b[49m\u001b[38;5;241;43m0\u001b[39;49m\u001b[43m]\u001b[49m \u001b[38;5;241m=\u001b[39m \u001b[38;5;124m'\u001b[39m\u001b[38;5;124mc\u001b[39m\u001b[38;5;124m'\u001b[39m\n",
      "\u001b[1;31mTypeError\u001b[0m: 'tuple' object does not support item assignment"
     ]
    }
   ],
   "source": [
    "# 튜플 요솟값을 변경하려 할 때 : 튜플은 변경도 안되기 때문에 에러가 뜸\n",
    "t1 = (1,2,'a','b')\n",
    "t1[0] = 'c'"
   ]
  },
  {
   "cell_type": "code",
   "execution_count": 102,
   "id": "bf5d6962-2b05-482a-8fe8-cae97f93304c",
   "metadata": {},
   "outputs": [
    {
     "data": {
      "text/plain": [
       "['__add__',\n",
       " '__class__',\n",
       " '__class_getitem__',\n",
       " '__contains__',\n",
       " '__delattr__',\n",
       " '__dir__',\n",
       " '__doc__',\n",
       " '__eq__',\n",
       " '__format__',\n",
       " '__ge__',\n",
       " '__getattribute__',\n",
       " '__getitem__',\n",
       " '__getnewargs__',\n",
       " '__getstate__',\n",
       " '__gt__',\n",
       " '__hash__',\n",
       " '__init__',\n",
       " '__init_subclass__',\n",
       " '__iter__',\n",
       " '__le__',\n",
       " '__len__',\n",
       " '__lt__',\n",
       " '__mul__',\n",
       " '__ne__',\n",
       " '__new__',\n",
       " '__reduce__',\n",
       " '__reduce_ex__',\n",
       " '__repr__',\n",
       " '__rmul__',\n",
       " '__setattr__',\n",
       " '__sizeof__',\n",
       " '__str__',\n",
       " '__subclasshook__',\n",
       " 'count',\n",
       " 'index']"
      ]
     },
     "execution_count": 102,
     "metadata": {},
     "output_type": "execute_result"
    }
   ],
   "source": [
    "dir(tuple) # tuple()"
   ]
  },
  {
   "cell_type": "code",
   "execution_count": 105,
   "id": "5d166a83-731e-47a4-9f27-c6f841d01e6a",
   "metadata": {},
   "outputs": [
    {
     "name": "stdout",
     "output_type": "stream",
     "text": [
      "1\n"
     ]
    }
   ],
   "source": [
    "#인덱싱하기\n",
    "t1 = (1,2,'a','b')\n",
    "print(t1[0])"
   ]
  },
  {
   "cell_type": "code",
   "execution_count": 106,
   "id": "224937de-21a0-4f22-978a-ac57f82c9251",
   "metadata": {},
   "outputs": [
    {
     "name": "stdout",
     "output_type": "stream",
     "text": [
      "(2, 'a', 'b')\n"
     ]
    }
   ],
   "source": [
    "# 슬라이싱\n",
    "t1 = (1,2,'a','b')\n",
    "t2 = t1[1:]\n",
    "print(t2)"
   ]
  },
  {
   "cell_type": "code",
   "execution_count": 107,
   "id": "7be5c85e-f59a-466e-9ef6-b56d588c2da5",
   "metadata": {},
   "outputs": [
    {
     "name": "stdout",
     "output_type": "stream",
     "text": [
      "(1, 2, 'a', 'b', 3, 4)\n"
     ]
    }
   ],
   "source": [
    "# 튜플 더하기\n",
    "t1 = (1,2,'a','b')\n",
    "t2 = (3,4)\n",
    "t3 = t1 + t2\n",
    "print(t3)"
   ]
  },
  {
   "cell_type": "code",
   "execution_count": 108,
   "id": "f30a78d6-2ae2-4eda-806d-2ca3ea6f09e2",
   "metadata": {},
   "outputs": [
    {
     "name": "stdout",
     "output_type": "stream",
     "text": [
      "(3, 4, 3, 4, 3, 4)\n"
     ]
    }
   ],
   "source": [
    "# 튜플 곱하기\n",
    "t2 = 3,4\n",
    "t3 = t2*3\n",
    "print(t3)"
   ]
  },
  {
   "cell_type": "code",
   "execution_count": 109,
   "id": "13cbe5d5-b124-450d-865e-e37611ef8877",
   "metadata": {},
   "outputs": [
    {
     "data": {
      "text/plain": [
       "6"
      ]
     },
     "execution_count": 109,
     "metadata": {},
     "output_type": "execute_result"
    }
   ],
   "source": [
    "# 튜플 길이 구하기\n",
    "len(t3)"
   ]
  },
  {
   "cell_type": "code",
   "execution_count": 110,
   "id": "4d40178a-110b-4c95-b4e8-5019f97c50f6",
   "metadata": {},
   "outputs": [],
   "source": [
    "dic = {'name':'pay', 'phone': '010-9999-1234', 'birth':'1118'}"
   ]
  },
  {
   "cell_type": "code",
   "execution_count": 111,
   "id": "16f73677-1269-43d8-8cae-66d6f9a7fbd5",
   "metadata": {},
   "outputs": [
    {
     "name": "stdout",
     "output_type": "stream",
     "text": [
      "pay\n",
      "010-9999-1234\n",
      "1118\n"
     ]
    }
   ],
   "source": [
    "print(dic['name'])\n",
    "print(dic['phone'])\n",
    "print(dic['birth'])"
   ]
  },
  {
   "cell_type": "code",
   "execution_count": 112,
   "id": "672a4f8b-dd7d-4be4-9614-ae9236c20ab7",
   "metadata": {},
   "outputs": [
    {
     "name": "stdout",
     "output_type": "stream",
     "text": [
      "11\n",
      "11\n",
      "11\n"
     ]
    }
   ],
   "source": [
    "al = [11,22,33,44,55]\n",
    "at = 11,22,33,44,55\n",
    "ad = {0:11,1:22,2:33,3:44,4:55}\n",
    "print(al[0])\n",
    "print(at[0])\n",
    "print(ad[0])"
   ]
  },
  {
   "cell_type": "code",
   "execution_count": 36,
   "id": "db427856-61a7-4426-86a0-1855b6acfc73",
   "metadata": {},
   "outputs": [
    {
     "ename": "NameError",
     "evalue": "name 'al' is not defined",
     "output_type": "error",
     "traceback": [
      "\u001b[1;31m---------------------------------------------------------------------------\u001b[0m",
      "\u001b[1;31mNameError\u001b[0m                                 Traceback (most recent call last)",
      "Cell \u001b[1;32mIn[36], line 2\u001b[0m\n\u001b[0;32m      1\u001b[0m \u001b[38;5;66;03m#test\u001b[39;00m\n\u001b[1;32m----> 2\u001b[0m \u001b[38;5;28;01mfor\u001b[39;00m l \u001b[38;5;129;01min\u001b[39;00m \u001b[43mal\u001b[49m:\n\u001b[0;32m      3\u001b[0m     \u001b[38;5;28mprint\u001b[39m(l)\n\u001b[0;32m      4\u001b[0m \u001b[38;5;28mprint\u001b[39m(\u001b[38;5;124m'\u001b[39m\u001b[38;5;124m-\u001b[39m\u001b[38;5;124m'\u001b[39m\u001b[38;5;241m*\u001b[39m\u001b[38;5;241m10\u001b[39m)\n",
      "\u001b[1;31mNameError\u001b[0m: name 'al' is not defined"
     ]
    }
   ],
   "source": [
    "#test\n",
    "for l in al:\n",
    "    print(l)\n",
    "print('-'*10)\n",
    "for t in at :\n",
    "    print(t)\n"
   ]
  },
  {
   "cell_type": "code",
   "execution_count": 116,
   "id": "0821e0e1-3ea4-4fdb-b2c9-19db25d736df",
   "metadata": {},
   "outputs": [
    {
     "name": "stdout",
     "output_type": "stream",
     "text": [
      "[1, 2, 3, 4, 5]\n"
     ]
    }
   ],
   "source": [
    "a = {'aa':[1,2,3,4,5]}\n",
    "print(a['aa'])"
   ]
  },
  {
   "cell_type": "code",
   "execution_count": 117,
   "id": "f64033d6-c0d9-46bb-a484-6ec152532fe9",
   "metadata": {},
   "outputs": [
    {
     "data": {
      "text/plain": [
       "'010-9999-1234'"
      ]
     },
     "execution_count": 117,
     "metadata": {},
     "output_type": "execute_result"
    }
   ],
   "source": [
    "dic2 = {'aa':{'name':'pey','phone':'010-9999-1234','birth':'1118'}}\n",
    "dic2['aa']['phone']"
   ]
  },
  {
   "cell_type": "markdown",
   "id": "3d71a402-fbef-4a17-ac60-f18d2fc6aac9",
   "metadata": {},
   "source": [
    "# 딕셔너리 쌍 추가, 삭제하기"
   ]
  },
  {
   "cell_type": "code",
   "execution_count": 40,
   "id": "162e3eaf-ab27-4659-b995-177678aabae4",
   "metadata": {},
   "outputs": [
    {
     "name": "stdout",
     "output_type": "stream",
     "text": [
      "{'name': 'pey', 'phone': '010-9999-1234', 'birth': '1118', 'address': 2}\n"
     ]
    }
   ],
   "source": [
    "information = {'name':'pey','phone':'010-9999-1234','birth':'1118'}\n",
    "information['address'] = 2\n",
    "print(information)"
   ]
  },
  {
   "cell_type": "code",
   "execution_count": 39,
   "id": "d9853e73-6b19-418f-ac46-ee415f1b413f",
   "metadata": {},
   "outputs": [
    {
     "name": "stdout",
     "output_type": "stream",
     "text": [
      "{'name': 'pey', 'phone': '010-9999-1234', 'birth': '1118', 'address': 'busan', 'array': [1, 2, 3, 4, 5]}\n"
     ]
    }
   ],
   "source": [
    "dic['array']=[1,2,3,4,5]\n",
    "print(dic)"
   ]
  },
  {
   "cell_type": "code",
   "execution_count": 121,
   "id": "e2712d2a-6c61-4049-b0a3-ac888fa0f06d",
   "metadata": {},
   "outputs": [
    {
     "name": "stdout",
     "output_type": "stream",
     "text": [
      "{'name': 'pey', 'phone': '010-9999-1234', 'birth': '1118', 'address': 'busan', 'array': [1, 2, 3, 4, 5]}\n",
      "{'name': 'pey', 'phone': '010-9999-1234', 'address': 'busan', 'array': [1, 2, 3, 4, 5]}\n"
     ]
    }
   ],
   "source": [
    "print(dic)\n",
    "del dic ['birth']\n",
    "print(dic)"
   ]
  },
  {
   "cell_type": "code",
   "execution_count": 123,
   "id": "b0c41f51-1830-4a2e-9123-5fc9c5a40e41",
   "metadata": {},
   "outputs": [
    {
     "name": "stdout",
     "output_type": "stream",
     "text": [
      "{1: 'b'}\n"
     ]
    }
   ],
   "source": [
    "# 딕셔너리 만들 때 주의할 사항\n",
    "a = {1:'a', 1:'b'}\n",
    "print(a)"
   ]
  },
  {
   "cell_type": "markdown",
   "id": "50e676d7-7086-4abe-8175-eb298ae3d4dc",
   "metadata": {},
   "source": [
    "### 1.3.2 딕셔너리 관련함수"
   ]
  },
  {
   "cell_type": "code",
   "execution_count": 130,
   "id": "362890c2-73cf-49ac-9c61-17956c5a4ad8",
   "metadata": {},
   "outputs": [
    {
     "name": "stdout",
     "output_type": "stream",
     "text": [
      "dict_keys(['name', 'phone', 'birth', 'address', 'array'])\n",
      "dict_values(['pey', '010-9999-1234', '1118', 'busan', [1, 2, 3, 4, 5]])\n",
      "dict_items([('name', 'pey'), ('phone', '010-9999-1234'), ('birth', '1118'), ('address', 'busan'), ('array', [1, 2, 3, 4, 5])])\n",
      "{'name': 'pey', 'phone': '010-9999-1234', 'birth': '1118', 'address': 'busan', 'array': [1, 2, 3, 4, 5]}\n",
      "{}\n"
     ]
    }
   ],
   "source": [
    "a = {'name':'pey','phone':'010-9999-1234','birth':'1118','address':'busan','array':[1,2,3,4,5]}\n",
    "# key 리스트 만들기 - keys\n",
    "print(a.keys())\n",
    "# value 리스트 만들기 - values\n",
    "print(a.values())\n",
    "# key,value 쌍 얻기 - items\n",
    "print(a.items())\n",
    "# key:value 쌍 모두 지우기 - clear\n",
    "print(a)\n",
    "a.clear()\n",
    "print(a)"
   ]
  },
  {
   "cell_type": "code",
   "execution_count": 43,
   "id": "8d05bc97-4a36-4049-9675-b254685f2901",
   "metadata": {},
   "outputs": [
    {
     "name": "stdout",
     "output_type": "stream",
     "text": [
      "dict_keys(['name', 'birth', 'gender'])\n",
      "dict_values(['minyoung', '0430', 'male'])\n",
      "dict_items([('name', 'minyoung'), ('birth', '0430'), ('gender', 'male')])\n",
      "{}\n"
     ]
    }
   ],
   "source": [
    "a = {'name':'minyoung','birth':'0430', 'gender':'male'}\n",
    "# key 리스트 만들기 - keys로 써야됨\n",
    "print(a.keys())\n",
    "\n",
    "# value 리스트 만들기 - values\n",
    "print(a.values())\n",
    "\n",
    "# key:value 쌍으로 만들기 - items\n",
    "print(a.items())\n",
    "\n",
    "# key:value 쌍 모두 지워기 - clear\n",
    "# print(a.clear())로 입력하면 {}가 아니라 NONE으로 출력됨\n",
    "a.clear()\n",
    "print(a)"
   ]
  },
  {
   "cell_type": "code",
   "execution_count": 128,
   "id": "28549dbc-37f4-4e38-a90e-276be47e9fb0",
   "metadata": {},
   "outputs": [
    {
     "name": "stdout",
     "output_type": "stream",
     "text": [
      "name\n",
      "phone\n",
      "birth\n",
      "address\n",
      "array\n"
     ]
    }
   ],
   "source": [
    "for k in a.keys():\n",
    "    print(k)"
   ]
  },
  {
   "cell_type": "code",
   "execution_count": 131,
   "id": "01f63ba6-02a2-4e9b-b408-6d1c40cc4f69",
   "metadata": {},
   "outputs": [
    {
     "name": "stdout",
     "output_type": "stream",
     "text": [
      "pey\n",
      "None\n"
     ]
    },
    {
     "ename": "KeyError",
     "evalue": "'money'",
     "output_type": "error",
     "traceback": [
      "\u001b[1;31m---------------------------------------------------------------------------\u001b[0m",
      "\u001b[1;31mKeyError\u001b[0m                                  Traceback (most recent call last)",
      "Cell \u001b[1;32mIn[131], line 4\u001b[0m\n\u001b[0;32m      2\u001b[0m \u001b[38;5;28mprint\u001b[39m(a\u001b[38;5;241m.\u001b[39mget(\u001b[38;5;124m'\u001b[39m\u001b[38;5;124mname\u001b[39m\u001b[38;5;124m'\u001b[39m))\n\u001b[0;32m      3\u001b[0m \u001b[38;5;28mprint\u001b[39m(a\u001b[38;5;241m.\u001b[39mget(\u001b[38;5;124m'\u001b[39m\u001b[38;5;124msuper\u001b[39m\u001b[38;5;124m'\u001b[39m))\n\u001b[1;32m----> 4\u001b[0m \u001b[38;5;28mprint\u001b[39m(\u001b[43ma\u001b[49m\u001b[43m[\u001b[49m\u001b[38;5;124;43m'\u001b[39;49m\u001b[38;5;124;43mmoney\u001b[39;49m\u001b[38;5;124;43m'\u001b[39;49m\u001b[43m]\u001b[49m)\n",
      "\u001b[1;31mKeyError\u001b[0m: 'money'"
     ]
    }
   ],
   "source": [
    "a = {'name':'pey','phone':'010-9999-1234','birth':'1118','address':'busan','array':[1,2,3,4,5]}\n",
    "print(a.get('name'))\n",
    "print(a.get('super'))\n",
    "print(a['money']) # 존재하지 않는 값임"
   ]
  },
  {
   "cell_type": "code",
   "execution_count": 132,
   "id": "8bb6b3c5-a28d-468c-993d-95e31eb37c4d",
   "metadata": {},
   "outputs": [
    {
     "name": "stdout",
     "output_type": "stream",
     "text": [
      "True\n"
     ]
    }
   ],
   "source": [
    "a = {'name':'pey','phone':'010-9999-1234','birth':'1118','address':'busan','array':[1,2,3,4,5]}\n",
    "print('name' in a)"
   ]
  },
  {
   "cell_type": "code",
   "execution_count": 133,
   "id": "ae477a80-3146-4094-93ec-ee8be348e19b",
   "metadata": {
    "scrolled": true
   },
   "outputs": [
    {
     "name": "stdout",
     "output_type": "stream",
     "text": [
      "True\n",
      "False\n",
      "True\n"
     ]
    }
   ],
   "source": [
    "al = [11,22,33,44,55]\n",
    "at = 11,22,33,44,55\n",
    "ad = {0:11,1:22,3:44,4:55}\n",
    "\n",
    "print(22 in al) # 리스트\n",
    "print(99 in at) # 튜플\n",
    "print(1 in ad) # 딕셔너리의 키"
   ]
  },
  {
   "cell_type": "code",
   "execution_count": 5,
   "id": "c2cff0df-96f2-49cf-b5ab-7f3966148599",
   "metadata": {},
   "outputs": [
    {
     "name": "stdout",
     "output_type": "stream",
     "text": [
      " 0과 1사이의 랜덤소수 0.43915732991875267\n",
      " 1과 100사이의 랜덤 실수 21\n",
      "오늘 선택된 메뉴는 후문편의점를 추천드립니다!\n",
      "[1, 10, 7, 5, 8, 3, 9, 6, 4, 2]\n"
     ]
    }
   ],
   "source": [
    "# 실수 random 모듈\n",
    "import random\n",
    "num1 = random.random()\n",
    "print(f' 0과 1사이의 랜덤소수 {num1}')\n",
    "\n",
    "num2 = random.randint(1,100)\n",
    "print(f' 1과 100사이의 랜덤 실수 {num2}')\n",
    "\n",
    "menu = [\"구내식당\",\"후문편의점\",\"자가도시락\",\"굶기\",\"과자\"]\n",
    "lunch = random.choice(menu)\n",
    "print(f'오늘 선택된 메뉴는 {lunch}를 추천드립니다!')\n",
    "\n",
    "deck = [1,2,3,4,5,6,7,8,9,10]\n",
    "random.shuffle(deck)\n",
    "print(deck)"
   ]
  },
  {
   "cell_type": "markdown",
   "id": "61d68b80-0b16-40a1-b5ac-3f54088f941a",
   "metadata": {},
   "source": [
    "## 1.4. 집합자료형"
   ]
  },
  {
   "cell_type": "code",
   "execution_count": 2,
   "id": "ee36228b-183e-4c8e-8349-7108ac917115",
   "metadata": {},
   "outputs": [
    {
     "name": "stdout",
     "output_type": "stream",
     "text": [
      "{1, 2, 3} <class 'set'>\n",
      "{'e', 'l', 'H', 'o'} <class 'set'>\n"
     ]
    }
   ],
   "source": [
    "# 중복을 허용 하지 않기 때문에 하나만 뜸\n",
    "# 순서가 없다.\n",
    "s1 = set([1,2,3]) \n",
    "# set함수는 하나의 이터러블(리스트, 문자열 등)을 인자로 받아 집합을 생성하기 \n",
    "# 때문에 1,2,3을 리스트로 만들어 하나의 이터러블로 만든 것 \n",
    "print(s1,type(s1))\n",
    "s2 = set(\"Hello\")\n",
    "print(s2, type(s2))"
   ]
  },
  {
   "cell_type": "code",
   "execution_count": 3,
   "id": "d179df24-48b8-4729-9ebf-338246ae5363",
   "metadata": {},
   "outputs": [
    {
     "name": "stdout",
     "output_type": "stream",
     "text": [
      "[33, 11, 22] <class 'list'>\n",
      "(33, 11, 22) <class 'tuple'>\n"
     ]
    }
   ],
   "source": [
    "# 집합 자료형의 특징\n",
    "s1 = set([11,22,33,11,22])\n",
    "l1 = list(s1) # 순서대로 출력하기 위해 리스트로 변경\n",
    "print(l1,type(l1))\n",
    "t1 = tuple(s1)\n",
    "print(t1,type(t1)) #순서가 존재하는 튜플도 가능"
   ]
  },
  {
   "cell_type": "code",
   "execution_count": 12,
   "id": "bb88b005-bedb-4b55-94df-057064e598d9",
   "metadata": {},
   "outputs": [],
   "source": [
    "# 변수(교집합, 합집합, 차집합)\n",
    "s1 = set([1,2,3,4,5,6])\n",
    "s2 = set([4,5,6,7,8,9])"
   ]
  },
  {
   "cell_type": "code",
   "execution_count": 13,
   "id": "aa6375c4-beea-4eb6-aebb-ed4cbe916fbe",
   "metadata": {},
   "outputs": [
    {
     "name": "stdout",
     "output_type": "stream",
     "text": [
      "{4, 5, 6}\n",
      "{4, 5, 6}\n"
     ]
    }
   ],
   "source": [
    "# 교집합\n",
    "print(s1 & s2) # 방법 1. and 함수 이용\n",
    "print(s1.intersection(s2)) # 방법 2. 교집합 함수"
   ]
  },
  {
   "cell_type": "code",
   "execution_count": 14,
   "id": "7b6ab95e-182f-4523-ad72-3a6d5c15cb6b",
   "metadata": {},
   "outputs": [
    {
     "name": "stdout",
     "output_type": "stream",
     "text": [
      "{1, 2, 3, 4, 5, 6, 7, 8, 9}\n",
      "{1, 2, 3, 4, 5, 6, 7, 8, 9}\n"
     ]
    }
   ],
   "source": [
    "# 합집합\n",
    "print(s1 | s2) # 방법 1. or 함수\n",
    "print(s1.union(s2)) # 방법 2. 합집합 함수"
   ]
  },
  {
   "cell_type": "code",
   "execution_count": 15,
   "id": "fbffe1a8-8936-4ccb-bd2d-52bbf673e604",
   "metadata": {},
   "outputs": [
    {
     "name": "stdout",
     "output_type": "stream",
     "text": [
      "{1, 2, 3}\n",
      "{8, 9, 7}\n"
     ]
    }
   ],
   "source": [
    "# 차집합\n",
    "print(s1 - s2)\n",
    "print(s2 - s1)"
   ]
  },
  {
   "cell_type": "markdown",
   "id": "571707a1-8539-437c-861a-09496d400674",
   "metadata": {},
   "source": [
    "### 1.4.2. 집합 자료형 관련 함수"
   ]
  },
  {
   "cell_type": "code",
   "execution_count": 11,
   "id": "4c00ed4f-b36e-435f-9805-1de6b0890213",
   "metadata": {},
   "outputs": [
    {
     "name": "stdout",
     "output_type": "stream",
     "text": [
      "{1, 2, 3, 4}\n"
     ]
    }
   ],
   "source": [
    "# 값 1개 추가하기\n",
    "s1 = set([1,2,3])\n",
    "s1.add(4)\n",
    "print(s1)"
   ]
  },
  {
   "cell_type": "code",
   "execution_count": 17,
   "id": "ef0694a1-53ab-463a-9bce-b192e7ce0420",
   "metadata": {},
   "outputs": [
    {
     "name": "stdout",
     "output_type": "stream",
     "text": [
      "{1, 2, 3, 4, 5, 6}\n"
     ]
    }
   ],
   "source": [
    "# 값 여러개 추가하기 - update\n",
    "s1 = set([1,2,3]) # 하나의 이터러블만 가능\n",
    "s1.update([4,5,6])\n",
    "print(s1)"
   ]
  },
  {
   "cell_type": "code",
   "execution_count": 13,
   "id": "ea25e2d3-e66c-48e6-b7ce-96b866f682db",
   "metadata": {},
   "outputs": [
    {
     "name": "stdout",
     "output_type": "stream",
     "text": [
      "{1, 3}\n"
     ]
    }
   ],
   "source": [
    "# 특정 값 제거하기 - remove\n",
    "s1 = set([1,2,3])\n",
    "s1.remove(2)\n",
    "print(s1)"
   ]
  },
  {
   "cell_type": "markdown",
   "id": "b7fbf32d-2373-4531-b279-86b403cf9adb",
   "metadata": {},
   "source": [
    "## 1.5. 불자료형"
   ]
  },
  {
   "cell_type": "code",
   "execution_count": 14,
   "id": "08f43b0e-f729-4781-8f07-9d196c5b2c4a",
   "metadata": {},
   "outputs": [],
   "source": [
    "# True : 참을 뜻한다. (1)\n",
    "# False : 거짓을 의미한다. (0)"
   ]
  },
  {
   "cell_type": "code",
   "execution_count": 15,
   "id": "33c9e913-e3ae-41d9-a117-3e17ad31bba5",
   "metadata": {},
   "outputs": [
    {
     "name": "stdout",
     "output_type": "stream",
     "text": [
      "<class 'bool'>\n",
      "<class 'bool'>\n"
     ]
    }
   ],
   "source": [
    "print(type(True))\n",
    "print(type(False))"
   ]
  },
  {
   "cell_type": "code",
   "execution_count": 16,
   "id": "33cad707-2b8f-4de9-b0f2-cb23a5f34a21",
   "metadata": {},
   "outputs": [
    {
     "data": {
      "text/plain": [
       "True"
      ]
     },
     "execution_count": 16,
     "metadata": {},
     "output_type": "execute_result"
    }
   ],
   "source": [
    "3 == 3"
   ]
  },
  {
   "cell_type": "code",
   "execution_count": 19,
   "id": "50a8b8e7-8b82-4e88-aa4b-8c0a319ba73e",
   "metadata": {},
   "outputs": [
    {
     "name": "stdout",
     "output_type": "stream",
     "text": [
      "True\n",
      "False\n",
      "True\n",
      "False\n",
      "True\n",
      "False\n",
      "True\n",
      "False\n",
      "True\n",
      "False\n",
      "False\n"
     ]
    }
   ],
   "source": [
    "# 자료형의 참과 거짓\n",
    "print(bool(\"python\"))\n",
    "print(bool(\"\"))\n",
    "print(bool([1,2,3]))\n",
    "print(bool(\"\"))\n",
    "print(bool((1,2,3)))\n",
    "print(bool(()))\n",
    "print(bool({'a':1}))\n",
    "print(bool({}))\n",
    "print(bool(1))\n",
    "print(bool(0))\n",
    "print(bool(None))"
   ]
  },
  {
   "cell_type": "code",
   "execution_count": 28,
   "id": "2094df88-8e9a-432d-b99e-95c5dd2a33b3",
   "metadata": {},
   "outputs": [
    {
     "name": "stdout",
     "output_type": "stream",
     "text": [
      "어느날, 용감한기사는 어두운 숲에서 모험을 떠나 꾸안꾸로 다녔다 그리고 신나는 선생님는 귀신이 나오는 흉가에서 에서 숨겨진 보물을 발견했다\n"
     ]
    }
   ],
   "source": [
    "# random 으로 스토리 생성기 만들기\n",
    "\n",
    "# 등장인물 리스트\n",
    "characters = [\"용감한기사\",\"모험심 넘치는 고양이\",\"호기심 많은 로봇\",\"서투른 마법사\",\"명석한 탐정\",\"신나는 선생님\"]\n",
    "places = [\"어두운 숲에서\", \"먼 우주 행성에서\", \"마법의 성에서\",\"바닷속 도시에서\",\"귀신이 나오는 흉가에서\",\"재밌는 교실에서\"]\n",
    "events = [\"숨겨진 보물을 발견했다\",\"무시무시한 용과 싸웠다\",\"비밀 통로를 발견했다\",\"고대의 미스터리를 풀었다.\",\"왕국을 위험에서 구하였다.\",\"꾸안꾸로 다녔다\"]\n",
    "\n",
    "ch = random.choice(characters)\n",
    "pl = random.choice(places)\n",
    "ev = random.choice(events)\n",
    "ch2 = random.choice(characters)\n",
    "pl2 = random.choice(places)\n",
    "ev2 = random.choice(events)\n",
    "\n",
    "print(f\"어느날, {ch}는 {pl} 모험을 떠나 {ev} 그리고 {ch2}는 {pl2} 에서 {ev2}\")"
   ]
  },
  {
   "cell_type": "code",
   "execution_count": 21,
   "id": "92e048d9-7a48-4e61-af33-5d797bdc78de",
   "metadata": {},
   "outputs": [
    {
     "ename": "TypeError",
     "evalue": "'builtin_function_or_method' object is not subscriptable",
     "output_type": "error",
     "traceback": [
      "\u001b[1;31m---------------------------------------------------------------------------\u001b[0m",
      "\u001b[1;31mTypeError\u001b[0m                                 Traceback (most recent call last)",
      "Cell \u001b[1;32mIn[21], line 2\u001b[0m\n\u001b[0;32m      1\u001b[0m a \u001b[38;5;241m=\u001b[39m [\u001b[38;5;241m1\u001b[39m,\u001b[38;5;241m2\u001b[39m,\u001b[38;5;241m3\u001b[39m]\n\u001b[1;32m----> 2\u001b[0m \u001b[38;5;28mprint\u001b[39m(\u001b[43ma\u001b[49m\u001b[38;5;241;43m.\u001b[39;49m\u001b[43mcount\u001b[49m\u001b[43m[\u001b[49m\u001b[38;5;241;43m0\u001b[39;49m\u001b[43m]\u001b[49m)\n",
      "\u001b[1;31mTypeError\u001b[0m: 'builtin_function_or_method' object is not subscriptable"
     ]
    }
   ],
   "source": [
    "a = [1,2,3]\n",
    "print(a.count[0])"
   ]
  },
  {
   "cell_type": "code",
   "execution_count": 40,
   "id": "1f882ca0-cbb8-4989-bbc6-d5b684793458",
   "metadata": {},
   "outputs": [
    {
     "name": "stdout",
     "output_type": "stream",
     "text": [
      "2337406995200\n",
      "2337406995200\n",
      "[1, 4, 3] 2337406995200\n",
      "[1, 4, 3] 2337406995200\n"
     ]
    },
    {
     "data": {
      "text/plain": [
       "True"
      ]
     },
     "execution_count": 40,
     "metadata": {},
     "output_type": "execute_result"
    }
   ],
   "source": [
    "a = [1, 2, 3]\n",
    "b=a   # 방법 1\n",
    "# b=a[:]  # 방법 2 [리스트 전체를 복붙한다는 뜻]\n",
    "          # 근데 대신 이 방법을 이용하면 a가 바꼈을 때 b가 같이 바뀌지 않음\n",
    "print(id(a))\n",
    "print(id(b))\n",
    "\n",
    "a[1] = 4\n",
    "print(a,id(a))\n",
    "print(b,id(b))\n",
    "\n",
    "a is b # 동일하다는 것을 확인해주는 명령어\n",
    "       # 방법 2로 적용했다면 b는 바뀌지 않아 False로 나옴"
   ]
  },
  {
   "cell_type": "code",
   "execution_count": 47,
   "id": "09231b59-462b-4578-aac0-a4675845964c",
   "metadata": {},
   "outputs": [
    {
     "name": "stdout",
     "output_type": "stream",
     "text": [
      "python life\n",
      "python life\n",
      "3\n"
     ]
    }
   ],
   "source": [
    "# 변수 만들기\n",
    "# 튜플\n",
    "a, b = 'python','life' # 튜플은 괄호 안쳐도 됨\n",
    "print(a,b)\n",
    "#리스트\n",
    "[c, d] = ['python','life']\n",
    "print(c,d)\n",
    "\n",
    "# 변수 값 교체\n",
    "e = 3\n",
    "f = 5\n",
    "e, f = e, f\n",
    "print(e)"
   ]
  },
  {
   "cell_type": "code",
   "execution_count": 49,
   "id": "365767e4-74f7-4274-8754-087cb2868465",
   "metadata": {},
   "outputs": [
    {
     "name": "stdout",
     "output_type": "stream",
     "text": [
      "2 x 1 = 2\n",
      "2 x 2 = 4\n",
      "2 x 3 = 6\n",
      "2 x 4 = 8\n",
      "2 x 5 = 10\n",
      "2 x 6 = 12\n",
      "2 x 7 = 14\n",
      "2 x 8 = 16\n",
      "2 x 9 = 18\n"
     ]
    }
   ],
   "source": []
  },
  {
   "cell_type": "code",
   "execution_count": null,
   "id": "a2ba638e-6f3d-40f5-a93c-0f72368f53dc",
   "metadata": {},
   "outputs": [],
   "source": [
    "for i in range(1,10):\n",
    "    print(f'{"
   ]
  }
 ],
 "metadata": {
  "kernelspec": {
   "display_name": "Python 3 (ipykernel)",
   "language": "python",
   "name": "python3"
  },
  "language_info": {
   "codemirror_mode": {
    "name": "ipython",
    "version": 3
   },
   "file_extension": ".py",
   "mimetype": "text/x-python",
   "name": "python",
   "nbconvert_exporter": "python",
   "pygments_lexer": "ipython3",
   "version": "3.13.1"
  }
 },
 "nbformat": 4,
 "nbformat_minor": 5
}
