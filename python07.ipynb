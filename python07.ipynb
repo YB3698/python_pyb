{
 "cells": [
  {
   "cell_type": "markdown",
   "id": "f3ff2780-0e57-4b2a-b923-7e14cc40ee76",
   "metadata": {},
   "source": [
    "# 1. 내장함수"
   ]
  },
  {
   "cell_type": "code",
   "execution_count": 2,
   "id": "7590334f-3f24-4f92-8d98-928dacdb4916",
   "metadata": {},
   "outputs": [
    {
     "name": "stdout",
     "output_type": "stream",
     "text": [
      "3\n",
      "1.2\n"
     ]
    }
   ],
   "source": [
    "# abs :절댓값 🌻\n",
    "print(abs(-3))\n",
    "print(abs(-1.2))"
   ]
  },
  {
   "cell_type": "code",
   "execution_count": 3,
   "id": "7899a697-1db0-4858-be6b-2ac9355d23bd",
   "metadata": {},
   "outputs": [
    {
     "name": "stdout",
     "output_type": "stream",
     "text": [
      "True\n",
      "False\n",
      "True\n"
     ]
    }
   ],
   "source": [
    "# all : 거짓이 하나라도 있으면 false🌻\n",
    "print(all([1,2,3]))\n",
    "print(all([11,22,0,44,55]))\n",
    "print(all([])) #특이사항"
   ]
  },
  {
   "cell_type": "code",
   "execution_count": null,
   "id": "e051caba-ff5d-4710-b231-0539697c9ec3",
   "metadata": {},
   "outputs": [],
   "source": [
    "# any : 전부 거짓일 때만 false🌻\n",
    "print(any([1,2,3,0]))\n",
    "print(any([0,\"\",[],False]))\n",
    "print(any([]))"
   ]
  },
  {
   "cell_type": "code",
   "execution_count": 4,
   "id": "3d617011-487c-40cc-9c62-7ead08bf9cf2",
   "metadata": {},
   "outputs": [
    {
     "name": "stdout",
     "output_type": "stream",
     "text": [
      "A\n",
      "가\n",
      "65\n",
      "44032\n"
     ]
    }
   ],
   "source": [
    "# 아스키코드\n",
    "print(chr(65))\n",
    "print((chr(44032)))\n",
    "# 유니코드 - UTF-8(인코딩방식) 얘가 더 큰 개\n",
    "print(ord('A'))\n",
    "print(ord('가'))"
   ]
  },
  {
   "cell_type": "code",
   "execution_count": 5,
   "id": "f06e2407-4795-4d3e-9245-a3c61657204e",
   "metadata": {},
   "outputs": [
    {
     "name": "stdout",
     "output_type": "stream",
     "text": [
      "A\n",
      "B\n",
      "C\n",
      "D\n",
      "E\n",
      "F\n",
      "G\n",
      "H\n",
      "I\n",
      "J\n",
      "K\n",
      "L\n",
      "M\n",
      "N\n",
      "O\n",
      "P\n",
      "Q\n",
      "R\n",
      "S\n",
      "T\n",
      "U\n",
      "V\n",
      "W\n",
      "X\n",
      "Y\n",
      "Z\n"
     ]
    }
   ],
   "source": [
    "# 아스키코드로 알파벳 뽑기\n",
    "for i in range(65,91):\n",
    "    print(chr(i))"
   ]
  },
  {
   "cell_type": "code",
   "execution_count": 6,
   "id": "bcf55be9-156b-4ed4-9635-a7b05db51dc0",
   "metadata": {},
   "outputs": [
    {
     "name": "stdout",
     "output_type": "stream",
     "text": [
      "z\n",
      "y\n",
      "x\n",
      "w\n",
      "v\n",
      "u\n",
      "t\n",
      "s\n",
      "r\n",
      "q\n",
      "p\n",
      "o\n",
      "n\n",
      "m\n",
      "l\n",
      "k\n",
      "j\n",
      "i\n",
      "h\n",
      "g\n",
      "f\n",
      "e\n",
      "d\n",
      "c\n",
      "b\n",
      "a\n"
     ]
    }
   ],
   "source": [
    "# 아스키코드와 range로 알파벳 역순으 뽑기\n",
    "for j in range(122,96,-1):\n",
    "    print(chr(j))"
   ]
  },
  {
   "cell_type": "code",
   "execution_count": 7,
   "id": "26e8c0c8-8087-460b-b90b-6d7f2fd27f76",
   "metadata": {
    "scrolled": true
   },
   "outputs": [
    {
     "name": "stdout",
     "output_type": "stream",
     "text": [
      "A1\n",
      "A2\n",
      "A3\n",
      "A4\n",
      "A5\n",
      "A6\n",
      "A7\n",
      "A8\n",
      "A9\n",
      "B1\n",
      "B2\n",
      "B3\n",
      "B4\n",
      "B5\n",
      "B6\n",
      "B7\n",
      "B8\n",
      "B9\n",
      "C1\n",
      "C2\n",
      "C3\n",
      "C4\n",
      "C5\n",
      "C6\n",
      "C7\n",
      "C8\n",
      "C9\n"
     ]
    }
   ],
   "source": [
    "# 아스키 코드를 활용한 알파벳과 숫자 조합\n",
    "for a in range(65,68):\n",
    "    aa=chr(a)\n",
    "    for b in range(49,58):\n",
    "        bb=chr(b)\n",
    "        # if b == 57:\n",
    "        #     b = 49, b=48\n",
    "        print(aa+bb)"
   ]
  },
  {
   "cell_type": "code",
   "execution_count": 18,
   "id": "6d92291b-66f0-40a1-9e54-3ac894bb1b3b",
   "metadata": {},
   "outputs": [
    {
     "name": "stdout",
     "output_type": "stream",
     "text": [
      "10\n"
     ]
    }
   ],
   "source": [
    "print(chr(49)+chr(48))"
   ]
  },
  {
   "cell_type": "code",
   "execution_count": 19,
   "id": "693f0db8-e2ef-4210-858a-8c7bbe9c4ca6",
   "metadata": {},
   "outputs": [],
   "source": [
    "class Ascii:\n",
    "    def __init__(self):\n",
    "        self.result = 0\n",
    "    def ex1(self):\n",
    "        for i in range(65, 91):\n",
    "            print(chr(i),end = ' ')\n",
    "    def  ex2(self):\n",
    "        for j in range(122,96,-1):\n",
    "            print(chr(j),end='')\n",
    "    def ex3(self):\n",
    "        for i in range(3):\n",
    "            print('\\n')\n",
    "            for j in range(1,11):\n",
    "                print(chr(i+65) + str(j) + '\\t',end='')"
   ]
  },
  {
   "cell_type": "code",
   "execution_count": 20,
   "id": "43e5cdb3-637c-40f0-861b-8429df0f7906",
   "metadata": {},
   "outputs": [
    {
     "name": "stdout",
     "output_type": "stream",
     "text": [
      "A B C D E F G H I J K L M N O P Q R S T U V W X Y Z zyxwvutsrqponmlkjihgfedcba\n",
      "\n",
      "A1\tA2\tA3\tA4\tA5\tA6\tA7\tA8\tA9\tA10\t\n",
      "\n",
      "B1\tB2\tB3\tB4\tB5\tB6\tB7\tB8\tB9\tB10\t\n",
      "\n",
      "C1\tC2\tC3\tC4\tC5\tC6\tC7\tC8\tC9\tC10\t"
     ]
    }
   ],
   "source": [
    "a = Ascii()\n",
    "a.ex1()\n",
    "a.ex2()\n",
    "a.ex3()"
   ]
  },
  {
   "cell_type": "code",
   "execution_count": 3,
   "id": "a4b8fa6e-b2c3-43fa-bc5f-0ec5563a1efb",
   "metadata": {},
   "outputs": [],
   "source": [
    "# dir : 객체가 가지고 있는 함수(매드)를 보여줌 *\n",
    "# dir([1,2,3])\n",
    "# dir({'1':'a'})"
   ]
  },
  {
   "cell_type": "code",
   "execution_count": 1,
   "id": "208b796e-e408-4803-b43c-348dea5ca97b",
   "metadata": {},
   "outputs": [
    {
     "name": "stdout",
     "output_type": "stream",
     "text": [
      "(4, 1)\n",
      "4 1\n"
     ]
    }
   ],
   "source": [
    "# divmod : 목과 나머지\n",
    "print(divmod(13,3))\n",
    "print(13//3,13%3)"
   ]
  },
  {
   "cell_type": "code",
   "execution_count": 8,
   "id": "68d1502f-9545-4539-b271-2b20794c68cf",
   "metadata": {},
   "outputs": [
    {
     "name": "stdout",
     "output_type": "stream",
     "text": [
      "1 순위 과일은? : apple\n",
      "2 순위 과일은? : banana\n",
      "3 순위 과일은? : kiwi\n",
      "4 순위 과일은? : cherry\n",
      "5 순위 과일은? : mango\n"
     ]
    }
   ],
   "source": [
    "# enumerate * 열거하다\n",
    "fruit = ['apple','banana','kiwi','cherry', 'mango']\n",
    "for i, f in enumerate(fruit, start=1):\n",
    "    print(i,'순위 과일은? :', f)"
   ]
  },
  {
   "cell_type": "code",
   "execution_count": 10,
   "id": "55e028a2-e70d-41c3-bcb8-bb60053938b7",
   "metadata": {},
   "outputs": [
    {
     "data": {
      "text/plain": [
       "3"
      ]
     },
     "execution_count": 10,
     "metadata": {},
     "output_type": "execute_result"
    }
   ],
   "source": [
    "eval('1+2')"
   ]
  },
  {
   "cell_type": "code",
   "execution_count": 11,
   "id": "ad42e089-3b66-4539-8a28-6573e6d12c4b",
   "metadata": {},
   "outputs": [
    {
     "data": {
      "text/plain": [
       "'A1'"
      ]
     },
     "execution_count": 11,
     "metadata": {},
     "output_type": "execute_result"
    }
   ],
   "source": [
    "eval(\"'A'+'1'\")"
   ]
  },
  {
   "cell_type": "code",
   "execution_count": 16,
   "id": "11aadc42-abf9-4785-b39f-3ae42b350d44",
   "metadata": {},
   "outputs": [
    {
     "name": "stdout",
     "output_type": "stream",
     "text": [
      "[1]\n"
     ]
    }
   ],
   "source": [
    "# filter(함수, 이터러블)\n",
    "def positive(l):\n",
    "    result = []\n",
    "    for i in l:\n",
    "        if i > 0 :\n",
    "            result.append(i)\n",
    "        return result\n",
    "print(positive([1,-3,2,0,-5,6]))"
   ]
  },
  {
   "cell_type": "code",
   "execution_count": 18,
   "id": "b1d6a593-f7ee-4a0f-ac9f-6933552dd97b",
   "metadata": {},
   "outputs": [
    {
     "name": "stdout",
     "output_type": "stream",
     "text": [
      "[1, 2, 6]\n"
     ]
    }
   ],
   "source": [
    "def pos(l):\n",
    "    return [i for i in l if i > 0]\n",
    "print(pos([1,-3,2,0,-5,6]))"
   ]
  },
  {
   "cell_type": "code",
   "execution_count": 27,
   "id": "b7d18f2e-e509-4cf6-ba11-fbb7710aec30",
   "metadata": {},
   "outputs": [
    {
     "name": "stdout",
     "output_type": "stream",
     "text": [
      "[1, 2, 6]\n"
     ]
    }
   ],
   "source": [
    "l = [1,-3,2,0,-5,6]\n",
    "def positive(x):\n",
    "    return x > 0\n",
    "print(list(filter(positive,l)))"
   ]
  },
  {
   "cell_type": "code",
   "execution_count": 53,
   "id": "2975711b-557b-485b-9bc8-65ab3758529e",
   "metadata": {},
   "outputs": [
    {
     "name": "stdout",
     "output_type": "stream",
     "text": [
      "[1, 2, 6]\n"
     ]
    }
   ],
   "source": [
    "print(list(filter(lambda x : x > 0 ,l)))"
   ]
  },
  {
   "cell_type": "code",
   "execution_count": 54,
   "id": "e270d8fe-4505-4ea0-93fb-8a7a90758886",
   "metadata": {},
   "outputs": [
    {
     "name": "stdout",
     "output_type": "stream",
     "text": [
      "1\n",
      "2\n",
      "6\n"
     ]
    }
   ],
   "source": [
    "for n in filter(lambda x : x > 0, l):\n",
    "    print(n)"
   ]
  },
  {
   "cell_type": "code",
   "execution_count": 32,
   "id": "db5e4b8c-c97e-49cc-91f0-e9d914cfcb4f",
   "metadata": {},
   "outputs": [
    {
     "name": "stdout",
     "output_type": "stream",
     "text": [
      "0xeb\n",
      "0o11\n",
      "0b1001\n"
     ]
    }
   ],
   "source": [
    "# hex, oct, bin\n",
    "print(hex(235))\n",
    "print(oct(9))\n",
    "print(bin(9))"
   ]
  },
  {
   "cell_type": "code",
   "execution_count": 36,
   "id": "010f6bfb-9323-485d-b680-f086c981033b",
   "metadata": {},
   "outputs": [
    {
     "name": "stdout",
     "output_type": "stream",
     "text": [
      "140710957155304\n",
      "140710957155304\n",
      "140710957155304\n",
      "True\n"
     ]
    }
   ],
   "source": [
    "# id 고유 주솟값을 리턴\n",
    "a = 3\n",
    "print(id(3))\n",
    "print(id(a))\n",
    "b = a\n",
    "print(id(b))\n",
    "print(all([id(3)==id(a), id(a)==id(b),id(b),id(3)]))"
   ]
  },
  {
   "cell_type": "code",
   "execution_count": 37,
   "id": "acb1ca22-95fa-467f-93c2-262d784944cc",
   "metadata": {},
   "outputs": [],
   "source": [
    "# input *\n",
    "# input은 스트링으로 값을 전달받는다. 그러므로 계산시 int나 float로 변경할 것"
   ]
  },
  {
   "cell_type": "code",
   "execution_count": 38,
   "id": "40217bff-8c39-4ace-996a-76d33f7e3258",
   "metadata": {},
   "outputs": [],
   "source": [
    "# int *\n",
    "# 문자를 숫자로 변환, 정수로 변환, 소수점이 사라짐"
   ]
  },
  {
   "cell_type": "code",
   "execution_count": 40,
   "id": "758f9a6e-665f-4adf-8d60-e1d564b5271c",
   "metadata": {},
   "outputs": [
    {
     "name": "stdout",
     "output_type": "stream",
     "text": [
      "사람입니다.\n",
      "사람입니다.\n",
      "True\n",
      "True\n",
      "False\n"
     ]
    }
   ],
   "source": [
    "# siinstance, (object, class)\n",
    "class Person:\n",
    "    def p(self):\n",
    "        return(\"사람입니다.\")\n",
    "class Animal : pass\n",
    "a = Person()\n",
    "b = Person()\n",
    "c = Animal()\n",
    "print(a.p())\n",
    "print(a.p())\n",
    "print(isinstance(a,Person))\n",
    "print(isinstance(b,Person))\n",
    "print(isinstance(c,Person))"
   ]
  },
  {
   "cell_type": "code",
   "execution_count": 44,
   "id": "50cc86b1-b477-49a2-831b-1e6735bd9d03",
   "metadata": {},
   "outputs": [
    {
     "name": "stdout",
     "output_type": "stream",
     "text": [
      "6\n",
      "4\n",
      "2\n"
     ]
    }
   ],
   "source": [
    "# len **\n",
    "print(len(\"python\"))\n",
    "print(len([1,2,3,4]))\n",
    "print(len((1,'a')))"
   ]
  },
  {
   "cell_type": "code",
   "execution_count": 45,
   "id": "73fed27b-ea6e-4fd7-a79a-ddb71720a219",
   "metadata": {},
   "outputs": [],
   "source": [
    "# list **"
   ]
  },
  {
   "cell_type": "code",
   "execution_count": 49,
   "id": "c25179f2-efeb-45b5-a8d1-9fcbfaba3029",
   "metadata": {},
   "outputs": [
    {
     "name": "stdout",
     "output_type": "stream",
     "text": [
      "[2, 4, 6, 8]\n"
     ]
    }
   ],
   "source": [
    "# map : 입력과 출력의 양이 같다 *\n",
    "def two_items(nl):\n",
    "    result = []\n",
    "    for n in nl:\n",
    "        result.append(n*2)\n",
    "    return result\n",
    "print(two_items([1,2,3,4]))"
   ]
  },
  {
   "cell_type": "code",
   "execution_count": 50,
   "id": "dc6493b1-8456-4c57-8762-dad170af2725",
   "metadata": {},
   "outputs": [
    {
     "data": {
      "text/plain": [
       "[2, 4, 6, 8]"
      ]
     },
     "execution_count": 50,
     "metadata": {},
     "output_type": "execute_result"
    }
   ],
   "source": [
    "def two_times(x):\n",
    "    return x * 2\n",
    "list(map(two_times, [1,2,3,4]))"
   ]
  },
  {
   "cell_type": "code",
   "execution_count": 51,
   "id": "24895136-1828-4aa5-9a9d-eaa6b7c24f57",
   "metadata": {},
   "outputs": [
    {
     "data": {
      "text/plain": [
       "[2, 4, 6, 8]"
      ]
     },
     "execution_count": 51,
     "metadata": {},
     "output_type": "execute_result"
    }
   ],
   "source": [
    "list(map(lambda x : x*2,[1,2,3,4]))"
   ]
  },
  {
   "cell_type": "code",
   "execution_count": 56,
   "id": "532ca486-4ec3-4df2-9675-e32032a4ccfa",
   "metadata": {},
   "outputs": [
    {
     "name": "stdout",
     "output_type": "stream",
     "text": [
      "[1, 3, 5]\n",
      "[2, 4, 6]\n",
      "[11, 12, 13, 14, 15, 16]\n",
      "[1, 4, 9, 16, 25, 36]\n",
      "[11, 24, 39, 56, 75, 96]\n"
     ]
    }
   ],
   "source": [
    "# 테스트\n",
    "li = [1,2,3,4,5,6]\n",
    "def odd(x):\n",
    "    return x%2 != 0\n",
    "def even(x):\n",
    "    return x%2 == 0\n",
    "def add(x):\n",
    "    return x + 10\n",
    "def mul(x):\n",
    "    return x * x\n",
    "def addmul(x):\n",
    "    return (x + 10) * x\n",
    "print(list(filter(odd,li)))\n",
    "print(list(filter(even,li)))\n",
    "print(list(map(add,li)))\n",
    "print(list(map(mul,li)))\n",
    "print(list(map(addmul,li)))"
   ]
  },
  {
   "cell_type": "code",
   "execution_count": 58,
   "id": "6732a7af-85f3-4a3f-9ddd-4b4e3350e7c7",
   "metadata": {},
   "outputs": [
    {
     "data": {
      "text/plain": [
       "'y'"
      ]
     },
     "execution_count": 58,
     "metadata": {},
     "output_type": "execute_result"
    }
   ],
   "source": [
    "# max *\n",
    "max([1,21,3,14,56,17,7])\n",
    "max('python') # 문자일 경우 유니코드 값으로 판단"
   ]
  },
  {
   "cell_type": "code",
   "execution_count": 59,
   "id": "7dae9899-e805-4664-b88d-396dec912cb5",
   "metadata": {},
   "outputs": [
    {
     "data": {
      "text/plain": [
       "'h'"
      ]
     },
     "execution_count": 59,
     "metadata": {},
     "output_type": "execute_result"
    }
   ],
   "source": [
    "# min *\n",
    "min([1,21,3,14,56,17,7])\n",
    "min('python') # 문자일 경우 유니코드 값으로 판단"
   ]
  },
  {
   "cell_type": "code",
   "execution_count": 1,
   "id": "a057d289-e849-45a3-be4f-cd85dc22caea",
   "metadata": {},
   "outputs": [
    {
     "ename": "FileNotFoundError",
     "evalue": "[Errno 2] No such file or directory: 'README.md'",
     "output_type": "error",
     "traceback": [
      "\u001b[1;31m---------------------------------------------------------------------------\u001b[0m",
      "\u001b[1;31mFileNotFoundError\u001b[0m                         Traceback (most recent call last)",
      "Cell \u001b[1;32mIn[1], line 2\u001b[0m\n\u001b[0;32m      1\u001b[0m \u001b[38;5;66;03m# open *\u001b[39;00m\n\u001b[1;32m----> 2\u001b[0m f \u001b[38;5;241m=\u001b[39m \u001b[38;5;28;43mopen\u001b[39;49m\u001b[43m(\u001b[49m\u001b[38;5;124;43m'\u001b[39;49m\u001b[38;5;124;43mREADME.md\u001b[39;49m\u001b[38;5;124;43m'\u001b[39;49m\u001b[43m,\u001b[49m\u001b[38;5;124;43m'\u001b[39;49m\u001b[38;5;124;43mr\u001b[39;49m\u001b[38;5;124;43m'\u001b[39;49m\u001b[43m,\u001b[49m\u001b[43m \u001b[49m\u001b[43mencoding\u001b[49m\u001b[38;5;241;43m=\u001b[39;49m\u001b[38;5;124;43m\"\u001b[39;49m\u001b[38;5;124;43mutf-8\u001b[39;49m\u001b[38;5;124;43m\"\u001b[39;49m\u001b[43m)\u001b[49m\n\u001b[0;32m      3\u001b[0m f\u001b[38;5;241m.\u001b[39mread()\n",
      "File \u001b[1;32mC:\\Dev\\Lang\\Python313\\Lib\\site-packages\\IPython\\core\\interactiveshell.py:324\u001b[0m, in \u001b[0;36m_modified_open\u001b[1;34m(file, *args, **kwargs)\u001b[0m\n\u001b[0;32m    317\u001b[0m \u001b[38;5;28;01mif\u001b[39;00m file \u001b[38;5;129;01min\u001b[39;00m {\u001b[38;5;241m0\u001b[39m, \u001b[38;5;241m1\u001b[39m, \u001b[38;5;241m2\u001b[39m}:\n\u001b[0;32m    318\u001b[0m     \u001b[38;5;28;01mraise\u001b[39;00m \u001b[38;5;167;01mValueError\u001b[39;00m(\n\u001b[0;32m    319\u001b[0m         \u001b[38;5;124mf\u001b[39m\u001b[38;5;124m\"\u001b[39m\u001b[38;5;124mIPython won\u001b[39m\u001b[38;5;124m'\u001b[39m\u001b[38;5;124mt let you open fd=\u001b[39m\u001b[38;5;132;01m{\u001b[39;00mfile\u001b[38;5;132;01m}\u001b[39;00m\u001b[38;5;124m by default \u001b[39m\u001b[38;5;124m\"\u001b[39m\n\u001b[0;32m    320\u001b[0m         \u001b[38;5;124m\"\u001b[39m\u001b[38;5;124mas it is likely to crash IPython. If you know what you are doing, \u001b[39m\u001b[38;5;124m\"\u001b[39m\n\u001b[0;32m    321\u001b[0m         \u001b[38;5;124m\"\u001b[39m\u001b[38;5;124myou can use builtins\u001b[39m\u001b[38;5;124m'\u001b[39m\u001b[38;5;124m open.\u001b[39m\u001b[38;5;124m\"\u001b[39m\n\u001b[0;32m    322\u001b[0m     )\n\u001b[1;32m--> 324\u001b[0m \u001b[38;5;28;01mreturn\u001b[39;00m \u001b[43mio_open\u001b[49m\u001b[43m(\u001b[49m\u001b[43mfile\u001b[49m\u001b[43m,\u001b[49m\u001b[43m \u001b[49m\u001b[38;5;241;43m*\u001b[39;49m\u001b[43margs\u001b[49m\u001b[43m,\u001b[49m\u001b[43m \u001b[49m\u001b[38;5;241;43m*\u001b[39;49m\u001b[38;5;241;43m*\u001b[39;49m\u001b[43mkwargs\u001b[49m\u001b[43m)\u001b[49m\n",
      "\u001b[1;31mFileNotFoundError\u001b[0m: [Errno 2] No such file or directory: 'README.md'"
     ]
    }
   ],
   "source": [
    "# open *\n",
    "f = open('README.md','r', encoding=\"utf-8\")\n",
    "f.read()"
   ]
  },
  {
   "cell_type": "code",
   "execution_count": 62,
   "id": "2b5c53a1-52b2-4a11-83f1-92f26c585e10",
   "metadata": {},
   "outputs": [
    {
     "name": "stdout",
     "output_type": "stream",
     "text": [
      "32\n"
     ]
    }
   ],
   "source": [
    "# pow * x를 y 제곱한 결과값을 리턴\n",
    "print(pow(2,5))"
   ]
  },
  {
   "cell_type": "code",
   "execution_count": 65,
   "id": "b1488f1e-4c5e-42a7-a44b-0a12ca93d74c",
   "metadata": {},
   "outputs": [
    {
     "name": "stdout",
     "output_type": "stream",
     "text": [
      "[0, 1, 2, 3, 4]\n",
      "[5, 6, 7, 8, 9]\n",
      "[5, 7, 9]\n",
      "[15, 14, 13, 12, 11, 10, 9, 8, 7, 6, 5, 4, 3, 2, 1]\n"
     ]
    }
   ],
   "source": [
    "# range **\n",
    "# 인수가 하나\n",
    "print(list(range(5)))\n",
    "# 인수가 2개\n",
    "print(list(range(5,10)))\n",
    "# 인수가 3개\n",
    "print(list(range(5,10,2)))\n",
    "# 역순(스탭조절)\n",
    "print(list(range(15,0,-1)))"
   ]
  },
  {
   "cell_type": "code",
   "execution_count": 66,
   "id": "e3f4cb1b-e4bd-46e0-bef0-48452072942f",
   "metadata": {},
   "outputs": [
    {
     "name": "stdout",
     "output_type": "stream",
     "text": [
      "3\n",
      "4\n",
      "3\n"
     ]
    }
   ],
   "source": [
    "# round * 반올림\n",
    "print(round(3.45))\n",
    "print(round(3.546))\n",
    "print(round(3.495))"
   ]
  },
  {
   "cell_type": "code",
   "execution_count": 70,
   "id": "6a2d62a0-7130-4b38-868d-48f02517000b",
   "metadata": {},
   "outputs": [
    {
     "name": "stdout",
     "output_type": "stream",
     "text": [
      "[3, 2, 1, 4, 6, 7]\n",
      "[7, 6, 4, 3, 2, 1]\n"
     ]
    }
   ],
   "source": [
    "# sorted(iterable) *정렬된 리스트로 리턴\n",
    "s0 = [3,2,1,4,6,7]\n",
    "s1 = sorted(s0,reverse = True)\n",
    "print(s0)\n",
    "print(s1)"
   ]
  },
  {
   "cell_type": "code",
   "execution_count": 71,
   "id": "1a97841d-1485-49dc-a70e-309908950b4a",
   "metadata": {},
   "outputs": [
    {
     "name": "stdout",
     "output_type": "stream",
     "text": [
      "23 <class 'int'>\n",
      "23 <class 'str'>\n"
     ]
    }
   ],
   "source": [
    "# str * 문자열로 변환\n",
    "num = 23\n",
    "st = str(num)\n",
    "print(num,type(num))\n",
    "print(st,type(st))"
   ]
  },
  {
   "cell_type": "code",
   "execution_count": 72,
   "id": "53ddd4af-8486-4bd4-ac4f-c33bd6b5c17f",
   "metadata": {},
   "outputs": [
    {
     "name": "stdout",
     "output_type": "stream",
     "text": [
      "15\n"
     ]
    }
   ],
   "source": [
    "# sum *이터러블데이터의 합을 리턴\n",
    "print(sum([1,2,3,4,5]))"
   ]
  },
  {
   "cell_type": "code",
   "execution_count": 73,
   "id": "e37d7658-19cd-46cb-bb7a-7452b634638b",
   "metadata": {},
   "outputs": [
    {
     "name": "stdout",
     "output_type": "stream",
     "text": [
      "('a', 'b', 'c')\n",
      "(1, 2, 3, 4, 5, 6)\n",
      "(1, 2, 3, 4, 5, 6)\n"
     ]
    }
   ],
   "source": [
    "# tuple * 튜플로 바꾸기\n",
    "print(tuple(\"abc\"))\n",
    "print(tuple([1,2,3,4,5,6]))\n",
    "print(tuple((1,2,3,4,5,6)))"
   ]
  },
  {
   "cell_type": "code",
   "execution_count": 77,
   "id": "ae45403e-3698-4dff-8a53-a65f4b541b04",
   "metadata": {},
   "outputs": [
    {
     "name": "stdout",
     "output_type": "stream",
     "text": [
      "<class 'str'>\n",
      "<class 'int'>\n"
     ]
    },
    {
     "ename": "FileNotFoundError",
     "evalue": "[Errno 2] No such file or directory: 'README.md'",
     "output_type": "error",
     "traceback": [
      "\u001b[1;31m---------------------------------------------------------------------------\u001b[0m",
      "\u001b[1;31mFileNotFoundError\u001b[0m                         Traceback (most recent call last)",
      "Cell \u001b[1;32mIn[77], line 4\u001b[0m\n\u001b[0;32m      2\u001b[0m \u001b[38;5;28mprint\u001b[39m(\u001b[38;5;28mtype\u001b[39m(\u001b[38;5;124m\"\u001b[39m\u001b[38;5;124mabc\u001b[39m\u001b[38;5;124m\"\u001b[39m))\n\u001b[0;32m      3\u001b[0m \u001b[38;5;28mprint\u001b[39m(\u001b[38;5;28mtype\u001b[39m(\u001b[38;5;241m1234\u001b[39m))\n\u001b[1;32m----> 4\u001b[0m \u001b[38;5;28mprint\u001b[39m(\u001b[38;5;28mtype\u001b[39m(\u001b[38;5;28;43mopen\u001b[39;49m\u001b[43m(\u001b[49m\u001b[38;5;124;43m\"\u001b[39;49m\u001b[38;5;124;43mREADME.md\u001b[39;49m\u001b[38;5;124;43m\"\u001b[39;49m\u001b[43m,\u001b[49m\u001b[38;5;124;43m\"\u001b[39;49m\u001b[38;5;124;43mr\u001b[39;49m\u001b[38;5;124;43m\"\u001b[39;49m\u001b[43m)\u001b[49m)) \u001b[38;5;66;03m#파일 자료형\u001b[39;00m\n",
      "File \u001b[1;32mC:\\Dev\\Lang\\Python313\\Lib\\site-packages\\IPython\\core\\interactiveshell.py:324\u001b[0m, in \u001b[0;36m_modified_open\u001b[1;34m(file, *args, **kwargs)\u001b[0m\n\u001b[0;32m    317\u001b[0m \u001b[38;5;28;01mif\u001b[39;00m file \u001b[38;5;129;01min\u001b[39;00m {\u001b[38;5;241m0\u001b[39m, \u001b[38;5;241m1\u001b[39m, \u001b[38;5;241m2\u001b[39m}:\n\u001b[0;32m    318\u001b[0m     \u001b[38;5;28;01mraise\u001b[39;00m \u001b[38;5;167;01mValueError\u001b[39;00m(\n\u001b[0;32m    319\u001b[0m         \u001b[38;5;124mf\u001b[39m\u001b[38;5;124m\"\u001b[39m\u001b[38;5;124mIPython won\u001b[39m\u001b[38;5;124m'\u001b[39m\u001b[38;5;124mt let you open fd=\u001b[39m\u001b[38;5;132;01m{\u001b[39;00mfile\u001b[38;5;132;01m}\u001b[39;00m\u001b[38;5;124m by default \u001b[39m\u001b[38;5;124m\"\u001b[39m\n\u001b[0;32m    320\u001b[0m         \u001b[38;5;124m\"\u001b[39m\u001b[38;5;124mas it is likely to crash IPython. If you know what you are doing, \u001b[39m\u001b[38;5;124m\"\u001b[39m\n\u001b[0;32m    321\u001b[0m         \u001b[38;5;124m\"\u001b[39m\u001b[38;5;124myou can use builtins\u001b[39m\u001b[38;5;124m'\u001b[39m\u001b[38;5;124m open.\u001b[39m\u001b[38;5;124m\"\u001b[39m\n\u001b[0;32m    322\u001b[0m     )\n\u001b[1;32m--> 324\u001b[0m \u001b[38;5;28;01mreturn\u001b[39;00m \u001b[43mio_open\u001b[49m\u001b[43m(\u001b[49m\u001b[43mfile\u001b[49m\u001b[43m,\u001b[49m\u001b[43m \u001b[49m\u001b[38;5;241;43m*\u001b[39;49m\u001b[43margs\u001b[49m\u001b[43m,\u001b[49m\u001b[43m \u001b[49m\u001b[38;5;241;43m*\u001b[39;49m\u001b[38;5;241;43m*\u001b[39;49m\u001b[43mkwargs\u001b[49m\u001b[43m)\u001b[49m\n",
      "\u001b[1;31mFileNotFoundError\u001b[0m: [Errno 2] No such file or directory: 'README.md'"
     ]
    }
   ],
   "source": [
    "# type ** 자료형 확인\n",
    "print(type(\"abc\"))\n",
    "print(type(1234))\n",
    "print(type(open(\"README.md\",\"r\"))) #파일 자료형"
   ]
  },
  {
   "cell_type": "code",
   "execution_count": 79,
   "id": "4e339382-ce21-4ae5-87c1-53393494c5b5",
   "metadata": {},
   "outputs": [
    {
     "name": "stdout",
     "output_type": "stream",
     "text": [
      "11 : apple => dog\n",
      "22 : banana => cat\n",
      "33 : kiwi => elephant\n",
      "44 : cherrymango => lion\n"
     ]
    }
   ],
   "source": [
    "# zip ** 묶어서 리턴\n",
    "fruit = ['apple','banana','kiwi','cherry''mango']\n",
    "animal = ['dog','cat','elephant','lion','rabbit']\n",
    "num = [11,22,33,44,55]\n",
    "for f, a, n in zip(fruit,animal, num):\n",
    "    print(n,':',f,'=>',a)"
   ]
  },
  {
   "cell_type": "markdown",
   "id": "477760c8-f04f-4388-9a95-8a59507832cc",
   "metadata": {},
   "source": [
    "# 2. 표준 라이브러리"
   ]
  },
  {
   "cell_type": "code",
   "execution_count": 89,
   "id": "768eb3f5-9868-439c-9972-d0f011c7ec8d",
   "metadata": {},
   "outputs": [
    {
     "name": "stdout",
     "output_type": "stream",
     "text": [
      "전체 수업기간 : 172 일\n",
      "남은 수업기간 : 157 일\n",
      "지난 수업기간 : 15 일\n"
     ]
    }
   ],
   "source": [
    "import datetime\n",
    "day1 = datetime.date(2025,2,3)\n",
    "day2 = datetime.date(2025,7,25)\n",
    "diff = day2 - day1\n",
    "print(\"전체 수업기간 :\", diff.days,\"일\")\n",
    "diff2 = day2 - datetime.datetime.now().date()\n",
    "print(\"남은 수업기간 :\",diff2.days,\"일\")\n",
    "print(\"지난 수업기간 :\", diff.days - diff2.days,\"일\")"
   ]
  },
  {
   "cell_type": "code",
   "execution_count": 96,
   "id": "c80e9683-7620-4270-9330-6136ae042b5e",
   "metadata": {},
   "outputs": [
    {
     "name": "stdout",
     "output_type": "stream",
     "text": [
      "2025-02-18\n",
      "2025-02-18 11:22:13.190881\n"
     ]
    }
   ],
   "source": [
    "print(datetime.datetime.now().date()) # date()를 넣으면 date 타입으로 변환\n",
    "print(datetime.datetime.now())"
   ]
  },
  {
   "cell_type": "code",
   "execution_count": 90,
   "id": "15c2e63f-62cc-4005-9929-2871fb03f019",
   "metadata": {},
   "outputs": [],
   "source": [
    "import datetime\n",
    "usd = datetime.date(2025,2,3)\n",
    "kor = datetime.date"
   ]
  },
  {
   "cell_type": "code",
   "execution_count": 94,
   "id": "de858f84-f592-493a-b3b5-6a67b7a7eec3",
   "metadata": {},
   "outputs": [
    {
     "name": "stdout",
     "output_type": "stream",
     "text": [
      "그날은 일요일 입니다.\n"
     ]
    }
   ],
   "source": [
    "# 요일 확인\n",
    "days = ['월','화','수','목', '금' , '토', '일']\n",
    "day = datetime.date(2020,2,2)\n",
    "print(\"그날은\",days[day.weekday()]+'요일 입니다.')"
   ]
  },
  {
   "cell_type": "markdown",
   "id": "e606222e-2c2e-41d9-9a09-5bd559e3ca00",
   "metadata": {},
   "source": [
    "## 2.2. time"
   ]
  },
  {
   "cell_type": "code",
   "execution_count": 1,
   "id": "3718aa35-d7f6-4401-9abf-4551a39b59af",
   "metadata": {},
   "outputs": [
    {
     "data": {
      "text/plain": [
       "1739855550.537659"
      ]
     },
     "execution_count": 1,
     "metadata": {},
     "output_type": "execute_result"
    }
   ],
   "source": [
    "import time\n",
    "time.time()"
   ]
  },
  {
   "cell_type": "code",
   "execution_count": 2,
   "id": "2965def8-52ba-4516-ba14-509dc3193bca",
   "metadata": {},
   "outputs": [
    {
     "name": "stdout",
     "output_type": "stream",
     "text": [
      "time.struct_time(tm_year=2025, tm_mon=2, tm_mday=18, tm_hour=14, tm_min=14, tm_sec=30, tm_wday=1, tm_yday=49, tm_isdst=0)\n"
     ]
    }
   ],
   "source": [
    "tt = time.localtime(time.time())\n",
    "print(tt)"
   ]
  },
  {
   "cell_type": "code",
   "execution_count": 4,
   "id": "152ccd01-04a8-443d-ad90-43c703174f10",
   "metadata": {},
   "outputs": [
    {
     "data": {
      "text/plain": [
       "'Tue Feb 18 14:17:22 2025'"
      ]
     },
     "execution_count": 4,
     "metadata": {},
     "output_type": "execute_result"
    }
   ],
   "source": [
    "# time.asctime\n",
    "time.asctime(time.localtime(time.time()))"
   ]
  },
  {
   "cell_type": "code",
   "execution_count": 5,
   "id": "a44eaf53-03bc-4874-9d54-66fa0b619d98",
   "metadata": {},
   "outputs": [
    {
     "data": {
      "text/plain": [
       "'Tue Feb 18 14:17:41 2025'"
      ]
     },
     "execution_count": 5,
     "metadata": {},
     "output_type": "execute_result"
    }
   ],
   "source": [
    "# time.ctime()\n",
    "time.ctime()"
   ]
  },
  {
   "cell_type": "code",
   "execution_count": 2,
   "id": "7175be0a-3d9c-4da0-ac6e-23aede8f6f03",
   "metadata": {},
   "outputs": [
    {
     "data": {
      "text/plain": [
       "'Tue Feb 18 14:22:33 2025'"
      ]
     },
     "execution_count": 2,
     "metadata": {},
     "output_type": "execute_result"
    }
   ],
   "source": [
    "# time.strftime\n",
    "import time\n",
    "time.strftime('%x',time.localtime(time.time()))\n",
    "time.strftime('%X',time.localtime(time.time()))\n",
    "time.strftime('%c',time.localtime(time.time()))"
   ]
  },
  {
   "cell_type": "code",
   "execution_count": 10,
   "id": "e88406c5-8599-457d-bca5-784813d96277",
   "metadata": {},
   "outputs": [
    {
     "name": "stdout",
     "output_type": "stream",
     "text": [
      "10"
     ]
    }
   ],
   "source": [
    "# time.sleep\n",
    "import time as t\n",
    "for i in range(1,11):\n",
    "    print(i,end = '\\r')\n",
    "    t.sleep(1)"
   ]
  },
  {
   "cell_type": "markdown",
   "id": "30187332-9b9b-42d9-9414-7ca1713bcc4c",
   "metadata": {},
   "source": [
    "## 2.3. math.gcd, math.lcm"
   ]
  },
  {
   "cell_type": "code",
   "execution_count": 7,
   "id": "878ad147-304f-493e-8b9f-86a0187be425",
   "metadata": {},
   "outputs": [],
   "source": [
    "import math"
   ]
  },
  {
   "cell_type": "code",
   "execution_count": 11,
   "id": "9ed8d211-1727-435f-8342-0968dc083d42",
   "metadata": {},
   "outputs": [
    {
     "name": "stdout",
     "output_type": "stream",
     "text": [
      "3.141592653589793\n",
      "20\n",
      "75\n"
     ]
    }
   ],
   "source": [
    "print(math.pi) # pi값\n",
    "print(math.gcd(60,100,80)) # 최대 공약수 값\n",
    "print(math.lcm(15,25)) # 최대 공배수 값"
   ]
  },
  {
   "cell_type": "markdown",
   "id": "08faf84e-4783-4f58-828a-3e06cf80ec8b",
   "metadata": {},
   "source": [
    "## 2.4. random"
   ]
  },
  {
   "cell_type": "code",
   "execution_count": 17,
   "id": "9a779af2-09e0-462d-93ef-d40efe0caf98",
   "metadata": {},
   "outputs": [
    {
     "ename": "SyntaxError",
     "evalue": "positional argument follows keyword argument (2181973410.py, line 12)",
     "output_type": "error",
     "traceback": [
      "\u001b[1;36m  Cell \u001b[1;32mIn[17], line 12\u001b[1;36m\u001b[0m\n\u001b[1;33m    print(r.choice(data),end = ' ','\\n')\u001b[0m\n\u001b[1;37m                                       ^\u001b[0m\n\u001b[1;31mSyntaxError\u001b[0m\u001b[1;31m:\u001b[0m positional argument follows keyword argument\n"
     ]
    }
   ],
   "source": [
    "import random as r\n",
    "\n",
    "# 1. r.random()\n",
    "print(r.random()) # 0.0에서 1.0 사이의 난수 리턴\n",
    "\n",
    "# 2. r.randomint(시작, 끝)\n",
    "print(r.randint(1,10)) # a에서 b까지의 난수 리턴\n",
    "\n",
    "# 3. r.choice()\n",
    "data = [11,22,33,44,55,66]\n",
    "for n in range(6):\n",
    "    print(r.choice(data),end = ' ','\\n')\n",
    "\n",
    "# r.sample()\n",
    "li = list(range(1,21))\n",
    "arr = []\n",
    "for n in r.sample(li,len(li)):\n",
    "    arr.append(n)\n",
    "print('\\n',arr,len(arr))\n",
    "sarr = set(arr)\n",
    "print(sarr,len(sarr))"
   ]
  },
  {
   "cell_type": "code",
   "execution_count": null,
   "id": "a75c16d9-a8ed-4e73-8439-8d9986594a6f",
   "metadata": {},
   "outputs": [],
   "source": [
    "## "
   ]
  },
  {
   "cell_type": "code",
   "execution_count": 14,
   "id": "64569a63-0908-46d2-8775-470a1f8d5864",
   "metadata": {},
   "outputs": [
    {
     "name": "stdout",
     "output_type": "stream",
     "text": [
      "[('한민서', '사탕'), ('황지민', '초콜릿'), ('이영철', '젤리'), ('이광수', '새우깡'), ('김승민', '새우깡')]\n"
     ]
    }
   ],
   "source": [
    "# itertools.zip_longest\n",
    "import itertools\n",
    "students = ['한민서', '황지민', '이영철', '이광수', '김승민']\n",
    "snacks = ['사탕', '초콜릿', '젤리']\n",
    "# result = zip(students, snacks) *zip 은 작은 배열에 길이를 맞춤\n",
    "result = itertools.zip_longest(students,snacks, fillvalue = \"새우깡\")\n",
    "print(list(result))"
   ]
  },
  {
   "cell_type": "code",
   "execution_count": 16,
   "id": "f936557e-3cf5-41ac-97c7-9051e9dd1320",
   "metadata": {},
   "outputs": [
    {
     "data": {
      "text/plain": [
       "[('1', '2'), ('1', '3'), ('2', '1'), ('2', '3'), ('3', '1'), ('3', '2')]"
      ]
     },
     "execution_count": 16,
     "metadata": {},
     "output_type": "execute_result"
    }
   ],
   "source": [
    "import itertools\n",
    "print(list(itertools.permutations(['1','2','3'],2)))"
   ]
  },
  {
   "cell_type": "code",
   "execution_count": 22,
   "id": "02ca4917-24e1-417a-a635-4e992974734b",
   "metadata": {},
   "outputs": [
    {
     "name": "stdout",
     "output_type": "stream",
     "text": [
      "[('1', '2'), ('1', '3'), ('2', '3')]\n"
     ]
    }
   ],
   "source": [
    "# itertools.combination\n",
    "import itertools\n",
    "print(list(itertools.combinations(['1','2','3'],2)))"
   ]
  },
  {
   "cell_type": "code",
   "execution_count": 28,
   "id": "401cc9a7-bd1c-4fa3-9375-962404bf568f",
   "metadata": {},
   "outputs": [
    {
     "name": "stdout",
     "output_type": "stream",
     "text": [
      "<class 'itertools.combinations'>\n"
     ]
    },
    {
     "data": {
      "text/plain": [
       "8145060"
      ]
     },
     "execution_count": 28,
     "metadata": {},
     "output_type": "execute_result"
    }
   ],
   "source": [
    "# itertools.combination 응용\n",
    "import itertools\n",
    "lotto = itertools.combinations(range(1,46),6)\n",
    "print(type(lotto))\n",
    "ls = list(lotto)\n",
    "# for num in lotto[:20]:\n",
    "#     print(num)\n",
    "len(ls)"
   ]
  },
  {
   "cell_type": "code",
   "execution_count": 30,
   "id": "6c02d429-1ae1-4ac6-969a-613558e31ebf",
   "metadata": {},
   "outputs": [
    {
     "name": "stdout",
     "output_type": "stream",
     "text": [
      "55\n"
     ]
    }
   ],
   "source": [
    "# functools.reduce\n",
    "import functools\n",
    "data = [1,2,3,4,5,6,7,8,9,10]\n",
    "result = functools.reduce(lambda x, y:x +y, data)\n",
    "print(result)"
   ]
  },
  {
   "cell_type": "code",
   "execution_count": 31,
   "id": "dde1809d-ae87-4b73-85b1-0ac8322cad7b",
   "metadata": {},
   "outputs": [
    {
     "name": "stdout",
     "output_type": "stream",
     "text": [
      "8\n"
     ]
    }
   ],
   "source": [
    "num_list = [3,2,8,1,6,7]\n",
    "max_num = functools.reduce(lambda x, y:x if x > y else y, num_list)\n",
    "print(max_num)"
   ]
  },
  {
   "cell_type": "code",
   "execution_count": 8,
   "id": "4cbbc9ce-dcc4-44e0-b797-f518c3678131",
   "metadata": {},
   "outputs": [
    {
     "name": "stdout",
     "output_type": "stream",
     "text": [
      "[('dave', 32, 'B'), ('jane', 22, 'A'), ('sally', 17, 'B')]\n"
     ]
    }
   ],
   "source": [
    "# operator.itemgetter : 튜플에서 뭘 기준으로 정렬할건지 정해주는 것 🌻\n",
    "from operator import itemgetter\n",
    "name = [\"jane\",\"dave\",\"sally\"]\n",
    "age = [22,32,17]\n",
    "grade = ['A','B','B']\n",
    "students = zip(name,age,grade)\n",
    "# students = [\n",
    "#     (\"jane\", 22, 'A'),\n",
    "#     (\"dave\", 32, 'B'),\n",
    "#     (\"sally\", 17, 'B')\n",
    "# ]\n",
    "result = sorted(students, key=itemgetter(1), reverse=True)\n",
    "print(result)"
   ]
  },
  {
   "cell_type": "code",
   "execution_count": 9,
   "id": "e3a3d6de-80fd-42cc-965e-2cb71595dadc",
   "metadata": {},
   "outputs": [
    {
     "name": "stdout",
     "output_type": "stream",
     "text": [
      "[{'name': 'jane', 'age': 22, 'grade': 'A'}, {'name': 'dave', 'age': 32, 'grade': 'B'}, {'name': 'sally', 'age': 17, 'grade': 'B'}]\n",
      "[{'name': 'sally', 'age': 17, 'grade': 'B'}, {'name': 'jane', 'age': 22, 'grade': 'A'}, {'name': 'dave', 'age': 32, 'grade': 'B'}]\n"
     ]
    }
   ],
   "source": [
    "# itemgetter2.py\n",
    "from operator import itemgetter\n",
    "name = [\"jane\",\"dave\",\"sally\"]\n",
    "age = [22,32,17]\n",
    "grade = ['A','B','B']\n",
    "# 방법 1\n",
    "# students = []\n",
    "# for n, a, g in zip(name,age,grade):\n",
    "#     students.append({'name':n,'age':a,'grade':g})\n",
    "# print(students)\n",
    "\n",
    "# 방법 2\n",
    "students = [{'name':n, 'age':a, 'grade':g} for n,a,g in zip(name,age,grade)]\n",
    "print(students)\n",
    "result = sorted(students, key=itemgetter('age'))\n",
    "print(result)\n",
    "\n",
    "# 방법3\n",
    "# students = zip(name,age,grade)\n",
    "# students = [\n",
    "#     (\"jane\", 22, 'A'),\n",
    "#     (\"dave\", 32, 'B'),\n",
    "#     (\"sally\", 17, 'B')\n",
    "# ]\n",
    "# result = sorted(students, key=itemgetter(1), reverse=True)\n",
    "# print(result)"
   ]
  },
  {
   "cell_type": "code",
   "execution_count": 12,
   "id": "6f392c87-fdce-4bca-b35e-515593dbf1e5",
   "metadata": {},
   "outputs": [],
   "source": [
    "# operator.attrgetter()\n",
    "from operator import attrgetter\n",
    "\n",
    "class Student:\n",
    "    def __init__(self, name, age, grade):\n",
    "        self.name = name\n",
    "        self.age = age\n",
    "        self.grade = grade\n",
    "students = [\n",
    "    Student('jane', 22, 'A'),\n",
    "    Student('dave', 32, 'B'),\n",
    "    Student('sally', 17, 'B')    \n",
    "]\n",
    "result = sorted(students, key=attrgetter('age'))"
   ]
  },
  {
   "cell_type": "code",
   "execution_count": 16,
   "id": "659bbb88-a0c9-40e9-b883-08122c0fcf94",
   "metadata": {},
   "outputs": [
    {
     "name": "stdout",
     "output_type": "stream",
     "text": [
      "29159\n",
      "29164\n",
      "29169\n",
      "29174\n",
      "29179\n"
     ]
    }
   ],
   "source": [
    "# stutil : 파일을 stutil.copy(복사), stutil.move(이동)할 때 사용\n",
    "import shutil, time as t\n",
    "for n in range(5):\n",
    "    tstamp = str(round(t.time()))[-5:]\n",
    "    print(tstamp)\n",
    "    shutil.copy(\"README.md\",f\"./backup/README_{tstamp}.md.bak\")\n",
    "    t.sleep(5)"
   ]
  },
  {
   "cell_type": "code",
   "execution_count": 19,
   "id": "afaed4aa-300b-45b4-a47f-d2b01dab5633",
   "metadata": {},
   "outputs": [
    {
     "name": "stdout",
     "output_type": "stream",
     "text": [
      "./backup\\README_29159.md.bak\n",
      "./backup\\README_29164.md.bak\n",
      "./backup\\README_29169.md.bak\n",
      "./backup\\README_29174.md.bak\n",
      "./backup\\README_29179.md.bak\n"
     ]
    }
   ],
   "source": [
    "# glob\n",
    "import glob\n",
    "for file in glob.glob(\"./backup/*.bak\"):\n",
    "    print(file)"
   ]
  },
  {
   "cell_type": "code",
   "execution_count": 21,
   "id": "e3df689b-ffef-42f8-9f2d-8cd2289968db",
   "metadata": {},
   "outputs": [
    {
     "ename": "ValueError",
     "evalue": "invalid mode: 'rd'",
     "output_type": "error",
     "traceback": [
      "\u001b[1;31m---------------------------------------------------------------------------\u001b[0m",
      "\u001b[1;31mValueError\u001b[0m                                Traceback (most recent call last)",
      "Cell \u001b[1;32mIn[21], line 2\u001b[0m\n\u001b[0;32m      1\u001b[0m \u001b[38;5;28;01mimport\u001b[39;00m\u001b[38;5;250m \u001b[39m\u001b[38;5;21;01mpickle\u001b[39;00m\n\u001b[1;32m----> 2\u001b[0m f \u001b[38;5;241m=\u001b[39m \u001b[38;5;28;43mopen\u001b[39;49m\u001b[43m(\u001b[49m\u001b[38;5;124;43m\"\u001b[39;49m\u001b[38;5;124;43mtest.txt\u001b[39;49m\u001b[38;5;124;43m\"\u001b[39;49m\u001b[43m,\u001b[49m\u001b[38;5;124;43m\"\u001b[39;49m\u001b[38;5;124;43mrd\u001b[39;49m\u001b[38;5;124;43m\"\u001b[39;49m\u001b[43m,\u001b[49m\u001b[43m)\u001b[49m\n\u001b[0;32m      3\u001b[0m data \u001b[38;5;241m=\u001b[39m pickle\u001b[38;5;241m.\u001b[39mload(f)\n\u001b[0;32m      4\u001b[0m \u001b[38;5;28mprint\u001b[39m(data)\n",
      "File \u001b[1;32mC:\\Dev\\Lang\\Python313\\Lib\\site-packages\\IPython\\core\\interactiveshell.py:324\u001b[0m, in \u001b[0;36m_modified_open\u001b[1;34m(file, *args, **kwargs)\u001b[0m\n\u001b[0;32m    317\u001b[0m \u001b[38;5;28;01mif\u001b[39;00m file \u001b[38;5;129;01min\u001b[39;00m {\u001b[38;5;241m0\u001b[39m, \u001b[38;5;241m1\u001b[39m, \u001b[38;5;241m2\u001b[39m}:\n\u001b[0;32m    318\u001b[0m     \u001b[38;5;28;01mraise\u001b[39;00m \u001b[38;5;167;01mValueError\u001b[39;00m(\n\u001b[0;32m    319\u001b[0m         \u001b[38;5;124mf\u001b[39m\u001b[38;5;124m\"\u001b[39m\u001b[38;5;124mIPython won\u001b[39m\u001b[38;5;124m'\u001b[39m\u001b[38;5;124mt let you open fd=\u001b[39m\u001b[38;5;132;01m{\u001b[39;00mfile\u001b[38;5;132;01m}\u001b[39;00m\u001b[38;5;124m by default \u001b[39m\u001b[38;5;124m\"\u001b[39m\n\u001b[0;32m    320\u001b[0m         \u001b[38;5;124m\"\u001b[39m\u001b[38;5;124mas it is likely to crash IPython. If you know what you are doing, \u001b[39m\u001b[38;5;124m\"\u001b[39m\n\u001b[0;32m    321\u001b[0m         \u001b[38;5;124m\"\u001b[39m\u001b[38;5;124myou can use builtins\u001b[39m\u001b[38;5;124m'\u001b[39m\u001b[38;5;124m open.\u001b[39m\u001b[38;5;124m\"\u001b[39m\n\u001b[0;32m    322\u001b[0m     )\n\u001b[1;32m--> 324\u001b[0m \u001b[38;5;28;01mreturn\u001b[39;00m \u001b[43mio_open\u001b[49m\u001b[43m(\u001b[49m\u001b[43mfile\u001b[49m\u001b[43m,\u001b[49m\u001b[43m \u001b[49m\u001b[38;5;241;43m*\u001b[39;49m\u001b[43margs\u001b[49m\u001b[43m,\u001b[49m\u001b[43m \u001b[49m\u001b[38;5;241;43m*\u001b[39;49m\u001b[38;5;241;43m*\u001b[39;49m\u001b[43mkwargs\u001b[49m\u001b[43m)\u001b[49m\n",
      "\u001b[1;31mValueError\u001b[0m: invalid mode: 'rd'"
     ]
    }
   ],
   "source": [
    "import pickle\n",
    "f = open(\"test.txt\",\"rd\",)\n",
    "data = pickle.load(f)\n",
    "print(data)"
   ]
  },
  {
   "cell_type": "markdown",
   "id": "5be54556-5acc-4177-8bd6-aec3447ca1cf",
   "metadata": {},
   "source": [
    "# os"
   ]
  },
  {
   "cell_type": "code",
   "execution_count": 24,
   "id": "483fe9fc-490b-45ba-9dd9-298ac6df4cb8",
   "metadata": {},
   "outputs": [],
   "source": [
    "import os\n",
    "# 환경변수 중 PATH 값\n",
    "os.environ['PATH']\n",
    "# 디렉터리 변경\n",
    "os.chdir(\"C:\\\\WINDOWS\")\n",
    "# 디렉터리 위치 돌려받기\n"
   ]
  },
  {
   "cell_type": "code",
   "execution_count": 33,
   "id": "8862a922-48af-4eb7-99b6-a15e60529d0d",
   "metadata": {},
   "outputs": [],
   "source": [
    "# 시스템 명령어 호출\n",
    "def what(what):\n",
    "    if not os.system(what): # 에러시 1을 반환\n",
    "        f = os.system(f\"{what} -V\")\n",
    "        print(f.read())\n",
    "    else:\n",
    "        print('없는 명령어 입니다.')"
   ]
  },
  {
   "cell_type": "code",
   "execution_count": 34,
   "id": "4d21d4e5-f63a-4517-8287-dffa898e5ace",
   "metadata": {},
   "outputs": [
    {
     "ename": "AttributeError",
     "evalue": "'int' object has no attribute 'read'",
     "output_type": "error",
     "traceback": [
      "\u001b[1;31m---------------------------------------------------------------------------\u001b[0m",
      "\u001b[1;31mAttributeError\u001b[0m                            Traceback (most recent call last)",
      "Cell \u001b[1;32mIn[34], line 1\u001b[0m\n\u001b[1;32m----> 1\u001b[0m \u001b[43mwhat\u001b[49m\u001b[43m(\u001b[49m\u001b[38;5;124;43m\"\u001b[39;49m\u001b[38;5;124;43mpython\u001b[39;49m\u001b[38;5;124;43m\"\u001b[39;49m\u001b[43m)\u001b[49m\n",
      "Cell \u001b[1;32mIn[33], line 5\u001b[0m, in \u001b[0;36mwhat\u001b[1;34m(what)\u001b[0m\n\u001b[0;32m      3\u001b[0m \u001b[38;5;28;01mif\u001b[39;00m \u001b[38;5;129;01mnot\u001b[39;00m os\u001b[38;5;241m.\u001b[39msystem(what): \u001b[38;5;66;03m# 에러시 1을 반환\u001b[39;00m\n\u001b[0;32m      4\u001b[0m     f \u001b[38;5;241m=\u001b[39m os\u001b[38;5;241m.\u001b[39msystem(\u001b[38;5;124mf\u001b[39m\u001b[38;5;124m\"\u001b[39m\u001b[38;5;132;01m{\u001b[39;00mwhat\u001b[38;5;132;01m}\u001b[39;00m\u001b[38;5;124m -V\u001b[39m\u001b[38;5;124m\"\u001b[39m)\n\u001b[1;32m----> 5\u001b[0m     \u001b[38;5;28mprint\u001b[39m(\u001b[43mf\u001b[49m\u001b[38;5;241;43m.\u001b[39;49m\u001b[43mread\u001b[49m())\n\u001b[0;32m      6\u001b[0m \u001b[38;5;28;01melse\u001b[39;00m:\n\u001b[0;32m      7\u001b[0m     \u001b[38;5;28mprint\u001b[39m(\u001b[38;5;124m'\u001b[39m\u001b[38;5;124m없는 명령어 입니다.\u001b[39m\u001b[38;5;124m'\u001b[39m)\n",
      "\u001b[1;31mAttributeError\u001b[0m: 'int' object has no attribute 'read'"
     ]
    }
   ],
   "source": [
    "what(\"python\")"
   ]
  },
  {
   "cell_type": "code",
   "execution_count": 37,
   "id": "71e9a5e0-a3e7-4533-a221-e10ddd15e172",
   "metadata": {},
   "outputs": [],
   "source": [
    "# # zipfile\n",
    "# import zipfile\n",
    "\n",
    "# 파일 합치기\n",
    "# with zipfile.ZipFile('mytext.zip','w') as myzip:\n",
    "#     myzip.write('a.txt')\n",
    "#     myzip.write('b.txt')\n",
    "#     myzip.write('c.txt')\n",
    "\n",
    "# 해제하기\n",
    "# with zipfile.zipFile('mytext.zip') as myzip:\n",
    "#     myzip.extractall()"
   ]
  },
  {
   "cell_type": "markdown",
   "id": "39fb4a04-0c44-409e-9e73-bbc2ab7e0e52",
   "metadata": {},
   "source": [
    "# Threading"
   ]
  },
  {
   "cell_type": "code",
   "execution_count": 40,
   "id": "f2fe75b2-b561-4bf6-85f4-e92794624239",
   "metadata": {},
   "outputs": [
    {
     "name": "stdout",
     "output_type": "stream",
     "text": [
      "일하는 중...0\n",
      "일하는 중...1\n",
      "일하는 중...2\n",
      "일하는 중...3\n",
      "일하는 중...4\n"
     ]
    }
   ],
   "source": [
    "import time\n",
    "def long_task():\n",
    "    for i in range(5):\n",
    "        time.sleep(1)\n",
    "        print(f\"일하는 중...{i}\")\n",
    "long_task()"
   ]
  },
  {
   "cell_type": "code",
   "execution_count": 42,
   "id": "b5876167-91fb-4f74-ad26-7e55e948f3fd",
   "metadata": {},
   "outputs": [
    {
     "name": "stdout",
     "output_type": "stream",
     "text": [
      "=====Start=====\n",
      "일하는 중...0\n",
      "일하는 중...1\n",
      "일하는 중...2\n",
      "일하는 중...3\n",
      "일하는 중...4\n",
      "일하는 중...0\n",
      "일하는 중...1\n",
      "일하는 중...2\n",
      "일하는 중...3\n",
      "일하는 중...4\n",
      "일하는 중...0\n",
      "일하는 중...1\n",
      "일하는 중...2\n",
      "일하는 중...3\n",
      "일하는 중...4\n",
      "일하는 중...0\n",
      "일하는 중...1\n",
      "일하는 중...2\n",
      "일하는 중...3\n",
      "일하는 중...4\n",
      "일하는 중...0\n",
      "일하는 중...1\n",
      "일하는 중...2\n",
      "일하는 중...3\n",
      "일하는 중...4\n",
      "=====End=====\n",
      "25.02219295501709\n"
     ]
    }
   ],
   "source": [
    "# 작업하면서 걸린 시간 확인(5초 x 5회 = 25초)\n",
    "start = time.time()\n",
    "print(\"=====Start=====\")\n",
    "for n in range(5):\n",
    "    long_task()\n",
    "print(\"=====End=====\")\n",
    "print(time.time()-start)"
   ]
  },
  {
   "cell_type": "code",
   "execution_count": 44,
   "id": "bf519ff1-d947-4f3d-b6b4-059dabd9e48c",
   "metadata": {},
   "outputs": [
    {
     "name": "stdout",
     "output_type": "stream",
     "text": [
      "=====Start=====\n",
      "=====End=====\n",
      "0.001760244369506836\n",
      "일하는 중\n",
      "일하는 중\n",
      "일하는 중\n",
      "일하는 중\n",
      "일하는 중\n",
      "일하는 중일하는 중\n",
      "일하는 중\n",
      "일하는 중\n",
      "일하는 중\n",
      "\n",
      "일하는 중일하는 중\n",
      "일하는 중\n",
      "일하는 중\n",
      "일하는 중\n",
      "\n",
      "일하는 중일하는 중\n",
      "일하는 중\n",
      "\n",
      "일하는 중\n",
      "일하는 중\n",
      "일하는 중\n",
      "일하는 중\n",
      "일하는 중\n",
      "일하는 중\n",
      "일하는 중\n"
     ]
    }
   ],
   "source": [
    "# thredd를 사용\n",
    "import threading\n",
    "start = time.time()\n",
    "print(\"=====Start=====\")\n",
    "threads = []\n",
    "for n in range(5):\n",
    "    t = threading.Thread(target=long_tesk)\n",
    "    threads.append(t)\n",
    "for t in threads:\n",
    "    t.start()\n",
    "for t in threads:\n",
    "    t.join\n",
    "print(\"=====End=====\")\n",
    "print(time.time() - start)"
   ]
  },
  {
   "cell_type": "code",
   "execution_count": 45,
   "id": "dbe1cdc6-b98e-4b2d-a52a-d8e3e140f019",
   "metadata": {},
   "outputs": [],
   "source": [
    "import tempfile\n",
    "filename = tempfile.mkstemp()\n",
    "filename\n",
    "f.close()"
   ]
  },
  {
   "cell_type": "code",
   "execution_count": 47,
   "id": "6b863658-c446-4903-97b6-01a79aa14100",
   "metadata": {},
   "outputs": [
    {
     "data": {
      "text/plain": [
       "<function __main__.main()>"
      ]
     },
     "execution_count": 47,
     "metadata": {},
     "output_type": "execute_result"
    }
   ],
   "source": [
    "# traceback\n",
    "import traceback\n",
    "def a():\n",
    "    return 1/0\n",
    "def b():\n",
    "    a()\n",
    "def main():\n",
    "    try:\n",
    "        b()\n",
    "    except:\n",
    "        print(\"오류가 발생했습니다.\")\n",
    "        print(traceback.format_exc())\n",
    "main"
   ]
  },
  {
   "cell_type": "markdown",
   "id": "794b7125-63f4-4c4a-bf83-64d6e5372044",
   "metadata": {},
   "source": [
    "# json"
   ]
  },
  {
   "cell_type": "code",
   "execution_count": 6,
   "id": "2fdd55d5-9258-4f5a-9dff-8f3aabf69039",
   "metadata": {},
   "outputs": [
    {
     "name": "stdout",
     "output_type": "stream",
     "text": [
      "{\"userId\": 1, \"id\": 1, \"title\": \"delectus aut autem\", \"completed\": false, \"test\": \"한글도 되나 보자\"}\n"
     ]
    }
   ],
   "source": [
    "import requests\n",
    "import json\n",
    "url = 'https://jsonplaceholder.typicode.com/todos' # JSON 파일을 읽어오기\n",
    "data = requests.get(url).json()[0] # JSON -> DICT\n",
    "data['test'] = \"한글도 되나 보자\" # DICT에 자료 삽입\n",
    "with open('todo.json','w') as f:\n",
    "    json.dump(data,f) # DICT -> JSON\n",
    "tata_s = json.dumps(data)\n",
    "tata_s = json.dumps(data, ensure_ascii=False) # 한글 깨짐 방지\n",
    "print(tata_s)"
   ]
  },
  {
   "cell_type": "code",
   "execution_count": 2,
   "id": "5f169319-2bd1-437e-8f89-1395a3dcc4a1",
   "metadata": {},
   "outputs": [
    {
     "name": "stdout",
     "output_type": "stream",
     "text": [
      "{'userId': 1, 'id': 1, 'title': 'delectus aut autem', 'completed': False}\n"
     ]
    }
   ],
   "source": [
    "with open('todo.json') as f:\n",
    "    data = json.load(f) # JSON -> DICT\n",
    "print(data)"
   ]
  },
  {
   "cell_type": "code",
   "execution_count": 9,
   "id": "3708f92e-348a-45fd-90cb-109a3f8e43e5",
   "metadata": {},
   "outputs": [
    {
     "ename": "ModuleNotFoundError",
     "evalue": "No module named 'wbbrowser'",
     "output_type": "error",
     "traceback": [
      "\u001b[1;31m---------------------------------------------------------------------------\u001b[0m",
      "\u001b[1;31mModuleNotFoundError\u001b[0m                       Traceback (most recent call last)",
      "Cell \u001b[1;32mIn[9], line 2\u001b[0m\n\u001b[0;32m      1\u001b[0m \u001b[38;5;66;03m# webbrower\u001b[39;00m\n\u001b[1;32m----> 2\u001b[0m \u001b[38;5;28;01mimport\u001b[39;00m\u001b[38;5;250m \u001b[39m\u001b[38;5;21;01mwbbrowser\u001b[39;00m\n\u001b[0;32m      3\u001b[0m webbrowser\u001b[38;5;241m.\u001b[39mopen_new(\u001b[38;5;124m'\u001b[39m\u001b[38;5;124mwikidocs_3.html\u001b[39m\u001b[38;5;124m'\u001b[39m)\n",
      "\u001b[1;31mModuleNotFoundError\u001b[0m: No module named 'wbbrowser'"
     ]
    }
   ],
   "source": [
    "# webbrower\n",
    "import wbbrowser\n",
    "webbrowser.open_new('wikidocs_3.html')"
   ]
  },
  {
   "cell_type": "code",
   "execution_count": 11,
   "id": "20922efd-dc99-4c28-ad23-3fffde2ccef7",
   "metadata": {},
   "outputs": [
    {
     "ename": "IndentationError",
     "evalue": "expected an indented block after 'with' statement on line 6 (1824119508.py, line 7)",
     "output_type": "error",
     "traceback": [
      "\u001b[1;36m  Cell \u001b[1;32mIn[11], line 7\u001b[1;36m\u001b[0m\n\u001b[1;33m    f.write(s.read())\u001b[0m\n\u001b[1;37m    ^\u001b[0m\n\u001b[1;31mIndentationError\u001b[0m\u001b[1;31m:\u001b[0m expected an indented block after 'with' statement on line 6\n"
     ]
    }
   ],
   "source": [
    "# 테스트 urllib\n",
    "import urllib.request\n",
    "def get_wikidocs(page):\n",
    "    resouce = f\"https://jsonplaceholder.typicode.com/posts/{page}\"\n",
    "    with urllib.request.urlopen(resource) as s:\n",
    "        with open(f'posts_{page}.html', 'wb') as f:\n",
    "        f.write(s.read())\n",
    "for n in range(20):\n",
    "    get_posts(n)\n",
    "    t.sleep(0.1)"
   ]
  },
  {
   "cell_type": "code",
   "execution_count": null,
   "id": "631a6a50-51c6-4b59-9ff0-6ba7060efc9b",
   "metadata": {},
   "outputs": [],
   "source": [
    "# webbrowser\n",
    "import webbrowser\n",
    "webbrowser.open_new()"
   ]
  }
 ],
 "metadata": {
  "kernelspec": {
   "display_name": "Python 3 (ipykernel)",
   "language": "python",
   "name": "python3"
  },
  "language_info": {
   "codemirror_mode": {
    "name": "ipython",
    "version": 3
   },
   "file_extension": ".py",
   "mimetype": "text/x-python",
   "name": "python",
   "nbconvert_exporter": "python",
   "pygments_lexer": "ipython3",
   "version": "3.13.1"
  }
 },
 "nbformat": 4,
 "nbformat_minor": 5
}
