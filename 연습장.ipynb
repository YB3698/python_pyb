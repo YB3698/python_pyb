{
 "cells": [
  {
   "cell_type": "code",
   "execution_count": 2,
   "id": "3efbfc56-4b0b-4086-8143-dd08e0f39ce2",
   "metadata": {},
   "outputs": [
    {
     "name": "stdout",
     "output_type": "stream",
     "text": [
      "바구니에 ['호박', '감자', '소주', '맥주', '피자'] 물품이 있습니다.\n"
     ]
    },
    {
     "name": "stdin",
     "output_type": "stream",
     "text": [
      "꺼내고 싶은 물품을 입력하세요 소주\n"
     ]
    },
    {
     "name": "stdout",
     "output_type": "stream",
     "text": [
      "바구니에서 소주 꺼내어 ['호박', '감자', '맥주', '피자']이 남았습니다.\n"
     ]
    }
   ],
   "source": [
    "# pop은 위치로 찾아서 제거하는거라 index 함수를 이용\n",
    "bag = ['호박','감자','소주','맥주','피자']\n",
    "print(f'바구니에 {bag} 물품이 있습니다.')\n",
    "bring = input('꺼내고 싶은 물품을 입력하세요')\n",
    "hand = bag.pop(bag.index(bring))\n",
    "print(f\"바구니에서 {hand} 꺼내어 {bag}이 남았습니다.\")"
   ]
  },
  {
   "cell_type": "code",
   "execution_count": 3,
   "id": "341420e9-5484-4472-b876-986b60d324cc",
   "metadata": {},
   "outputs": [
    {
     "name": "stdout",
     "output_type": "stream",
     "text": [
      "바구니에 ['호박', '감자', '소주', '맥주', '피자'] 물품이 있습니다.\n"
     ]
    },
    {
     "name": "stdin",
     "output_type": "stream",
     "text": [
      "꺼내고 싶은 물품을 입력하세요 소주\n"
     ]
    },
    {
     "name": "stdout",
     "output_type": "stream",
     "text": [
      "바구니에서 None 꺼내어 ['호박', '감자', '맥주', '피자']이 남았습니다.\n"
     ]
    }
   ],
   "source": [
    "# remove는 텍스트를 찾아서 제거하는거라 바로 사용하면 됨\n",
    "bag = ['호박','감자','소주','맥주','피자']\n",
    "print(f'바구니에 {bag} 물품이 있습니다.')\n",
    "bring = input('꺼내고 싶은 물품을 입력하세요')\n",
    "hand = bag.remove(bring)\n",
    "print(f\"바구니에서 {hand} 꺼내어 {bag}이 남았습니다.\") #remove는 반환값 출력안됨"
   ]
  },
  {
   "cell_type": "code",
   "execution_count": null,
   "id": "2f54b317-8119-436d-a6a5-b5723eda2f33",
   "metadata": {},
   "outputs": [],
   "source": []
  },
  {
   "cell_type": "code",
   "execution_count": null,
   "id": "440c2731-6424-4ac8-ad41-c616efb16db2",
   "metadata": {},
   "outputs": [],
   "source": []
  }
 ],
 "metadata": {
  "kernelspec": {
   "display_name": "Python 3 (ipykernel)",
   "language": "python",
   "name": "python3"
  },
  "language_info": {
   "codemirror_mode": {
    "name": "ipython",
    "version": 3
   },
   "file_extension": ".py",
   "mimetype": "text/x-python",
   "name": "python",
   "nbconvert_exporter": "python",
   "pygments_lexer": "ipython3",
   "version": "3.13.1"
  }
 },
 "nbformat": 4,
 "nbformat_minor": 5
}
