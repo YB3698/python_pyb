{
 "cells": [
  {
   "cell_type": "code",
   "execution_count": 1,
   "id": "1019e896-6e9a-4a5b-90fc-e9f57b60d129",
   "metadata": {},
   "outputs": [
    {
     "name": "stdout",
     "output_type": "stream",
     "text": [
      "2\n"
     ]
    }
   ],
   "source": [
    "print(2)"
   ]
  },
  {
   "cell_type": "code",
   "execution_count": 1,
   "id": "2ca4cb71-4140-4641-a1b0-34bbde15abd1",
   "metadata": {},
   "outputs": [],
   "source": [
    "def gugu(n):\n",
    "    box = []\n",
    "    i = 1\n",
    "    while i < 10:\n",
    "        box.append(n*i)\n",
    "        i += 1\n",
    "    return box"
   ]
  },
  {
   "cell_type": "code",
   "execution_count": 2,
   "id": "a5f0b628-aa8b-45bd-a702-2bc04c000753",
   "metadata": {},
   "outputs": [
    {
     "data": {
      "text/plain": [
       "[2, 4, 6, 8, 10, 12, 14, 16, 18]"
      ]
     },
     "execution_count": 2,
     "metadata": {},
     "output_type": "execute_result"
    }
   ],
   "source": [
    "gugu(2)"
   ]
  },
  {
   "cell_type": "code",
   "execution_count": 14,
   "id": "d0219ac9-dba4-4034-99b2-35d2d5bf15a7",
   "metadata": {},
   "outputs": [
    {
     "name": "stdout",
     "output_type": "stream",
     "text": [
      "이름 : 찰리\t나이 : 20\t 파이썬 자바 C C++ C#\n",
      "이름 : 루시\t나이 : 25\t 코틀린 스위프트   \n"
     ]
    }
   ],
   "source": [
    "# 가변인자 없이 사용\n",
    "def profile(name, age, lang1, lang2, lang3, lang4, lang5): \n",
    "    print(\"이름 : {0}\\t나이 : {1}\\t\".format(name,age), end=\" \")\n",
    "    print(lang1, lang2, lang3, lang4, lang5)\n",
    "    \n",
    "profile(\"찰리\", 20, \"파이썬\", \"자바\", \"C\", \"C++\", \"C#\")\n",
    "profile(\"루시\", 25, \"코틀린\", \"스위프트\", \"\", \"\", \"\") # 5개라 공백도 적어줘야 됨"
   ]
  },
  {
   "cell_type": "code",
   "execution_count": 34,
   "id": "3d79b9e6-8bb5-40b6-93ae-12f6fb5fbdb7",
   "metadata": {},
   "outputs": [
    {
     "name": "stdout",
     "output_type": "stream",
     "text": [
      "이름 : 찰리\t나이 : 20\t 파이썬 자바 C C++ C# \n",
      "이름 : 루시\t나이 : 25\t 코틀린 스위프트 \n"
     ]
    }
   ],
   "source": [
    "# 가변인자 사용\n",
    "def profile(name, age, *language):\n",
    "    print(\"이름 : {0}\\t나이 : {1}\\t\".format(name,age), end=\" \") # end=\" \"안해주면 전부 한줄에 써짐\n",
    "    \n",
    "    for lang in language:    # (,\"\\n\")안됨, 위치 인자와 키워드 인자를 같이 쓰고 싶을 경우, 키워드 인자 앞에 와야됨\n",
    "        print(lang,end =\" \") # 근데 \"\\n\"이 앞에 오면 lang이 전부 다 줄바꿈 됨\n",
    "    print()              # lang 다 적히고 칸 띄워짐\n",
    "                              \n",
    "profile(\"찰리\", 20, \"파이썬\", \"자바\", \"C\", \"C++\", \"C#\")\n",
    "profile(\"루시\", 25, \"코틀린\", \"스위프트\")"
   ]
  },
  {
   "cell_type": "code",
   "execution_count": 30,
   "id": "9fd4d50c-7efa-4290-8160-704928cd8fc1",
   "metadata": {},
   "outputs": [
    {
     "name": "stdout",
     "output_type": "stream",
     "text": [
      "이름 : 찰리\t나이 : 20\t 파이썬 자바 C C++ C# 이름 : 루시\t나이 : 25\t 코틀린 스위프트 "
     ]
    }
   ],
   "source": [
    "def profile(name, age, *language):\n",
    "    print(\"이름 : {0}\\t나이 : {1}\\t\".format(name,age), end=\" \") # end=\" \"안해주면 다음 줄로 넘어감\n",
    "    for lang in language:\n",
    "        print(lang,end =\" \") \n",
    "\n",
    "profile(\"찰리\", 20, \"파이썬\", \"자바\", \"C\", \"C++\", \"C#\")\n",
    "profile(\"루시\", 25, \"코틀린\", \"스위프트\")"
   ]
  },
  {
   "cell_type": "code",
   "execution_count": 52,
   "id": "ff55bc67-dc64-4aec-b203-4ac5fc3bebe9",
   "metadata": {},
   "outputs": [
    {
     "name": "stdout",
     "output_type": "stream",
     "text": [
      "전체 3D 안경 개수: 10\n",
      "[함수내부] 남은 3D 안경 개수 : 8\n",
      "전체 3D 안경 개수 : 10\n"
     ]
    }
   ],
   "source": [
    "def rent(people):\n",
    "    glasses = 10 # glasses는 지역변수기 때문에 def 밖에 쓰면 오류남\n",
    "    glasses = glasses - people\n",
    "    print(\"[함수내부] 남은 3D 안경 개수 : {0}\".format(glasses))\n",
    "print(\"전체 3D 안경 개수: {0}\".format(glasses))\n",
    "rent(2)\n",
    "print(\"전체 3D 안경 개수 : {0}\".format(glasses))"
   ]
  },
  {
   "cell_type": "code",
   "execution_count": 59,
   "id": "1e493d57-e069-4f03-9679-99b811b61c8b",
   "metadata": {},
   "outputs": [
    {
     "name": "stdout",
     "output_type": "stream",
     "text": [
      "전체 3D 안경 개수: 10\n",
      "[함수내부] 남은 3D 안경 개수 : 8\n",
      "전체 3D 안경 개수 : 10\n"
     ]
    }
   ],
   "source": [
    "def rent(people):\n",
    "    glasses = 10 # glasses는 지역변수기 때문에 def 밖에 쓰면 오류남\n",
    "    glasses = glasses - people\n",
    "    print(\"[함수내부] 남은 3D 안경 개수 : {0}\".format(glasses))\n",
    "print(\"전체 3D 안경 개수: {0}\".format(glasses))\n",
    "rent(2)\n",
    "print(\"전체 3D 안경 개수 : {0}\".format(glasses))"
   ]
  },
  {
   "cell_type": "code",
   "execution_count": 68,
   "id": "e7016650-602c-48c4-a43f-48f88ad17c87",
   "metadata": {},
   "outputs": [
    {
     "name": "stdout",
     "output_type": "stream",
     "text": [
      "Collecting html5lib\n",
      "  Downloading html5lib-1.1-py2.py3-none-any.whl.metadata (16 kB)\n",
      "Requirement already satisfied: six>=1.9 in c:\\dev\\lang\\python313\\lib\\site-packages (from html5lib) (1.17.0)\n",
      "Requirement already satisfied: webencodings in c:\\dev\\lang\\python313\\lib\\site-packages (from html5lib) (0.5.1)\n",
      "Downloading html5lib-1.1-py2.py3-none-any.whl (112 kB)\n",
      "Installing collected packages: html5lib\n",
      "Successfully installed html5lib-1.1\n"
     ]
    }
   ],
   "source": [
    "!pip install html5lib"
   ]
  },
  {
   "cell_type": "code",
   "execution_count": 7,
   "id": "0dba553e-f287-4e2f-b8fc-1a917b5b02b8",
   "metadata": {},
   "outputs": [
    {
     "name": "stdout",
     "output_type": "stream",
     "text": [
      "===============\n",
      "월 2025.02.17\n",
      "---------------\n",
      "정식-5,500원\n",
      "강황밥\n",
      "김치콩나물국\n",
      "돈육바싹불고기\n",
      "모듬잡채\n",
      "멸치새우견과볶음\n",
      "상추겉절이\n",
      "포기김치\n",
      "\n",
      "===============\n",
      "===============\n",
      "화 2025.02.18\n",
      "---------------\n",
      "정식-5,500원\n",
      "백미밥\n",
      "물만두국\n",
      "순살닭매콤조림\n",
      "쫄면야채무침\n",
      "파래무무침\n",
      "참나물겉절이\n",
      "포기김치\n",
      "\n",
      "===============\n",
      "===============\n",
      "수 2025.02.19\n",
      "---------------\n",
      "정식-5,500원\n",
      "백미밥\n",
      "모듬어묵국\n",
      "함박스테이크/치즈/소스\n",
      "스파게티/소스\n",
      "치커리유자청샐러드\n",
      "콩나물무침\n",
      "포기김치\n",
      "\n",
      "===============\n",
      "===============\n",
      "목 2025.02.20\n",
      "---------------\n",
      "정식-5,500원\n",
      "잡곡밥\n",
      "홍합미역국\n",
      "순살치킨/맛초킹소스\n",
      "꼬시레기두부무침\n",
      "잡채어묵조림\n",
      "상추겉절이\n",
      "포기김치\n",
      "\n",
      "===============\n",
      "===============\n",
      "금 2025.02.21\n",
      "---------------\n",
      "정식-5,500원\n",
      "백미밥\n",
      "국수\n",
      "깐풍기/소스\n",
      "알감자버터구이\n",
      "도토리묵김치무침\n",
      "열무겉절이\n",
      "포기김치\n",
      "\n",
      "===============\n"
     ]
    }
   ],
   "source": [
    "import requests as req\n",
    "from bs4 import BeautifulSoup as bs\n",
    "url = \"https://www.pusan.ac.kr/kor/CMS/MenuMgr/menuListOnBuilding.do?mCode=MN202\"\n",
    "hearders = {'User-Agent':'Mozilla/5.0 (Windows NT 10.0; Win64; x64) AppleWebKit/537.36 (KHTML, like Gecko) Chrome/133.0.0.0 Safari/537.36 Edg/133.0.0.0'}\n",
    "web = req.get(url, headers = hearders)\n",
    "soup = bs(web.content,'html5lib')\n",
    "menucard = soup.select('.menu-tbl')\n",
    "won = soup.select('.menu-tit01')\n",
    "menu = soup.select('h3.menu-tit01+p')\n",
    "day = soup.select('.day')\n",
    "date = soup.select('.date')\n",
    "# print(dat,date)\n",
    "for d, dd, w, m in zip(day, date, won,menu):\n",
    "    print('='*15)\n",
    "    print(d.text, dd.text)\n",
    "    print('-'*15)\n",
    "    print(w.text+'\\n'+m.text)\n",
    "    print('='*15)"
   ]
  },
  {
   "cell_type": "code",
   "execution_count": 64,
   "id": "086bb761-0d9a-4f9f-a53b-6819d84d6926",
   "metadata": {},
   "outputs": [
    {
     "name": "stdout",
     "output_type": "stream",
     "text": [
      "1아알2\n"
     ]
    }
   ],
   "source": [
    "print(1,2,sep=\"아알\")"
   ]
  },
  {
   "cell_type": "code",
   "execution_count": null,
   "id": "046e8589-ac88-4803-938e-78209e6364e6",
   "metadata": {},
   "outputs": [],
   "source": []
  }
 ],
 "metadata": {
  "kernelspec": {
   "display_name": "Python 3 (ipykernel)",
   "language": "python",
   "name": "python3"
  },
  "language_info": {
   "codemirror_mode": {
    "name": "ipython",
    "version": 3
   },
   "file_extension": ".py",
   "mimetype": "text/x-python",
   "name": "python",
   "nbconvert_exporter": "python",
   "pygments_lexer": "ipython3",
   "version": "3.13.1"
  }
 },
 "nbformat": 4,
 "nbformat_minor": 5
}
