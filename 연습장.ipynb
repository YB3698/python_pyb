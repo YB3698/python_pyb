{
 "cells": [
  {
   "cell_type": "code",
   "execution_count": 15,
   "id": "73357b95-fe87-4f80-9042-e2882573fe85",
   "metadata": {},
   "outputs": [
    {
     "name": "stdout",
     "output_type": "stream",
     "text": [
      "{'시스코': 21, '엔비디아': 20, '데이터': 11, '것': 8, '기업': 7, '지원': 7, '실리콘': 7, '원': 7, '이더넷': 7, '센터': 7, '워크': 7, '로드': 7, '기술': 6, '기능': 6, '기반': 6, '양사': 5, '네트': 5, '워킹': 5, '플랫폼': 5, '네트워크': 5, '스펙트럼': 5, '프로세서': 5, '수': 5, '포함': 5, '연결': 4, '슈퍼': 4, 'NIC': 4, '통합': 4, '가속': 4, '구축': 4, '넥서스': 4, '엔터프라이즈': 4, '패키지': 4, '구현': 3, '결합': 3, '지': 3, '컴퓨팅': 3, '클라우드': 3, '필요': 3, '스위치': 3, '하이퍼': 3, '제공': 3, '소프트웨어': 3, '패': 3, '브릭': 3, '검증': 3, '협력': 3, '시리즈': 3, '모델': 3, '확대': 2, '계획': 2, '파': 2, '텔': 2, '칩': 2, '성능': 2, '핵심': 2, '시스템': 2, '향상': 2, '혼잡': 2, '등': 2, '작업': 2, '분산': 2, '규모': 2, '사용': 2, '공통': 2, '말': 2, '사전': 2, '훈련': 2, '개발': 2, '환경': 2, '서버': 2, '간': 1, '협업': 1, '전반': 1, '부사장': 1, '겸': 1, '최고': 1, '제품': 1, '책임자': 1, '투': 1, '블로그': 1, '포스트': 1, '지금': 1, '업계': 1, '대화': 1, '대부분': 1, '집중': 1, '도입': 1, '내부': 1, '사이에서': 1, '자원': 1, '문제': 1, '혁신': 1, '다음': 1, '단계': 1, '의미': 1, '성공': 1, '확장': 1, '데': 1, '강조': 1, '대역폭': 1, '전용': 1, '단일': 1, '칩셋': 1, '라우팅': 1, '스위칭': 1, '맞춤화': 1, '흐름': 1, '제어': 1, '인식': 1, '회피': 1, '참고': 1, '최근': 1, '데이터 처리': 1, '처리': 1, '내': 1, '장형': 1, '제품군': 1, '공개': 1, '스케일': 1, '가속기': 1, '대': 1, '통신': 1, '고속': 1, '버': 1, '드': 1, '속도': 1, '포괄': 1, '동시': 1, '표준화': 1, '스택': 1, '대시보드': 1, '하': 1, '엔드': 1, '특화': 1, '활용': 1, '흥미': 1, '수준': 1, '상호': 1, '운용': 1, '설명': 1, '관리': 1, '부하': 1, '과제': 1, '해결': 1, '포트폴리오': 1, '투자': 1, '배포': 1, '기타': 1, '이용': 1, '파트너': 1, '이번': 1, '발표': 1, '기존': 1, '관계': 1, '집약': 1, '블레이드 서버': 1, '텐서': 1, '코어': 1, '탑재': 1, '솔루션': 1, '프로덕션': 1, '도구': 1, '이달': 1, '초': 1, 'M8': 1, '출하': 1, '미세': 1, '조정': 1, '추론': 1, '고객': 1, '구성': 1, '최적화': 1, '인프라': 1, '공동': 1, '설계': 1, '원칙': 1, '클러스터': 1, '라고': 1, '턴키': 1, '스파이': 1, '앤': 1, '리프': 1, '형태': 1, '블루': 1, '필드': 1, '-3': 1, '디자인': 1, '스토리': 1, '데이터베이스': 1, '엔진': 1, '광범위': 1}\n"
     ]
    }
   ],
   "source": [
    "from collections import Counter\n",
    "from konlpy.tag import Komoran\n",
    "\n",
    "# 분석할 텍스트\n",
    "text = \"\"\"\n",
    "시스코와 엔비디아가 기업의 AI 구현을 지원하기 위한 양사 간의 협업을 확대한다. 시스코의 실리콘 원(Silicon One) 기술과 엔비디아의 이더넷 네트워킹 플랫폼을 결합해 기업 데이터센터 전반에 걸쳐 AI 워크로드를 지원할 계획이다.\n",
    "시스코의 부사장 겸 최고 제품 책임자인 지투 파텔은 블로그 포스트를 통해 “지금까지 AI에 대한 업계의 대화는 대부분 칩, 컴퓨팅 성능, LLM에 집중됐다. 그러나 기업이 AI 워크로드를 도입하면서, 데이터센터와 클라우드 내부, 그 사이에서 컴퓨팅 자원과 데이터를 연결하는 문제는 AI 혁신의 다음 단계가 될 것이다. 이런 의미에서 네트워크는 기업에서 AI를 성공적으로 확장하는 데 핵심이 될 것”이라고 강조했다.\n",
    "양사는 시스코의 실리콘 원 기술과 엔비디아의 슈퍼NIC를 결합해 엔비디아 스펙트럼-X 이더넷 네트워킹 플랫폼에 통합할 계획이다.\n",
    "시스코 실리콘 원 프로세서는 높은 네트워크 대역폭과 성능을 지원하는 전용 프로세서로, 단일 칩셋에서 라우팅 또는 스위칭용으로 맞춤화할 수 있어 네트워크 기능마다 서로 다른 프로세서 아키텍처가 필요하지 않다. 실리콘 원 시스템의 핵심은 향상된 이더넷 기능(향상된 흐름 제어, 혼잡 인식 및 회피 기능 등)을 지원하는 것이다.\n",
    "참고로, 시스코는 최근 복잡한 데이터 처리 작업을 분산하고 AI 및 대규모 워크로드 처리를 위한 스위치를 구현하기 위해 AMD의 내장형 프로그래머블 DPU(Data Processing Unit)을 포함한 실리콘 원 칩을 기반으로 새로운 데이터센터 스위치 제품군을 공개했다.\n",
    "슈퍼NIC는 이더넷 기반 클라우드에서 하이퍼스케일 AI 워크로드를 가속화하는 엔비디아의 새로운 네트워크 가속기이다. 엔비디아에 따르면, 슈퍼NIC는 GPU 대 GPU 통신을 위한 고속 네트워크 연결 기능을 갖추고 있으며, 컨버지드 이더넷(RoCE) 기술을 통해 RDMA(Remote Direct Memory Access)를 사용해 400Gb/s에 달하는 속도를 제공한다. 엔비디아 스펙트럼-X(Spectrum-X)는 AI 워크로드를 가속화하기 위한 엔비디아의 포괄적인 이더넷 네트워킹 플랫폼이다.\n",
    "파텔은 “시스코는 엔비디아 스펙트럼 프로세서와 시스코 OS 소프트웨어를 결합한 시스템을 구축해 기업이 데이터센터에서 시스코 네트워킹과 엔비디아 기술을 동시에 표준화할 수 있도록 할 것”이라며, ”기업이 공통의 넥서스 소프트웨어 스택(NX-OS 및 넥서스 대시보드) 하에서 백엔드 연결에 특화된 엔비디아 스펙트럼 프로세서 또는 시스코 실리콘 원을 활용하면, 흥미롭고 새로운 수준의 상호 운용성을 가능해질 것”이라고 설명했다.\n",
    "또한 시스코와 엔비디아는 혼잡 관리 및 부하 분산과 같은 공통 과제를 해결하기 위해 양사 포트폴리오를 아우르는 기술에도 투자해 기업이 AI 배포를 가속화할 수 있도록 지원할 것이라고 말했다.\n",
    "양사는 또한 시스코 실리콘 원, 하이퍼패브릭, 넥서스, UCS 컴퓨트, 옵틱스 및 기타 시스코 기술을 이용해 엔비디아 스펙트럼-X 기반의 엔비디아 클라우드 파트너(NCP) 및 엔터프라이즈 레퍼런스 아키텍처를 만들고 검증하기 위해 협력할 것이라고 말했다.\n",
    "이번 발표는 시스코와 엔비디아가 기존의 협력관계를 확대한 것이다. 양사는 데이터센터와 엣지에서 AI와 데이터 집약적 워크로드를 지원하기 위해 협력해 왔는데, 이미 시스코 UCS X-시리즈와 UCS X-시리즈 다이렉트를 포함한 시스코의 UCS 랙과 블레이드 서버에 엔비디아의 텐서 코어 GPU를 탑재했다. 통합 솔루션에는 프로덕션에 바로 사용할 수 있는 AI를 위한 사전 훈련된 모델과 개발 도구를 갖춘 엔비디아 AI 엔터프라이즈 소프트웨어가 포함되어 있다.\n",
    "이달 초, 시스코는 엔터프라이즈 데이터센터 환경을 위한 UCS C845A M8 랙 서버를 출하했다고 밝혔다. 8U 랙 서버는 엔비디아의 HGX 플랫폼을 기반으로 구축됐었으며, LLM 훈련, 모델 미세 조정, 대규모 모델 추론, RAG 등의 AI 작업에 필요한 가속 컴퓨팅 기능을 제공한다.\n",
    "또한 고객이 필요에 따라 데이터센터나 엣지 환경에 연결할 수 있는 사전 구성, 검증, 최적화된 인프라 패키지인 AI 팟(AI Pod)도 공동 개발하고 있다. AI 팟은 시스코의 검증된 설계 원칙을 기반으로 하며, 엔비디아 AI 엔터프라이즈가 포함되어 있다.\n",
    "시스코는 시스코 넥서스 하이퍼패브릭 AI 클러스터라고 불리는 턴키 AI 패키지도 제공한다. 400G 및 800G 이더넷 패브릭을 지원하는 스파인 앤 리프 구현을 위한 시스코 6000 시리즈 스위치 형태의 통합 네트워킹 패키지이다. 이 패키지에는 블루필드-3 DPU와 슈퍼NIC를 갖춘 엔비디아 GPU, AI 팟 구축을 위한 레퍼런스 디자인, 통합 스토리지, 데이터베이스, AI 워크로드를 위해 구축된 데이터 기반 기능 엔진을 위한 광범위한 데이터 플랫폼이 포함되어 있다.\n",
    "\"\"\"\n",
    "\n",
    "# Komoran 라이브러리를 사용하여 명사 추출\n",
    "komoran = Komoran()\n",
    "nouns = komoran.nouns(text)\n",
    "\n",
    "# 추출된 명사들을 공백으로 결합하여 문자열 생성\n",
    "nouns_text = \" \".join(nouns)\n",
    "\n",
    "# 명사의 빈도를 계산하여 Counter 객체 생성\n",
    "word_counts = Counter(nouns)\n",
    "\n",
    "\n",
    "def 글자수추출기(text):\n",
    "    \"\"\"\n",
    "    텍스트에서 명사를 추출하고, 각 명사의 출현 빈도를 계산하여 출력하는 함수\n",
    "    \"\"\"\n",
    "    # Komoran 라이브러리를 사용하여 명사 추출\n",
    "    komoran = Komoran()\n",
    "    nouns = komoran.nouns(text)\n",
    "    \n",
    "    # 명사의 빈도를 저장할 딕셔너리 초기화\n",
    "    count_dict = {}\n",
    "    \n",
    "    # 추출된 명사 리스트를 순회하며 빈도 계산\n",
    "    for i ,n in enumerate(nouns):\n",
    "        if n not in count_dict.keys():\n",
    "            count_dict[n] = 1\n",
    "        else:\n",
    "            count_dict[n] += 1\n",
    "    \n",
    "    # 빈도 기준으로 명사 딕셔너리 정렬\n",
    "    sort_dict = dict(sorted(count_dict.items(), key=lambda item: item[1], reverse=True))\n",
    "    \n",
    "    # 결과 출력\n",
    "    print(sort_dict)\n",
    "\n",
    "# # 비교 출력\n",
    "# print(word_counts)\n",
    "# 글자수추출기(text)\n",
    "글자수추출기(text)"
   ]
  },
  {
   "cell_type": "code",
   "execution_count": 1,
   "id": "1019e896-6e9a-4a5b-90fc-e9f57b60d129",
   "metadata": {},
   "outputs": [
    {
     "name": "stdout",
     "output_type": "stream",
     "text": [
      "2\n"
     ]
    }
   ],
   "source": [
    "print(2)"
   ]
  },
  {
   "cell_type": "code",
   "execution_count": 1,
   "id": "2ca4cb71-4140-4641-a1b0-34bbde15abd1",
   "metadata": {},
   "outputs": [],
   "source": [
    "def gugu(n):\n",
    "    box = []\n",
    "    i = 1\n",
    "    while i < 10:\n",
    "        box.append(n*i)\n",
    "        i += 1\n",
    "    return box"
   ]
  },
  {
   "cell_type": "code",
   "execution_count": 2,
   "id": "a5f0b628-aa8b-45bd-a702-2bc04c000753",
   "metadata": {},
   "outputs": [
    {
     "data": {
      "text/plain": [
       "[2, 4, 6, 8, 10, 12, 14, 16, 18]"
      ]
     },
     "execution_count": 2,
     "metadata": {},
     "output_type": "execute_result"
    }
   ],
   "source": [
    "gugu(2)"
   ]
  },
  {
   "cell_type": "code",
   "execution_count": 14,
   "id": "d0219ac9-dba4-4034-99b2-35d2d5bf15a7",
   "metadata": {},
   "outputs": [
    {
     "name": "stdout",
     "output_type": "stream",
     "text": [
      "이름 : 찰리\t나이 : 20\t 파이썬 자바 C C++ C#\n",
      "이름 : 루시\t나이 : 25\t 코틀린 스위프트   \n"
     ]
    }
   ],
   "source": [
    "# 가변인자 없이 사용\n",
    "def profile(name, age, lang1, lang2, lang3, lang4, lang5): \n",
    "    print(\"이름 : {0}\\t나이 : {1}\\t\".format(name,age), end=\" \")\n",
    "    print(lang1, lang2, lang3, lang4, lang5)\n",
    "    \n",
    "profile(\"찰리\", 20, \"파이썬\", \"자바\", \"C\", \"C++\", \"C#\")\n",
    "profile(\"루시\", 25, \"코틀린\", \"스위프트\", \"\", \"\", \"\") # 5개라 공백도 적어줘야 됨"
   ]
  },
  {
   "cell_type": "code",
   "execution_count": 34,
   "id": "3d79b9e6-8bb5-40b6-93ae-12f6fb5fbdb7",
   "metadata": {},
   "outputs": [
    {
     "name": "stdout",
     "output_type": "stream",
     "text": [
      "이름 : 찰리\t나이 : 20\t 파이썬 자바 C C++ C# \n",
      "이름 : 루시\t나이 : 25\t 코틀린 스위프트 \n"
     ]
    }
   ],
   "source": [
    "# 가변인자 사용\n",
    "def profile(name, age, *language):\n",
    "    print(\"이름 : {0}\\t나이 : {1}\\t\".format(name,age), end=\" \") # end=\" \"안해주면 전부 한줄에 써짐\n",
    "    \n",
    "    for lang in language:    # (,\"\\n\")안됨, 위치 인자와 키워드 인자를 같이 쓰고 싶을 경우, 키워드 인자 앞에 와야됨\n",
    "        print(lang,end =\" \") # 근데 \"\\n\"이 앞에 오면 lang이 전부 다 줄바꿈 됨\n",
    "    print()              # lang 다 적히고 칸 띄워짐\n",
    "                              \n",
    "profile(\"찰리\", 20, \"파이썬\", \"자바\", \"C\", \"C++\", \"C#\")\n",
    "profile(\"루시\", 25, \"코틀린\", \"스위프트\")"
   ]
  },
  {
   "cell_type": "code",
   "execution_count": 30,
   "id": "9fd4d50c-7efa-4290-8160-704928cd8fc1",
   "metadata": {},
   "outputs": [
    {
     "name": "stdout",
     "output_type": "stream",
     "text": [
      "이름 : 찰리\t나이 : 20\t 파이썬 자바 C C++ C# 이름 : 루시\t나이 : 25\t 코틀린 스위프트 "
     ]
    }
   ],
   "source": [
    "def profile(name, age, *language):\n",
    "    print(\"이름 : {0}\\t나이 : {1}\\t\".format(name,age), end=\" \") # end=\" \"안해주면 다음 줄로 넘어감\n",
    "    for lang in language:\n",
    "        print(lang,end =\" \") \n",
    "\n",
    "profile(\"찰리\", 20, \"파이썬\", \"자바\", \"C\", \"C++\", \"C#\")\n",
    "profile(\"루시\", 25, \"코틀린\", \"스위프트\")"
   ]
  },
  {
   "cell_type": "code",
   "execution_count": 52,
   "id": "ff55bc67-dc64-4aec-b203-4ac5fc3bebe9",
   "metadata": {},
   "outputs": [
    {
     "name": "stdout",
     "output_type": "stream",
     "text": [
      "전체 3D 안경 개수: 10\n",
      "[함수내부] 남은 3D 안경 개수 : 8\n",
      "전체 3D 안경 개수 : 10\n"
     ]
    }
   ],
   "source": [
    "def rent(people):\n",
    "    glasses = 10 # glasses는 지역변수기 때문에 def 밖에 쓰면 오류남\n",
    "    glasses = glasses - people\n",
    "    print(\"[함수내부] 남은 3D 안경 개수 : {0}\".format(glasses))\n",
    "print(\"전체 3D 안경 개수: {0}\".format(glasses))\n",
    "rent(2)\n",
    "print(\"전체 3D 안경 개수 : {0}\".format(glasses))"
   ]
  },
  {
   "cell_type": "code",
   "execution_count": 59,
   "id": "1e493d57-e069-4f03-9679-99b811b61c8b",
   "metadata": {},
   "outputs": [
    {
     "name": "stdout",
     "output_type": "stream",
     "text": [
      "전체 3D 안경 개수: 10\n",
      "[함수내부] 남은 3D 안경 개수 : 8\n",
      "전체 3D 안경 개수 : 10\n"
     ]
    }
   ],
   "source": [
    "def rent(people):\n",
    "    glasses = 10 # glasses는 지역변수기 때문에 def 밖에 쓰면 오류남\n",
    "    glasses = glasses - people\n",
    "    print(\"[함수내부] 남은 3D 안경 개수 : {0}\".format(glasses))\n",
    "print(\"전체 3D 안경 개수: {0}\".format(glasses))\n",
    "rent(2)\n",
    "print(\"전체 3D 안경 개수 : {0}\".format(glasses))"
   ]
  },
  {
   "cell_type": "code",
   "execution_count": 68,
   "id": "e7016650-602c-48c4-a43f-48f88ad17c87",
   "metadata": {},
   "outputs": [
    {
     "name": "stdout",
     "output_type": "stream",
     "text": [
      "Collecting html5lib\n",
      "  Downloading html5lib-1.1-py2.py3-none-any.whl.metadata (16 kB)\n",
      "Requirement already satisfied: six>=1.9 in c:\\dev\\lang\\python313\\lib\\site-packages (from html5lib) (1.17.0)\n",
      "Requirement already satisfied: webencodings in c:\\dev\\lang\\python313\\lib\\site-packages (from html5lib) (0.5.1)\n",
      "Downloading html5lib-1.1-py2.py3-none-any.whl (112 kB)\n",
      "Installing collected packages: html5lib\n",
      "Successfully installed html5lib-1.1\n"
     ]
    }
   ],
   "source": [
    "!pip install html5lib"
   ]
  },
  {
   "cell_type": "code",
   "execution_count": 7,
   "id": "0dba553e-f287-4e2f-b8fc-1a917b5b02b8",
   "metadata": {},
   "outputs": [
    {
     "name": "stdout",
     "output_type": "stream",
     "text": [
      "===============\n",
      "월 2025.02.17\n",
      "---------------\n",
      "정식-5,500원\n",
      "강황밥\n",
      "김치콩나물국\n",
      "돈육바싹불고기\n",
      "모듬잡채\n",
      "멸치새우견과볶음\n",
      "상추겉절이\n",
      "포기김치\n",
      "\n",
      "===============\n",
      "===============\n",
      "화 2025.02.18\n",
      "---------------\n",
      "정식-5,500원\n",
      "백미밥\n",
      "물만두국\n",
      "순살닭매콤조림\n",
      "쫄면야채무침\n",
      "파래무무침\n",
      "참나물겉절이\n",
      "포기김치\n",
      "\n",
      "===============\n",
      "===============\n",
      "수 2025.02.19\n",
      "---------------\n",
      "정식-5,500원\n",
      "백미밥\n",
      "모듬어묵국\n",
      "함박스테이크/치즈/소스\n",
      "스파게티/소스\n",
      "치커리유자청샐러드\n",
      "콩나물무침\n",
      "포기김치\n",
      "\n",
      "===============\n",
      "===============\n",
      "목 2025.02.20\n",
      "---------------\n",
      "정식-5,500원\n",
      "잡곡밥\n",
      "홍합미역국\n",
      "순살치킨/맛초킹소스\n",
      "꼬시레기두부무침\n",
      "잡채어묵조림\n",
      "상추겉절이\n",
      "포기김치\n",
      "\n",
      "===============\n",
      "===============\n",
      "금 2025.02.21\n",
      "---------------\n",
      "정식-5,500원\n",
      "백미밥\n",
      "국수\n",
      "깐풍기/소스\n",
      "알감자버터구이\n",
      "도토리묵김치무침\n",
      "열무겉절이\n",
      "포기김치\n",
      "\n",
      "===============\n"
     ]
    }
   ],
   "source": [
    "import requests as req\n",
    "from bs4 import BeautifulSoup as bs\n",
    "url = \"https://www.pusan.ac.kr/kor/CMS/MenuMgr/menuListOnBuilding.do?mCode=MN202\"\n",
    "hearders = {'User-Agent':'Mozilla/5.0 (Windows NT 10.0; Win64; x64) AppleWebKit/537.36 (KHTML, like Gecko) Chrome/133.0.0.0 Safari/537.36 Edg/133.0.0.0'}\n",
    "web = req.get(url, headers = hearders)\n",
    "soup = bs(web.content,'html5lib')\n",
    "menucard = soup.select('.menu-tbl')\n",
    "won = soup.select('.menu-tit01')\n",
    "menu = soup.select('h3.menu-tit01+p')\n",
    "day = soup.select('.day')\n",
    "date = soup.select('.date')\n",
    "# print(dat,date)\n",
    "for d, dd, w, m in zip(day, date, won,menu):\n",
    "    print('='*15)\n",
    "    print(d.text, dd.text)\n",
    "    print('-'*15)\n",
    "    print(w.text+'\\n'+m.text)\n",
    "    print('='*15)"
   ]
  },
  {
   "cell_type": "code",
   "execution_count": 64,
   "id": "086bb761-0d9a-4f9f-a53b-6819d84d6926",
   "metadata": {},
   "outputs": [
    {
     "name": "stdout",
     "output_type": "stream",
     "text": [
      "1아알2\n"
     ]
    }
   ],
   "source": [
    "class Unit:\n",
    "    def __init__(self,name, hp, damage):\n",
    "        self.name = name  # 초기화를 위한 과정\n",
    "        self.hp= hp\n",
    "        self.damage = damage\n",
    "        print(f\"{name\")"
   ]
  },
  {
   "cell_type": "code",
   "execution_count": null,
   "id": "046e8589-ac88-4803-938e-78209e6364e6",
   "metadata": {},
   "outputs": [],
   "source": []
  }
 ],
 "metadata": {
  "kernelspec": {
   "display_name": "Python 3 (ipykernel)",
   "language": "python",
   "name": "python3"
  },
  "language_info": {
   "codemirror_mode": {
    "name": "ipython",
    "version": 3
   },
   "file_extension": ".py",
   "mimetype": "text/x-python",
   "name": "python",
   "nbconvert_exporter": "python",
   "pygments_lexer": "ipython3",
   "version": "3.13.1"
  }
 },
 "nbformat": 4,
 "nbformat_minor": 5
}
