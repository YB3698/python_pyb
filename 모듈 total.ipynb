{
 "cells": [
  {
   "cell_type": "markdown",
   "id": "8bd83743-b5d6-4951-aea9-1a740a5075e8",
   "metadata": {},
   "source": [
    "## 1. 주식"
   ]
  },
  {
   "cell_type": "code",
   "execution_count": 3,
   "id": "d8a2060d-4da6-44a9-9027-ae658dc4c5ca",
   "metadata": {
    "scrolled": true
   },
   "outputs": [
    {
     "name": "stdout",
     "output_type": "stream",
     "text": [
      "삼성전자 : 58,300원\n",
      "SK하이닉스 : 213,000원\n",
      "LG에너지솔루션 : 375,500원\n",
      "삼성바이오로직스 : 1,140,000원\n",
      "현대차 : 201,500원\n",
      "삼성전자우 : 49,350원\n",
      "셀트리온 : 180,600원\n",
      "기아 : 93,700원\n",
      "NAVER : 220,500원\n",
      "KB금융 : 82,600원\n",
      "한화에어로스페이스 : 651,000원\n",
      "HD현대중공업 : 312,000원\n",
      "신한지주 : 47,400원\n",
      "삼성물산 : 132,700원\n",
      "현대모비스 : 252,500원\n",
      "메리츠금융지주 : 122,800원\n",
      "한화오션 : 73,900원\n",
      "POSCO홀딩스 : 270,500원\n",
      "삼성생명 : 99,300원\n",
      "SK이노베이션 : 130,700원\n",
      "삼성화재 : 400,000원\n",
      "두산에너빌리티 : 28,500원\n",
      "하나금융지주 : 62,200원\n",
      "카카오 : 39,800원\n",
      "LG화학 : 246,000원\n",
      "고려아연 : 827,000원\n",
      "HMM : 18,660원\n",
      "크래프톤 : 332,000원\n",
      "삼성SDI : 226,000원\n",
      "HD한국조선해양 : 218,000원\n",
      "한국전력 : 21,700원\n",
      "LG전자 : 82,500원\n",
      "SK스퀘어 : 100,900원\n",
      "HD현대일렉트릭 : 371,000원\n",
      "KT&G : 105,200원\n",
      "우리금융지주 : 17,340원\n",
      "SK텔레콤 : 58,800원\n",
      "기업은행 : 15,550원\n",
      "삼성중공업 : 13,720원\n",
      "KT : 47,350원\n",
      "카카오뱅크 : 23,800원\n",
      "포스코퓨처엠 : 142,400원\n",
      "LG : 69,800원\n",
      "SK : 148,700원\n",
      "삼성전기 : 143,100원\n",
      "하이브 : 248,000원\n",
      "한미반도체 : 106,600원\n",
      "삼성에스디에스 : 129,700원\n",
      "유한양행 : 122,800원\n",
      "현대글로비스 : 129,200원\n"
     ]
    }
   ],
   "source": [
    "import requests as req\n",
    "from bs4 import BeautifulSoup as bs\n",
    "url = \"https://finance.naver.com/sise/sise_market_sum.naver\"\n",
    "hearders = {'User-Agent':'Mozilla/5.0 (Windows NT 10.0; Win64; x64) AppleWebKit/537.36 (KHTML, like Gecko) Chrome/133.0.0.0 Safari/537.36 Edg/133.0.0.0'}\n",
    "web = req.get(url, headers = hearders)\n",
    "def stock():\n",
    "    soup = bs(web.content,'html.parser')\n",
    "    won = soup.select(\"td.number:nth-child(3)\")\n",
    "    stock = soup.select(\".tltle\")\n",
    "    for s, w in zip(stock, won):\n",
    "        print(f'{s.text} : {w.text}원')\n",
    "stock()"
   ]
  },
  {
   "cell_type": "code",
   "execution_count": null,
   "id": "9385187a-c79d-4ac0-a289-5e74816b5d5f",
   "metadata": {},
   "outputs": [],
   "source": [
    "import requests as req\n",
    "from bs4 import BeautifulSoup as bs\n",
    "url = \"https://finance.naver.com/sise/sise_market_sum.naver\"\n",
    "hearders = {'User-Agent':'Mozilla/5.0 (Windows NT 10.0; Win64; x64) AppleWebKit/537.36 (KHTML, like Gecko) Chrome/133.0.0.0 Safari/537.36 Edg/133.0.0.0'}\n",
    "web = req.get(url, headers = hearders)\n",
    "def stock():\n",
    "    soup = bs(web.content,'html.parser')\n",
    "    won = soup.select(\"td.number:nth-child(3)\")\n",
    "    stock = soup.select(\".tltle\")\n",
    "    for s, w in zip(stock, won):\n",
    "        print(f'{s.text} : {w.text}원')\n",
    "stock()"
   ]
  },
  {
   "cell_type": "code",
   "execution_count": 5,
   "id": "c2072f31-ea75-4b86-9f71-8a5f8efc37fd",
   "metadata": {},
   "outputs": [
    {
     "name": "stdout",
     "output_type": "stream",
     "text": [
      "['삼성전자 ', ' 58,500\\nSK하이닉스 ', ' 212,000\\nLG에너지솔루션 ', ' 374,500\\n삼성바이오로직스 ', ' 1,142,000\\n현대차 ', ' 202,500']\n"
     ]
    }
   ],
   "source": [
    "result = \"\"\"삼성전자 : 58,500\n",
    "SK하이닉스 : 212,000\n",
    "LG에너지솔루션 : 374,500\n",
    "삼성바이오로직스 : 1,142,000\n",
    "현대차 : 202,500\"\"\"\n",
    "print(result.split(\":\"))"
   ]
  },
  {
   "cell_type": "markdown",
   "id": "1936ee62-b71a-48b6-af6f-760cc2800611",
   "metadata": {},
   "source": [
    "## 2. 영화"
   ]
  },
  {
   "cell_type": "code",
   "execution_count": 9,
   "id": "f750d941-1f77-4098-a61e-5d28d0d623a9",
   "metadata": {},
   "outputs": [
    {
     "ename": "KeyError",
     "evalue": "'boxOfficeResult'",
     "output_type": "error",
     "traceback": [
      "\u001b[1;31m---------------------------------------------------------------------------\u001b[0m",
      "\u001b[1;31mKeyError\u001b[0m                                  Traceback (most recent call last)",
      "Cell \u001b[1;32mIn[9], line 15\u001b[0m\n\u001b[0;32m     13\u001b[0m url \u001b[38;5;241m=\u001b[39m \u001b[38;5;124mf\u001b[39m\u001b[38;5;124m\"\u001b[39m\u001b[38;5;124mhttp://www.kobis.or.kr/kobisopenapi/webservice/rest/boxoffice/searchDailyBoxOfficeList.json?key=\u001b[39m\u001b[38;5;132;01m{\u001b[39;00mKEY\u001b[38;5;132;01m}\u001b[39;00m\u001b[38;5;124m&targetDt=\u001b[39m\u001b[38;5;132;01m{\u001b[39;00myesterday_date\u001b[38;5;132;01m}\u001b[39;00m\u001b[38;5;124m&itemPerPage=10&repNationCd=K\u001b[39m\u001b[38;5;124m\"\u001b[39m\n\u001b[0;32m     14\u001b[0m req \u001b[38;5;241m=\u001b[39m requests\u001b[38;5;241m.\u001b[39mget(url)\n\u001b[1;32m---> 15\u001b[0m data \u001b[38;5;241m=\u001b[39m \u001b[43mreq\u001b[49m\u001b[38;5;241;43m.\u001b[39;49m\u001b[43mjson\u001b[49m\u001b[43m(\u001b[49m\u001b[43m)\u001b[49m\u001b[43m[\u001b[49m\u001b[38;5;124;43m'\u001b[39;49m\u001b[38;5;124;43mboxOfficeResult\u001b[39;49m\u001b[38;5;124;43m'\u001b[39;49m\u001b[43m]\u001b[49m[\u001b[38;5;124m'\u001b[39m\u001b[38;5;124mdailyBoxOfficeList\u001b[39m\u001b[38;5;124m'\u001b[39m]\n\u001b[0;32m     17\u001b[0m \u001b[38;5;28mprint\u001b[39m(\u001b[38;5;124mf\u001b[39m\u001b[38;5;124m\"\u001b[39m\u001b[38;5;124m========== \u001b[39m\u001b[38;5;132;01m{\u001b[39;00mtoday_date\u001b[38;5;132;01m}\u001b[39;00m\u001b[38;5;124m 영화 순위 ==========\u001b[39m\u001b[38;5;124m\"\u001b[39m)\n\u001b[0;32m     18\u001b[0m \u001b[38;5;28;01mfor\u001b[39;00m i \u001b[38;5;129;01min\u001b[39;00m \u001b[38;5;28mrange\u001b[39m(\u001b[38;5;241m10\u001b[39m):\n",
      "\u001b[1;31mKeyError\u001b[0m: 'boxOfficeResult'"
     ]
    }
   ],
   "source": [
    "import requests\n",
    "from datetime import datetime, timedelta\n",
    "from dotenv import load_dotenv\n",
    "import json\n",
    "import os\n",
    "\n",
    "load_dotenv()\n",
    "KEY = os.getenv(\"KEY\")\n",
    "\n",
    "today_date = datetime.today().strftime(\"%Y-%m-%d\").replace(\"-\",\"\") #오늘 날짜\n",
    "yesterday_date = (datetime.today() - timedelta(1)).strftime(\"%Y-%m-%d\").replace(\"-\",\"\") #어제 날짜 (영화 순위 업데이트가 안돼서 어제 날짜로 해야 잘 나옴)\n",
    "\n",
    "url = f\"http://www.kobis.or.kr/kobisopenapi/webservice/rest/boxoffice/searchDailyBoxOfficeList.json?key={KEY}&targetDt={yesterday_date}&itemPerPage=10&repNationCd=K\"\n",
    "req = requests.get(url)\n",
    "data = req.json()['boxOfficeResult']['dailyBoxOfficeList']\n",
    "\n",
    "print(f\"========== {today_date} 영화 순위 ==========\")\n",
    "for i in range(10):\n",
    "    print(f\"{i + 1}위 : {data[i]['movieNm']}\")"
   ]
  },
  {
   "cell_type": "markdown",
   "id": "65626156-92c2-495c-af01-da10e59124b7",
   "metadata": {},
   "source": [
    "## 3. 식단"
   ]
  },
  {
   "cell_type": "code",
   "execution_count": 39,
   "id": "addf6a3a-0ca0-4a75-8773-98a5dfe76bc9",
   "metadata": {},
   "outputs": [
    {
     "name": "stdout",
     "output_type": "stream",
     "text": [
      "===============\n",
      "월 2025.02.17\n",
      "---------------\n",
      "정식-5,500원\n",
      "강황밥\n",
      "김치콩나물국\n",
      "돈육바싹불고기\n",
      "모듬잡채\n",
      "멸치새우견과볶음\n",
      "상추겉절이\n",
      "포기김치\n",
      "\n",
      "===============\n",
      "===============\n",
      "화 2025.02.18\n",
      "---------------\n",
      "정식-5,500원\n",
      "백미밥\n",
      "물만두국\n",
      "순살닭매콤조림\n",
      "쫄면야채무침\n",
      "파래무무침\n",
      "참나물겉절이\n",
      "포기김치\n",
      "\n",
      "===============\n",
      "===============\n",
      "수 2025.02.19\n",
      "---------------\n",
      "정식-5,500원\n",
      "백미밥\n",
      "모듬어묵국\n",
      "함박스테이크/치즈/소스\n",
      "스파게티/소스\n",
      "치커리유자청샐러드\n",
      "콩나물무침\n",
      "포기김치\n",
      "\n",
      "===============\n",
      "===============\n",
      "목 2025.02.20\n",
      "---------------\n",
      "정식-5,500원\n",
      "잡곡밥\n",
      "홍합미역국\n",
      "순살치킨/맛초킹소스\n",
      "꼬시레기두부무침\n",
      "잡채어묵조림\n",
      "상추겉절이\n",
      "포기김치\n",
      "\n",
      "===============\n",
      "===============\n",
      "금 2025.02.21\n",
      "---------------\n",
      "정식-5,500원\n",
      "백미밥\n",
      "국수\n",
      "깐풍기/소스\n",
      "알감자버터구이\n",
      "도토리묵김치무침\n",
      "열무겉절이\n",
      "포기김치\n",
      "\n",
      "===============\n"
     ]
    }
   ],
   "source": [
    "# 부산대\n",
    "import requests as req\n",
    "from bs4 import BeautifulSoup as bs\n",
    "url = \"https://www.pusan.ac.kr/kor/CMS/MenuMgr/menuListOnBuilding.do?mCode=MN202\"\n",
    "hearders = {'User-Agent':'Mozilla/5.0 (Windows NT 10.0; Win64; x64) AppleWebKit/537.36 (KHTML, like Gecko) Chrome/133.0.0.0 Safari/537.36 Edg/133.0.0.0'}\n",
    "web = req.get(url, headers = hearders)\n",
    "\n",
    "soup = bs(web.content,'html5lib')\n",
    "menucard = soup.select('.menu-tbl')\n",
    "won = soup.select('.menu-tit01')\n",
    "menu = soup.select('h3.menu-tit01+p')\n",
    "day = soup.select('.day')\n",
    "date = soup.select('.date')\n",
    "# print(dat,date)\n",
    "for d, dd, w, m in zip(day, date, won,menu):\n",
    "    print('='*15)\n",
    "    print(d.text, dd.text)\n",
    "    print('-'*15)\n",
    "    print(w.text+'\\n'+m.text)\n",
    "    print('='*15)"
   ]
  },
  {
   "cell_type": "markdown",
   "id": "81df6151-1631-4929-a3bb-73effeb013d6",
   "metadata": {},
   "source": [
    "## 4. 멜론"
   ]
  },
  {
   "cell_type": "code",
   "execution_count": 28,
   "id": "e451c2f9-b5e1-4c59-a92e-620444e44475",
   "metadata": {},
   "outputs": [
    {
     "name": "stdout",
     "output_type": "stream",
     "text": [
      "1위: REBEL HEART / IVE (아이브)\n",
      "2위: HOME SWEET HOME (feat. 태양, 대성) / G-DRAGON\n",
      "3위: 나는 반딧불 / 황가람\n",
      "4위: Whiplash / aespa\n",
      "5위: Drowning / WOODZ\n",
      "6위: ATTITUDE / IVE (아이브)\n",
      "7위: APT. / 로제 (ROSÉ)\n",
      "8위: 오늘만 I LOVE YOU / Bruno Mars\n",
      "9위: toxic till the end / BOYNEXTDOOR\n",
      "10위: 모르시나요(PROD.로코베리) / 로제 (ROSÉ)\n",
      "11위: Dash / 조째즈\n",
      "12위: HAPPY / PLAVE\n",
      "13위: POWER / DAY6 (데이식스)\n",
      "14위: 내게 사랑이 뭐냐고 물어본다면 / G-DRAGON\n",
      "15위: RIZZ / 로이킴\n",
      "16위: DRIP / PLAVE\n",
      "17위: Chroma Drift / BABYMONSTER\n",
      "18위: Island / PLAVE\n",
      "19위: 너와의 모든 지금 / PLAVE\n",
      "20위: 소나기 / 재쓰비 (JAESSBEE)\n",
      "\n"
     ]
    }
   ],
   "source": [
    "import requests as req\n",
    "from bs4 import BeautifulSoup as bs\n",
    "url = \"https://www.melon.com/chart/index.htm\"\n",
    "# headers 주소 가져오는건 f12 -> 네트워크에서 아무거나 클릭하고 제일 밑으로 내려보면 알 수 있음\n",
    "hearders = {'User-Agent':'Mozilla/5.0 (Windows NT 10.0; Win64; x64) AppleWebKit/537.36 (KHTML, like Gecko) Chrome/133.0.0.0 Safari/537.36 Edg/133.0.0.0'}\n",
    "web = req.get(url, headers = hearders)\n",
    "def mel():\n",
    "    soup = bs(web.content,'html.parser')\n",
    "    title = soup.select('.rank01')[:20]\n",
    "    name = soup.select('.checkEllipsis a')[:20]\n",
    "    str = ''\n",
    "    for i, (t, n) in enumerate(zip(title, name),1):\n",
    "        str += f'{i}위: {t.text.strip()} / {n.text}\\n'\n",
    "    print(str)\n",
    "\n",
    "if __name__ == '__main__':\n",
    "    mel()"
   ]
  },
  {
   "cell_type": "code",
   "execution_count": null,
   "id": "9a53ea89-1810-4182-85c8-d2b506af7c4d",
   "metadata": {},
   "outputs": [],
   "source": []
  }
 ],
 "metadata": {
  "kernelspec": {
   "display_name": "Python 3 (ipykernel)",
   "language": "python",
   "name": "python3"
  },
  "language_info": {
   "codemirror_mode": {
    "name": "ipython",
    "version": 3
   },
   "file_extension": ".py",
   "mimetype": "text/x-python",
   "name": "python",
   "nbconvert_exporter": "python",
   "pygments_lexer": "ipython3",
   "version": "3.13.1"
  }
 },
 "nbformat": 4,
 "nbformat_minor": 5
}
