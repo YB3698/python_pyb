{
 "cells": [
  {
   "cell_type": "code",
   "execution_count": 6,
   "id": "d9486140-ba38-44d2-9929-1ef111406bd7",
   "metadata": {},
   "outputs": [
    {
     "name": "stdout",
     "output_type": "stream",
     "text": [
      "(5,)\n",
      "<class 'tuple'>\n"
     ]
    }
   ],
   "source": [
    "import numpy as np\n",
    "print(np.shape(range(5)))\n",
    "print(type(sh))"
   ]
  },
  {
   "cell_type": "code",
   "execution_count": 2,
   "id": "31a3156c-3328-4396-bc87-c5b012aa6e76",
   "metadata": {},
   "outputs": [
    {
     "name": "stdout",
     "output_type": "stream",
     "text": [
      "<class 'range'>\n"
     ]
    }
   ],
   "source": [
    "print(type(range(5)))  # <class 'range'>"
   ]
  },
  {
   "cell_type": "code",
   "execution_count": null,
   "id": "a6706c32-8427-48c2-be80-149fc3db0ffd",
   "metadata": {},
   "outputs": [],
   "source": []
  }
 ],
 "metadata": {
  "kernelspec": {
   "display_name": "Python 3 (ipykernel)",
   "language": "python",
   "name": "python3"
  },
  "language_info": {
   "codemirror_mode": {
    "name": "ipython",
    "version": 3
   },
   "file_extension": ".py",
   "mimetype": "text/x-python",
   "name": "python",
   "nbconvert_exporter": "python",
   "pygments_lexer": "ipython3",
   "version": "3.13.1"
  }
 },
 "nbformat": 4,
 "nbformat_minor": 5
}
