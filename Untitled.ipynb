{
 "cells": [
  {
   "cell_type": "code",
   "execution_count": 2,
   "id": "ca913214-dc68-49ee-b37e-cb738234a2f6",
   "metadata": {},
   "outputs": [
    {
     "name": "stdout",
     "output_type": "stream",
     "text": [
      "안녕하세요, 철수님!\n"
     ]
    }
   ],
   "source": [
    "def 인사(name=\"손님\"): # 인사 : 내가 만든 함수 이름, name은 매개변수\n",
    "                      # name에서 =\"손님\"을 넣어주면 초기화 상태가 손님으로 지정됨\n",
    "    print(f\"안녕하세요, {name}님!\") # 매개변수를 받아 수행할 문장\n",
    "인사(\"철수\") # 인사만 쳐줘도 출력됨. 여기서 철수는 인자임\n",
    "            # 괄호에 아무것도 안넣어도 초기화 상태를 지정해둬서 손님이 출력됨"
   ]
  },
  {
   "cell_type": "code",
   "execution_count": null,
   "id": "e5c2ac46-485d-4e83-be9e-19ebe371bb5f",
   "metadata": {},
   "outputs": [],
   "source": []
  }
 ],
 "metadata": {
  "kernelspec": {
   "display_name": "Python 3 (ipykernel)",
   "language": "python",
   "name": "python3"
  },
  "language_info": {
   "codemirror_mode": {
    "name": "ipython",
    "version": 3
   },
   "file_extension": ".py",
   "mimetype": "text/x-python",
   "name": "python",
   "nbconvert_exporter": "python",
   "pygments_lexer": "ipython3",
   "version": "3.13.1"
  }
 },
 "nbformat": 4,
 "nbformat_minor": 5
}
