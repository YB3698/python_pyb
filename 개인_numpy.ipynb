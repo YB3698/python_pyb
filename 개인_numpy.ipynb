{
 "cells": [
  {
   "cell_type": "code",
   "execution_count": 9,
   "id": "ce2ca8e1-923a-4417-9161-0c5b05203af5",
   "metadata": {},
   "outputs": [
    {
     "name": "stdout",
     "output_type": "stream",
     "text": [
      "Index(['korea', 'japan', 'china', 'usa'], dtype='object')\n",
      "[  5182  12622 141178  32976]\n",
      "(4,)\n",
      "1\n",
      "4\n"
     ]
    }
   ],
   "source": [
    "import pandas as pd\n",
    "population_dict = {\n",
    "    'korea': 5182,\n",
    "    'japan': 12622,\n",
    "    'china': 141178,\n",
    "    'usa' : 32976\n",
    "}\n",
    "# 딕셔너리를 사용하여 시리즈 데이터 생성\n",
    "country = pd.Series(population_dict)\n",
    "\n",
    "# 인덱스 값 출력\n",
    "print(country.index)\n",
    "\n",
    "# values 값 출력\n",
    "print(country.values)\n",
    "\n",
    "# shape(형태), ndim(차원), size(원소갯수) 출력\n",
    "print(country.shape)\n",
    "print(country.ndim)\n",
    "print(country.size)"
   ]
  },
  {
   "cell_type": "code",
   "execution_count": null,
   "id": "1d537e4d-a214-4171-95e7-fd72e204074f",
   "metadata": {},
   "outputs": [],
   "source": []
  }
 ],
 "metadata": {
  "kernelspec": {
   "display_name": "Python 3 (ipykernel)",
   "language": "python",
   "name": "python3"
  },
  "language_info": {
   "codemirror_mode": {
    "name": "ipython",
    "version": 3
   },
   "file_extension": ".py",
   "mimetype": "text/x-python",
   "name": "python",
   "nbconvert_exporter": "python",
   "pygments_lexer": "ipython3",
   "version": "3.13.1"
  }
 },
 "nbformat": 4,
 "nbformat_minor": 5
}
