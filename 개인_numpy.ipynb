{
 "cells": [
  {
   "cell_type": "code",
   "execution_count": 11,
   "id": "ce2ca8e1-923a-4417-9161-0c5b05203af5",
   "metadata": {},
   "outputs": [
    {
     "name": "stdout",
     "output_type": "stream",
     "text": [
      "[0 1 2 3 4 5 6 7 8 9]\n",
      "<class 'numpy.ndarray'>\n",
      "1\n",
      "(10,)\n",
      "10\n",
      "[3 4 5]\n"
     ]
    }
   ],
   "source": [
    "import numpy as np\n",
    "array = np.array(range(10))\n",
    "print(array)\n",
    "print(type(array))\n",
    "print(array.ndim) # ndim은 축 개수\n",
    "print(array.shape) # shape는 (행 수, 열 수)인데 1차원인 경우엔 (갯수,)로 표기한다.\n",
    "print(array.size) # size는 배열 안에 있는 원소 총 갯수\n",
    "print(array[3:6])"
   ]
  },
  {
   "cell_type": "code",
   "execution_count": 19,
   "id": "0bb55116-ce54-4427-a032-6316684962a8",
   "metadata": {},
   "outputs": [
    {
     "ename": "ValueError",
     "evalue": "invalid literal for int() with base 10: 'a'",
     "output_type": "error",
     "traceback": [
      "\u001b[1;31m---------------------------------------------------------------------------\u001b[0m",
      "\u001b[1;31mValueError\u001b[0m                                Traceback (most recent call last)",
      "Cell \u001b[1;32mIn[19], line 1\u001b[0m\n\u001b[1;32m----> 1\u001b[0m arr1 \u001b[38;5;241m=\u001b[39m \u001b[43mnp\u001b[49m\u001b[38;5;241;43m.\u001b[39;49m\u001b[43marray\u001b[49m\u001b[43m(\u001b[49m\u001b[43m[\u001b[49m\u001b[38;5;241;43m1\u001b[39;49m\u001b[43m,\u001b[49m\u001b[38;5;241;43m2\u001b[39;49m\u001b[43m,\u001b[49m\u001b[38;5;124;43m'\u001b[39;49m\u001b[38;5;124;43ma\u001b[39;49m\u001b[38;5;124;43m'\u001b[39;49m\u001b[43m,\u001b[49m\u001b[38;5;124;43m'\u001b[39;49m\u001b[38;5;124;43mb\u001b[39;49m\u001b[38;5;124;43m'\u001b[39;49m\u001b[43m]\u001b[49m\u001b[43m,\u001b[49m\u001b[43mdtype\u001b[49m\u001b[38;5;241;43m=\u001b[39;49m\u001b[38;5;124;43m'\u001b[39;49m\u001b[38;5;124;43mint\u001b[39;49m\u001b[38;5;124;43m'\u001b[39;49m\u001b[43m)\u001b[49m \u001b[38;5;66;03m# dtype은 형식을 지정해 주는건데 서로 동일한 자료형이어야 됨\u001b[39;00m\n\u001b[0;32m      2\u001b[0m \u001b[38;5;28mprint\u001b[39m(arr1) \u001b[38;5;66;03m# dtype안해주면 str로 자동 형변환이 일어남.\u001b[39;00m\n",
      "\u001b[1;31mValueError\u001b[0m: invalid literal for int() with base 10: 'a'"
     ]
    }
   ],
   "source": [
    "arr1 = np.array([1,2,'a','b'],dtype='int') # dtype은 형식을 지정해 주는건데 서로 동일한 자료형이어야 됨\n",
    "print(arr1) # dtype안해주면 str로 자동 형변환이 일어남."
   ]
  },
  {
   "cell_type": "code",
   "execution_count": 21,
   "id": "3ca04ac5-c60c-4302-9f92-6d79179919e3",
   "metadata": {},
   "outputs": [
    {
     "name": "stdout",
     "output_type": "stream",
     "text": [
      "<class 'numpy.ndarray'>\n"
     ]
    }
   ],
   "source": [
    "arr1 = np.array([1,2,3,4],dtype=\"int\")\n",
    "print(type(arr1))"
   ]
  },
  {
   "cell_type": "code",
   "execution_count": 22,
   "id": "90c687f3-fde7-4528-b322-b10977c74cfe",
   "metadata": {},
   "outputs": [
    {
     "name": "stdout",
     "output_type": "stream",
     "text": [
      "[[0 0 0]\n",
      " [0 0 0]]\n"
     ]
    }
   ],
   "source": [
    "array = np.zeros((2,3),dtype='int64')\n",
    "print(array)\n",
    "array = "
   ]
  },
  {
   "cell_type": "code",
   "execution_count": null,
   "id": "1d537e4d-a214-4171-95e7-fd72e204074f",
   "metadata": {},
   "outputs": [],
   "source": []
  }
 ],
 "metadata": {
  "kernelspec": {
   "display_name": "Python 3 (ipykernel)",
   "language": "python",
   "name": "python3"
  },
  "language_info": {
   "codemirror_mode": {
    "name": "ipython",
    "version": 3
   },
   "file_extension": ".py",
   "mimetype": "text/x-python",
   "name": "python",
   "nbconvert_exporter": "python",
   "pygments_lexer": "ipython3",
   "version": "3.13.1"
  }
 },
 "nbformat": 4,
 "nbformat_minor": 5
}
