{
 "cells": [
  {
   "cell_type": "markdown",
   "id": "73898ace-68f5-495b-8886-648cba7ce3b6",
   "metadata": {},
   "source": [
    "# 0214 과제"
   ]
  },
  {
   "cell_type": "code",
   "execution_count": 1,
   "id": "ce76e5e6-222b-4641-8cba-c741d58c7173",
   "metadata": {},
   "outputs": [
    {
     "name": "stdin",
     "output_type": "stream",
     "text": [
      "세글자인 단어를 입력하세요 우영우\n"
     ]
    },
    {
     "name": "stdout",
     "output_type": "stream",
     "text": [
      "바로해도 ['우영우'], 거꾸로해도 ['우영우']. 똑같습니다.\n"
     ]
    }
   ],
   "source": [
    "# 1. 바로해도 거꾸로해도 똑같은지 확인\n",
    "word = input(\"세글자인 단어를 입력하세요\")\n",
    "li = [word[0],word[1],word[2]]\n",
    "li2 = [word[0],word[1],word[2]]\n",
    "li2.reverse()\n",
    "\n",
    "if li == li2:\n",
    "    print(f\"바로해도 {[word]}, 거꾸로해도 {[word]}. 똑같습니다.\")\n",
    "else:\n",
    "    print(f\"바로하면 {[word]}, 거꾸로하면 {[li2[0]+li2[1]+li2[2]]}. 다릅니다.\")"
   ]
  },
  {
   "cell_type": "code",
   "execution_count": 2,
   "id": "e3507a0d-af8a-4979-96c6-5ff961d72a56",
   "metadata": {},
   "outputs": [
    {
     "name": "stdin",
     "output_type": "stream",
     "text": [
      "리스트에 넣을 숫자들을 입력해주세요 23,25,22,11,28\n"
     ]
    },
    {
     "name": "stdout",
     "output_type": "stream",
     "text": [
      "홀수 리스트 : ['23', '25', '11']\n",
      "짝수 리스트 : ['22', '28']\n"
     ]
    }
   ],
   "source": [
    "# 2. 리스트 홀수 짝수 나누기\n",
    "li = input(\"리스트에 넣을 숫자들을 입력해주세요\")\n",
    "result = li.split(',')\n",
    "\n",
    "box1 = []\n",
    "box2 = []\n",
    "for n in result:\n",
    "    if int(n) % 2 == 0:\n",
    "        box1.append(n)\n",
    "    else : \n",
    "        box2.append(n)\n",
    "        \n",
    "print(f\"홀수 리스트 : {box2}\")\n",
    "print(f\"짝수 리스트 : {box1}\")"
   ]
  },
  {
   "cell_type": "code",
   "execution_count": 40,
   "id": "3d14bc11-73b3-4a16-a245-5670aa6e4f79",
   "metadata": {},
   "outputs": [
    {
     "name": "stdin",
     "output_type": "stream",
     "text": [
      "문장을 입력하세요 : 안녕하세요. 저는 박유빈입니다. 잘 부탁드립니다.\n"
     ]
    },
    {
     "name": "stdout",
     "output_type": "stream",
     "text": [
      "['박유빈입니다.', '부탁드립니다.']\n"
     ]
    }
   ],
   "source": [
    "# 3. 가장 긴문장 출력\n",
    "st = input(\"문장을 입력하세요 :\")\n",
    "result = st.split(\" \")\n",
    "box = {}\n",
    "for r in result:\n",
    "       box[r] = len(r)\n",
    "m = max(box.values())\n",
    "box2 = []\n",
    "for b in box:\n",
    "    if box[b] == m:\n",
    "        box2.append(b)\n",
    "print(box2)"
   ]
  },
  {
   "cell_type": "code",
   "execution_count": 143,
   "id": "110037cd-39fc-4091-ac44-da560884d030",
   "metadata": {},
   "outputs": [
    {
     "name": "stdin",
     "output_type": "stream",
     "text": [
      "당신의 기분을 한 문장으로 표현해주세요 기분 나빠\n"
     ]
    },
    {
     "name": "stdout",
     "output_type": "stream",
     "text": [
      "{'최고', '사랑해', '싫어', '짜증', '행복', '좋아', '화나', '별로', '나빠', '멋져'}\n",
      "기분이 나빠보이네요\n"
     ]
    }
   ],
   "source": [
    "# 4. 기분 파악\n",
    "feel = input(\"당신의 기분을 한 문장으로 표현해주세요\")\n",
    "positive_words = [\"좋아\",\"행복\",\"멋져\",\"최고\",\"사랑해\"]\n",
    "negative_words = [\"싫어\",\"화나\",\"짜증\",\"별로\",\"나빠\"]\n",
    "union = set(negative_words)|set(positive_words)\n",
    "print(a)\n",
    "\n",
    "for pos in positive_words:\n",
    "    if pos in feel:\n",
    "        print(\"기분이 좋아보이네요\")\n",
    "for neg in negative_words:\n",
    "    if neg in feel:\n",
    "        print(\"기분이 나빠보이네요\")\n",
    "for x in union:       \n",
    "    if x not in feel:\n",
    "        com = '기분을 잘 모르겠어요'\n",
    "\n",
    "print(f'{com}')"
   ]
  },
  {
   "cell_type": "code",
   "execution_count": 162,
   "id": "4340ada6-0b45-411d-bb3e-7bd34e7e32b8",
   "metadata": {},
   "outputs": [
    {
     "name": "stdin",
     "output_type": "stream",
     "text": [
      "당신의 기분을 한 문장으로 표현해주세요 몰라\n"
     ]
    },
    {
     "name": "stdout",
     "output_type": "stream",
     "text": [
      "기분을 잘 모르겠어요\n"
     ]
    }
   ],
   "source": [
    "# 4. 기분 파악\n",
    "feel = input(\"당신의 기분을 한 문장으로 표현해주세요\")\n",
    "positive_words = [\"좋아\",\"행복\",\"멋져\",\"최고\",\"사랑해\"]\n",
    "negative_words = [\"싫어\",\"화나\",\"짜증\",\"별로\",\"나빠\"]\n",
    "union = set(negative_words)|set(positive_words)\n",
    "\n",
    "def mode(feel):\n",
    "    for pos in positive_words:\n",
    "        if pos in feel:\n",
    "            com =\"기분이 좋아보이네요\"\n",
    "            return com\n",
    "    for neg in negative_words:\n",
    "        if neg in feel:\n",
    "            com = \"기분이 나빠보이네요\"\n",
    "            return com\n",
    "    for x in union:       \n",
    "        if x not in feel:\n",
    "            com = '기분을 잘 모르겠어요'\n",
    "            return com\n",
    "\n",
    "print(mode(feel))"
   ]
  },
  {
   "cell_type": "code",
   "execution_count": 175,
   "id": "81636010-18f7-4092-a8d3-2fbbb374f54f",
   "metadata": {},
   "outputs": [
    {
     "name": "stdin",
     "output_type": "stream",
     "text": [
      "영어 문장을 입력해주세요. today is a really happy day\n"
     ]
    },
    {
     "name": "stdout",
     "output_type": "stream",
     "text": [
      "Today Is A Really Happy Day.\n"
     ]
    }
   ],
   "source": [
    "# 5. 첫글자 대문자 + 마침표 출력\n",
    "eng = input(\"영어 문장을 입력해주세요.\")\n",
    "result = eng.split(\" \")\n",
    "box=[]\n",
    "for r in result:\n",
    "    up1 = r[0].upper()\n",
    "    up2 = up1+r[1:]\n",
    "    box.append(up2)\n",
    "    \n",
    "print(' '.join(box)+'.')"
   ]
  },
  {
   "cell_type": "code",
   "execution_count": null,
   "id": "d24c5be6-f10e-4b76-89d9-3e5a2c6fd650",
   "metadata": {},
   "outputs": [],
   "source": [
    "# API로 상영영화 순위 받기\n",
    "# 네이버 검색 API 예제 - 블로그 검색\n",
    "import os\n",
    "import sys\n",
    "import urllib.request\n",
    "import json\n",
    "\n",
    "load_dotenv()\n",
    "client_id = os.environ.get(\"MY_ID\")\n",
    "client_secret = os.environ.get(\"MY_SECRET\")\n",
    "\n",
    "encText = urllib.parse.quote(\"속보\")\n",
    "url = \"https://openapi.naver.com/v1/search/news.json?query=\" + encText # JSON 결과\n",
    "# url = \"https://openapi.naver.com/v1/search/blog.xml?query=\" + encText # XML 결과\n",
    "request = urllib.request.Request(url)\n",
    "request.add_header(\"X-Naver-Client-Id\",client_id)\n",
    "request.add_header(\"X-Naver-Client-Secret\",client_secret)\n",
    "response = urllib.request.urlopen(request)\n",
    "rescode = response.getcode()\n",
    "if(rescode==200):\n",
    "    response_body = response.read()\n",
    "    result = response_body.decode('utf-8')\n",
    "    data = json.loads(result)\n",
    "    ldata = data['items']\n",
    "    for n in ldata:\n",
    "        print(n['title'].replace('<b>','').replace('</b>',''))\n",
    "        print(n['description'])\n",
    "        print(n['originallink'])\n",
    "else:\n",
    "    print(\"Error Code:\" + rescode)"
   ]
  }
 ],
 "metadata": {
  "kernelspec": {
   "display_name": "Python 3 (ipykernel)",
   "language": "python",
   "name": "python3"
  },
  "language_info": {
   "codemirror_mode": {
    "name": "ipython",
    "version": 3
   },
   "file_extension": ".py",
   "mimetype": "text/x-python",
   "name": "python",
   "nbconvert_exporter": "python",
   "pygments_lexer": "ipython3",
   "version": "3.13.1"
  }
 },
 "nbformat": 4,
 "nbformat_minor": 5
}
