{
 "cells": [
  {
   "cell_type": "markdown",
   "id": "f9a6730f-0d98-4a95-aef5-2a78c45ba08f",
   "metadata": {},
   "source": [
    "# 클래스"
   ]
  },
  {
   "cell_type": "markdown",
   "id": "43785373-cdd7-4504-ab45-632f8f41021d",
   "metadata": {},
   "source": [
    "## 1.1. 클래스 기본"
   ]
  },
  {
   "cell_type": "code",
   "execution_count": 2,
   "id": "8e04715f-2ee0-447b-bb39-62257334f4e2",
   "metadata": {},
   "outputs": [
    {
     "name": "stdout",
     "output_type": "stream",
     "text": [
      "[1, 2, 3, 4] <class 'list'>\n",
      "(11, 22, 33, 44) <class 'tuple'>\n"
     ]
    }
   ],
   "source": [
    "what = [1,2,3,4]\n",
    "who = 11,22,33,44\n",
    "print(what, type(what))\n",
    "print(who,type(who))"
   ]
  },
  {
   "cell_type": "code",
   "execution_count": 18,
   "id": "f52ecdf1-1255-4c4c-878e-25f1bba8765c",
   "metadata": {},
   "outputs": [
    {
     "name": "stdout",
     "output_type": "stream",
     "text": [
      "1: 1\n",
      "2: 1\n",
      "2: 2\n",
      "2: 3\n",
      "1: 2\n",
      "1: 3\n"
     ]
    }
   ],
   "source": [
    "result1 = 0\n",
    "result2 = 0\n",
    "def add1(num):\n",
    "    global result1\n",
    "    result1 +=num\n",
    "    return result1\n",
    "def add2(num):\n",
    "    global result2\n",
    "    result2 += num\n",
    "    return result2\n",
    "    \n",
    "print('1:',add1(1))\n",
    "print('2:',add2(1))\n",
    "print('2:',add2(1))\n",
    "print('2:',add2(1))\n",
    "print('1:',add1(1))\n",
    "print('1:',add1(1))"
   ]
  },
  {
   "cell_type": "code",
   "execution_count": 95,
   "id": "850668ae-4c98-4528-9d89-ba0239a92802",
   "metadata": {},
   "outputs": [
    {
     "name": "stdout",
     "output_type": "stream",
     "text": [
      "1: 1\n",
      "2: 1\n",
      "2: 2\n",
      "2: 3\n",
      "1: 2\n",
      "1: 3\n",
      "2: 2\n",
      "2: 1\n"
     ]
    }
   ],
   "source": [
    "class Calculator: # 클래스명은 제일 앞에 대문자로 써야됨\n",
    "    def __init__(self): # __init__(self)는 초기화 매서드, 클래스의 인스턴스가 생성될 때 자동으로 호출됨\n",
    "                        # 파이썬에서 얘는 그렇게 작동하도록 설정해뒀음\n",
    "        self.result = 0 # 초기값으로 result 속성 설정해줘야 오류안남\n",
    "        \n",
    "    def add(self, num):\n",
    "        self.result += num\n",
    "        return self.result\n",
    "    def sub(self, num):\n",
    "        self.result -= num\n",
    "        return self.result\n",
    "        \n",
    "# 인스턴스(구현물)화\n",
    "cal1 = Calculator() #[1,2,3,4,5]\n",
    "cal2 = Calculator() #['a','b']\n",
    "print('1:',cal1.add(1))\n",
    "print('2:',cal2.add(1))\n",
    "print('2:',cal2.add(1))\n",
    "print('2:',cal2.add(1))\n",
    "print('1:',cal1.add(1))\n",
    "print('1:',cal1.add(1))\n",
    "\n",
    "print('2:',cal2.sub(1))\n",
    "print('2:',cal2.sub(1))"
   ]
  },
  {
   "cell_type": "markdown",
   "id": "1723b185-238e-4496-895e-1948f1ed96ce",
   "metadata": {},
   "source": [
    "클래스 (class): 클래스는 객체의 설계도나 청사진과 같은 개념입니다. 속성과 매서드를 정의하여 객체의 구조와 동작을 설명합니다."
   ]
  },
  {
   "cell_type": "code",
   "execution_count": 38,
   "id": "6bcb3b66-f9f7-47a3-997e-fd47feeee9c5",
   "metadata": {},
   "outputs": [],
   "source": [
    "class Dduk:\n",
    "    def __init__(self, won, ea):\n",
    "        self.won = won\n",
    "        self.ea = ea\n",
    "    def dduk(self):\n",
    "        result = self.won * self.ea\n",
    "        print(f\"배가 고파서 떡볶이집에서 떡볶이를 {result}원어치 먹었다.\")\n",
    "    def odeng(self):\n",
    "        result = self.won * 2 * self.ea\n",
    "        print(f\"배가 고파서 떡볶이집에서 오뎅을 {result}원어치 먹었다.\")"
   ]
  },
  {
   "cell_type": "code",
   "execution_count": 39,
   "id": "961384f3-2e30-41a3-b82d-123fc3d826e5",
   "metadata": {},
   "outputs": [],
   "source": [
    "유빈 = Dduk(2000,3)\n",
    "혜빈 = Dduk(3000,2)\n",
    "시후 = Dduk(1500,6)"
   ]
  },
  {
   "cell_type": "code",
   "execution_count": 40,
   "id": "6a0566f8-75cd-4604-b6f1-9630e991db9c",
   "metadata": {},
   "outputs": [
    {
     "name": "stdout",
     "output_type": "stream",
     "text": [
      "배가 고파서 떡볶이집에서 떡볶이를 6000원어치 먹었다.\n",
      "배가 고파서 떡볶이집에서 오뎅을 12000원어치 먹었다.\n"
     ]
    }
   ],
   "source": [
    "유빈.dduk()\n",
    "혜빈.odeng()"
   ]
  },
  {
   "cell_type": "code",
   "execution_count": 41,
   "id": "75830504-6196-4c20-b853-0facd7e7a761",
   "metadata": {},
   "outputs": [
    {
     "name": "stdout",
     "output_type": "stream",
     "text": [
      "배가 고파서 떡볶이집에서 떡볶이를 6000원어치 먹었다.\n",
      "배가 고파서 떡볶이집에서 오뎅을 12000원어치 먹었다.\n"
     ]
    }
   ],
   "source": [
    "혜빈.dduk()\n",
    "혜빈.odeng()"
   ]
  },
  {
   "cell_type": "code",
   "execution_count": 42,
   "id": "3965b7d2-4e4f-4d0d-aa42-bd7bb154c7ce",
   "metadata": {},
   "outputs": [
    {
     "name": "stdout",
     "output_type": "stream",
     "text": [
      "배가 고파서 떡볶이집에서 떡볶이를 9000원어치 먹었다.\n",
      "배가 고파서 떡볶이집에서 오뎅을 18000원어치 먹었다.\n"
     ]
    }
   ],
   "source": [
    "시후.dduk()\n",
    "시후.odeng()"
   ]
  },
  {
   "cell_type": "code",
   "execution_count": 43,
   "id": "83fe536a-c175-4775-b3eb-f13e2816bc34",
   "metadata": {},
   "outputs": [],
   "source": [
    "혜빈.__init__(3000,2)"
   ]
  },
  {
   "cell_type": "code",
   "execution_count": 44,
   "id": "d9a172f4-cdfa-4ca0-8730-2bd6383692a7",
   "metadata": {},
   "outputs": [
    {
     "name": "stdout",
     "output_type": "stream",
     "text": [
      "배가 고파서 떡볶이집에서 떡볶이를 6000원어치 먹었다.\n",
      "배가 고파서 떡볶이집에서 오뎅을 12000원어치 먹었다.\n"
     ]
    }
   ],
   "source": [
    "유빈.dduk()\n",
    "유빈.odeng()"
   ]
  },
  {
   "cell_type": "code",
   "execution_count": 48,
   "id": "3ee41a18-48ad-406b-987f-7a9fa515f80a",
   "metadata": {},
   "outputs": [],
   "source": [
    "class Dduk:\n",
    "    def __init__(self, won, ea):\n",
    "        self.won = won\n",
    "        self.ea = ea\n",
    "    def dduk(self):\n",
    "        result = self.won * self.ea\n",
    "        print(f\"맛있는 떡볶이집에 가서 떡볶이를{result}원 어치 먹었다.\")\n",
    "    "
   ]
  },
  {
   "cell_type": "code",
   "execution_count": 49,
   "id": "5a596084-17e8-4e21-8ada-4ee6fba3aa86",
   "metadata": {},
   "outputs": [],
   "source": [
    "유빈 = Dduk(2000,3)"
   ]
  },
  {
   "cell_type": "code",
   "execution_count": 50,
   "id": "0884e493-1444-4e34-84ca-2a1bef5c854d",
   "metadata": {},
   "outputs": [
    {
     "name": "stdout",
     "output_type": "stream",
     "text": [
      "맛있는 떡볶이집에 가서 떡볶이를6000원 어치 먹었다.\n"
     ]
    }
   ],
   "source": [
    "유빈.dduk()"
   ]
  },
  {
   "cell_type": "markdown",
   "id": "8d98f43c-602d-44b4-83fd-c7e995a07b82",
   "metadata": {},
   "source": [
    "## 1.3. 예제들"
   ]
  },
  {
   "cell_type": "code",
   "execution_count": 53,
   "id": "d6cefbdf-7785-4ba0-a2c2-5d6e705fa9d7",
   "metadata": {},
   "outputs": [
    {
     "name": "stdout",
     "output_type": "stream",
     "text": [
      "방가방가1 저는 고전 인사입니다!!\n",
      "방가방가1 저는 고전 인사입니다!!\n",
      "방가방가1 저는 고전 인사입니다!!\n",
      "============================================================\n",
      "\n",
      "이것은 예로부터 전해오는 고전 인사함수 입니다.\n",
      "\n",
      "==============================\n",
      "Help on function test in module __main__:\n",
      "\n",
      "test()\n",
      "    이것은 예로부터 전해오는 고전 인사함수 입니다.\n",
      "\n"
     ]
    }
   ],
   "source": [
    "# 테스트 1\n",
    "def test():\n",
    "    \"\"\"\n",
    "    이것은 예로부터 전해오는 고전 인사함수 입니다.\n",
    "    \"\"\"\n",
    "    print(\"방가방가1 저는 고전 인사입니다!!\")\n",
    "    print(\"방가방가1 저는 고전 인사입니다!!\")\n",
    "    print(\"방가방가1 저는 고전 인사입니다!!\")\n",
    "test()\n",
    "print(\"==\"*30)\n",
    "print(test.__doc__)\n",
    "print(\"=\"*30)\n",
    "help(test)"
   ]
  },
  {
   "cell_type": "code",
   "execution_count": 59,
   "id": "65d55385-e488-4bd2-9c99-afa01ed3b685",
   "metadata": {},
   "outputs": [],
   "source": [
    "# 테스트 2 \n",
    "# class의 self없이 함수 만들기\n",
    "def set_car(name, color):\n",
    "    return {\"name\":name,\"color\":color}\n",
    "\n",
    "def get_car_info(car):\n",
    "    return f\"car:{car['name']},color:{car['color']}\""
   ]
  },
  {
   "cell_type": "code",
   "execution_count": 61,
   "id": "aeca19d1-675e-4313-b35b-66a935549da4",
   "metadata": {},
   "outputs": [
    {
     "name": "stdout",
     "output_type": "stream",
     "text": [
      "{'name': 'HD', 'color': 'blue'}\n",
      "car:HD,color:blue\n"
     ]
    }
   ],
   "source": [
    "# 자동차를 생성\n",
    "car = set_car(\"HD\", \"blue\")\n",
    "print(car)\n",
    "# 자동차 정보를 생성\n",
    "print(get_car_info(car))"
   ]
  },
  {
   "cell_type": "code",
   "execution_count": 62,
   "id": "3f1356a9-d1ad-4b8f-9c79-bbfb25c9f416",
   "metadata": {},
   "outputs": [
    {
     "name": "stdout",
     "output_type": "stream",
     "text": [
      "car:kia,color:white\n"
     ]
    }
   ],
   "source": [
    "print(get_car_info(set_car(\"kia\",\"white\")))"
   ]
  },
  {
   "cell_type": "code",
   "execution_count": 92,
   "id": "d1317660-8339-4f5b-b2f7-026a2c25a212",
   "metadata": {},
   "outputs": [
    {
     "name": "stdout",
     "output_type": "stream",
     "text": [
      "Car:HD,Color:blue\n",
      "Car:HD,Color:blue\n"
     ]
    }
   ],
   "source": [
    "# 테스트 3\n",
    "class Car:\n",
    "    def set_car(name, color):\n",
    "        return {\"name\":name,\"clokr\":color}\n",
    "    def get_car_info(Car):\n",
    "        return f\"Car:{car['name']},Color:{car['color']}\"\n",
    "\n",
    "car1 = Car.set_car(\"HD\",\"Yellow\")\n",
    "car2 = Car.set_car(\"kia\",\"white\")\n",
    "print(Car.get_car_info(car1))\n",
    "print(Car.get_car_info(car2))"
   ]
  },
  {
   "cell_type": "code",
   "execution_count": 74,
   "id": "e91a2394-1be1-428a-abb7-adcdced7e6f4",
   "metadata": {},
   "outputs": [
    {
     "name": "stdout",
     "output_type": "stream",
     "text": [
      "car:HD,Color:Black\n",
      "car:kia,Color:Gray\n"
     ]
    }
   ],
   "source": [
    "# 태스트 4\n",
    "class Car:\n",
    "    def __init__(self,name,color):\n",
    "        self.name = name\n",
    "        self.color = color\n",
    "        \n",
    "    def get_car_info(self):\n",
    "        return f\"car:{self.name},Color:{self.color}\"\n",
    "\n",
    "car1 = Car(\"HD\",\"Black\")\n",
    "car2 = Car(\"kia\",\"Gray\")\n",
    "\n",
    "print(car1.get_car_info())\n",
    "print(car2.get_car_info())"
   ]
  },
  {
   "cell_type": "code",
   "execution_count": 99,
   "id": "dcf4443d-5976-4c82-b0c0-f5a1a3159d0d",
   "metadata": {},
   "outputs": [],
   "source": [
    "# 테스트 5\n",
    "class Car:\n",
    "    def __init__(self,name,color):\n",
    "        self.name = name\n",
    "        self.color = color\n",
    "        self.speed = 0 # 초기값 0\n",
    "    def get_car_info(self):\n",
    "        return f\"Car:{self.name},Color:{self.color}\"\n",
    "    def acc(self, amount):\n",
    "        self.speed += amount #속도가 증가\n",
    "        return f\"{self.name} 속도 올려요. 현재 속도는 {self.speed}km/h\""
   ]
  },
  {
   "cell_type": "code",
   "execution_count": 100,
   "id": "6a2cc098-d27d-47ff-b08f-3f8308eb9307",
   "metadata": {},
   "outputs": [
    {
     "name": "stdout",
     "output_type": "stream",
     "text": [
      "Car:HD,Color:Black\n",
      "Car:Kia,Color:Gray\n"
     ]
    }
   ],
   "source": [
    "car1 = Car(\"HD\",\"Black\")\n",
    "car2 = Car(\"Kia\",\"Gray\")\n",
    "print(car1.get_car_info())\n",
    "print(car2.get_car_info())"
   ]
  },
  {
   "cell_type": "code",
   "execution_count": 101,
   "id": "bc0b834a-2f99-48a7-b59f-cc6e0df72963",
   "metadata": {},
   "outputs": [
    {
     "name": "stdout",
     "output_type": "stream",
     "text": [
      "HD 속도 올려요. 현재 속도는 30km/h\n",
      "Kia 속도 올려요. 현재 속도는 50km/h\n",
      "HD 속도 올려요. 현재 속도는 40km/h\n"
     ]
    }
   ],
   "source": [
    "print(car1.acc(30))\n",
    "print(car2.acc(50))\n",
    "print(car1.acc(10))"
   ]
  },
  {
   "cell_type": "code",
   "execution_count": 102,
   "id": "704c9b3e-7324-48a6-9229-005e3f371aed",
   "metadata": {},
   "outputs": [
    {
     "name": "stdout",
     "output_type": "stream",
     "text": [
      "HD 속도 올려요. 현재 속도는 41km/h\n",
      "HD 속도 올려요. 현재 속도는 42km/h\n",
      "HD 속도 올려요. 현재 속도는 43km/h\n",
      "HD 속도 올려요. 현재 속도는 44km/h\n",
      "HD 속도 올려요. 현재 속도는 45km/h\n",
      "HD 속도 올려요. 현재 속도는 46km/h\n",
      "HD 속도 올려요. 현재 속도는 47km/h\n",
      "HD 속도 올려요. 현재 속도는 48km/h\n",
      "HD 속도 올려요. 현재 속도는 49km/h\n",
      "HD 속도 올려요. 현재 속도는 50km/h\n",
      "100km.h 속도 유지중...\n"
     ]
    }
   ],
   "source": [
    "import time as t\n",
    "for n in range(10):\n",
    "    print(car1.acc(1))\n",
    "    t.sleep(1)\n",
    "print(\"100km.h 속도 유지중...\")"
   ]
  },
  {
   "cell_type": "code",
   "execution_count": 109,
   "id": "2b16a9a6-21c8-40ba-befe-df90a8b46084",
   "metadata": {},
   "outputs": [],
   "source": [
    "# 테스트 6 상속\n",
    "class Mycar(Car):\n",
    "    def turbo(self):\n",
    "        self.speed += 50\n",
    "        print(f\"내차가 나른다!! 터보! {self.speed} km/h\")\n",
    "    def acc(self):\n",
    "        self.speed += 30 # 속도가 증가\n",
    "        return f\"{self.name}의 {self.speed}!!\""
   ]
  },
  {
   "cell_type": "code",
   "execution_count": 110,
   "id": "152b400a-a98e-47a8-8317-8b98f6341ca7",
   "metadata": {},
   "outputs": [
    {
     "name": "stdout",
     "output_type": "stream",
     "text": [
      "Kia 속도 올려요. 현재 속도는 10km/h\n",
      "mycar의 30!!\n"
     ]
    }
   ],
   "source": [
    "my = Mycar(\"mycar\",\"skyblue\")\n",
    "car0 = Car(\"Kia\",\"Gray\")\n",
    "print(car0.acc(10))\n",
    "print(my.acc())"
   ]
  },
  {
   "cell_type": "code",
   "execution_count": 111,
   "id": "11e71e9f-d694-4477-8a27-18996b6c69de",
   "metadata": {},
   "outputs": [
    {
     "name": "stdout",
     "output_type": "stream",
     "text": [
      "내차가 나른다!! 터보! 80 km/h\n",
      "None\n",
      "내차가 나른다!! 터보! 130 km/h\n",
      "None\n"
     ]
    }
   ],
   "source": [
    "print(my.turbo())\n",
    "print(my.turbo())"
   ]
  },
  {
   "cell_type": "code",
   "execution_count": 123,
   "id": "87e98043-c215-44bc-95d8-ce4b279d8b6b",
   "metadata": {},
   "outputs": [],
   "source": [
    "# 테스트 7\n",
    "class Pet:\n",
    "    def __init__(self,name,species):\n",
    "        \"\"\"펫을 생성\"\"\"\n",
    "        self.name = name\n",
    "        self.species = species\n",
    "        self.hunger = 50 # 0에서 100일 때 초기 배고픔 수치\n",
    "    def feed(self):\n",
    "        \"\"\"밥을 주면 배고픔 감소\"\"\"\n",
    "        if self.hunger > 10:\n",
    "            self.hunger -= 10\n",
    "            return f\"{self.name}에게 밥을 줬습니다.! 배고픔:{self.hunger}\"\n",
    "    def play(self):\n",
    "        \"\"\"놀아주면 배고픔이 증가\"\"\"\n",
    "        if self.hunger <= 80:\n",
    "            self.hunger += 20\n",
    "        return f\"{self.name}와 아주 잘 놀아줬어요!!!!~~~~배고픔:{self.hunger}\""
   ]
  },
  {
   "cell_type": "code",
   "execution_count": 124,
   "id": "5a5ca7c1-d9cc-46ed-910f-c4714b66e38d",
   "metadata": {},
   "outputs": [
    {
     "name": "stdout",
     "output_type": "stream",
     "text": [
      "뽀삐에게 밥을 줬습니다.! 배고픔:40\n",
      "뽀삐에게 밥을 줬습니다.! 배고픔:30\n",
      "아지와 아주 잘 놀아줬어요!!!!~~~~배고픔:70\n",
      "아지와 아주 잘 놀아줬어요!!!!~~~~배고픔:90\n",
      "아지와 아주 잘 놀아줬어요!!!!~~~~배고픔:90\n",
      "컁이와 아주 잘 놀아줬어요!!!!~~~~배고픔:70\n",
      "컁이와 아주 잘 놀아줬어요!!!!~~~~배고픔:90\n",
      "컁이에게 밥을 줬습니다.! 배고픔:80\n"
     ]
    }
   ],
   "source": [
    "# 펫생성\n",
    "dog1 = Pet(\"뽀삐\",\"말티즈\")\n",
    "dog2 = Pet(\"아지\",\"요크\")\n",
    "cat = Pet(\"컁이\",\"나만고양이없어\")\n",
    "# 사용\n",
    "print(dog1.feed())\n",
    "print(dog1.feed())\n",
    "print(dog2.play())\n",
    "print(dog2.play())\n",
    "print(dog2.play())\n",
    "print(cat.play())\n",
    "print(cat.play())\n",
    "print(cat.feed())"
   ]
  },
  {
   "cell_type": "code",
   "execution_count": 133,
   "id": "8d76fbaf-46c6-4730-b20a-936b738abfaf",
   "metadata": {},
   "outputs": [],
   "source": [
    "# test 8\n",
    "class Bacteria:\n",
    "    def __init__(self,initial_population, growth_rate):\n",
    "        \"\"\"세균초기화\"\"\"\n",
    "        self.population = initial_population\n",
    "        self.growth_rate = growth_rate\n",
    "        self.time = 0 # 시작시간\n",
    "    def grow(self,hours):\n",
    "        \"\"\"일정 시간이 지나면 세균이 증식함\"\"\"\n",
    "        self.time += hours\n",
    "        self.population *= self.growth_rate**hours\n",
    "        return f\"{self.time} 시간 후 세균 수 : {int(self.population)} 마리\"\n",
    "    def check(self):\n",
    "        \"\"\"현재 세균 수 확인\"\"\"\n",
    "        return f\"현재 세균 수 : {int(self.population)} 마리\""
   ]
  },
  {
   "cell_type": "code",
   "execution_count": 134,
   "id": "ad2ed0cf-3b47-4595-9421-1889e1b88bb9",
   "metadata": {},
   "outputs": [],
   "source": [
    "bacteria = Bacteria(100,2)"
   ]
  },
  {
   "cell_type": "code",
   "execution_count": 135,
   "id": "7883af9a-8a84-4198-8fce-5c74cb0859bc",
   "metadata": {},
   "outputs": [
    {
     "name": "stdout",
     "output_type": "stream",
     "text": [
      "1 시간 후 세균 수 : 200 마리\n",
      "3 시간 후 세균 수 : 800 마리\n",
      "6 시간 후 세균 수 : 6400 마리\n"
     ]
    }
   ],
   "source": [
    "print(bacteria.grow(1))\n",
    "print(bacteria.grow(2))\n",
    "print(bacteria.grow(3))"
   ]
  },
  {
   "cell_type": "code",
   "execution_count": 156,
   "id": "fb1addf8-11b1-4c10-8fe6-e215c27ec90f",
   "metadata": {},
   "outputs": [
    {
     "name": "stdout",
     "output_type": "stream",
     "text": [
      "철희님의 잔고는 50000원 입니다.\n",
      "영희님의 잔고는 200000원 입니다.\n",
      "철희님의 잔고는 9000000원 입니다.\n",
      "9000000\n"
     ]
    }
   ],
   "source": [
    "# 테스트 9 은행예금 캡슐화 예제, 클래스 변수\n",
    "class BankAccount:\n",
    "    interest_rate = 0.02  # 클래스편수\n",
    "    def __init__(self,owner,balance):\n",
    "        self.owner = owner\n",
    "        self.balance = balance or 0\n",
    "    def bprint(self):\n",
    "        return f\"{self.owner}님의 잔고는 {self.balance}원 입니다.\"\n",
    "\n",
    "acc1 = BankAccount(\"철희\", 50000)\n",
    "acc2 = BankAccount(\"영희\", 200000)\n",
    "print(acc1.bprint())\n",
    "print(acc2.bprint())\n",
    "# 공격후\n",
    "acc1.balance = 9000000\n",
    "print(acc1.bprint())\n",
    "print(acc1.balance)"
   ]
  },
  {
   "cell_type": "code",
   "execution_count": null,
   "id": "dbbbbb5c-c575-4a33-9133-d60e638ce042",
   "metadata": {},
   "outputs": [],
   "source": [
    "# 테스트 9 은행예금 캡슐화 예제, 클래스 변수\n",
    "class BankAccount:\n",
    "    interest_rate = 0.02  # 클래스편수\n",
    "    def __init__(self, owner, balance):\n",
    "        self.owner = owner\n",
    "        self.__balance = balance or 0 # 캡슐화 해주면 밖에서 적용이 안됨\n",
    "    def bprint(self):\n",
    "        return f\"{self.owner}님의 잔고는 {self.__balance}원 입니다.\"\n",
    "    def deposit(self,amount):\n",
    "        self.__balance += amount\n",
    "        return f\"{self.owner}님의 계좌에 {amount}원이 입금 되었습니다. 현재 잔액: {self.__balance}원\"\n",
    "    def withdraw(self, amount):\n",
    "        if self.__balance >= amount:\n",
    "            self.__balance -= amount\n",
    "            return f\"{self.owner}님의 계좌에 {amout}원이 출금 되었습니다. 현재 잔액 : {self.__balance}원\"\n",
    "        return \"잔액이 부족합니다.\" # if 조건이 거짓이면 실행되지 않기 때문에 else랑 같은 열에 바로 return줘도 됨\n",
    "    def interest(self):\n",
    "        total = self.__balance * (1 + self.interest_rate)\n",
    "        return f\"({self.interest_rate}%의 이자가 반영하는 금액은 {total:0f}원 입니다.\"\n",
    "\n",
    "# 인스턴스화\n",
    "acc3 = BankAccount(\"철희\", 50000)\n",
    "acc4 = BankAccount(\"영희\", 200000)\n",
    "print(acc3.bprint())\n",
    "print(acc4.bprint())\n",
    "print(acc3.interest())\n",
    "print(acc4.interest())\n",
    "\n",
    "# 클래스 변수 바꾸기\n",
    "BankAccount.interest_rate = 0.03\n",
    "print(acc3.interest())\n",
    "print(acc4.interest())\n",
    "\n",
    "# 공격후\n",
    "# acc3.balance = 9000000\n",
    "# print(acc3.balance)\n",
    "\n",
    "# 내장메소드로 캡슐화된 변수 접근\n",
    "# print(acc3.deposit(30000))\n",
    "# print(acc3.withdraw(5500))"
   ]
  },
  {
   "cell_type": "code",
   "execution_count": 171,
   "id": "09c313d4-ffef-4010-8253-399295116e28",
   "metadata": {},
   "outputs": [
    {
     "ename": "TypeError",
     "evalue": "MyClass() takes no arguments",
     "output_type": "error",
     "traceback": [
      "\u001b[1;31m---------------------------------------------------------------------------\u001b[0m",
      "\u001b[1;31mTypeError\u001b[0m                                 Traceback (most recent call last)",
      "Cell \u001b[1;32mIn[171], line 10\u001b[0m\n\u001b[0;32m      7\u001b[0m         \u001b[38;5;28;01mreturn\u001b[39;00m \u001b[38;5;28mself\u001b[39m\u001b[38;5;241m.\u001b[39m__private_var\n\u001b[0;32m      9\u001b[0m \u001b[38;5;66;03m# 인스턴스 생성\u001b[39;00m\n\u001b[1;32m---> 10\u001b[0m obj \u001b[38;5;241m=\u001b[39m \u001b[43mMyClass\u001b[49m\u001b[43m(\u001b[49m\u001b[38;5;241;43m42\u001b[39;49m\u001b[43m)\u001b[49m\n\u001b[0;32m     12\u001b[0m \u001b[38;5;66;03m# 프라이빗 변수 접근 (이 방법은 실패합니다)\u001b[39;00m\n\u001b[0;32m     13\u001b[0m \u001b[38;5;66;03m# print(obj.__private_var)  # AttributeError 발생\u001b[39;00m\n\u001b[0;32m     14\u001b[0m \n\u001b[0;32m     15\u001b[0m \u001b[38;5;66;03m# 네임 맹글링을 통해 접근 (이 방법은 성공합니다)\u001b[39;00m\n\u001b[0;32m     16\u001b[0m \u001b[38;5;28mprint\u001b[39m(obj\u001b[38;5;241m.\u001b[39m_MyClass__private_var)  \u001b[38;5;66;03m# 출력: 42\u001b[39;00m\n",
      "\u001b[1;31mTypeError\u001b[0m: MyClass() takes no arguments"
     ]
    }
   ],
   "source": [
    "# 맹글링\n",
    "class MyClass:\n",
    "    def init(self, value):\n",
    "        self.__private_var = value  # 프라이빗 변수\n",
    "\n",
    "    def get_private_var(self):\n",
    "        return self.__private_var\n",
    "\n",
    "# 인스턴스 생성\n",
    "obj = MyClass(42)\n",
    "\n",
    "# 프라이빗 변수 접근 (이 방법은 실패합니다)\n",
    "# print(obj.__private_var)  # AttributeError 발생\n",
    "\n",
    "# 네임 맹글링을 통해 접근 (이 방법은 성공합니다)\n",
    "print(obj._MyClass__private_var)  # 출력: 42\n",
    "\n",
    "# 메서드를 통해 접근\n",
    "print(obj.get_private_var())  # 출력: 42"
   ]
  },
  {
   "cell_type": "code",
   "execution_count": 179,
   "id": "3afc36a7-b47e-4d48-8519-208332785e3e",
   "metadata": {},
   "outputs": [
    {
     "ename": "SyntaxError",
     "evalue": "invalid syntax (3962246029.py, line 21)",
     "output_type": "error",
     "traceback": [
      "\u001b[1;36m  Cell \u001b[1;32mIn[179], line 21\u001b[1;36m\u001b[0m\n\u001b[1;33m    self.balance -= item_name.value:\u001b[0m\n\u001b[1;37m                                   ^\u001b[0m\n\u001b[1;31mSyntaxError\u001b[0m\u001b[1;31m:\u001b[0m invalid syntax\n"
     ]
    }
   ],
   "source": [
    "class VendingMachine:\n",
    "    def __init__(self):\n",
    "        \"\"\"자동판매기 초기화\"\"\"\n",
    "        self.balance = 0 # 사용자의 잔액\n",
    "        self.items = {\n",
    "            \"콜라\": 1500,\n",
    "            \"사이다\":1400,\n",
    "            \"물\": 1000\n",
    "        }\n",
    "    def insert_money(self, amount):\n",
    "        \"\"\"잔액 충전\"\"\"\n",
    "        self.balance += amount\n",
    "        return f\"잔액이 {self.balance}원으로 증가했습니다.\"\n",
    "    def buy_item(self,item_name):\n",
    "        \"\"\"상품 구매\"\"\"\n",
    "        if item_name not in self.items:\n",
    "            return f\"{item_name}은(는) 판매하지 않는 상품입니다.\"\n",
    "        price = self.items[item_name]\n",
    "        if self.balance < price:\n",
    "            return f\"잔액이 부족합니다! ({item_name} 가격: {price}원, 현재 잔액: {self.balance}원)\"\n",
    "        self.balance -= item_name.value:\n",
    "        return f\"{item_name}을(를) 구매했습니다! 남은 잔액: {self.balance}원\"\n",
    "    def refund(self):\n",
    "        \"\"\"잔액 반환\"\"\"\n",
    "        amount = self.balance\n",
    "        self.balance = 0\n",
    "        return f\"잔액 {amount}원이 반환되었습니다.\"\n",
    "\n",
    "# 자동판매기 객체 생성\n",
    "vm = VendingMachine()\n",
    "#잔액 충전\n",
    "print(vm.insert_money(2000)) # 잔액이 2000원으로 증가했습니다.\n",
    "#상품 구매\n",
    "print(vm.buy_item(\"콜라\")) # 콜라을(를) 구매했습니다! 남은 잔액 : 500원\n",
    "print(vm.buy_item(\"사이다\"))\n",
    "#잔액 반환\n",
    "#print(vm.buy_item)"
   ]
  },
  {
   "cell_type": "code",
   "execution_count": null,
   "id": "de88d560-def6-4ee5-8287-ae3fc549521c",
   "metadata": {},
   "outputs": [],
   "source": []
  }
 ],
 "metadata": {
  "kernelspec": {
   "display_name": "Python 3 (ipykernel)",
   "language": "python",
   "name": "python3"
  },
  "language_info": {
   "codemirror_mode": {
    "name": "ipython",
    "version": 3
   },
   "file_extension": ".py",
   "mimetype": "text/x-python",
   "name": "python",
   "nbconvert_exporter": "python",
   "pygments_lexer": "ipython3",
   "version": "3.13.1"
  }
 },
 "nbformat": 4,
 "nbformat_minor": 5
}
