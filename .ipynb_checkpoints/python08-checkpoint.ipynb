{
 "cells": [
  {
   "cell_type": "markdown",
   "id": "d9deb036-9ec3-4de1-ac64-fe61b38346f6",
   "metadata": {},
   "source": [
    "# 외부 라이브러리"
   ]
  },
  {
   "cell_type": "markdown",
   "id": "d8b5b0a2-0af9-4d74-9163-73540f8ba8b1",
   "metadata": {},
   "source": [
    "## 1.1. pip🌻"
   ]
  },
  {
   "cell_type": "markdown",
   "id": "25493b82-384f-4bc0-9cb6-0d4485fba34f",
   "metadata": {},
   "source": [
    "- venv 1 생성 후 백업 : pip freeze > requirements.txt\n"
   ]
  },
  {
   "cell_type": "markdown",
   "id": "7f270102-2e59-4ae7-ba57-98058ffb19ff",
   "metadata": {},
   "source": [
    "## 1.2. faker"
   ]
  },
  {
   "cell_type": "code",
   "execution_count": 1,
   "id": "3adcc17e-80d9-489b-8794-c88282b34ae2",
   "metadata": {},
   "outputs": [
    {
     "name": "stdout",
     "output_type": "stream",
     "text": [
      "Collecting Faker\n",
      "  Downloading Faker-36.1.1-py3-none-any.whl.metadata (15 kB)\n",
      "Collecting tzdata (from Faker)\n",
      "  Downloading tzdata-2025.1-py2.py3-none-any.whl.metadata (1.4 kB)\n",
      "Downloading Faker-36.1.1-py3-none-any.whl (1.9 MB)\n",
      "   ---------------------------------------- 0.0/1.9 MB ? eta -:--:--\n",
      "   ---------------------------------------- 1.9/1.9 MB 10.9 MB/s eta 0:00:00\n",
      "Downloading tzdata-2025.1-py2.py3-none-any.whl (346 kB)\n",
      "Installing collected packages: tzdata, Faker\n",
      "Successfully installed Faker-36.1.1 tzdata-2025.1\n"
     ]
    }
   ],
   "source": [
    "!pip install Faker"
   ]
  },
  {
   "cell_type": "code",
   "execution_count": 2,
   "id": "dab72e4c-99aa-48c6-8179-12f7977cd89c",
   "metadata": {},
   "outputs": [
    {
     "data": {
      "text/plain": [
       "'권순옥'"
      ]
     },
     "execution_count": 2,
     "metadata": {},
     "output_type": "execute_result"
    }
   ],
   "source": [
    "from faker import Faker\n",
    "fake = Faker('ko-KR')\n",
    "fake.name()"
   ]
  },
  {
   "cell_type": "markdown",
   "id": "77689886-fd7f-4a8f-b449-38e4b7832de3",
   "metadata": {},
   "source": [
    "<table style=\"float:left;width:400px\">\n",
    "<thead>\n",
    "<tr>\n",
    "<th>항목</th>\n",
    "<th>설명</th>\n",
    "</tr>\n",
    "</thead>\n",
    "<tbody>\n",
    "<tr>\n",
    "<td>fake.name()</td>\n",
    "<td>이름</td>\n",
    "</tr>\n",
    "<tr>\n",
    "<td>fake.address()</td>\n",
    "<td>주소</td>\n",
    "</tr>\n",
    "<tr>\n",
    "<td>fake.postcode()</td>\n",
    "<td>우편 번호</td>\n",
    "</tr>\n",
    "<tr>\n",
    "<td>fake.country()</td>\n",
    "<td>국가명</td>\n",
    "</tr>\n",
    "<tr>\n",
    "<td>fake.company()</td>\n",
    "<td>회사명</td>\n",
    "</tr>\n",
    "<tr>\n",
    "<td>fake.job()</td>\n",
    "<td>직업명</td>\n",
    "</tr>\n",
    "<tr>\n",
    "<td>fake.phone_number()</td>\n",
    "<td>휴대전화 번호</td>\n",
    "</tr>\n",
    "<tr>\n",
    "<td>fake.email()</td>\n",
    "<td>이메일 주소</td>\n",
    "</tr>\n",
    "<tr>\n",
    "<td>fake.user_name()</td>\n",
    "<td>사용자명</td>\n",
    "</tr>\n",
    "<tr>\n",
    "<td>fake.pyint(min_value=0, max_value=100)</td>\n",
    "<td>0부터 100 사이의 임의의 숫자</td>\n",
    "</tr>\n",
    "<tr>\n",
    "<td>fake.ipv4_private()</td>\n",
    "<td>IP 주소</td>\n",
    "</tr>\n",
    "<tr>\n",
    "<td>fake.text()</td>\n",
    "<td>임의의 문장 (한글 임의의 문장은 <code>fake.catch_phrase()</code> 사용)</td>\n",
    "</tr>\n",
    "<tr>\n",
    "<td>fake.color_name()</td>\n",
    "<td>색상명</td>\n",
    "</tr>\n",
    "</tbody>\n",
    "</table>"
   ]
  },
  {
   "cell_type": "code",
   "execution_count": 13,
   "id": "3b76385d-ff92-430e-94d3-64dc21f18582",
   "metadata": {},
   "outputs": [
    {
     "name": "stdout",
     "output_type": "stream",
     "text": [
      "1위:REBEL HEART,/IVE (아이브)\n",
      "2위:HOME SWEET HOME (feat. 태양, 대성),/G-DRAGON\n",
      "3위:나는 반딧불,/황가람\n",
      "4위:Whiplash,/aespa\n",
      "5위:APT.,/로제 (ROSÉ)\n",
      "6위:오늘만 I LOVE YOU,/Bruno Mars\n",
      "7위:Drowning,/BOYNEXTDOOR\n",
      "8위:ATTITUDE,/WOODZ\n",
      "9위:toxic till the end,/IVE (아이브)\n",
      "10위:Dash,/로제 (ROSÉ)\n",
      "11위:POWER,/PLAVE\n",
      "12위:HAPPY,/G-DRAGON\n",
      "13위:내게 사랑이 뭐냐고 물어본다면,/DAY6 (데이식스)\n",
      "14위:RIZZ,/로이킴\n",
      "15위:DRIP,/PLAVE\n",
      "16위:Island,/BABYMONSTER\n",
      "17위:Chroma Drift,/PLAVE\n",
      "18위:12:32 (A to T),/PLAVE\n",
      "19위:소나기,/PLAVE\n",
      "20위:너와의 모든 지금,/이클립스 (ECLIPSE)\n",
      "21위:Supernova,/재쓰비 (JAESSBEE)\n",
      "22위:모르시나요(PROD.로코베리),/aespa\n",
      "23위:Welcome to the Show,/조째즈\n",
      "24위:천상연,/DAY6 (데이식스)\n",
      "25위:UP (KARINA Solo),/이창섭\n",
      "26위:한 페이지가 될 수 있게,/aespa\n",
      "27위:사랑은 늘 도망가,/DAY6 (데이식스)\n",
      "28위:내 이름 맑음,/임영웅\n",
      "29위:슬픈 초대장,/QWER\n",
      "30위:어떻게 이별까지 사랑하겠어, 널 사랑하는 거지,/순순희(지환)\n",
      "31위:Love wins all,/AKMU (악뮤)\n",
      "32위:예뻤어,/아이유\n",
      "33위:How Sweet,/DAY6 (데이식스)\n",
      "34위:고민중독,/NewJeans\n",
      "35위:우리들의 블루스,/QWER\n",
      "36위:Mantra,/임영웅\n",
      "37위:너의 모든 순간,/제니 (JENNIE)\n",
      "38위:Supersonic,/성시경\n",
      "39위:첫 만남은 계획대로 되지 않아,/프로미스나인\n",
      "40위:온기,/TWS (투어스)\n",
      "41위:Die With A Smile,/임영웅\n",
      "42위:나는 아픈 건 딱 질색이니까,/Lady Gaga\n",
      "43위:I AM,/Bruno Mars\n",
      "44위:그대만 있다면 (여름날 우리 X 너드커넥션 (Nerd Connection)),/(여자)아이들\n",
      "45위:무제(無題) (Untitled, 2014),/IVE (아이브)\n",
      "46위:Home,/너드커넥션 (Nerd Connection)\n",
      "47위:Small girl (feat. 도경수(D.O.)),/G-DRAGON\n",
      "48위:모래 알갱이,/임영웅\n",
      "49위:비의 랩소디,/이영지\n",
      "50위:미안해 미워해 사랑해,/임영웅\n",
      "51위:에피소드,/임재현\n",
      "52위:모든 날, 모든 순간 (Every day, Every Moment),/Crush\n",
      "53위:헤어지자 말해요,/이무진\n",
      "54위:Magnetic,/폴킴\n",
      "55위:다정히 내 이름을 부르면,/박재정\n",
      "56위:다시 만날 수 있을까,/아일릿(ILLIT)\n",
      "57위:Ditto,/경서예지\n",
      "58위:청혼하지 않을 이유를 못 찾았어,/전건호\n",
      "59위:이제 나만 믿어요,/임영웅\n",
      "60위:number one girl,/NewJeans\n",
      "61위:청춘만화,/이무진\n",
      "62위:Hype Boy,/임영웅\n",
      "63위:인사,/로제 (ROSÉ)\n",
      "64위:해야 (HEYA),/이무진\n",
      "65위:Armageddon,/NewJeans\n",
      "66위:사랑인가 봐,/범진\n",
      "67위:살기 위해서,/IVE (아이브)\n",
      "68위:Do or Die,/aespa\n",
      "69위:주저하는 연인들을 위해,/멜로망스\n",
      "70위:무지개,/순순희\n",
      "71위:Igloo,/임영웅\n",
      "72위:Seven (feat. Latto) - Clean Ver.,/잔나비\n",
      "73위:London Boy,/임영웅\n",
      "74위:Sticky,/KISS OF LIFE\n",
      "75위:클락션 (Klaxon),/정국\n",
      "76위:Love 119,/임영웅\n",
      "77위:Polaroid,/KISS OF LIFE\n",
      "78위:Supernatural,/(여자)아이들\n",
      "79위:Hug (포옹),/RIIZE\n",
      "80위:취중고백,/임영웅\n",
      "81위:인생찬가,/NewJeans\n",
      "82위:눈이 오잖아(Feat.헤이즈),/RIIZE\n",
      "83위:미치게 그리워서,/김민석\n",
      "84위:녹아내려요,/임영웅\n",
      "85위:Boom Boom Bass,/이무진\n",
      "86위:사막에서 꽃을 피우듯,/황가람\n",
      "87위:To. X,/DAY6 (데이식스)\n",
      "88위:청바지,/RIIZE\n",
      "89위:SPOT! (feat. JENNIE),/우디 (Woody)\n",
      "90위:사건의 지평선,/태연 (TAEYEON)\n",
      "91위:봄여름가을겨울 (Still Life),/부석순 (SEVENTEEN)\n",
      "92위:Bubble Gum,/지코 (ZICO)\n",
      "93위:연애편지,/윤하 (YOUNHA)\n",
      "94위:첫 눈,/BIGBANG (빅뱅)\n",
      "95위:봄날,/NewJeans\n",
      "96위:Congratulations,/임영웅\n",
      "97위:Drama,/EXO\n",
      "98위:Dynamite,/방탄소년단\n",
      "99위:보금자리,/DAY6 (데이식스)\n",
      "100위:earthquake,/aespa\n",
      " "
     ]
    }
   ],
   "source": [
    "# BeautifulSoup\n",
    "import requests as req\n",
    "from bs4 import BeautifulSoup as bs\n",
    "url = \"https://www.melon.com/chart/index.htm\"\n",
    "headers = {\"User-Agent\":\"Mozilla/5.0 (Windows NT 10.0; Win64; x64) AppleWebKit/537.36 (KHTML, like Gecko) Chrome/133.0.0.0 Safari/537.36 Edg/133.0.0.0\"}\n",
    "web = req.get(url,headers = headers)\n",
    "soup = bs(web.content,\"html.parser\")\n",
    "\n",
    "title = soup.select('.rank01')\n",
    "name = soup.select('.checkEllipsis a')\n",
    "str = ''\n",
    "for i, (t,n) in enumerate(zip(title,name),1):\n",
    "    str += f'{i}위:{t.text.strip()},/{n.text}\\n'\n",
    "print(str, end=\" \")"
   ]
  },
  {
   "cell_type": "code",
   "execution_count": 31,
   "id": "92990e94-c1c2-4571-8cf3-c90c34efc3ee",
   "metadata": {},
   "outputs": [
    {
     "name": "stdout",
     "output_type": "stream",
     "text": [
      "□  (종합) 대기 매우 건조, 기온 낮아 춥겠음, 강풍 및 풍랑 유의\n",
      "○  (오늘, 21일) 구름많다가 오후에 맑아짐\n",
      "○  (내일, 22일) 대체로 맑음\n",
      "○  (모레, 23일) 대체로 맑겠으나, 경남서부내륙 가끔 구름많음\n",
      "○  (글피, 24일) 대체로 맑음\n"
     ]
    }
   ],
   "source": [
    "import requests as req\n",
    "from bs4 import BeautifulSoup as bs # b와 s는 대문자로 작성돼야 함\n",
    "url = \"https://www.weather.go.kr/w/weather/forecast/short-term.do?stnId=159\"\n",
    "web = req.get(url)\n",
    "soup = bs(web.content,'html.parser')\n",
    "summary = soup.select('p.summary') # select는 배열로 가져옴, p 태그 - summary 클래스를 가진 요소를 불러옴\n",
    "for s in summary:\n",
    "    print(s.text.replace('○','\\n○')) # 붙어 있는 글자를 떼줌"
   ]
  },
  {
   "cell_type": "code",
   "execution_count": 32,
   "id": "48a69ede-549b-4d8c-8936-8a1f1c5388dd",
   "metadata": {},
   "outputs": [
    {
     "name": "stdout",
     "output_type": "stream",
     "text": [
      "('예보요소', ':', '최고기온', '/', '최저기온')\n"
     ]
    },
    {
     "ename": "NameError",
     "evalue": "name 'raw_data' is not defined",
     "output_type": "error",
     "traceback": [
      "\u001b[1;31m---------------------------------------------------------------------------\u001b[0m",
      "\u001b[1;31mNameError\u001b[0m                                 Traceback (most recent call last)",
      "Cell \u001b[1;32mIn[32], line 13\u001b[0m\n\u001b[0;32m     11\u001b[0m \u001b[38;5;28;01mfinally\u001b[39;00m:\n\u001b[0;32m     12\u001b[0m     \u001b[38;5;28mprint\u001b[39m(out)\n\u001b[1;32m---> 13\u001b[0m     \u001b[43mraw_data\u001b[49m\u001b[38;5;241m.\u001b[39mappend(out)\n",
      "\u001b[1;31mNameError\u001b[0m: name 'raw_data' is not defined"
     ]
    }
   ],
   "source": [
    "table =soup.select('.table-col')[0] # [0]을 안넣으면 리스트로, [0]넣으면 요소로 반환되는데\n",
    "data = table.select('tr') # 리스트로 반환되면 html인걸 인식하지 못해서 출력이 안됨. 그래서 요소로 바꿔줘야됨\n",
    "header = data[0].select('th') # 필요한 부분만 뽑기 위해 index 사용\n",
    "line1 = ['최고기온']+data[1].select('td')\n",
    "line2 = ['최저기온']+data[2].select('td')\n",
    "for h,l1,l2 in zip(header,line1, line2):\n",
    "    try:\n",
    "        out = h.text,':',l1.text,'/',l2.text\n",
    "    except:\n",
    "        out = h.text,':',l1,'/',l2 # .text를 해줘야 html에서 필요없는 것들이 다 빠지고 깔끔하게 출력\n",
    "    finally:\n",
    "        print(out)\n",
    "        raw_data.append(out)"
   ]
  },
  {
   "cell_type": "code",
   "execution_count": 33,
   "id": "c0f6e0b1-bbca-4c7d-ab83-0d57b764729e",
   "metadata": {},
   "outputs": [
    {
     "name": "stdout",
     "output_type": "stream",
     "text": [
      "Requirement already satisfied: pandas in c:\\dev\\lang\\python313\\lib\\site-packages (2.2.3)\n",
      "Requirement already satisfied: numpy>=1.26.0 in c:\\dev\\lang\\python313\\lib\\site-packages (from pandas) (2.2.2)\n",
      "Requirement already satisfied: python-dateutil>=2.8.2 in c:\\dev\\lang\\python313\\lib\\site-packages (from pandas) (2.9.0.post0)\n",
      "Requirement already satisfied: pytz>=2020.1 in c:\\dev\\lang\\python313\\lib\\site-packages (from pandas) (2025.1)\n",
      "Requirement already satisfied: tzdata>=2022.7 in c:\\dev\\lang\\python313\\lib\\site-packages (from pandas) (2025.1)\n",
      "Requirement already satisfied: six>=1.5 in c:\\dev\\lang\\python313\\lib\\site-packages (from python-dateutil>=2.8.2->pandas) (1.17.0)\n"
     ]
    }
   ],
   "source": [
    "!pip install pandas"
   ]
  },
  {
   "cell_type": "code",
   "execution_count": 28,
   "id": "691a2223-e4b6-417c-bdf0-3dbdbb3af201",
   "metadata": {},
   "outputs": [
    {
     "ename": "ModuleNotFoundError",
     "evalue": "No module named 'pandas'",
     "output_type": "error",
     "traceback": [
      "\u001b[1;31m---------------------------------------------------------------------------\u001b[0m",
      "\u001b[1;31mModuleNotFoundError\u001b[0m                       Traceback (most recent call last)",
      "Cell \u001b[1;32mIn[28], line 1\u001b[0m\n\u001b[1;32m----> 1\u001b[0m \u001b[38;5;28;01mimport\u001b[39;00m\u001b[38;5;250m \u001b[39m\u001b[38;5;21;01mpandas\u001b[39;00m\u001b[38;5;250m \u001b[39m\u001b[38;5;28;01mas\u001b[39;00m\u001b[38;5;250m \u001b[39m\u001b[38;5;21;01mpd\u001b[39;00m\n",
      "\u001b[1;31mModuleNotFoundError\u001b[0m: No module named 'pandas'"
     ]
    }
   ],
   "source": [
    "import pandas as pd"
   ]
  },
  {
   "cell_type": "code",
   "execution_count": null,
   "id": "e93bcdeb-03b7-4342-b90c-d9a811bd9915",
   "metadata": {},
   "outputs": [],
   "source": []
  }
 ],
 "metadata": {
  "kernelspec": {
   "display_name": "Python 3 (ipykernel)",
   "language": "python",
   "name": "python3"
  },
  "language_info": {
   "codemirror_mode": {
    "name": "ipython",
    "version": 3
   },
   "file_extension": ".py",
   "mimetype": "text/x-python",
   "name": "python",
   "nbconvert_exporter": "python",
   "pygments_lexer": "ipython3",
   "version": "3.13.1"
  }
 },
 "nbformat": 4,
 "nbformat_minor": 5
}
