{
 "cells": [
  {
   "cell_type": "code",
   "execution_count": 1,
   "id": "7c8cc9e7-ee11-4909-8afc-7910ab64703b",
   "metadata": {},
   "outputs": [
    {
     "ename": "NameError",
     "evalue": "name 'obj' is not defined",
     "output_type": "error",
     "traceback": [
      "\u001b[1;31m---------------------------------------------------------------------------\u001b[0m",
      "\u001b[1;31mNameError\u001b[0m                                 Traceback (most recent call last)",
      "Cell \u001b[1;32mIn[1], line 17\u001b[0m\n\u001b[0;32m     14\u001b[0m ori\n\u001b[0;32m     16\u001b[0m fig, ax \u001b[38;5;241m=\u001b[39m plt\u001b[38;5;241m.\u001b[39msubplots(figsize\u001b[38;5;241m=\u001b[39m(\u001b[38;5;241m10\u001b[39m,\u001b[38;5;241m5\u001b[39m))\n\u001b[1;32m---> 17\u001b[0m \u001b[38;5;28;01mfor\u001b[39;00m o \u001b[38;5;129;01min\u001b[39;00m \u001b[43mobj\u001b[49m:\n\u001b[0;32m     18\u001b[0m     obj_data \u001b[38;5;241m=\u001b[39m ex_data[ex_data[\u001b[38;5;124m'\u001b[39m\u001b[38;5;124mcategory\u001b[39m\u001b[38;5;124m'\u001b[39m] \u001b[38;5;241m==\u001b[39m o]\n\u001b[0;32m     19\u001b[0m     x_data \u001b[38;5;241m=\u001b[39m obj_data[\u001b[38;5;124m'\u001b[39m\u001b[38;5;124mdate\u001b[39m\u001b[38;5;124m'\u001b[39m]\n",
      "\u001b[1;31mNameError\u001b[0m: name 'obj' is not defined"
     ]
    },
    {
     "data": {
      "image/png": "[encoded data removed]",
      "text/plain": [
       "<Figure size 1000x500 with 1 Axes>"
      ]
     },
     "metadata": {},
     "output_type": "display_data"
    }
   ],
   "source": [
    "import matplotlib\n",
    "import matplotlib.pyplot as plt\n",
    "import matplotlib.font_manager as fm\n",
    "import pandas as pd\n",
    "from datetime import datetime\n",
    "\n",
    "d2_path = \"./ref/D2Coding-Ver1.3.2-20180524.ttf\"\n",
    "fm.fontManager.addfont(d2_path)\n",
    "matplotlib.rcParams[\"font.family\"] = \"D2Coding\"\n",
    "\n",
    "file_path = \"./ref/온라인쇼핑몰_판매매체별_상품군별거래액_20250304100057.csv\"\n",
    "ori = pd.read_csv(file_path, encoding=\"EUC-KR\") # utf-8\n",
    "ori.columns = ['category', 'date', 'internet', 'mobile']\n",
    "ori\n",
    "\n",
    "fig, ax = plt.subplots(figsize=(10,5))\n",
    "for o in obj:\n",
    "    obj_data = ex_data[ex_data['category'] == o]\n",
    "    x_data = obj_data['date']\n",
    "    y_data2 = obj_data['internet']\n",
    "    y_data = obj_data['mobile']\n",
    "    ax.scatter(x_data, y_data, s=20, label=o)\n",
    "\n",
    "print(\"\"\"\n",
    "아래의 그래프를 통해 인터넷 쇼핑 거래액과 모바일 쇼핑 거래 사이의 관계를 시각적으로 확인할 수 있습니다.\n",
    "두 플랫폼 간의 거래액 차이를 통해 소비자들이 어떤 플랫폼을 더 선호하는지를 파악\n",
    "\"\"\")\n",
    "ax.set_xlabel(\"인터넷 쇼핑\")\n",
    "ax.set_ylabel(\"모바일 쇼핑\")\n",
    "ax.legend(loc=\"best\")\n",
    "plt.show()"
   ]
  },
  {
   "cell_type": "code",
   "execution_count": null,
   "id": "3ecaa5b6-89c8-4ad3-b73c-fe3c06289c76",
   "metadata": {},
   "outputs": [],
   "source": []
  }
 ],
 "metadata": {
  "kernelspec": {
   "display_name": "Python 3 (ipykernel)",
   "language": "python",
   "name": "python3"
  },
  "language_info": {
   "codemirror_mode": {
    "name": "ipython",
    "version": 3
   },
   "file_extension": ".py",
   "mimetype": "text/x-python",
   "name": "python",
   "nbconvert_exporter": "python",
   "pygments_lexer": "ipython3",
   "version": "3.13.1"
  }
 },
 "nbformat": 4,
 "nbformat_minor": 5
}
