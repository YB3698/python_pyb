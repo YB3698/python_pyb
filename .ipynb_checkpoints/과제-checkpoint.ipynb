{
 "cells": [
  {
   "cell_type": "code",
   "execution_count": 1,
   "id": "1e7e46c5-b57a-45ab-99c2-1cf4a912312e",
   "metadata": {},
   "outputs": [
    {
     "name": "stdout",
     "output_type": "stream",
     "text": [
      "1위: REBEL HEART / IVE (아이브)\n",
      "2위: HOME SWEET HOME (feat. 태양, 대성) / G-DRAGON\n",
      "3위: 나는 반딧불 / 황가람\n",
      "4위: Whiplash / aespa\n",
      "5위: APT. / 로제 (ROSÉ)\n",
      "6위: 오늘만 I LOVE YOU / Bruno Mars\n",
      "7위: Drowning / BOYNEXTDOOR\n",
      "8위: ATTITUDE / WOODZ\n",
      "9위: toxic till the end / IVE (아이브)\n",
      "10위: Dash / 로제 (ROSÉ)\n",
      "11위: POWER / PLAVE\n",
      "12위: HAPPY / G-DRAGON\n",
      "13위: 내게 사랑이 뭐냐고 물어본다면 / DAY6 (데이식스)\n",
      "14위: RIZZ / 로이킴\n",
      "15위: DRIP / PLAVE\n",
      "16위: Chroma Drift / BABYMONSTER\n",
      "17위: Island / PLAVE\n",
      "18위: 소나기 / PLAVE\n",
      "19위: 12:32 (A to T) / 이클립스 (ECLIPSE)\n",
      "20위: 너와의 모든 지금 / PLAVE\n",
      "\n"
     ]
    }
   ],
   "source": [
    "import melon\n",
    "melon.mel()"
   ]
  },
  {
   "cell_type": "code",
   "execution_count": null,
   "id": "15c82900-ec93-45a1-b3f8-a8c264fbfa87",
   "metadata": {},
   "outputs": [],
   "source": []
  }
 ],
 "metadata": {
  "kernelspec": {
   "display_name": "Python 3 (ipykernel)",
   "language": "python",
   "name": "python3"
  },
  "language_info": {
   "codemirror_mode": {
    "name": "ipython",
    "version": 3
   },
   "file_extension": ".py",
   "mimetype": "text/x-python",
   "name": "python",
   "nbconvert_exporter": "python",
   "pygments_lexer": "ipython3",
   "version": "3.13.1"
  }
 },
 "nbformat": 4,
 "nbformat_minor": 5
}
