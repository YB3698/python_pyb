{
 "cells": [
  {
   "cell_type": "markdown",
   "id": "73898ace-68f5-495b-8886-648cba7ce3b6",
   "metadata": {},
   "source": [
    "# 0214 과제"
   ]
  },
  {
   "cell_type": "markdown",
   "id": "2dc084f1-2937-49e5-8dba-a8f50824cfa9",
   "metadata": {},
   "source": [
    "### 1. 바로해도 거꾸로해도 똑같은지 확인"
   ]
  },
  {
   "cell_type": "code",
   "execution_count": 20,
   "id": "ce76e5e6-222b-4641-8cba-c741d58c7173",
   "metadata": {},
   "outputs": [
    {
     "name": "stdin",
     "output_type": "stream",
     "text": [
      "세글자인 단어를 입력하세요 우영우\n"
     ]
    },
    {
     "name": "stdout",
     "output_type": "stream",
     "text": [
      "바로해도 ['우영우'], 거꾸로해도 ['우영우']. 똑같습니다.\n"
     ]
    }
   ],
   "source": [
    "word = input(\"세글자인 단어를 입력하세요\")\n",
    "li = [word[0],word[1],word[2]]\n",
    "li2 = [word[0],word[1],word[2]]\n",
    "li2.reverse()\n",
    "\n",
    "if li == li2:\n",
    "    print(f\"바로해도 {[word]}, 거꾸로해도 {[word]}. 똑같습니다.\")\n",
    "else:\n",
    "    print(f\"바로하면 {[word]}, 거꾸로하면 {[li2[0]+li2[1]+li2[2]]}. 다릅니다.\")"
   ]
  },
  {
   "cell_type": "markdown",
   "id": "60d83529-0d4c-4f78-8d44-f44a05bfaf9d",
   "metadata": {},
   "source": [
    "### 2. 리스트 홀수 짝수 나누기"
   ]
  },
  {
   "cell_type": "code",
   "execution_count": 2,
   "id": "e3507a0d-af8a-4979-96c6-5ff961d72a56",
   "metadata": {},
   "outputs": [
    {
     "name": "stdin",
     "output_type": "stream",
     "text": [
      "리스트에 넣을 숫자들을 입력해주세요 23,25,22,11,28\n"
     ]
    },
    {
     "name": "stdout",
     "output_type": "stream",
     "text": [
      "홀수 리스트 : ['23', '25', '11']\n",
      "짝수 리스트 : ['22', '28']\n"
     ]
    }
   ],
   "source": [
    "li = input(\"리스트에 넣을 숫자들을 입력해주세요\")\n",
    "result = li.split(',')\n",
    "\n",
    "box1 = []\n",
    "box2 = []\n",
    "for n in result:\n",
    "    if int(n) % 2 == 0:\n",
    "        box1.append(n)\n",
    "    else : \n",
    "        box2.append(n)\n",
    "        \n",
    "print(f\"홀수 리스트 : {box2}\")\n",
    "print(f\"짝수 리스트 : {box1}\")"
   ]
  },
  {
   "cell_type": "markdown",
   "id": "698d892a-70ae-467d-90d1-e7c7ff736ff5",
   "metadata": {},
   "source": [
    "### 3. 가장 긴문장 출력"
   ]
  },
  {
   "cell_type": "code",
   "execution_count": 40,
   "id": "3d14bc11-73b3-4a16-a245-5670aa6e4f79",
   "metadata": {},
   "outputs": [
    {
     "name": "stdin",
     "output_type": "stream",
     "text": [
      "문장을 입력하세요 : 안녕하세요. 저는 박유빈입니다. 잘 부탁드립니다.\n"
     ]
    },
    {
     "name": "stdout",
     "output_type": "stream",
     "text": [
      "['박유빈입니다.', '부탁드립니다.']\n"
     ]
    }
   ],
   "source": [
    "st = input(\"문장을 입력하세요 :\")\n",
    "result = st.split(\" \")\n",
    "box = {}\n",
    "for r in result:\n",
    "       box[r] = len(r)\n",
    "m = max(box.values())\n",
    "box2 = []\n",
    "for b in box:\n",
    "    if box[b] == m:\n",
    "        box2.append(b)\n",
    "print(box2)"
   ]
  },
  {
   "cell_type": "markdown",
   "id": "1986806d-f830-41df-835d-66933f86c0b2",
   "metadata": {},
   "source": [
    "### 4. 기분 파악"
   ]
  },
  {
   "cell_type": "code",
   "execution_count": 9,
   "id": "110037cd-39fc-4091-ac44-da560884d030",
   "metadata": {},
   "outputs": [
    {
     "name": "stdin",
     "output_type": "stream",
     "text": [
      "당신의 기분을 한 문장으로 표현해주세요 나빠\n"
     ]
    },
    {
     "name": "stdout",
     "output_type": "stream",
     "text": [
      "{'좋아', '싫어', '최고', '사랑해', '멋져', '나빠', '짜증', '별로', '화나', '행복'}\n",
      "기분이 나빠보이네요\n",
      "기분을 잘 모르겠어요\n"
     ]
    }
   ],
   "source": [
    "# 내가 푼 방식 1\n",
    "feel = input(\"당신의 기분을 한 문장으로 표현해주세요\")\n",
    "positive_words = [\"좋아\",\"행복\",\"멋져\",\"최고\",\"사랑해\"]\n",
    "negative_words = [\"싫어\",\"화나\",\"짜증\",\"별로\",\"나빠\"]\n",
    "union = set(negative_words)|set(positive_words)\n",
    "print(union)\n",
    "\n",
    "for pos in positive_words:\n",
    "    if pos in feel:\n",
    "        print(\"기분이 좋아보이네요\")\n",
    "for neg in negative_words:\n",
    "    if neg in feel:\n",
    "        print(\"기분이 나빠보이네요\")\n",
    "for x in union:       \n",
    "    if x in feel:\n",
    "        pass\n",
    "    else:\n",
    "        com = '기분을 잘 모르겠어요'\n",
    "\n",
    "print(com)"
   ]
  },
  {
   "cell_type": "code",
   "execution_count": null,
   "id": "aa9d441c-7a38-470b-8e03-453509c33389",
   "metadata": {},
   "outputs": [],
   "source": [
    "# 내가 푼 방식 2\n",
    "feel = input(\"당신의 기분을 한 문장으로 표현해주세요\")\n",
    "positive_words = [\"좋아\",\"행복\",\"멋져\",\"최고\",\"사랑해\"]\n",
    "negative_words = [\"싫어\",\"화나\",\"짜증\",\"별로\",\"나빠\"]\n",
    "union = set(negative_words)|set(positive_words)\n",
    "\n",
    "def mode(feel):\n",
    "    for pos in positive_words:\n",
    "        if pos in feel:\n",
    "            com =\"기분이 좋아보이네요\"\n",
    "            return com\n",
    "    for neg in negative_words:\n",
    "        if neg in feel:\n",
    "            com = \"기분이 나빠보이네요\"\n",
    "            return com\n",
    "    for x in union:       \n",
    "        if x not in feel:\n",
    "            com = '기분을 잘 모르겠어요'\n",
    "            return com\n",
    "\n",
    "print(mode(feel))"
   ]
  },
  {
   "cell_type": "code",
   "execution_count": 19,
   "id": "dff0e0e9-db0f-4c6b-a160-bbf1a16a022e",
   "metadata": {},
   "outputs": [
    {
     "name": "stdin",
     "output_type": "stream",
     "text": [
      "당신의 기분을 한 문장으로 표현해주세요 몰라\n"
     ]
    },
    {
     "name": "stdout",
     "output_type": "stream",
     "text": [
      "보통이시네요\n"
     ]
    }
   ],
   "source": [
    "# 해설 1\n",
    "positive_words = [\"좋아\",\"행복\",\"멋져\",\"최고\",\"사랑해\"]\n",
    "negative_words = [\"싫어\",\"화나\",\"짜증\",\"별로\",\"나빠\"]\n",
    "feel = input(\"당신의 기분을 한 문장으로 표현해주세요\")\n",
    "\n",
    "if any(word in feel for word in positive_words):\n",
    "    print(\"기분이 좋아보이시네요.\")\n",
    "elif any(word in feel for word in negative_words):\n",
    "    print(\"기분이 나빠보이네요.\")\n",
    "else:\n",
    "    print(\"보통이시네요\")"
   ]
  },
  {
   "cell_type": "code",
   "execution_count": 17,
   "id": "71a69fd3-2c8b-4e18-a206-0ae9e3ccfff5",
   "metadata": {},
   "outputs": [
    {
     "name": "stdin",
     "output_type": "stream",
     "text": [
      "당신의 기분을 한 문장으로 표현해주세요 사랑해요 그래도 짜증나지만 별로야 정말\n"
     ]
    },
    {
     "name": "stdout",
     "output_type": "stream",
     "text": [
      "['사랑해'] 1\n",
      "['짜증', '별로'] 2\n",
      "기분이 나빠 보이네요\n"
     ]
    }
   ],
   "source": [
    "# 해설 2\n",
    "positive_words = [\"좋아\",\"행복\",\"멋져\",\"최고\",\"사랑해\"]\n",
    "negative_words = [\"싫어\",\"화나\",\"짜증\",\"별로\",\"나빠\"]\n",
    "feel = input(\"당신의 기분을 한 문장으로 표현해주세요\")\n",
    "\n",
    "pos = [v for v in positive_words if v in feel]\n",
    "print(pos,len(pos))\n",
    "neg = [n for n in negative_words if n in feel]\n",
    "print(neg,len(neg))\n",
    "\n",
    "if len(pos) > len(neg):\n",
    "    print(\"기분이 좋아보이네요\")\n",
    "elif len(pos) < len(neg):\n",
    "    print(\"기분이 나빠 보이네요\")\n",
    "else:\n",
    "    print(\"보통이시네요\")"
   ]
  },
  {
   "cell_type": "code",
   "execution_count": 26,
   "id": "62463211-12da-4a4b-93eb-a31abc38f22b",
   "metadata": {},
   "outputs": [
    {
     "name": "stdin",
     "output_type": "stream",
     "text": [
      "당신의 기분을 한 문장으로 표현해주세요 좋아 좋아서 좋아요 좋아\n"
     ]
    },
    {
     "name": "stdout",
     "output_type": "stream",
     "text": [
      "2\n"
     ]
    }
   ],
   "source": [
    "# 해설 3\n",
    "feel = input(\"당신의 기분을 한 문장으로 표현해주세요\")\n",
    "positive_words = [\"좋아\",\"행복\",\"멋져\",\"최고\",\"사랑해\"]\n",
    "negative_words = [\"싫어\",\"화나\",\"짜증\",\"별로\",\"나빠\"]\n",
    "\n",
    "pnum = 0\n",
    "feel = feel.split(\" \")\n",
    "for v in positive_words:\n",
    "    for s in feel:\n",
    "        if v == s:\n",
    "            pnum += 1\n",
    "for x in negative_words:\n",
    "    for y in feel:\n",
    "        if x == y:\n",
    "            pnum -= 1\n",
    "print(pnum)"
   ]
  },
  {
   "cell_type": "code",
   "execution_count": 18,
   "id": "e4008a15-4399-4b48-a4c3-280fa68e7763",
   "metadata": {
    "scrolled": true
   },
   "outputs": [],
   "source": [
    "# !pip install konlpy"
   ]
  },
  {
   "cell_type": "code",
   "execution_count": 4,
   "id": "1b1007ef-476b-4d12-bb62-fd3df72d865e",
   "metadata": {},
   "outputs": [
    {
     "name": "stdin",
     "output_type": "stream",
     "text": [
      "당신의 기분을 한 문장으로 표현해주세요 좋아서 멋지고 그래서 사랑해\n"
     ]
    },
    {
     "name": "stdout",
     "output_type": "stream",
     "text": [
      "['좋다', '멋지다', '그래서', '사랑', '하다']\n"
     ]
    }
   ],
   "source": [
    "from konlpy.tag import Okt\n",
    "\n",
    "#한글 형태소 분석기\n",
    "okt = Okt()\n",
    "\n",
    "positive_words = [\"좋다\",\"행복\",\"멋지다\",\"최고\",\"사랑\"]\n",
    "negative_words = [\"싫다\",\"화나다\",\"짜증\",\"별로\",\"나쁘다\"]\n",
    "text = input(\"당신의 기분을 한 문장으로 표현해주세요\")\n",
    "\n",
    "words = okt.morphs(text, stem=True)\n",
    "print(words)"
   ]
  },
  {
   "cell_type": "code",
   "execution_count": 16,
   "id": "89b7d086-beed-486f-9ace-43d2d6b5d04e",
   "metadata": {},
   "outputs": [
    {
     "name": "stderr",
     "output_type": "stream",
     "text": [
      "java version \"1.8.0_441\"\n",
      "Java(TM) SE Runtime Environment (build 1.8.0_441-b07)\n",
      "Java HotSpot(TM) Client VM (build 25.441-b07, mixed mode, sharing)\n"
     ]
    }
   ],
   "source": [
    "! java -version"
   ]
  },
  {
   "cell_type": "markdown",
   "id": "1eb1ad35-94cc-4297-968c-c7697ec3da26",
   "metadata": {},
   "source": [
    "### 5. 첫글자 대문자 + 마침표 출력"
   ]
  },
  {
   "cell_type": "code",
   "execution_count": 175,
   "id": "81636010-18f7-4092-a8d3-2fbbb374f54f",
   "metadata": {},
   "outputs": [
    {
     "name": "stdin",
     "output_type": "stream",
     "text": [
      "영어 문장을 입력해주세요. today is a really happy day\n"
     ]
    },
    {
     "name": "stdout",
     "output_type": "stream",
     "text": [
      "Today Is A Really Happy Day.\n"
     ]
    }
   ],
   "source": [
    "eng = input(\"영어 문장을 입력해주세요.\")\n",
    "result = eng.split(\" \")\n",
    "box=[]\n",
    "for r in result:\n",
    "    up1 = r[0].upper()\n",
    "    up2 = up1+r[1:]\n",
    "    box.append(up2)\n",
    "    \n",
    "print(' '.join(box)+'.')"
   ]
  },
  {
   "cell_type": "code",
   "execution_count": 10,
   "id": "d24c5be6-f10e-4b76-89d9-3e5a2c6fd650",
   "metadata": {},
   "outputs": [
    {
     "ename": "NameError",
     "evalue": "name 'load_dotenv' is not defined",
     "output_type": "error",
     "traceback": [
      "\u001b[1;31m---------------------------------------------------------------------------\u001b[0m",
      "\u001b[1;31mNameError\u001b[0m                                 Traceback (most recent call last)",
      "Cell \u001b[1;32mIn[10], line 8\u001b[0m\n\u001b[0;32m      5\u001b[0m \u001b[38;5;28;01mimport\u001b[39;00m\u001b[38;5;250m \u001b[39m\u001b[38;5;21;01murllib\u001b[39;00m\u001b[38;5;21;01m.\u001b[39;00m\u001b[38;5;21;01mrequest\u001b[39;00m\n\u001b[0;32m      6\u001b[0m \u001b[38;5;28;01mimport\u001b[39;00m\u001b[38;5;250m \u001b[39m\u001b[38;5;21;01mjson\u001b[39;00m\n\u001b[1;32m----> 8\u001b[0m \u001b[43mload_dotenv\u001b[49m()\n\u001b[0;32m      9\u001b[0m client_id \u001b[38;5;241m=\u001b[39m os\u001b[38;5;241m.\u001b[39menviron\u001b[38;5;241m.\u001b[39mget(\u001b[38;5;124m\"\u001b[39m\u001b[38;5;124mMY_ID\u001b[39m\u001b[38;5;124m\"\u001b[39m)\n\u001b[0;32m     10\u001b[0m client_secret \u001b[38;5;241m=\u001b[39m os\u001b[38;5;241m.\u001b[39menviron\u001b[38;5;241m.\u001b[39mget(\u001b[38;5;124m\"\u001b[39m\u001b[38;5;124mMY_SECRET\u001b[39m\u001b[38;5;124m\"\u001b[39m)\n",
      "\u001b[1;31mNameError\u001b[0m: name 'load_dotenv' is not defined"
     ]
    }
   ],
   "source": [
    "# API로 상영영화 순위 받기\n",
    "# 네이버 검색 API 예제 - 블로그 검색\n",
    "import os\n",
    "import sys\n",
    "import urllib.request\n",
    "import json\n",
    "\n",
    "load_dotenv()\n",
    "client_id = os.environ.get(\"MY_ID\")\n",
    "client_secret = os.environ.get(\"MY_SECRET\")\n",
    "\n",
    "encText = urllib.parse.quote(\"속보\")\n",
    "url = \"https://openapi.naver.com/v1/search/news.json?query=\" + encText # JSON 결과\n",
    "# url = \"https://openapi.naver.com/v1/search/blog.xml?query=\" + encText # XML 결과\n",
    "request = urllib.request.Request(url)\n",
    "request.add_header(\"X-Naver-Client-Id\",client_id)\n",
    "request.add_header(\"X-Naver-Client-Secret\",client_secret)\n",
    "response = urllib.request.urlopen(request)\n",
    "rescode = response.getcode()\n",
    "if(rescode==200):\n",
    "    response_body = response.read()\n",
    "    result = response_body.decode('utf-8')\n",
    "    data = json.loads(result)\n",
    "    ldata = data['items']\n",
    "    for n in ldata:\n",
    "        print(n['title'].replace('<b>','').replace('</b>',''))\n",
    "        print(n['description'])\n",
    "        print(n['originallink'])\n",
    "else:\n",
    "    print(\"Error Code:\" + rescode)"
   ]
  },
  {
   "cell_type": "code",
   "execution_count": null,
   "id": "6ef228b1-6d33-4189-8f97-a9449f282ea5",
   "metadata": {},
   "outputs": [],
   "source": []
  }
 ],
 "metadata": {
  "kernelspec": {
   "display_name": "Python 3 (ipykernel)",
   "language": "python",
   "name": "python3"
  },
  "language_info": {
   "codemirror_mode": {
    "name": "ipython",
    "version": 3
   },
   "file_extension": ".py",
   "mimetype": "text/x-python",
   "name": "python",
   "nbconvert_exporter": "python",
   "pygments_lexer": "ipython3",
   "version": "3.13.1"
  }
 },
 "nbformat": 4,
 "nbformat_minor": 5
}
