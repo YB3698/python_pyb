{
 "cells": [
  {
   "cell_type": "markdown",
   "id": "1c131492-4767-432f-96ea-999e6786d125",
   "metadata": {},
   "source": [
    "# 1. 자료형"
   ]
  },
  {
   "cell_type": "markdown",
   "id": "7c72194b-2c03-4d4c-9813-51a7594a611f",
   "metadata": {},
   "source": [
    "## 1.1 리스트 자료형"
   ]
  },
  {
   "cell_type": "markdown",
   "id": "cfc6cd0e-280d-452f-9d2f-444fb0e14798",
   "metadata": {},
   "source": [
    "### "
   ]
  },
  {
   "cell_type": "code",
   "execution_count": 4,
   "id": "b58fa6d2-749f-46bf-aa3c-a1def5fdc85d",
   "metadata": {},
   "outputs": [],
   "source": [
    "odd = [1,3,5,7,9]"
   ]
  },
  {
   "cell_type": "code",
   "execution_count": 6,
   "id": "f5b5bc43-f322-4390-8fee-345946249a1d",
   "metadata": {},
   "outputs": [
    {
     "name": "stdout",
     "output_type": "stream",
     "text": [
      "['Life', 'is']\n",
      "Life\n",
      "is\n"
     ]
    }
   ],
   "source": [
    "a = []\n",
    "b = [1,2,3]\n",
    "c = ['Life', 'is', 'too', 'short']\n",
    "d = [1, 2, 'Life', 'is']\n",
    "e = [1, 2, ['Life', 'is']]\n",
    "print(e[2])\n",
    "print(e[2][0])\n",
    "print(e[2][1])"
   ]
  },
  {
   "cell_type": "code",
   "execution_count": 7,
   "id": "39b8abb5-4a6b-4abe-83ea-ec3885e0c9dd",
   "metadata": {},
   "outputs": [
    {
     "name": "stdout",
     "output_type": "stream",
     "text": [
      "5\n"
     ]
    }
   ],
   "source": [
    "print(b[1] + b[2])"
   ]
  },
  {
   "cell_type": "code",
   "execution_count": 9,
   "id": "9663fb46-bbc7-487c-8ae6-c10638408e36",
   "metadata": {},
   "outputs": [
    {
     "name": "stdout",
     "output_type": "stream",
     "text": [
      "5\n",
      "Lifeshort\n",
      "LifeLifeLife\n"
     ]
    }
   ],
   "source": [
    "print(b[1] + b[2])\n",
    "print(c[0] + c[3])\n",
    "print(c[0] * b[2])"
   ]
  },
  {
   "cell_type": "code",
   "execution_count": 13,
   "id": "ebf8dd15-2bb8-4792-927a-066f0844ffc3",
   "metadata": {},
   "outputs": [
    {
     "name": "stdout",
     "output_type": "stream",
     "text": [
      "[11, 22, 33, 44, 55]\n",
      "[33, 44, 55]\n",
      "[11, 22]\n",
      "[44, 55]\n",
      "[55, 44, 33, 22, 11]\n"
     ]
    }
   ],
   "source": [
    "# 리스트의 슬라이싱\n",
    "a = [11,22,33,44,55]\n",
    "print(a[:])\n",
    "print(a[2:])\n",
    "print(a[:-3])\n",
    "print(a[-2:])\n",
    "print(a[::-1])"
   ]
  },
  {
   "cell_type": "code",
   "execution_count": 16,
   "id": "18ef89db-3083-413c-86bf-3de519b8dab5",
   "metadata": {},
   "outputs": [
    {
     "name": "stdout",
     "output_type": "stream",
     "text": [
      "[2, 3]\n"
     ]
    }
   ],
   "source": [
    "a = [1,2,3,4,5]\n",
    "print(a[1:3])"
   ]
  },
  {
   "cell_type": "markdown",
   "id": "71dcd249-4d6e-416b-8f26-863594d54a43",
   "metadata": {},
   "source": [
    "### 1.1.2. 리스트 연산하기"
   ]
  },
  {
   "cell_type": "code",
   "execution_count": 22,
   "id": "23842523-0286-4508-aa1b-800c2bbef0b0",
   "metadata": {},
   "outputs": [
    {
     "name": "stdout",
     "output_type": "stream",
     "text": [
      "[11, 22, 33, 44, 55, 66]\n",
      "[11, 22, 33, 11, 22, 33, 11, 22, 33]\n"
     ]
    },
    {
     "data": {
      "text/plain": [
       "9"
      ]
     },
     "execution_count": 22,
     "metadata": {},
     "output_type": "execute_result"
    }
   ],
   "source": [
    "a = [11,22,33]\n",
    "b = [44,55,66]\n",
    "# 리스트 더하기\n",
    "print(a+b)\n",
    "# 리스트 반복하기\n",
    "c = a * 3\n",
    "print(c)\n",
    "len(c)"
   ]
  },
  {
   "cell_type": "code",
   "execution_count": 27,
   "id": "ad8a9f63-8e3e-4fbe-993f-35b243c37cef",
   "metadata": {},
   "outputs": [
    {
     "name": "stdout",
     "output_type": "stream",
     "text": [
      "[11, 22, 44]\n",
      "[11, 44]\n"
     ]
    }
   ],
   "source": [
    "# 리스트 값 수정하기\n",
    "a = [11,22,33]\n",
    "a[2] = 44\n",
    "print(a)\n",
    "# a[3] = 55 #없는 요소를 수정하려고 하면 에러가 뜬다\n",
    "# print(a)\n",
    "del a[1]\n",
    "# a[1] = '' # '' 수정삽입\n",
    "# a[1] = 0 # 0으로 수정삽입\n",
    "print(a)"
   ]
  },
  {
   "cell_type": "code",
   "execution_count": 31,
   "id": "387bf664-a052-4df4-8d86-9e37073a1849",
   "metadata": {},
   "outputs": [
    {
     "name": "stdout",
     "output_type": "stream",
     "text": [
      "[33]\n",
      "[]\n"
     ]
    }
   ],
   "source": [
    "# 리스트값 슬라이싱으로 삭제\n",
    "print(c)\n",
    "del c[:4]\n",
    "print(c)"
   ]
  },
  {
   "cell_type": "code",
   "execution_count": 32,
   "id": "ba34194c-49a9-4d18-b89e-43a5e2188397",
   "metadata": {},
   "outputs": [
    {
     "name": "stdout",
     "output_type": "stream",
     "text": [
      "[]\n"
     ]
    }
   ],
   "source": [
    "# 리스트 요소 비우기\n",
    "c.clear()\n",
    "print(c)"
   ]
  },
  {
   "cell_type": "code",
   "execution_count": 33,
   "id": "767ee9a0-5a0a-456a-87c4-3a2ae21d3cc3",
   "metadata": {},
   "outputs": [],
   "source": [
    "a=[] # 리스트 초기화"
   ]
  },
  {
   "cell_type": "code",
   "execution_count": 36,
   "id": "165ab056-fffc-4bd3-bbf5-7fcf7c6cdb72",
   "metadata": {},
   "outputs": [
    {
     "name": "stdout",
     "output_type": "stream",
     "text": [
      "[4, 4, 4]\n",
      "[4, 4, 4, [11, 22]]\n"
     ]
    }
   ],
   "source": [
    "a.append(4)\n",
    "print(a)\n",
    "a. append([11,22])\n",
    "print(a)"
   ]
  },
  {
   "cell_type": "code",
   "execution_count": 37,
   "id": "75b66e5c-d3e0-4355-9237-834080235b08",
   "metadata": {},
   "outputs": [],
   "source": [
    "b = []\n",
    "num = 0"
   ]
  },
  {
   "cell_type": "code",
   "execution_count": 38,
   "id": "31c46baf-aaf6-47e5-8bda-15dd1cc6331b",
   "metadata": {},
   "outputs": [
    {
     "name": "stdout",
     "output_type": "stream",
     "text": [
      "[1]\n"
     ]
    }
   ],
   "source": [
    "num += 1\n",
    "b.append(num)\n",
    "print(b)"
   ]
  },
  {
   "cell_type": "code",
   "execution_count": 39,
   "id": "89fde674-901d-4943-a005-10c0abc7c079",
   "metadata": {},
   "outputs": [
    {
     "name": "stdout",
     "output_type": "stream",
     "text": [
      "[11, 22, 33, 44, 55]\n"
     ]
    }
   ],
   "source": [
    "# 리스트 정렬(오름차순) - sort\n",
    "a = [11, 44, 33, 22, 55]\n",
    "a.sort()\n",
    "print(a)"
   ]
  },
  {
   "cell_type": "code",
   "execution_count": 41,
   "id": "b5e74050-e608-4d84-be2f-b5c615295e8e",
   "metadata": {},
   "outputs": [
    {
     "name": "stdout",
     "output_type": "stream",
     "text": [
      "[55, 44, 33, 22, 11]\n"
     ]
    }
   ],
   "source": [
    "# 리스트 정렬(내림차순) - sort\n",
    "a = [11, 44, 33, 22, 55]\n",
    "a.sort(reverse=True)\n",
    "print(a)"
   ]
  },
  {
   "cell_type": "code",
   "execution_count": 42,
   "id": "6a52fc4c-90c3-4722-89cd-da4ffde0b220",
   "metadata": {},
   "outputs": [
    {
     "name": "stdout",
     "output_type": "stream",
     "text": [
      "[66, 77, 88, 99, 0]\n",
      "[0, 66, 77, 88, 99]\n",
      "[99, 88, 77, 66, 0]\n"
     ]
    }
   ],
   "source": [
    "# 리스트 정렬 원본유지하기\n",
    "aa = [66,77,88,99,0]\n",
    "bb = sorted(aa)\n",
    "cc = sorted(aa,reverse=True)\n",
    "print(aa)\n",
    "print(bb)\n",
    "print(cc)"
   ]
  },
  {
   "cell_type": "code",
   "execution_count": 43,
   "id": "1ae6ba12-953b-4c3d-9db9-4cfc75df6c86",
   "metadata": {},
   "outputs": [
    {
     "name": "stdout",
     "output_type": "stream",
     "text": [
      "[55, 22, 33, 44, 11]\n"
     ]
    }
   ],
   "source": [
    "#리스트 뒤집기 - reverse\n",
    "a = [11, 44, 33, 22, 55]\n",
    "a.reverse()\n",
    "print(a)"
   ]
  },
  {
   "cell_type": "code",
   "execution_count": 45,
   "id": "ed4121b8-bb48-47fa-9b2c-998fbdf9e38d",
   "metadata": {},
   "outputs": [
    {
     "name": "stdout",
     "output_type": "stream",
     "text": [
      "['banana', 'kiwi', 'orange', 'melon', 'pear', 'strawberry', 'blueberry']\n",
      "['kiwi', 'pear', 'melon', 'banana', 'orange', 'blueberry', 'strawberry']\n",
      "['strawberry', 'blueberry', 'banana', 'orange', 'melon', 'kiwi', 'pear']\n"
     ]
    }
   ],
   "source": [
    "# sorted 응용\n",
    "fruit = ['banana', 'kiwi', 'orange', 'melon', 'pear', 'strawberry', 'blueberry']\n",
    "result = sorted(fruit, key = len)\n",
    "result2 = sorted(fruit, key = len, reverse = True)\n",
    "print(fruit)\n",
    "print(result)\n",
    "print(result2)"
   ]
  },
  {
   "cell_type": "code",
   "execution_count": 47,
   "id": "d09475dc-a0a8-4c64-a0a9-9e29b4c4e212",
   "metadata": {},
   "outputs": [
    {
     "name": "stdout",
     "output_type": "stream",
     "text": [
      "과일을 먹어볼까?\n",
      "kiwi냠냠 맛있다.\n",
      "pear냠냠 맛있다.\n",
      "melon냠냠 맛있다.\n",
      "banana냠냠 맛있다.\n",
      "orange냠냠 맛있다.\n",
      "blueberry냠냠 맛있다.\n",
      "strawberry냠냠 맛있다.\n",
      "와 ~ 다먹었다.\n"
     ]
    }
   ],
   "source": [
    "print('과일을 먹어볼까?')\n",
    "for r in result:\n",
    "    print(r + '냠냠 맛있다.')\n",
    "print('와 ~ 다먹었다.')"
   ]
  },
  {
   "cell_type": "code",
   "execution_count": 49,
   "id": "425b795e-0208-49fe-87e1-5177a61383e7",
   "metadata": {},
   "outputs": [
    {
     "data": {
      "text/plain": [
       "3"
      ]
     },
     "execution_count": 49,
     "metadata": {},
     "output_type": "execute_result"
    }
   ],
   "source": [
    "# 인덱스 반환 - index\n",
    "fruit = ['banana','kiwi','orange','melon','pear','apple','strawberry','blueberry']\n",
    "fruit.index('melon')"
   ]
  },
  {
   "cell_type": "code",
   "execution_count": 53,
   "id": "31197fbf-bed7-42a8-b72f-bd7cfe70cf09",
   "metadata": {},
   "outputs": [
    {
     "name": "stdin",
     "output_type": "stream",
     "text": [
      "먹고 싶은 과일을 입력하세요 melon\n"
     ]
    },
    {
     "name": "stdout",
     "output_type": "stream",
     "text": [
      "melon를 좋아하시는군요!!! 그것은 4번 째에 있습니다.\n"
     ]
    }
   ],
   "source": [
    "# 인덱스 응용\n",
    "fruit = ['banana','kiwi','orange','melon','pear','apple','strawberry','blueberry']\n",
    "want = input('먹고 싶은 과일을 입력하세요')\n",
    "where = fruit.index(wnat)\n",
    "print(f'{want}를 좋아하시는군요!!! 그것은 {where + 1}번 째에 있습니다.')"
   ]
  },
  {
   "cell_type": "code",
   "execution_count": 55,
   "id": "6c96133f-e409-443a-bbe6-0da535ca0e13",
   "metadata": {},
   "outputs": [
    {
     "name": "stdout",
     "output_type": "stream",
     "text": [
      "[11, 22, 33, 55, 66, 77, 88]\n",
      "[11, 22, 33, 44, 55, 66, 77, 88]\n"
     ]
    }
   ],
   "source": [
    "# 리스트에 요소 삽입 - insert\n",
    "num = [11, 22, 33, 55, 66, 77, 88]\n",
    "print(num)\n",
    "num.insert(3,44) # 3은 인덱스 위치, 44는 원하는 값\n",
    "print(num)"
   ]
  },
  {
   "cell_type": "code",
   "execution_count": 59,
   "id": "8190fe4a-6f93-4257-8005-7f5a6351e86f",
   "metadata": {},
   "outputs": [],
   "source": [
    "ex = []"
   ]
  },
  {
   "cell_type": "code",
   "execution_count": 62,
   "id": "5dee4587-c8a0-4c48-8106-06c2b223c2fb",
   "metadata": {},
   "outputs": [
    {
     "name": "stdout",
     "output_type": "stream",
     "text": [
      "['맨앞', '맨앞', '-1인덱스', '맨앞', '-1인덱스', '제일 끝', '제일 끝']\n",
      "['맨앞', '맨앞', '-1인덱스', '맨앞', '-1인덱스', '제일 끝', '-1인덱스', '제일 끝']\n",
      "['맨앞', '맨앞', '맨앞', '-1인덱스', '맨앞', '-1인덱스', '제일 끝', '-1인덱스', '제일 끝', '제일 끝']\n"
     ]
    }
   ],
   "source": [
    "ex.insert(0,'맨앞')\n",
    "print(ex)\n",
    "ex.insert(-1, '-1인덱스')\n",
    "print(ex)\n",
    "ex.insert(0,'맨앞')\n",
    "ex.insert(len(ex),'제일 끝')\n",
    "print(ex)"
   ]
  },
  {
   "cell_type": "code",
   "execution_count": null,
   "id": "3021cd1b-535f-48e1-bb8d-aa3185e1dc93",
   "metadata": {},
   "outputs": [],
   "source": []
  }
 ],
 "metadata": {
  "kernelspec": {
   "display_name": "Python 3 (ipykernel)",
   "language": "python",
   "name": "python3"
  },
  "language_info": {
   "codemirror_mode": {
    "name": "ipython",
    "version": 3
   },
   "file_extension": ".py",
   "mimetype": "text/x-python",
   "name": "python",
   "nbconvert_exporter": "python",
   "pygments_lexer": "ipython3",
   "version": "3.13.1"
  }
 },
 "nbformat": 4,
 "nbformat_minor": 5
}
