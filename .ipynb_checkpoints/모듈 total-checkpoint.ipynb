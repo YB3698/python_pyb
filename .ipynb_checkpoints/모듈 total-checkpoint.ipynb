{
 "cells": [
  {
   "cell_type": "markdown",
   "id": "8bd83743-b5d6-4951-aea9-1a740a5075e8",
   "metadata": {},
   "source": [
    "## 1. 주식"
   ]
  },
  {
   "cell_type": "code",
   "execution_count": 2,
   "id": "d8a2060d-4da6-44a9-9027-ae658dc4c5ca",
   "metadata": {},
   "outputs": [
    {
     "name": "stdout",
     "output_type": "stream",
     "text": [
      "[]\n"
     ]
    }
   ],
   "source": [
    "import requests as req\n",
    "from bs4 import BeautifulSoup as bs\n",
    "url = \"https://finance.naver.com/sise/sise_market_sum.naver\"\n",
    "hearders = {'User-Agent':'Mozilla/5.0 (Windows NT 10.0; Win64; x64) AppleWebKit/537.36 (KHTML, like Gecko) Chrome/133.0.0.0 Safari/537.36 Edg/133.0.0.0'}\n",
    "web = req.get(url, headers = hearders)\n",
    "soup = bs(web.content,'html5lib')\n",
    "title = soup.select(\".box_type_1\") \n",
    "print(title)"
   ]
  },
  {
   "cell_type": "markdown",
   "id": "1936ee62-b71a-48b6-af6f-760cc2800611",
   "metadata": {},
   "source": [
    "## 2. 영화"
   ]
  },
  {
   "cell_type": "code",
   "execution_count": 9,
   "id": "f750d941-1f77-4098-a61e-5d28d0d623a9",
   "metadata": {},
   "outputs": [
    {
     "ename": "KeyError",
     "evalue": "'boxOfficeResult'",
     "output_type": "error",
     "traceback": [
      "\u001b[1;31m---------------------------------------------------------------------------\u001b[0m",
      "\u001b[1;31mKeyError\u001b[0m                                  Traceback (most recent call last)",
      "Cell \u001b[1;32mIn[9], line 15\u001b[0m\n\u001b[0;32m     13\u001b[0m url \u001b[38;5;241m=\u001b[39m \u001b[38;5;124mf\u001b[39m\u001b[38;5;124m\"\u001b[39m\u001b[38;5;124mhttp://www.kobis.or.kr/kobisopenapi/webservice/rest/boxoffice/searchDailyBoxOfficeList.json?key=\u001b[39m\u001b[38;5;132;01m{\u001b[39;00mKEY\u001b[38;5;132;01m}\u001b[39;00m\u001b[38;5;124m&targetDt=\u001b[39m\u001b[38;5;132;01m{\u001b[39;00myesterday_date\u001b[38;5;132;01m}\u001b[39;00m\u001b[38;5;124m&itemPerPage=10&repNationCd=K\u001b[39m\u001b[38;5;124m\"\u001b[39m\n\u001b[0;32m     14\u001b[0m req \u001b[38;5;241m=\u001b[39m requests\u001b[38;5;241m.\u001b[39mget(url)\n\u001b[1;32m---> 15\u001b[0m data \u001b[38;5;241m=\u001b[39m \u001b[43mreq\u001b[49m\u001b[38;5;241;43m.\u001b[39;49m\u001b[43mjson\u001b[49m\u001b[43m(\u001b[49m\u001b[43m)\u001b[49m\u001b[43m[\u001b[49m\u001b[38;5;124;43m'\u001b[39;49m\u001b[38;5;124;43mboxOfficeResult\u001b[39;49m\u001b[38;5;124;43m'\u001b[39;49m\u001b[43m]\u001b[49m[\u001b[38;5;124m'\u001b[39m\u001b[38;5;124mdailyBoxOfficeList\u001b[39m\u001b[38;5;124m'\u001b[39m]\n\u001b[0;32m     17\u001b[0m \u001b[38;5;28mprint\u001b[39m(\u001b[38;5;124mf\u001b[39m\u001b[38;5;124m\"\u001b[39m\u001b[38;5;124m========== \u001b[39m\u001b[38;5;132;01m{\u001b[39;00mtoday_date\u001b[38;5;132;01m}\u001b[39;00m\u001b[38;5;124m 영화 순위 ==========\u001b[39m\u001b[38;5;124m\"\u001b[39m)\n\u001b[0;32m     18\u001b[0m \u001b[38;5;28;01mfor\u001b[39;00m i \u001b[38;5;129;01min\u001b[39;00m \u001b[38;5;28mrange\u001b[39m(\u001b[38;5;241m10\u001b[39m):\n",
      "\u001b[1;31mKeyError\u001b[0m: 'boxOfficeResult'"
     ]
    }
   ],
   "source": [
    "import requests\n",
    "from datetime import datetime, timedelta\n",
    "from dotenv import load_dotenv\n",
    "import json\n",
    "import os\n",
    "\n",
    "load_dotenv()\n",
    "KEY = os.getenv(\"KEY\")\n",
    "\n",
    "today_date = datetime.today().strftime(\"%Y-%m-%d\").replace(\"-\",\"\") #오늘 날짜\n",
    "yesterday_date = (datetime.today() - timedelta(1)).strftime(\"%Y-%m-%d\").replace(\"-\",\"\") #어제 날짜 (영화 순위 업데이트가 안돼서 어제 날짜로 해야 잘 나옴)\n",
    "\n",
    "url = f\"http://www.kobis.or.kr/kobisopenapi/webservice/rest/boxoffice/searchDailyBoxOfficeList.json?key={KEY}&targetDt={yesterday_date}&itemPerPage=10&repNationCd=K\"\n",
    "req = requests.get(url)\n",
    "data = req.json()['boxOfficeResult']['dailyBoxOfficeList']\n",
    "\n",
    "print(f\"========== {today_date} 영화 순위 ==========\")\n",
    "for i in range(10):\n",
    "    print(f\"{i + 1}위 : {data[i]['movieNm']}\")"
   ]
  },
  {
   "cell_type": "markdown",
   "id": "65626156-92c2-495c-af01-da10e59124b7",
   "metadata": {},
   "source": [
    "## 3. 식단"
   ]
  },
  {
   "cell_type": "code",
   "execution_count": 3,
   "id": "addf6a3a-0ca0-4a75-8773-98a5dfe76bc9",
   "metadata": {},
   "outputs": [
    {
     "name": "stdout",
     "output_type": "stream",
     "text": [
      "[<h3 class=\"menu-tit01\">정식-5,500원</h3>, <h3 class=\"menu-tit01\">정식-5,500원</h3>, <h3 class=\"menu-tit01\">정식-5,500원</h3>, <h3 class=\"menu-tit01\">정식-5,500원</h3>, <h3 class=\"menu-tit01\">정식-5,500원</h3>]\n"
     ]
    }
   ],
   "source": [
    "# 부산대\n",
    "import requests as req\n",
    "from bs4 import BeautifulSoup as bs\n",
    "url = \"https://www.pusan.ac.kr/kor/CMS/MenuMgr/menuListOnBuilding.do?mCode=MN202\"\n",
    "hearders = {'User-Agent':'Mozilla/5.0 (Windows NT 10.0; Win64; x64) AppleWebKit/537.36 (KHTML, like Gecko) Chrome/133.0.0.0 Safari/537.36 Edg/133.0.0.0'}\n",
    "web = req.get(url, headers = hearders)\n",
    "\n",
    "soup = bs(web.content,'html5lib')\n",
    "menucard = soup.select('.menu-tbl')\n",
    "won = soup.select('.menu-tit01')\n",
    "print(won)\n",
    "# menu = soup.select('h3.menu-tit01+p')\n",
    "# day = soup.select('.day')\n",
    "# date = soup.select('.date')\n",
    "# # print(dat,date)\n",
    "# for d, dd, w, m in zip(day, date, won,menu):\n",
    "#     print('='*15)\n",
    "#     print(d.text, dd.text)\n",
    "#     print('-'*15)\n",
    "#     print(w.text+'\\n'+m.text)\n",
    "#     print('='*15)"
   ]
  },
  {
   "cell_type": "markdown",
   "id": "81df6151-1631-4929-a3bb-73effeb013d6",
   "metadata": {},
   "source": [
    "## 4. 멜론"
   ]
  },
  {
   "cell_type": "code",
   "execution_count": 5,
   "id": "e451c2f9-b5e1-4c59-a92e-620444e44475",
   "metadata": {},
   "outputs": [
    {
     "name": "stdout",
     "output_type": "stream",
     "text": [
      "1위: REBEL HEART / IVE (아이브)\n",
      "2위: HOME SWEET HOME (feat. 태양, 대성) / G-DRAGON\n",
      "3위: 나는 반딧불 / 황가람\n",
      "4위: Whiplash / aespa\n",
      "5위: APT. / 로제 (ROSÉ)\n",
      "6위: Drowning / Bruno Mars\n",
      "7위: 오늘만 I LOVE YOU / WOODZ\n",
      "8위: ATTITUDE / BOYNEXTDOOR\n",
      "9위: toxic till the end / IVE (아이브)\n",
      "10위: Dash / 로제 (ROSÉ)\n",
      "11위: POWER / PLAVE\n",
      "12위: HAPPY / G-DRAGON\n",
      "13위: 내게 사랑이 뭐냐고 물어본다면 / DAY6 (데이식스)\n",
      "14위: DRIP / 로이킴\n",
      "15위: RIZZ / BABYMONSTER\n",
      "16위: Chroma Drift / PLAVE\n",
      "17위: 소나기 / PLAVE\n",
      "18위: Island / 이클립스 (ECLIPSE)\n",
      "19위: 너와의 모든 지금 / PLAVE\n",
      "20위: 모르시나요(PROD.로코베리) / 재쓰비 (JAESSBEE)\n",
      "\n"
     ]
    }
   ],
   "source": [
    "import requests as req\n",
    "from bs4 import BeautifulSoup as bs\n",
    "url = \"https://www.melon.com/chart/index.htm\"\n",
    "# headers 주소 가져오는건 f12 -> 네트워크에서 아무거나 클릭하고 제일 밑으로 내려보면 알 수 있음\n",
    "hearders = {'User-Agent':'Mozilla/5.0 (Windows NT 10.0; Win64; x64) AppleWebKit/537.36 (KHTML, like Gecko) Chrome/133.0.0.0 Safari/537.36 Edg/133.0.0.0'}\n",
    "web = req.get(url, headers = hearders)\n",
    "def mel():\n",
    "    soup = bs(web.content,'html.parser')\n",
    "    title = soup.select('.rank01')[:20]\n",
    "    name = soup.select('.checkEllipsis a')[:20]\n",
    "    str = ''\n",
    "    for i, (t, n) in enumerate(zip(title, name),1):\n",
    "        str += f'{i}위: {t.text.strip()} / {n.text}\\n'\n",
    "    print(str)\n",
    "\n",
    "if __name__ == '__main__':\n",
    "    mel()"
   ]
  },
  {
   "cell_type": "code",
   "execution_count": null,
   "id": "9a53ea89-1810-4182-85c8-d2b506af7c4d",
   "metadata": {},
   "outputs": [],
   "source": []
  }
 ],
 "metadata": {
  "kernelspec": {
   "display_name": "Python 3 (ipykernel)",
   "language": "python",
   "name": "python3"
  },
  "language_info": {
   "codemirror_mode": {
    "name": "ipython",
    "version": 3
   },
   "file_extension": ".py",
   "mimetype": "text/x-python",
   "name": "python",
   "nbconvert_exporter": "python",
   "pygments_lexer": "ipython3",
   "version": "3.13.1"
  }
 },
 "nbformat": 4,
 "nbformat_minor": 5
}
