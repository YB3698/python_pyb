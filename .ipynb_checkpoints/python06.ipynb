{
 "cells": [
  {
   "cell_type": "markdown",
   "id": "ed6b2638-6a46-42db-9887-e28e9f02a6ec",
   "metadata": {},
   "source": [
    "# 모듈"
   ]
  },
  {
   "cell_type": "markdown",
   "id": "254ae339-6e69-4e4b-adb9-5929a7091ccf",
   "metadata": {},
   "source": [
    "## 1.1 모듈 만들기"
   ]
  },
  {
   "cell_type": "code",
   "execution_count": null,
   "id": "054b5a3e-2ac4-4189-b5b2-54f6cab198ae",
   "metadata": {},
   "outputs": [],
   "source": [
    "# 모듈 만들기\n",
    "# def add(a,b):\n",
    "#     return a + b\n",
    "# def sub(a,b):\n",
    "#     return a - b"
   ]
  },
  {
   "cell_type": "code",
   "execution_count": 1,
   "id": "39299c53-2199-489f-90e5-772870755051",
   "metadata": {},
   "outputs": [
    {
     "name": "stdout",
     "output_type": "stream",
     "text": [
      "33\n",
      "11\n"
     ]
    }
   ],
   "source": [
    "import mod1 # 위 코드로 mod1.py라는 파일을 만들어놨음\n",
    "print(mod1.add(11,22))\n",
    "print(mod1.sub(33,22))"
   ]
  },
  {
   "cell_type": "code",
   "execution_count": 5,
   "id": "328b3a93-76ed-445e-adb2-f392a8c56e05",
   "metadata": {},
   "outputs": [],
   "source": [
    "with open(\"mod2.py\",\"w\") as f:\n",
    "    data = \"\"\"def mul(a,b):\n",
    "    return a*b\n",
    "def div(a,b):\n",
    "    return a/b\"\"\"\n",
    "    f.write(data)"
   ]
  },
  {
   "cell_type": "code",
   "execution_count": 6,
   "id": "d59d3eec-83d4-4d87-aa06-59da58af4471",
   "metadata": {},
   "outputs": [
    {
     "name": "stdout",
     "output_type": "stream",
     "text": [
      "12\n",
      "2.0\n"
     ]
    }
   ],
   "source": [
    "import mod2\n",
    "print(mod2.mul(3,4))\n",
    "print(mod2.div(8,4))"
   ]
  },
  {
   "cell_type": "code",
   "execution_count": 1,
   "id": "7c31057f-cc4e-429e-8e5d-5d9ad9df1cac",
   "metadata": {},
   "outputs": [
    {
     "name": "stdout",
     "output_type": "stream",
     "text": [
      "33\n",
      "11\n",
      "12\n",
      "2.0\n"
     ]
    }
   ],
   "source": [
    "import mod1, mod2\n",
    "print(mod1.add(11,22))\n",
    "print(mod1.sub(33,22))\n",
    "print(mod2.mul(3,4))\n",
    "print(mod2.div(8,4))"
   ]
  },
  {
   "cell_type": "code",
   "execution_count": 98,
   "id": "2c13e98b-02e2-4650-bd6b-29b49f19de32",
   "metadata": {},
   "outputs": [
    {
     "ename": "SyntaxError",
     "evalue": "invalid syntax (1395826910.py, line 4)",
     "output_type": "error",
     "traceback": [
      "\u001b[1;36m  Cell \u001b[1;32mIn[98], line 4\u001b[1;36m\u001b[0m\n\u001b[1;33m    import mod1 as m1, import mod2 as m2\u001b[0m\n\u001b[1;37m                       ^\u001b[0m\n\u001b[1;31mSyntaxError\u001b[0m\u001b[1;31m:\u001b[0m invalid syntax\n"
     ]
    }
   ],
   "source": [
    "# import mod1 as m1 \n",
    "# import mod2 as m2\n",
    "\n",
    "import mod1 as m1, import mod2 as m2\n",
    "print(mod1.add(11,22))\n",
    "print(mod1.sub(33,22))\n",
    "print(mod2.mul(3,4))\n",
    "print(mod2.div(8,4))"
   ]
  },
  {
   "cell_type": "code",
   "execution_count": 1,
   "id": "dbea2a89-9736-47f8-9f6f-b5a9431ef4ac",
   "metadata": {},
   "outputs": [
    {
     "name": "stdout",
     "output_type": "stream",
     "text": [
      "77\n"
     ]
    }
   ],
   "source": [
    "from mod1 import add, sub\n",
    "print(add(33,44))"
   ]
  },
  {
   "cell_type": "code",
   "execution_count": 2,
   "id": "ff662287-31cd-4354-8ca9-215f426184e1",
   "metadata": {},
   "outputs": [
    {
     "name": "stdout",
     "output_type": "stream",
     "text": [
      "20\n"
     ]
    }
   ],
   "source": [
    "from mod2 import *\n",
    "print(mul(4,5))"
   ]
  },
  {
   "cell_type": "markdown",
   "id": "a89ce9e8-27ed-4f6b-8d80-d2bcf27fccc5",
   "metadata": {},
   "source": [
    "## 1.2. `__main__`의 의미"
   ]
  },
  {
   "cell_type": "code",
   "execution_count": 1,
   "id": "9ded0d28-6a7f-4988-9f24-ade03cc5af3a",
   "metadata": {},
   "outputs": [],
   "source": [
    "with open(\"mod1.py\",\"a\") as f:\n",
    "    text = \"\"\"\\nprint(add(1,4))\\nprint(sub(4,2))\"\"\"\n",
    "    f.write(text)"
   ]
  },
  {
   "cell_type": "markdown",
   "id": "ba065223-942f-46f0-a33e-2ca430fd920e",
   "metadata": {},
   "source": [
    "매직커멘드\n",
    "%%bash : 리눅스\n",
    "%%cmd : 윈도우"
   ]
  },
  {
   "cell_type": "code",
   "execution_count": 1,
   "id": "50b54823-d457-4b6f-b88b-37dedf6a7ab3",
   "metadata": {},
   "outputs": [
    {
     "name": "stdout",
     "output_type": "stream",
     "text": [
      "Microsoft Windows [Version 10.0.26100.2894]\n",
      "(c) Microsoft Corporation. All rights reserved.\n",
      "\n",
      "yb\\code\\.ipynb_checkpoints>python mod1.py\n",
      "5\n",
      "2\n",
      "__main__\n",
      "�� ���Ϸ� ������ �Ǿ����.\n",
      "\n",
      "D:\\pyb\\code\\.ipynb_checkpoints>"
     ]
    }
   ],
   "source": [
    "%%cmd\n",
    "python mod1.py"
   ]
  },
  {
   "cell_type": "code",
   "execution_count": 2,
   "id": "1908f8b4-caaa-4a8f-8801-59fe98416a5c",
   "metadata": {},
   "outputs": [
    {
     "name": "stdout",
     "output_type": "stream",
     "text": [
      "5\n",
      "2\n",
      "mod1\n",
      "전 모듈로 임포트 되었어요.\n"
     ]
    },
    {
     "data": {
      "text/plain": [
       "['__builtins__',\n",
       " '__cached__',\n",
       " '__doc__',\n",
       " '__file__',\n",
       " '__loader__',\n",
       " '__name__',\n",
       " '__package__',\n",
       " '__spec__',\n",
       " 'add',\n",
       " 'sub']"
      ]
     },
     "execution_count": 2,
     "metadata": {},
     "output_type": "execute_result"
    }
   ],
   "source": [
    "import mod1\n",
    "dir(mod1)"
   ]
  },
  {
   "cell_type": "code",
   "execution_count": 99,
   "id": "96b21880-20aa-40f0-b902-0854a7786abc",
   "metadata": {},
   "outputs": [
    {
     "ename": "SyntaxError",
     "evalue": "unexpected character after line continuation character (3976764657.py, line 2)",
     "output_type": "error",
     "traceback": [
      "\u001b[1;36m  Cell \u001b[1;32mIn[99], line 2\u001b[1;36m\u001b[0m\n\u001b[1;33m    content = \"\"\\nprint(__)\u001b[0m\n\u001b[1;37m                 ^\u001b[0m\n\u001b[1;31mSyntaxError\u001b[0m\u001b[1;31m:\u001b[0m unexpected character after line continuation character\n"
     ]
    }
   ],
   "source": [
    "with open('mod1.py','a') as f:\n",
    "    content = \"\"\\nprint(__)"
   ]
  },
  {
   "cell_type": "code",
   "execution_count": 75,
   "id": "3991846e-7e74-4bb9-a7d0-36d910d0ce9b",
   "metadata": {},
   "outputs": [
    {
     "name": "stdout",
     "output_type": "stream",
     "text": [
      "삼성전자 시가 : 55,900\n"
     ]
    }
   ],
   "source": [
    "import requests as req\n",
    "url = \"https://finance.naver.com/sise/sise_market_sum.naver\"\n",
    "web = req.get(url)\n",
    "html = web.text\n",
    "f1 = html.find('jong')\n",
    "f2 = html.find('<td class=\"number\">')\n",
    "print('{jong} :'+html[f1:f1+100][19:50].replace('<td class=\"number\">',''))"
   ]
  },
  {
   "cell_type": "code",
   "execution_count": 77,
   "id": "089fb75b-5cea-465e-82d6-607366213ca6",
   "metadata": {
    "jupyter": {
     "source_hidden": true
    }
   },
   "outputs": [
    {
     "name": "stdout",
     "output_type": "stream",
     "text": [
      "-f\n"
     ]
    },
    {
     "ename": "NameError",
     "evalue": "name 'jong' is not defined",
     "output_type": "error",
     "traceback": [
      "\u001b[1;31m---------------------------------------------------------------------------\u001b[0m",
      "\u001b[1;31mNameError\u001b[0m                                 Traceback (most recent call last)",
      "Cell \u001b[1;32mIn[77], line 14\u001b[0m\n\u001b[0;32m     12\u001b[0m \u001b[38;5;28;01mdef\u001b[39;00m\u001b[38;5;250m \u001b[39m\u001b[38;5;21msam\u001b[39m(jong):\n\u001b[0;32m     13\u001b[0m     f1 \u001b[38;5;241m=\u001b[39m html\u001b[38;5;241m.\u001b[39mfind(\u001b[38;5;124m'\u001b[39m\u001b[38;5;124mjong\u001b[39m\u001b[38;5;124m'\u001b[39m)\n\u001b[1;32m---> 14\u001b[0m \u001b[38;5;28mprint\u001b[39m(\u001b[38;5;124mf\u001b[39m\u001b[38;5;124m'\u001b[39m\u001b[38;5;132;01m{\u001b[39;00m\u001b[43mjong\u001b[49m\u001b[38;5;132;01m}\u001b[39;00m\u001b[38;5;124m :\u001b[39m\u001b[38;5;124m'\u001b[39m\u001b[38;5;241m+\u001b[39mhtml[f1:f1\u001b[38;5;241m+\u001b[39m\u001b[38;5;241m100\u001b[39m][\u001b[38;5;241m19\u001b[39m:\u001b[38;5;241m50\u001b[39m]\u001b[38;5;241m.\u001b[39mreplace(\u001b[38;5;124m'\u001b[39m\u001b[38;5;124m<td class=\u001b[39m\u001b[38;5;124m\"\u001b[39m\u001b[38;5;124mnumber\u001b[39m\u001b[38;5;124m\"\u001b[39m\u001b[38;5;124m>\u001b[39m\u001b[38;5;124m'\u001b[39m,\u001b[38;5;124m'\u001b[39m\u001b[38;5;124m'\u001b[39m))\n",
      "\u001b[1;31mNameError\u001b[0m: name 'jong' is not defined"
     ]
    }
   ],
   "source": [
    "import requests as req\n",
    "import sys\n",
    "url = \"https://finance.naver.com/sise/sise_market_sum.naver\"\n",
    "web = req.get(url)\n",
    "html = web.text\n",
    "\n",
    "# 인자 받기\n",
    "args = sys.argv\n",
    "print(args[1])\n",
    "\n",
    "# 출력함수 만들기\n",
    "def sam(jong):\n",
    "    f1 = html.find('jong')\n",
    "print(f'{jong} :'+html[f1:f1+100][19:50].replace('<td class=\"number\">',''))"
   ]
  },
  {
   "cell_type": "markdown",
   "id": "e0062a1e-e5a6-4088-9161-c23aeed68ec7",
   "metadata": {},
   "source": [
    "## 1.3. 클래스나 변수등을 포함한 모듈"
   ]
  },
  {
   "cell_type": "code",
   "execution_count": 96,
   "id": "66a68b95-06ae-4abf-ae58-61043c2154fa",
   "metadata": {},
   "outputs": [],
   "source": [
    "with open(\"mod3.py\",\"w\") as f:\n",
    "    text = \"\"\"PI = 3.141592\\n\\nclass Math:\\n\\tdef solv(self,r):\\n\\t\\treturn PI * (r**2)\\n\\ndef add(a,b):\\n\\treturn a+b\"\"\"\n",
    "    f.write(text)"
   ]
  },
  {
   "cell_type": "code",
   "execution_count": 97,
   "id": "416c9888-9363-4d87-b9bc-68c7ae830c5d",
   "metadata": {},
   "outputs": [
    {
     "ename": "AttributeError",
     "evalue": "module 'mod3' has no attribute 'PI'",
     "output_type": "error",
     "traceback": [
      "\u001b[1;31m---------------------------------------------------------------------------\u001b[0m",
      "\u001b[1;31mAttributeError\u001b[0m                            Traceback (most recent call last)",
      "Cell \u001b[1;32mIn[97], line 3\u001b[0m\n\u001b[0;32m      1\u001b[0m \u001b[38;5;28;01mimport\u001b[39;00m\u001b[38;5;250m \u001b[39m\u001b[38;5;21;01mmod3\u001b[39;00m\n\u001b[0;32m      2\u001b[0m \u001b[38;5;66;03m# 변수\u001b[39;00m\n\u001b[1;32m----> 3\u001b[0m \u001b[38;5;28mprint\u001b[39m(\u001b[43mmod3\u001b[49m\u001b[38;5;241;43m.\u001b[39;49m\u001b[43mPI\u001b[49m)\n\u001b[0;32m      4\u001b[0m \u001b[38;5;66;03m# 클래스\u001b[39;00m\n\u001b[0;32m      5\u001b[0m a \u001b[38;5;241m=\u001b[39m mod3\u001b[38;5;241m.\u001b[39mMath()\n",
      "\u001b[1;31mAttributeError\u001b[0m: module 'mod3' has no attribute 'PI'"
     ]
    }
   ],
   "source": [
    "import mod3\n",
    "# 변수\n",
    "print(mod3.PI)\n",
    "# 클래스\n",
    "a = mod3.Math()\n",
    "print(a.solv(10))\n",
    "# 함수\n",
    "print(mod3.add(mod3.PI,4.4))"
   ]
  },
  {
   "cell_type": "code",
   "execution_count": null,
   "id": "98521dfb-558a-4535-a948-d4ee6e514a91",
   "metadata": {},
   "outputs": [],
   "source": []
  }
 ],
 "metadata": {
  "kernelspec": {
   "display_name": "Python 3 (ipykernel)",
   "language": "python",
   "name": "python3"
  },
  "language_info": {
   "codemirror_mode": {
    "name": "ipython",
    "version": 3
   },
   "file_extension": ".py",
   "mimetype": "text/x-python",
   "name": "python",
   "nbconvert_exporter": "python",
   "pygments_lexer": "ipython3",
   "version": "3.13.1"
  }
 },
 "nbformat": 4,
 "nbformat_minor": 5
}
