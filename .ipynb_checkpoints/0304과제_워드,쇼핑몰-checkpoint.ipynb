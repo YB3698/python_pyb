{
 "cells": [
  {
   "cell_type": "markdown",
   "id": "ec5b257b-1f42-41be-848a-9ba013e2eb57",
   "metadata": {},
   "source": [
    "# 워드 카운트"
   ]
  },
  {
   "cell_type": "code",
   "execution_count": 4,
   "id": "11cda3a6-834f-4c7c-8cdf-d32b63d8affb",
   "metadata": {},
   "outputs": [
    {
     "ename": "KeyError",
     "evalue": "'category'",
     "output_type": "error",
     "traceback": [
      "\u001b[1;31m---------------------------------------------------------------------------\u001b[0m",
      "\u001b[1;31mKeyError\u001b[0m                                  Traceback (most recent call last)",
      "File \u001b[1;32mC:\\Dev\\Lang\\Python313\\Lib\\site-packages\\pandas\\core\\indexes\\base.py:3805\u001b[0m, in \u001b[0;36mIndex.get_loc\u001b[1;34m(self, key)\u001b[0m\n\u001b[0;32m   3804\u001b[0m \u001b[38;5;28;01mtry\u001b[39;00m:\n\u001b[1;32m-> 3805\u001b[0m     \u001b[38;5;28;01mreturn\u001b[39;00m \u001b[38;5;28;43mself\u001b[39;49m\u001b[38;5;241;43m.\u001b[39;49m\u001b[43m_engine\u001b[49m\u001b[38;5;241;43m.\u001b[39;49m\u001b[43mget_loc\u001b[49m\u001b[43m(\u001b[49m\u001b[43mcasted_key\u001b[49m\u001b[43m)\u001b[49m\n\u001b[0;32m   3806\u001b[0m \u001b[38;5;28;01mexcept\u001b[39;00m \u001b[38;5;167;01mKeyError\u001b[39;00m \u001b[38;5;28;01mas\u001b[39;00m err:\n",
      "File \u001b[1;32mindex.pyx:167\u001b[0m, in \u001b[0;36mpandas._libs.index.IndexEngine.get_loc\u001b[1;34m()\u001b[0m\n",
      "File \u001b[1;32mindex.pyx:196\u001b[0m, in \u001b[0;36mpandas._libs.index.IndexEngine.get_loc\u001b[1;34m()\u001b[0m\n",
      "File \u001b[1;32mpandas\\\\_libs\\\\hashtable_class_helper.pxi:7081\u001b[0m, in \u001b[0;36mpandas._libs.hashtable.PyObjectHashTable.get_item\u001b[1;34m()\u001b[0m\n",
      "File \u001b[1;32mpandas\\\\_libs\\\\hashtable_class_helper.pxi:7089\u001b[0m, in \u001b[0;36mpandas._libs.hashtable.PyObjectHashTable.get_item\u001b[1;34m()\u001b[0m\n",
      "\u001b[1;31mKeyError\u001b[0m: 'category'",
      "\nThe above exception was the direct cause of the following exception:\n",
      "\u001b[1;31mKeyError\u001b[0m                                  Traceback (most recent call last)",
      "Cell \u001b[1;32mIn[4], line 16\u001b[0m\n\u001b[0;32m     14\u001b[0m category \u001b[38;5;241m=\u001b[39m [\u001b[38;5;124m'\u001b[39m\u001b[38;5;124m컴퓨터 및 주변기기\u001b[39m\u001b[38;5;124m'\u001b[39m,\u001b[38;5;124m'\u001b[39m\u001b[38;5;124m의복\u001b[39m\u001b[38;5;124m'\u001b[39m,\u001b[38;5;124m'\u001b[39m\u001b[38;5;124m신발\u001b[39m\u001b[38;5;124m'\u001b[39m,\u001b[38;5;124m'\u001b[39m\u001b[38;5;124m가방\u001b[39m\u001b[38;5;124m'\u001b[39m,\u001b[38;5;124m'\u001b[39m\u001b[38;5;124m음식서비스\u001b[39m\u001b[38;5;124m'\u001b[39m,\u001b[38;5;124m'\u001b[39m\u001b[38;5;124m음·식료품\u001b[39m\u001b[38;5;124m'\u001b[39m,\u001b[38;5;124m'\u001b[39m\u001b[38;5;124m애완용품\u001b[39m\u001b[38;5;124m'\u001b[39m,\u001b[38;5;124m'\u001b[39m\u001b[38;5;124m여행 및 교통서비스\u001b[39m\u001b[38;5;124m'\u001b[39m]\n\u001b[0;32m     15\u001b[0m \u001b[38;5;28;01mfor\u001b[39;00m cate \u001b[38;5;129;01min\u001b[39;00m category:\n\u001b[1;32m---> 16\u001b[0m     category_data \u001b[38;5;241m=\u001b[39m ex1_data[\u001b[43mex1_data\u001b[49m\u001b[43m[\u001b[49m\u001b[38;5;124;43m'\u001b[39;49m\u001b[38;5;124;43mcategory\u001b[39;49m\u001b[38;5;124;43m'\u001b[39;49m\u001b[43m]\u001b[49m \u001b[38;5;241m==\u001b[39m cate]\n\u001b[0;32m     17\u001b[0m     x_data \u001b[38;5;241m=\u001b[39m category_data[\u001b[38;5;124m'\u001b[39m\u001b[38;5;124minternet\u001b[39m\u001b[38;5;124m'\u001b[39m]\n\u001b[0;32m     18\u001b[0m     y_data \u001b[38;5;241m=\u001b[39m category_data[\u001b[38;5;124m'\u001b[39m\u001b[38;5;124mmobile\u001b[39m\u001b[38;5;124m'\u001b[39m]\n",
      "File \u001b[1;32mC:\\Dev\\Lang\\Python313\\Lib\\site-packages\\pandas\\core\\frame.py:4102\u001b[0m, in \u001b[0;36mDataFrame.__getitem__\u001b[1;34m(self, key)\u001b[0m\n\u001b[0;32m   4100\u001b[0m \u001b[38;5;28;01mif\u001b[39;00m \u001b[38;5;28mself\u001b[39m\u001b[38;5;241m.\u001b[39mcolumns\u001b[38;5;241m.\u001b[39mnlevels \u001b[38;5;241m>\u001b[39m \u001b[38;5;241m1\u001b[39m:\n\u001b[0;32m   4101\u001b[0m     \u001b[38;5;28;01mreturn\u001b[39;00m \u001b[38;5;28mself\u001b[39m\u001b[38;5;241m.\u001b[39m_getitem_multilevel(key)\n\u001b[1;32m-> 4102\u001b[0m indexer \u001b[38;5;241m=\u001b[39m \u001b[38;5;28;43mself\u001b[39;49m\u001b[38;5;241;43m.\u001b[39;49m\u001b[43mcolumns\u001b[49m\u001b[38;5;241;43m.\u001b[39;49m\u001b[43mget_loc\u001b[49m\u001b[43m(\u001b[49m\u001b[43mkey\u001b[49m\u001b[43m)\u001b[49m\n\u001b[0;32m   4103\u001b[0m \u001b[38;5;28;01mif\u001b[39;00m is_integer(indexer):\n\u001b[0;32m   4104\u001b[0m     indexer \u001b[38;5;241m=\u001b[39m [indexer]\n",
      "File \u001b[1;32mC:\\Dev\\Lang\\Python313\\Lib\\site-packages\\pandas\\core\\indexes\\base.py:3812\u001b[0m, in \u001b[0;36mIndex.get_loc\u001b[1;34m(self, key)\u001b[0m\n\u001b[0;32m   3807\u001b[0m     \u001b[38;5;28;01mif\u001b[39;00m \u001b[38;5;28misinstance\u001b[39m(casted_key, \u001b[38;5;28mslice\u001b[39m) \u001b[38;5;129;01mor\u001b[39;00m (\n\u001b[0;32m   3808\u001b[0m         \u001b[38;5;28misinstance\u001b[39m(casted_key, abc\u001b[38;5;241m.\u001b[39mIterable)\n\u001b[0;32m   3809\u001b[0m         \u001b[38;5;129;01mand\u001b[39;00m \u001b[38;5;28many\u001b[39m(\u001b[38;5;28misinstance\u001b[39m(x, \u001b[38;5;28mslice\u001b[39m) \u001b[38;5;28;01mfor\u001b[39;00m x \u001b[38;5;129;01min\u001b[39;00m casted_key)\n\u001b[0;32m   3810\u001b[0m     ):\n\u001b[0;32m   3811\u001b[0m         \u001b[38;5;28;01mraise\u001b[39;00m InvalidIndexError(key)\n\u001b[1;32m-> 3812\u001b[0m     \u001b[38;5;28;01mraise\u001b[39;00m \u001b[38;5;167;01mKeyError\u001b[39;00m(key) \u001b[38;5;28;01mfrom\u001b[39;00m\u001b[38;5;250m \u001b[39m\u001b[38;5;21;01merr\u001b[39;00m\n\u001b[0;32m   3813\u001b[0m \u001b[38;5;28;01mexcept\u001b[39;00m \u001b[38;5;167;01mTypeError\u001b[39;00m:\n\u001b[0;32m   3814\u001b[0m     \u001b[38;5;66;03m# If we have a listlike key, _check_indexing_error will raise\u001b[39;00m\n\u001b[0;32m   3815\u001b[0m     \u001b[38;5;66;03m#  InvalidIndexError. Otherwise we fall through and re-raise\u001b[39;00m\n\u001b[0;32m   3816\u001b[0m     \u001b[38;5;66;03m#  the TypeError.\u001b[39;00m\n\u001b[0;32m   3817\u001b[0m     \u001b[38;5;28mself\u001b[39m\u001b[38;5;241m.\u001b[39m_check_indexing_error(key)\n",
      "\u001b[1;31mKeyError\u001b[0m: 'category'"
     ]
    },
    {
     "data": {
      "image/png": "[encoded data removed]",
      "text/plain": [
       "<Figure size 1000x500 with 1 Axes>"
      ]
     },
     "metadata": {},
     "output_type": "display_data"
    }
   ],
   "source": [
    "import matplotlib\n",
    "import matplotlib.pyplot as plt\n",
    "import matplotlib.font_manager as fm\n",
    "import pandas as pd\n",
    "from datetime import datetime\n",
    "d2_path = \"./ref/D2Coding-Ver1.3.2-20180524.ttf\"\n",
    "fm.fontManager.addfont(d2_path)\n",
    "matplotlib.rcParams[\"font.family\"]=\"D2Coding\"\n",
    "file_path = \"./ref/온라인쇼핑몰_판매매체별_상품군별거래액_20250227150411.csv\"\n",
    "\n",
    "ori = pd.read_csv(file_path, encoding=\"EUC-KR\")\n",
    "fig, ax = plt.subplots(figsize=(10,5))\n",
    "ex1_data = ori.copy()\n",
    "\n",
    "category = ['컴퓨터 및 주변기기','의복','신발','가방','음식서비스','음·식료품','애완용품','여행 및 교통서비스']\n",
    "for cate in category:\n",
    "    category_data = ex1_data[ex1_data['category'] == cate]\n",
    "    x_data = category_data['internet']\n",
    "    y_data = category_data['mobile']\n",
    "    ax.scatter(x_data, y_data, s = 20, label = cate)\n",
    "    \n",
    "\n",
    "ax.set_xlabel(\"인터넷 쇼핑\")\n",
    "ax.set_ylabel(\"모바일 쇼핑\")\n",
    "ax.legend(loc=\"best\")\n",
    "ax.plot([0,1000000],[0,1000000],'k-',alpha=0.7)\n",
    "plt.show()\n",
    "# print(category_data,x_data,y_data)"
   ]
  },
  {
   "cell_type": "markdown",
   "id": "c5b3df4a-d6a1-4635-985f-495126cb5c12",
   "metadata": {},
   "source": [
    "# 카운트 검증"
   ]
  },
  {
   "cell_type": "code",
   "execution_count": 59,
   "id": "d8a2f594-d960-4b74-bdb4-72ceac2dccaf",
   "metadata": {},
   "outputs": [
    {
     "name": "stdout",
     "output_type": "stream",
     "text": [
      "Counter({'유방암': 9, '암': 9, '연구': 8, '검진': 5, '진단': 4, '노르웨이': 4, '이상': 4, '발견': 4, '조기': 4, '위험': 4, '일': 3, '편': 3, '발표': 3, '이번': 3, '유방': 3, '촬영': 3, '술': 3, '분석': 3, '인사이트': 3, '명': 3, '결과': 3, '감지': 3, '년': 3, '의료': 2, '유럽': 2, '영상의학': 2, '성과': 2, '학회': 2, '협력': 2, '제시': 2, '수행': 2, '연구진': 2, '국가': 2, '프로그램': 2, '데이터': 2, '판독': 2, '전문': 2, '수': 2, '양성': 2, '경우': 2, '실제': 2, '간격': 2, '탐지': 2, '입증': 2, '유지': 2, '여성': 2, '발생': 2, '점수': 2, '상승': 2, '인공지능': 1, '기업': 1, '이달': 1, '현지': 1, '시간': 1, '내달': 1, '오스트리아': 1, '빈': 1, '진행': 1, '회': 1, '분야': 1, '최신': 1, '영상': 1, '솔루션': 1, '활용': 1, '구연': 1, '포스터': 1, '권위': 1, '기관': 1, '기반': 1, '임상': 1, '가치': 1, '레지스트리': 1, '팀': 1, '공동': 1, '규모': 1, '건': 1, '현행': 1, '이중': 1, '시스템': 1, '중': 1, '역할': 1, '탐색': 1, '판단': 1, '시': 1, '기존': 1, '추가': 1, '효과': 1, '도입': 1, '전문의': 1, '업무': 1, '량': 1, '실증': 1, '것': 1, '다음': 1, '공중': 1, '보건': 1, '연구소': 1, '참여': 1, '적용': 1, '능력': 1, '평가': 1, '최종': 1, '전': 1, '향후': 1, '과정': 1, '사례': 1, '의심': 1, '병': 1, '변': 1, '정확도': 1, '식별': 1, '반면': 1, '지속': 1, '서범석': 1, '대표': 1, '공개': 1, '부족': 1, '문제': 1, '해결': 1, '가지': 1, '핵심': 1, '과제': 1, '해결책': 1, '점': 1, '의미': 1, '있다': 1, '말': 1})\n"
     ]
    }
   ],
   "source": [
    "from konlpy.tag import Komoran\n",
    "from collections import Counter\n",
    "\n",
    "nouns_text = \" \".join(nouns)\n",
    "word_counts = Counter(nouns_text.split())\n",
    "print(word_counts)"
   ]
  },
  {
   "cell_type": "code",
   "execution_count": null,
   "id": "f1328821-d920-440b-b8d3-4dfb505554e1",
   "metadata": {},
   "outputs": [],
   "source": []
  }
 ],
 "metadata": {
  "kernelspec": {
   "display_name": "Python 3 (ipykernel)",
   "language": "python",
   "name": "python3"
  },
  "language_info": {
   "codemirror_mode": {
    "name": "ipython",
    "version": 3
   },
   "file_extension": ".py",
   "mimetype": "text/x-python",
   "name": "python",
   "nbconvert_exporter": "python",
   "pygments_lexer": "ipython3",
   "version": "3.13.1"
  }
 },
 "nbformat": 4,
 "nbformat_minor": 5
}
