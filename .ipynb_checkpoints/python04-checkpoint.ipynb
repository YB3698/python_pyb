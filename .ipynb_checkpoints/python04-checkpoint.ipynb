{
 "cells": [
  {
   "cell_type": "markdown",
   "id": "619e57b2-5086-4775-8365-0d146046cd80",
   "metadata": {},
   "source": [
    "# 함수"
   ]
  },
  {
   "cell_type": "markdown",
   "id": "8c926ecb-46b4-453e-9a05-5a2e26f474bf",
   "metadata": {},
   "source": [
    "## 1.1. 입력값과 리턴값에 따른 함수의 형태"
   ]
  },
  {
   "cell_type": "code",
   "execution_count": null,
   "id": "8236aa97-fc4f-4cbc-8f9f-695e6e075a84",
   "metadata": {},
   "outputs": [],
   "source": [
    "# 일반적인 함수"
   ]
  },
  {
   "cell_type": "code",
   "execution_count": 15,
   "id": "481e8bd5-8cd2-4113-91d8-1103182d21af",
   "metadata": {},
   "outputs": [],
   "source": [
    "def 덧셈(a, b):\n",
    "    result = a + b\n",
    "    return result"
   ]
  },
  {
   "cell_type": "code",
   "execution_count": 16,
   "id": "c567b422-e280-4535-8011-d2669c359532",
   "metadata": {},
   "outputs": [
    {
     "ename": "NameError",
     "evalue": "name 'add' is not defined",
     "output_type": "error",
     "traceback": [
      "\u001b[1;31m---------------------------------------------------------------------------\u001b[0m",
      "\u001b[1;31mNameError\u001b[0m                                 Traceback (most recent call last)",
      "Cell \u001b[1;32mIn[16], line 1\u001b[0m\n\u001b[1;32m----> 1\u001b[0m a \u001b[38;5;241m=\u001b[39m \u001b[43madd\u001b[49m(\u001b[38;5;241m77\u001b[39m,\u001b[38;5;241m10\u001b[39m)\n\u001b[0;32m      2\u001b[0m \u001b[38;5;28mprint\u001b[39m(a)\n",
      "\u001b[1;31mNameError\u001b[0m: name 'add' is not defined"
     ]
    }
   ],
   "source": [
    "a = add(77,10)\n",
    "print(a)"
   ]
  },
  {
   "cell_type": "code",
   "execution_count": 13,
   "id": "6b1f1c67-9f2f-4a66-b7f7-c7c23ff35b23",
   "metadata": {},
   "outputs": [
    {
     "name": "stdout",
     "output_type": "stream",
     "text": [
      "====2단====\n",
      "2 x 1 = 2\n",
      "2 x 2 = 4\n",
      "2 x 3 = 6\n",
      "2 x 4 = 8\n",
      "2 x 5 = 10\n",
      "2 x 6 = 12\n",
      "2 x 7 = 14\n",
      "2 x 8 = 16\n",
      "2 x 9 = 18\n",
      "\n"
     ]
    }
   ],
   "source": [
    "# 예시\n",
    "def gugu(end = 9):\n",
    "    data = ''\n",
    "    for j in range(2,end + 1):\n",
    "        print(f\"{str(j) + '단' :=^10}\")\n",
    "        for i in range(1,10):\n",
    "            data += (f'{j} x {i} = {j*i}') + '\\n'\n",
    "        return data\n",
    "print(gugu(2))"
   ]
  },
  {
   "cell_type": "code",
   "execution_count": 18,
   "id": "92550733-2dd1-4219-8395-49fb65e1490f",
   "metadata": {},
   "outputs": [],
   "source": [
    "# 입력값이 없는 함수"
   ]
  },
  {
   "cell_type": "code",
   "execution_count": 17,
   "id": "eb1bf7eb-6981-4185-a287-01fe4bf1df29",
   "metadata": {},
   "outputs": [
    {
     "ename": "NameError",
     "evalue": "name 'say' is not defined",
     "output_type": "error",
     "traceback": [
      "\u001b[1;31m---------------------------------------------------------------------------\u001b[0m",
      "\u001b[1;31mNameError\u001b[0m                                 Traceback (most recent call last)",
      "Cell \u001b[1;32mIn[17], line 1\u001b[0m\n\u001b[1;32m----> 1\u001b[0m a \u001b[38;5;241m=\u001b[39m \u001b[43msay\u001b[49m()\n\u001b[0;32m      2\u001b[0m \u001b[38;5;28mprint\u001b[39m(a)\n",
      "\u001b[1;31mNameError\u001b[0m: name 'say' is not defined"
     ]
    }
   ],
   "source": [
    "a = say()\n",
    "print(a)"
   ]
  },
  {
   "cell_type": "code",
   "execution_count": 21,
   "id": "25d5679c-d05a-435f-aa1d-7905a7eb6c62",
   "metadata": {},
   "outputs": [],
   "source": [
    "# 테스트\n",
    "import time as t\n",
    "def disp():\n",
    "    print(\"안녕!\\r\",end=\"\")\n",
    "    t.sleep(1)\n",
    "    print(\"전 입력값과 리턴값이 없어요.\\r\", end=\"\")\n",
    "    t.sleep(2)\n",
    "    print(\"빠이~         \",end=\"\")\n",
    "    t.sleep(2)"
   ]
  },
  {
   "cell_type": "code",
   "execution_count": 20,
   "id": "8b9e0211-8c58-4631-ad9c-44254069a5a5",
   "metadata": {},
   "outputs": [
    {
     "name": "stdout",
     "output_type": "stream",
     "text": [
      "안녕!\n",
      "전 입력값과 리턴값이 없어요.\n",
      "빠이\n"
     ]
    }
   ],
   "source": [
    "disp()"
   ]
  },
  {
   "cell_type": "code",
   "execution_count": 22,
   "id": "08f0c880-3483-4aef-8867-67862362a707",
   "metadata": {},
   "outputs": [
    {
     "name": "stdout",
     "output_type": "stream",
     "text": [
      "44\n"
     ]
    }
   ],
   "source": [
    "# max() //\n",
    "def bs(li=[33,11,22,44]):\n",
    "    sw = 0\n",
    "    for x in range(len(li)):\n",
    "        if sw < li[x]:\n",
    "            sw = li[x]\n",
    "    return sw\n",
    "print(bs())"
   ]
  },
  {
   "cell_type": "code",
   "execution_count": 24,
   "id": "b0aac430-2769-4fdc-99ec-31d3854ca911",
   "metadata": {},
   "outputs": [
    {
     "name": "stdout",
     "output_type": "stream",
     "text": [
      "41\n"
     ]
    }
   ],
   "source": [
    "print(bs([1,21,3,41,5,16]))"
   ]
  },
  {
   "cell_type": "code",
   "execution_count": 27,
   "id": "da73dc9a-b387-432f-93b3-9110d5ffd182",
   "metadata": {},
   "outputs": [],
   "source": [
    "# 매개변수를 지정하여 호출하기\n",
    "def sub(a,b):\n",
    "    return a-b"
   ]
  },
  {
   "cell_type": "code",
   "execution_count": 28,
   "id": "6b9044b3-fee4-449f-bf82-60a18b9573c1",
   "metadata": {},
   "outputs": [
    {
     "name": "stdout",
     "output_type": "stream",
     "text": [
      "4\n"
     ]
    }
   ],
   "source": [
    "# result = sub(a=7,b=3)\n",
    "result = sub(b=3,a=7)\n",
    "print(result)"
   ]
  },
  {
   "cell_type": "code",
   "execution_count": 30,
   "id": "a635d7ca-0a90-4186-8593-71665d144163",
   "metadata": {},
   "outputs": [],
   "source": [
    "#! pip install matplotlib"
   ]
  },
  {
   "cell_type": "code",
   "execution_count": 51,
   "id": "c01fcd79-b858-4df3-b183-485485f34b1d",
   "metadata": {},
   "outputs": [],
   "source": [
    "import random as r\n",
    "import matplotlib.pyplot as plt\n",
    "def dice(target = 250000):\n",
    "    box = [] # 초기화\n",
    "    num = 0\n",
    "    results = {}\n",
    "    while num < target :\n",
    "        num = num + 1\n",
    "        ran = r.randint(1,6)\n",
    "        box.append(ran)\n",
    "    if target == len(box):\n",
    "        print(f\"{target}회 정상 진행되었습니다.\")\n",
    "    else:\n",
    "        print(f\"검증 결과 횟수 이상이 있습니다. 이유 : {target}회 목표로 동작하였으나, {len(box)}으로 측정되었습니다.\")\n",
    "    for n in range(1,7):\n",
    "        results[n] = box.count(n)\n",
    "        print(f\"{n}번이 {box.count(n)}번({(box.count(n)/len(box))*100:.2f}% 등장하였습니다.)\")\n",
    "    print(results)\n",
    "    color = [\"khaki\",\"pink\",\"skyblue\",\"khaki\",\"pink\",\"skyblue\"]\n",
    "    plt.bar(results.keys(),results.values(),color=color)\n",
    "    plt.show()"
   ]
  },
  {
   "cell_type": "code",
   "execution_count": 52,
   "id": "63747f94-3e59-4aaa-a1c1-a9fdf1acbc76",
   "metadata": {},
   "outputs": [
    {
     "name": "stdout",
     "output_type": "stream",
     "text": [
      "250000회 정상 진행되었습니다.\n",
      "1번이 41885번(16.75% 등장하였습니다.)\n",
      "2번이 41712번(16.68% 등장하였습니다.)\n",
      "3번이 41566번(16.63% 등장하였습니다.)\n",
      "4번이 41334번(16.53% 등장하였습니다.)\n",
      "5번이 41730번(16.69% 등장하였습니다.)\n",
      "6번이 41773번(16.71% 등장하였습니다.)\n",
      "{1: 41885, 2: 41712, 3: 41566, 4: 41334, 5: 41730, 6: 41773}\n"
     ]
    },
    {
     "data": {
      "image/png": "[encoded data removed]",
      "text/plain": [
       "<Figure size 640x480 with 1 Axes>"
      ]
     },
     "metadata": {},
     "output_type": "display_data"
    }
   ],
   "source": [
    "dice()"
   ]
  },
  {
   "cell_type": "code",
   "execution_count": 64,
   "id": "8e1b27d6-d442-45b0-89bd-b66b75649d05",
   "metadata": {},
   "outputs": [],
   "source": [
    "# 여러개의 입력값을 받는 함수 만들기\n",
    "def add_many(args): # def add_many(*args)와 같이 *을 찍어주면 아래 라인 res에서 괄호를 하나 빼줘도 됨\n",
    "    result = 0\n",
    "    for i in args: #받아들이는 값들을 보통 arg라고 줄여서 변수명으로 잡음\n",
    "        result = result + i\n",
    "    return result"
   ]
  },
  {
   "cell_type": "code",
   "execution_count": 66,
   "id": "ce3bddb6-3ab4-4c23-b342-52bedd98286b",
   "metadata": {},
   "outputs": [
    {
     "name": "stdout",
     "output_type": "stream",
     "text": [
      "14\n"
     ]
    }
   ],
   "source": [
    "res = add_many((1,4,3,1,5)) # *args라고 했다면 add_many(1,4,3,1,5)라고 해도 됨\n",
    "print(res)"
   ]
  },
  {
   "cell_type": "code",
   "execution_count": 3,
   "id": "2015237d-cb17-401d-a6dd-424eb23b3606",
   "metadata": {},
   "outputs": [
    {
     "data": {
      "text/plain": [
       "0.3333333333333333"
      ]
     },
     "execution_count": 3,
     "metadata": {},
     "output_type": "execute_result"
    }
   ],
   "source": [
    "# 계산기\n",
    "def add_mul(choice, *args):\n",
    "    if choice == \"add\": # 매개변수 choice에 \"add\"를 입력받았을 때\n",
    "        result = 0\n",
    "        for i in args:\n",
    "            result = result + i \n",
    "    elif choice == \"sub\": # 매개변수 choice에 \"sum\"를 입력받았을 때\n",
    "        result = 0\n",
    "        for i in args:\n",
    "            result = result - i\n",
    "    elif choice == \"mul\":\n",
    "        result = 1\n",
    "        for i in args:\n",
    "            result = result * i\n",
    "    elif choice == \"div\":\n",
    "        result = 1\n",
    "        for i in args:\n",
    "            result = result / i\n",
    "    else:\n",
    "        result = choice\n",
    "        print(\"정확하게 입력하세요\")\n",
    "    return result\n",
    "\n",
    "add_mul('div',3,1)"
   ]
  },
  {
   "cell_type": "code",
   "execution_count": 1,
   "id": "e1d272d3-fc84-4d36-8ed9-688e875d0f53",
   "metadata": {},
   "outputs": [
    {
     "name": "stdout",
     "output_type": "stream",
     "text": [
      "{'name': '홍길동', 'age': 21, 'address': '대한민국'}\n"
     ]
    }
   ],
   "source": [
    "# 키워드 매개변수 kwargs\n",
    "def print_kwargs(**kwargs):\n",
    "    print(kwargs)\n",
    "\n",
    "print_kwargs(name='홍길동', age=21, address='대한민국')"
   ]
  },
  {
   "cell_type": "code",
   "execution_count": 84,
   "id": "1bab2a9f-ffe9-46fa-ba5b-13f6a3765a3e",
   "metadata": {},
   "outputs": [],
   "source": [
    "# TEST\n",
    "def test():\n",
    "    print('저야 영광이죠~!!')\n",
    "    if 13 > 4 :return\n",
    "    print('집에 가고 싶어!~!')\n",
    "    return"
   ]
  },
  {
   "cell_type": "code",
   "execution_count": 85,
   "id": "412058f2-6e58-46e0-a189-5a4c134b1426",
   "metadata": {},
   "outputs": [
    {
     "name": "stdout",
     "output_type": "stream",
     "text": [
      "저야 영광이죠~!!\n"
     ]
    }
   ],
   "source": [
    "test()"
   ]
  },
  {
   "cell_type": "code",
   "execution_count": 86,
   "id": "234aee68-d74b-4c6f-a9b6-3827fa73d620",
   "metadata": {},
   "outputs": [
    {
     "name": "stdout",
     "output_type": "stream",
     "text": [
      "35 286\n"
     ]
    }
   ],
   "source": [
    "# test2\n",
    "def test2(a,b):\n",
    "    return a+b, a*b\n",
    "add_result,mul_result = test2(13,22)\n",
    "print(add_result, mul_result)"
   ]
  },
  {
   "cell_type": "code",
   "execution_count": null,
   "id": "6bbaf05f-bcf4-4b5a-bd7c-ea43c785690c",
   "metadata": {},
   "outputs": [],
   "source": [
    "def say_nick(nick):\n",
    "    if nick == \"바보\":\n",
    "        return\n",
    "    print(\"나의 별명은 %s입니다.\" %nick)\n",
    "\n",
    "say_nick('야호')"
   ]
  },
  {
   "cell_type": "markdown",
   "id": "b406d99e-7d3c-4a70-af0c-a4edcd713272",
   "metadata": {},
   "source": [
    "## 1.2. 함수 안에서 선언한 변수의 효력 범위"
   ]
  },
  {
   "cell_type": "code",
   "execution_count": 12,
   "id": "4238eb19-5ff1-4a24-a5f1-5599198c77c6",
   "metadata": {},
   "outputs": [
    {
     "name": "stdout",
     "output_type": "stream",
     "text": [
      "1\n"
     ]
    }
   ],
   "source": [
    "# 테스트 1\n",
    "a = 1\n",
    "\n",
    "def test1(a):\n",
    "    a = a + 1 # 함수(def) 안에서만 사용 가능\n",
    "test1(a) # 밖으로 나가면 def에서 작성한 a와 이 a는 다른 a라고 봐야됨\n",
    "\n",
    "print(a) # a=1이 적용되어 1이 나옴"
   ]
  },
  {
   "cell_type": "code",
   "execution_count": 8,
   "id": "6a2ebe07-703f-455f-ac91-1009482ffbf0",
   "metadata": {},
   "outputs": [
    {
     "ename": "NameError",
     "evalue": "name 'b' is not defined",
     "output_type": "error",
     "traceback": [
      "\u001b[1;31m---------------------------------------------------------------------------\u001b[0m",
      "\u001b[1;31mNameError\u001b[0m                                 Traceback (most recent call last)",
      "Cell \u001b[1;32mIn[8], line 5\u001b[0m\n\u001b[0;32m      3\u001b[0m     b \u001b[38;5;241m=\u001b[39m b \u001b[38;5;241m+\u001b[39m \u001b[38;5;241m1\u001b[39m\n\u001b[0;32m      4\u001b[0m test2(\u001b[38;5;241m3\u001b[39m)\n\u001b[1;32m----> 5\u001b[0m \u001b[38;5;28mprint\u001b[39m(\u001b[43mb\u001b[49m)\n",
      "\u001b[1;31mNameError\u001b[0m: name 'b' is not defined"
     ]
    }
   ],
   "source": [
    "# 테스트 2\n",
    "def test2(b):\n",
    "    b = b + 1\n",
    "test2(3)\n",
    "print(b)"
   ]
  },
  {
   "cell_type": "code",
   "execution_count": 9,
   "id": "a39198d9-da4a-4487-b22d-63fe26f9aa13",
   "metadata": {},
   "outputs": [
    {
     "name": "stdout",
     "output_type": "stream",
     "text": [
      "2\n"
     ]
    }
   ],
   "source": [
    "# 테스트 3\n",
    "c = 1\n",
    "def test3(c):\n",
    "    c = c + 1\n",
    "    return c # return 해주면 값이 적용됨\n",
    "c = test3(c) # 여기서 c = c+1 과 같음\n",
    "print(c)"
   ]
  },
  {
   "cell_type": "code",
   "execution_count": 11,
   "id": "6eef8791-6437-45b1-b081-3dfe2dd58fe0",
   "metadata": {},
   "outputs": [
    {
     "name": "stdout",
     "output_type": "stream",
     "text": [
      "2\n"
     ]
    }
   ],
   "source": [
    "# 테스트 4\n",
    "d = 1\n",
    "def test4():\n",
    "    global d # 이걸 사용하면 함수 밖에서도 d 변수를 사용하겠다는건데 \n",
    "             #  나중에 꼬일 수 있기 때문에 사용하지 않는게 좋음\n",
    "    d = d + 1\n",
    "test4()\n",
    "print(d)"
   ]
  },
  {
   "cell_type": "markdown",
   "id": "2af24971-c200-48b3-a185-844a3b350d08",
   "metadata": {},
   "source": [
    "## 1.3. lambda 예약어 ( 익명함수 )"
   ]
  },
  {
   "cell_type": "code",
   "execution_count": 2,
   "id": "55707b55-d5cc-4911-aef1-c547611cf929",
   "metadata": {},
   "outputs": [
    {
     "name": "stdout",
     "output_type": "stream",
     "text": [
      "5\n"
     ]
    }
   ],
   "source": [
    "#람다 사용법\n",
    "# def test(a,b):\n",
    "#     return a + b  를 밑에 한줄로 사용할 수 있음\n",
    "\n",
    "add = lambda a,b : a + b # 두 숫자를 더하는 함수\n",
    "print(add(1,4))"
   ]
  },
  {
   "cell_type": "code",
   "execution_count": 9,
   "id": "235d6393-3765-4062-a4c8-adebec4fae2e",
   "metadata": {},
   "outputs": [
    {
     "name": "stdout",
     "output_type": "stream",
     "text": [
      "[(4, 1), (1, 2), (5, 3)]\n"
     ]
    }
   ],
   "source": [
    "# 유빈이가 만든 예시(정렬 사용)\n",
    "튜플리스트 = [(1, 2), (4, 1), (5, 3)]\n",
    "튜플리스트.sort(key=lambda x: x[1]) # x는 튜플 각 요소, x[x]는 \n",
    "print(points)"
   ]
  },
  {
   "cell_type": "code",
   "execution_count": 7,
   "id": "8731c852-d77c-4a0a-b837-3257c4e68971",
   "metadata": {},
   "outputs": [
    {
     "name": "stdout",
     "output_type": "stream",
     "text": [
      "25\n"
     ]
    }
   ],
   "source": [
    "# 유빈이가 만든 예시(함수인자로 사용)\n",
    "def 곱하기(x, func):\n",
    "    return func(x)\n",
    "\n",
    "result = apply_function(5, lambda x: x * x)\n",
    "print(result)"
   ]
  },
  {
   "cell_type": "code",
   "execution_count": 17,
   "id": "6eb32f74-da75-45eb-b5f6-fc3a0a63973e",
   "metadata": {},
   "outputs": [
    {
     "name": "stdout",
     "output_type": "stream",
     "text": [
      "[0, 1, 2, 3, 4, 5, 6, 7, 8, 9]\n"
     ]
    }
   ],
   "source": [
    "a1 = [ x for x in range(10)]\n",
    "print(a1)"
   ]
  },
  {
   "cell_type": "code",
   "execution_count": 19,
   "id": "70b62288-de9e-4f27-94ae-40198ebdbc36",
   "metadata": {},
   "outputs": [
    {
     "name": "stdout",
     "output_type": "stream",
     "text": [
      "[0, 2, 4, 6, 8, 10, 12, 14, 16, 18]\n"
     ]
    }
   ],
   "source": [
    "a2 = [(lambda x : x*2)(x)for x in range(10)]\n",
    "print(a2)"
   ]
  },
  {
   "cell_type": "code",
   "execution_count": 20,
   "id": "bb87f878-0f64-46c4-a50d-408adc2b5a2b",
   "metadata": {},
   "outputs": [
    {
     "name": "stdout",
     "output_type": "stream",
     "text": [
      "[0, 1, 4, 9, 16, 25, 36, 49, 64, 81]\n"
     ]
    }
   ],
   "source": [
    "# 응용예제\n",
    "a3 = [0, 1, 2, 3, 4, 5, 6, 7, 8, 9]\n",
    "p = list(map(lambda x: x**2, a3))\n",
    "print(p)"
   ]
  },
  {
   "cell_type": "markdown",
   "id": "aa7f8a8d-9bfd-49f7-9c5d-19be90766696",
   "metadata": {},
   "source": [
    "# 2. 파일 읽고 쓰기"
   ]
  },
  {
   "cell_type": "code",
   "execution_count": 5,
   "id": "3b3535f1-4bb6-46a3-8fd8-f4706bc59297",
   "metadata": {},
   "outputs": [],
   "source": [
    "# 파일 생성하기1\n",
    "f = open(\"새파일생성,txt\",\"w\")\n",
    "f.close()"
   ]
  },
  {
   "attachments": {},
   "cell_type": "markdown",
   "id": "2b3aaa82-1c40-48bd-ab3d-f70ff8a865bc",
   "metadata": {},
   "source": [
    "<table style=\"float:left\">\n",
    "<thead>\n",
    "<tr>\n",
    "<th>파일열기모드</th>\n",
    "<th>설명</th>\n",
    "</tr>\n",
    "</thead>\n",
    "<tbody>\n",
    "<tr>\n",
    "<td>r</td>\n",
    "<td>읽기 모드: 파일을 읽기만 할 때 사용한다.</td>\n",
    "</tr>\n",
    "<tr>\n",
    "<td>w</td>\n",
    "<td>쓰기 모드: 파일에 내용을 쓸 때 사용한다.</td>\n",
    "</tr>\n",
    "<tr>\n",
    "<td>a</td>\n",
    "<td>추가 모드: 파일의 마지막에 새로운 내용을 추가할 때 사용한다.</td>\n",
    "</tr>\n",
    "</tbody>\n",
    "</table>"
   ]
  },
  {
   "cell_type": "code",
   "execution_count": 12,
   "id": "0cc14d03-2e29-434b-b970-526115e7b0e8",
   "metadata": {},
   "outputs": [],
   "source": [
    "# 파일생성하기2 + 경로\n",
    "path = \"./testfile/\"\n",
    "f = open(path + \"새파일생성3.txt\",\"w\")\n",
    "f.close()"
   ]
  },
  {
   "cell_type": "code",
   "execution_count": 13,
   "id": "a719640f-f8f4-4e8f-9cd2-2cf256d79d80",
   "metadata": {},
   "outputs": [],
   "source": [
    "# 파일을 쓰기 모드로 열어 내용 쓰기\n",
    "path = \"./testfile/\"\n",
    "f = open(path + \"새파일생성3.txt\",\"w\",encoding=\"utf-8\")\n",
    "f.write(\"한글도 잘돼요!!\")\n",
    "f.close()"
   ]
  },
  {
   "cell_type": "code",
   "execution_count": 12,
   "id": "ba2d28bf-124d-44ac-a6a5-62cb17f73e03",
   "metadata": {
    "scrolled": true
   },
   "outputs": [
    {
     "ename": "IndexError",
     "evalue": "list index out of range",
     "output_type": "error",
     "traceback": [
      "\u001b[1;31m---------------------------------------------------------------------------\u001b[0m",
      "\u001b[1;31mIndexError\u001b[0m                                Traceback (most recent call last)",
      "Cell \u001b[1;32mIn[12], line 8\u001b[0m\n\u001b[0;32m      6\u001b[0m \u001b[38;5;28;01mfor\u001b[39;00m n \u001b[38;5;129;01min\u001b[39;00m \u001b[38;5;28mrange\u001b[39m(\u001b[38;5;241m10\u001b[39m):\n\u001b[0;32m      7\u001b[0m     lotto \u001b[38;5;241m=\u001b[39m r\u001b[38;5;241m.\u001b[39msample(\u001b[38;5;28mrange\u001b[39m(\u001b[38;5;241m1\u001b[39m,\u001b[38;5;241m46\u001b[39m),\u001b[38;5;241m6\u001b[39m)\n\u001b[1;32m----> 8\u001b[0m     a \u001b[38;5;241m=\u001b[39m (\u001b[38;5;124mf\u001b[39m\u001b[38;5;124m'\u001b[39m\u001b[38;5;124m추천 \u001b[39m\u001b[38;5;132;01m{\u001b[39;00mn\u001b[38;5;241m+\u001b[39m\u001b[38;5;241m1\u001b[39m\u001b[38;5;132;01m}\u001b[39;00m\u001b[38;5;124m번 : \u001b[39m\u001b[38;5;132;01m{\u001b[39;00m\u001b[43mlotto\u001b[49m\u001b[43m[\u001b[49m\u001b[43mn\u001b[49m\u001b[43m]\u001b[49m\u001b[38;5;132;01m}\u001b[39;00m\u001b[38;5;130;01m\\n\u001b[39;00m\u001b[38;5;124m'\u001b[39m)\n\u001b[0;32m      9\u001b[0m     f\u001b[38;5;241m.\u001b[39mwrite(\u001b[38;5;28mstr\u001b[39m(a))\n\u001b[0;32m     10\u001b[0m f\u001b[38;5;241m.\u001b[39mclose()\n",
      "\u001b[1;31mIndexError\u001b[0m: list index out of range"
     ]
    }
   ],
   "source": [
    "# 하위 testfile폴더내에 lotto.txt.이름으로 로또 번호 6개를 1000개 추천하여 적기\n",
    "path = \"./testfile/\"\n",
    "f = open(path + \"lotto.txt\",\"w\",encoding=\"utf-8\") # encoding은 한글이 깨지지 않고 들어갈 수 있게 \n",
    "                                                  # 적용해주는 코드로 업그레이 전엔 써주는게 좋다. 오류 뜰 때도 있음\n",
    "import random as r\n",
    "for n in range(10):\n",
    "    lotto = r.sample(range(1,46),6)\n",
    "    a = (f'추천 {n+1}번 : {lotto[n]}\\n')\n",
    "    f.write(str(a))\n",
    "f.close()"
   ]
  },
  {
   "cell_type": "code",
   "execution_count": 13,
   "id": "07c94114-d601-4923-96fd-7bd2073f5767",
   "metadata": {},
   "outputs": [
    {
     "ename": "NameError",
     "evalue": "name 'box' is not defined",
     "output_type": "error",
     "traceback": [
      "\u001b[1;31m---------------------------------------------------------------------------\u001b[0m",
      "\u001b[1;31mNameError\u001b[0m                                 Traceback (most recent call last)",
      "Cell \u001b[1;32mIn[13], line 6\u001b[0m\n\u001b[0;32m      4\u001b[0m num \u001b[38;5;241m=\u001b[39m num \u001b[38;5;241m+\u001b[39m \u001b[38;5;241m1\u001b[39m\n\u001b[0;32m      5\u001b[0m lotto \u001b[38;5;241m=\u001b[39m r\u001b[38;5;241m.\u001b[39msample(\u001b[38;5;28mrange\u001b[39m(\u001b[38;5;241m1\u001b[39m,\u001b[38;5;241m46\u001b[39m),\u001b[38;5;241m6\u001b[39m)\n\u001b[1;32m----> 6\u001b[0m a \u001b[38;5;241m=\u001b[39m (\u001b[38;5;124mf\u001b[39m\u001b[38;5;124m'\u001b[39m\u001b[38;5;124m추천 \u001b[39m\u001b[38;5;132;01m{\u001b[39;00mnum\u001b[38;5;132;01m}\u001b[39;00m\u001b[38;5;124m번 : \u001b[39m\u001b[38;5;132;01m{\u001b[39;00m\u001b[43mbox\u001b[49m[num\u001b[38;5;241m-\u001b[39m\u001b[38;5;241m1\u001b[39m]\u001b[38;5;132;01m}\u001b[39;00m\u001b[38;5;124m'\u001b[39m)\n\u001b[0;32m      7\u001b[0m \u001b[38;5;28mprint\u001b[39m(a)\n",
      "\u001b[1;31mNameError\u001b[0m: name 'box' is not defined"
     ]
    }
   ],
   "source": [
    "import random as r\n",
    "num = 0\n",
    "for n in range(10):\n",
    "    num = num + 1\n",
    "    lotto = r.sample(range(1,46),6)\n",
    "    a = (f'추천 {num}번 : {box[num-1]}')\n",
    "    print(a)"
   ]
  },
  {
   "cell_type": "code",
   "execution_count": 78,
   "id": "1276bff2-3d0e-4758-aaca-c52759241c9a",
   "metadata": {
    "scrolled": true
   },
   "outputs": [
    {
     "name": "stdout",
     "output_type": "stream",
     "text": [
      "추천 1번 : [3, 25, 12, 33, 7, 32]\n",
      "추천 2번 : [25, 3, 24, 12, 45, 34]\n",
      "추천 3번 : [10, 23, 20, 43, 41, 7]\n",
      "추천 4번 : [41, 17, 19, 15, 36, 5]\n",
      "추천 5번 : [18, 21, 40, 3, 27, 4]\n",
      "추천 6번 : [22, 13, 33, 40, 21, 35]\n",
      "추천 7번 : [45, 23, 30, 36, 15, 41]\n",
      "추천 8번 : [44, 3, 19, 13, 37, 33]\n",
      "추천 9번 : [17, 23, 7, 11, 37, 16]\n",
      "추천 10번 : [17, 42, 18, 6, 41, 28]\n",
      "추천 11번 : [13, 40, 12, 14, 21, 18]\n"
     ]
    }
   ],
   "source": [
    "box = []\n",
    "import random as r\n",
    "while len(box) < 11:\n",
    "    lotto = r.sample(range(1,46),6)\n",
    "    box.append(lotto)\n",
    "num = 0\n",
    "for lo in box:\n",
    "    num = num + 1\n",
    "    a = (f'추천 {num}번 : {box[num-1]}')"
   ]
  },
  {
   "cell_type": "code",
   "execution_count": 70,
   "id": "059b7b1d-b30d-4835-bf4a-a34f1e49dfab",
   "metadata": {},
   "outputs": [],
   "source": [
    "def diary(name):\n",
    "    path = \"./testfile/\"\n",
    "    f = open(path + name + \".txt\",\"a\",encoding=\"utf-8\") # a를 넣어주면 전에 내용이 삭제되지 않고 추가되어 작성됨\n",
    "    \n",
    "    while 1:\n",
    "        inp = input(\"작성하고 싶은 내용\")\n",
    "        if inp =='그만' : break\n",
    "        f.write(inp+'\\n')\n",
    "    f.close()"
   ]
  },
  {
   "cell_type": "code",
   "execution_count": 71,
   "id": "3cbbb97a-8d4c-4779-aa48-dd1fde6177cb",
   "metadata": {},
   "outputs": [
    {
     "name": "stdin",
     "output_type": "stream",
     "text": [
      "작성하고 싶은 내용 오늘 날씨가 너무 춥다\n",
      "작성하고 싶은 내용 근데 너무 잠온다\n",
      "작성하고 싶은 내용 그만\n"
     ]
    }
   ],
   "source": [
    "diary('20250201일기')"
   ]
  },
  {
   "cell_type": "markdown",
   "id": "b5db7349-bdcb-43a9-91ab-72fbc03b3017",
   "metadata": {},
   "source": [
    "## 2.2. 파일을 읽는 방법"
   ]
  },
  {
   "cell_type": "code",
   "execution_count": 64,
   "id": "41135c5a-d227-40e4-beed-2873e2d290c9",
   "metadata": {},
   "outputs": [],
   "source": [
    "path = \"./testfile/\"\n",
    "f = open(path + \"새파일생성4.txt\",\"w\",encoding=\"utf-8\")\n",
    "for n in range(10):\n",
    "    f.write(f\"{n+1}번째 한글도 잘돼요!!!/n\")\n",
    "f.close()"
   ]
  },
  {
   "cell_type": "code",
   "execution_count": 69,
   "id": "61fb7e66-0511-496d-a2a2-37c68b5b07f1",
   "metadata": {},
   "outputs": [
    {
     "name": "stdout",
     "output_type": "stream",
     "text": [
      "1번째 한글도 잘돼요!!!/n2번째 한글도 잘돼요!!!/n3번째 한글도 잘돼요!!!/n4번째 한글도 잘돼요!!!/n5번째 한글도 잘돼요!!!/n6번째 한글도 잘돼요!!!/n7번째 한글도 잘돼요!!!/n8번째 한글도 잘돼요!!!/n9번째 한글도 잘돼요!!!/n10번째 한글도 잘돼요!!!/n\n",
      "\n"
     ]
    }
   ],
   "source": [
    "# readline\n",
    "f = open(path + \"새파일생성4.txt\",\"r\",encoding=\"utf-8\")\n",
    "line = f.readline()\n",
    "print(line)\n",
    "line = f.readline()\n",
    "print(line)\n",
    "f.close()"
   ]
  },
  {
   "cell_type": "code",
   "execution_count": 66,
   "id": "c9c12439-e46c-4e70-98ab-4c975b507616",
   "metadata": {},
   "outputs": [
    {
     "name": "stdout",
     "output_type": "stream",
     "text": [
      "1번째 한글도 잘돼요!!!/n2번째 한글도 잘돼요!!!/n3번째 한글도 잘돼요!!!/n4번째 한글도 잘돼요!!!/n5번째 한글도 잘돼요!!!/n6번째 한글도 잘돼요!!!/n7번째 한글도 잘돼요!!!/n8번째 한글도 잘돼요!!!/n9번째 한글도 잘돼요!!!/n10번째 한글도 잘돼요!!!/n\n"
     ]
    }
   ],
   "source": [
    "# readline + while\n",
    "f = open(path + \"새파일생성4.txt\",\"r\",encoding=\"utf-8\")\n",
    "while 1:\n",
    "    line = f.readline()\n",
    "    if not line : break\n",
    "    print(line)\n",
    "f.close()"
   ]
  },
  {
   "cell_type": "code",
   "execution_count": 6,
   "id": "89846c1a-4b6a-408e-a7c2-95492d4521f3",
   "metadata": {},
   "outputs": [
    {
     "ename": "FileNotFoundError",
     "evalue": "[Errno 2] No such file or directory: './testfile/새파일4.txt'",
     "output_type": "error",
     "traceback": [
      "\u001b[1;31m---------------------------------------------------------------------------\u001b[0m",
      "\u001b[1;31mFileNotFoundError\u001b[0m                         Traceback (most recent call last)",
      "Cell \u001b[1;32mIn[6], line 3\u001b[0m\n\u001b[0;32m      1\u001b[0m \u001b[38;5;66;03m# readlines + strip\u001b[39;00m\n\u001b[0;32m      2\u001b[0m path \u001b[38;5;241m=\u001b[39m \u001b[38;5;124m\"\u001b[39m\u001b[38;5;124m./testfile/\u001b[39m\u001b[38;5;124m\"\u001b[39m\n\u001b[1;32m----> 3\u001b[0m f \u001b[38;5;241m=\u001b[39m \u001b[38;5;28;43mopen\u001b[39;49m\u001b[43m(\u001b[49m\u001b[43mpath\u001b[49m\u001b[43m \u001b[49m\u001b[38;5;241;43m+\u001b[39;49m\u001b[43m \u001b[49m\u001b[38;5;124;43m\"\u001b[39;49m\u001b[38;5;124;43m새파일4.txt\u001b[39;49m\u001b[38;5;124;43m\"\u001b[39;49m\u001b[43m,\u001b[49m\u001b[38;5;124;43m\"\u001b[39;49m\u001b[38;5;124;43mr\u001b[39;49m\u001b[38;5;124;43m\"\u001b[39;49m\u001b[43m,\u001b[49m\u001b[43mencoding\u001b[49m\u001b[38;5;241;43m=\u001b[39;49m\u001b[38;5;124;43m\"\u001b[39;49m\u001b[38;5;124;43mutf-8\u001b[39;49m\u001b[38;5;124;43m\"\u001b[39;49m\u001b[43m)\u001b[49m\n\u001b[0;32m      4\u001b[0m lines \u001b[38;5;241m=\u001b[39m f\u001b[38;5;241m.\u001b[39mreadlines()\n\u001b[0;32m      5\u001b[0m \u001b[38;5;66;03m#print(llines,type(lines))\u001b[39;00m\n",
      "File \u001b[1;32mC:\\Dev\\Lang\\Python313\\Lib\\site-packages\\IPython\\core\\interactiveshell.py:324\u001b[0m, in \u001b[0;36m_modified_open\u001b[1;34m(file, *args, **kwargs)\u001b[0m\n\u001b[0;32m    317\u001b[0m \u001b[38;5;28;01mif\u001b[39;00m file \u001b[38;5;129;01min\u001b[39;00m {\u001b[38;5;241m0\u001b[39m, \u001b[38;5;241m1\u001b[39m, \u001b[38;5;241m2\u001b[39m}:\n\u001b[0;32m    318\u001b[0m     \u001b[38;5;28;01mraise\u001b[39;00m \u001b[38;5;167;01mValueError\u001b[39;00m(\n\u001b[0;32m    319\u001b[0m         \u001b[38;5;124mf\u001b[39m\u001b[38;5;124m\"\u001b[39m\u001b[38;5;124mIPython won\u001b[39m\u001b[38;5;124m'\u001b[39m\u001b[38;5;124mt let you open fd=\u001b[39m\u001b[38;5;132;01m{\u001b[39;00mfile\u001b[38;5;132;01m}\u001b[39;00m\u001b[38;5;124m by default \u001b[39m\u001b[38;5;124m\"\u001b[39m\n\u001b[0;32m    320\u001b[0m         \u001b[38;5;124m\"\u001b[39m\u001b[38;5;124mas it is likely to crash IPython. If you know what you are doing, \u001b[39m\u001b[38;5;124m\"\u001b[39m\n\u001b[0;32m    321\u001b[0m         \u001b[38;5;124m\"\u001b[39m\u001b[38;5;124myou can use builtins\u001b[39m\u001b[38;5;124m'\u001b[39m\u001b[38;5;124m open.\u001b[39m\u001b[38;5;124m\"\u001b[39m\n\u001b[0;32m    322\u001b[0m     )\n\u001b[1;32m--> 324\u001b[0m \u001b[38;5;28;01mreturn\u001b[39;00m \u001b[43mio_open\u001b[49m\u001b[43m(\u001b[49m\u001b[43mfile\u001b[49m\u001b[43m,\u001b[49m\u001b[43m \u001b[49m\u001b[38;5;241;43m*\u001b[39;49m\u001b[43margs\u001b[49m\u001b[43m,\u001b[49m\u001b[43m \u001b[49m\u001b[38;5;241;43m*\u001b[39;49m\u001b[38;5;241;43m*\u001b[39;49m\u001b[43mkwargs\u001b[49m\u001b[43m)\u001b[49m\n",
      "\u001b[1;31mFileNotFoundError\u001b[0m: [Errno 2] No such file or directory: './testfile/새파일4.txt'"
     ]
    }
   ],
   "source": [
    "# readlines + strip\n",
    "path = \"./testfile/\"\n",
    "f = open(path + \"새파일4.txt\",\"r\",encoding=\"utf-8\")\n",
    "lines = f.readlines()\n",
    "#print(llines,type(lines))\n",
    "for n in lines:\n",
    "    print(list(n))\n",
    "    n = n.strip() # \"\"\\n을 지운다.\"\n",
    "    print(list(n))\n",
    "f.close()"
   ]
  },
  {
   "cell_type": "code",
   "execution_count": null,
   "id": "bdcb4bd2-545f-4891-b4ad-be6cf4f4b396",
   "metadata": {},
   "outputs": [],
   "source": [
    "# readlines + strip()\n",
    "path = \"./testfile/\"\n",
    "f = open(path + \"새파일4.txt\",\"r\",encoding=\"utf-8\")\n",
    "lines = f.readlines()\n",
    "#print(llines,type(lines))\n",
    "for n in lines:\n",
    "    n = n.strip()\n",
    "    print(n)\n",
    "f.close()"
   ]
  },
  {
   "cell_type": "code",
   "execution_count": 95,
   "id": "946cb5fb-d5c4-48c6-9b80-2999bb9de2f3",
   "metadata": {},
   "outputs": [],
   "source": [
    "# 테스트\n",
    "open(\"파일이름.txt\",'w').write('내용작성') #f 설정 안해주면 위와 아래를 같은애라고 안봄\n",
    "open(\"파일이름.txt\",'w').close()"
   ]
  },
  {
   "cell_type": "code",
   "execution_count": 1,
   "id": "6b15a4f4-aef1-4bbb-8e17-fc8e728186e8",
   "metadata": {},
   "outputs": [],
   "source": [
    "# 테스트\n",
    "f = open(\"파일이름.txt\",'w')\n",
    "f.write('내용작성 zzzz51513')\n",
    "f.close()"
   ]
  },
  {
   "cell_type": "code",
   "execution_count": 4,
   "id": "b9c98722-cc55-4b6a-b32f-8d57bea02413",
   "metadata": {},
   "outputs": [
    {
     "ename": "FileNotFoundError",
     "evalue": "[Errno 2] No such file or directory: './testfile/새파일4.txt'",
     "output_type": "error",
     "traceback": [
      "\u001b[1;31m---------------------------------------------------------------------------\u001b[0m",
      "\u001b[1;31mFileNotFoundError\u001b[0m                         Traceback (most recent call last)",
      "Cell \u001b[1;32mIn[4], line 3\u001b[0m\n\u001b[0;32m      1\u001b[0m \u001b[38;5;66;03m# read 함수 사용하기\u001b[39;00m\n\u001b[0;32m      2\u001b[0m path \u001b[38;5;241m=\u001b[39m \u001b[38;5;124m\"\u001b[39m\u001b[38;5;124m./testfile/\u001b[39m\u001b[38;5;124m\"\u001b[39m\n\u001b[1;32m----> 3\u001b[0m f \u001b[38;5;241m=\u001b[39m \u001b[38;5;28;43mopen\u001b[39;49m\u001b[43m(\u001b[49m\u001b[43mpath\u001b[49m\u001b[43m \u001b[49m\u001b[38;5;241;43m+\u001b[39;49m\u001b[43m \u001b[49m\u001b[38;5;124;43m\"\u001b[39;49m\u001b[38;5;124;43m새파일4.txt\u001b[39;49m\u001b[38;5;124;43m\"\u001b[39;49m\u001b[43m,\u001b[49m\u001b[38;5;124;43m\"\u001b[39;49m\u001b[38;5;124;43mr\u001b[39;49m\u001b[38;5;124;43m\"\u001b[39;49m\u001b[43m,\u001b[49m\u001b[43mencoding\u001b[49m\u001b[38;5;241;43m=\u001b[39;49m\u001b[38;5;124;43m\"\u001b[39;49m\u001b[38;5;124;43mutf-8\u001b[39;49m\u001b[38;5;124;43m\"\u001b[39;49m\u001b[43m)\u001b[49m\n\u001b[0;32m      4\u001b[0m data \u001b[38;5;241m=\u001b[39m f\u001b[38;5;241m.\u001b[39mread()\n\u001b[0;32m      5\u001b[0m \u001b[38;5;28mprint\u001b[39m(data,\u001b[38;5;28mtype\u001b[39m(data))\n",
      "File \u001b[1;32mC:\\Dev\\Lang\\Python313\\Lib\\site-packages\\IPython\\core\\interactiveshell.py:324\u001b[0m, in \u001b[0;36m_modified_open\u001b[1;34m(file, *args, **kwargs)\u001b[0m\n\u001b[0;32m    317\u001b[0m \u001b[38;5;28;01mif\u001b[39;00m file \u001b[38;5;129;01min\u001b[39;00m {\u001b[38;5;241m0\u001b[39m, \u001b[38;5;241m1\u001b[39m, \u001b[38;5;241m2\u001b[39m}:\n\u001b[0;32m    318\u001b[0m     \u001b[38;5;28;01mraise\u001b[39;00m \u001b[38;5;167;01mValueError\u001b[39;00m(\n\u001b[0;32m    319\u001b[0m         \u001b[38;5;124mf\u001b[39m\u001b[38;5;124m\"\u001b[39m\u001b[38;5;124mIPython won\u001b[39m\u001b[38;5;124m'\u001b[39m\u001b[38;5;124mt let you open fd=\u001b[39m\u001b[38;5;132;01m{\u001b[39;00mfile\u001b[38;5;132;01m}\u001b[39;00m\u001b[38;5;124m by default \u001b[39m\u001b[38;5;124m\"\u001b[39m\n\u001b[0;32m    320\u001b[0m         \u001b[38;5;124m\"\u001b[39m\u001b[38;5;124mas it is likely to crash IPython. If you know what you are doing, \u001b[39m\u001b[38;5;124m\"\u001b[39m\n\u001b[0;32m    321\u001b[0m         \u001b[38;5;124m\"\u001b[39m\u001b[38;5;124myou can use builtins\u001b[39m\u001b[38;5;124m'\u001b[39m\u001b[38;5;124m open.\u001b[39m\u001b[38;5;124m\"\u001b[39m\n\u001b[0;32m    322\u001b[0m     )\n\u001b[1;32m--> 324\u001b[0m \u001b[38;5;28;01mreturn\u001b[39;00m \u001b[43mio_open\u001b[49m\u001b[43m(\u001b[49m\u001b[43mfile\u001b[49m\u001b[43m,\u001b[49m\u001b[43m \u001b[49m\u001b[38;5;241;43m*\u001b[39;49m\u001b[43margs\u001b[49m\u001b[43m,\u001b[49m\u001b[43m \u001b[49m\u001b[38;5;241;43m*\u001b[39;49m\u001b[38;5;241;43m*\u001b[39;49m\u001b[43mkwargs\u001b[49m\u001b[43m)\u001b[49m\n",
      "\u001b[1;31mFileNotFoundError\u001b[0m: [Errno 2] No such file or directory: './testfile/새파일4.txt'"
     ]
    }
   ],
   "source": [
    "# read 함수 사용하기 -> str타입\n",
    "path = \"./testfile/\"\n",
    "f = open(path + \"새파일4.txt\",\"r\",encoding=\"utf-8\")\n",
    "data = f.read()\n",
    "print(data,type(data))\n",
    "f.close()"
   ]
  },
  {
   "cell_type": "code",
   "execution_count": 2,
   "id": "f46e44e0-0481-4a08-a55a-13a779ada9dc",
   "metadata": {},
   "outputs": [
    {
     "ename": "FileNotFoundError",
     "evalue": "[Errno 2] No such file or directory: './testfile/새파일4.txt'",
     "output_type": "error",
     "traceback": [
      "\u001b[1;31m---------------------------------------------------------------------------\u001b[0m",
      "\u001b[1;31mFileNotFoundError\u001b[0m                         Traceback (most recent call last)",
      "Cell \u001b[1;32mIn[2], line 2\u001b[0m\n\u001b[0;32m      1\u001b[0m path \u001b[38;5;241m=\u001b[39m \u001b[38;5;124m\"\u001b[39m\u001b[38;5;124m./testfile/\u001b[39m\u001b[38;5;124m\"\u001b[39m\n\u001b[1;32m----> 2\u001b[0m f \u001b[38;5;241m=\u001b[39m \u001b[38;5;28;43mopen\u001b[39;49m\u001b[43m(\u001b[49m\u001b[43mpath\u001b[49m\u001b[43m \u001b[49m\u001b[38;5;241;43m+\u001b[39;49m\u001b[43m \u001b[49m\u001b[38;5;124;43m\"\u001b[39;49m\u001b[38;5;124;43m새파일4.txt\u001b[39;49m\u001b[38;5;124;43m\"\u001b[39;49m\u001b[43m,\u001b[49m\u001b[38;5;124;43m\"\u001b[39;49m\u001b[38;5;124;43mr\u001b[39;49m\u001b[38;5;124;43m\"\u001b[39;49m\u001b[43m,\u001b[49m\u001b[43mencoding\u001b[49m\u001b[38;5;241;43m=\u001b[39;49m\u001b[38;5;124;43m\"\u001b[39;49m\u001b[38;5;124;43mutf-8\u001b[39;49m\u001b[38;5;124;43m\"\u001b[39;49m\u001b[43m)\u001b[49m\n\u001b[0;32m      3\u001b[0m \u001b[38;5;28;01mfor\u001b[39;00m line \u001b[38;5;129;01min\u001b[39;00m f:\n\u001b[0;32m      4\u001b[0m     \u001b[38;5;28mprint\u001b[39m(line)\n",
      "File \u001b[1;32mC:\\Dev\\Lang\\Python313\\Lib\\site-packages\\IPython\\core\\interactiveshell.py:324\u001b[0m, in \u001b[0;36m_modified_open\u001b[1;34m(file, *args, **kwargs)\u001b[0m\n\u001b[0;32m    317\u001b[0m \u001b[38;5;28;01mif\u001b[39;00m file \u001b[38;5;129;01min\u001b[39;00m {\u001b[38;5;241m0\u001b[39m, \u001b[38;5;241m1\u001b[39m, \u001b[38;5;241m2\u001b[39m}:\n\u001b[0;32m    318\u001b[0m     \u001b[38;5;28;01mraise\u001b[39;00m \u001b[38;5;167;01mValueError\u001b[39;00m(\n\u001b[0;32m    319\u001b[0m         \u001b[38;5;124mf\u001b[39m\u001b[38;5;124m\"\u001b[39m\u001b[38;5;124mIPython won\u001b[39m\u001b[38;5;124m'\u001b[39m\u001b[38;5;124mt let you open fd=\u001b[39m\u001b[38;5;132;01m{\u001b[39;00mfile\u001b[38;5;132;01m}\u001b[39;00m\u001b[38;5;124m by default \u001b[39m\u001b[38;5;124m\"\u001b[39m\n\u001b[0;32m    320\u001b[0m         \u001b[38;5;124m\"\u001b[39m\u001b[38;5;124mas it is likely to crash IPython. If you know what you are doing, \u001b[39m\u001b[38;5;124m\"\u001b[39m\n\u001b[0;32m    321\u001b[0m         \u001b[38;5;124m\"\u001b[39m\u001b[38;5;124myou can use builtins\u001b[39m\u001b[38;5;124m'\u001b[39m\u001b[38;5;124m open.\u001b[39m\u001b[38;5;124m\"\u001b[39m\n\u001b[0;32m    322\u001b[0m     )\n\u001b[1;32m--> 324\u001b[0m \u001b[38;5;28;01mreturn\u001b[39;00m \u001b[43mio_open\u001b[49m\u001b[43m(\u001b[49m\u001b[43mfile\u001b[49m\u001b[43m,\u001b[49m\u001b[43m \u001b[49m\u001b[38;5;241;43m*\u001b[39;49m\u001b[43margs\u001b[49m\u001b[43m,\u001b[49m\u001b[43m \u001b[49m\u001b[38;5;241;43m*\u001b[39;49m\u001b[38;5;241;43m*\u001b[39;49m\u001b[43mkwargs\u001b[49m\u001b[43m)\u001b[49m\n",
      "\u001b[1;31mFileNotFoundError\u001b[0m: [Errno 2] No such file or directory: './testfile/새파일4.txt'"
     ]
    }
   ],
   "source": [
    "# for로 출력하기\n",
    "path = \"./testfile/\"\n",
    "f = open(path + \"새파일4.txt\",\"r\",encoding=\"utf-8\")\n",
    "for line in f:\n",
    "    print(line)\n",
    "f.close()"
   ]
  },
  {
   "cell_type": "code",
   "execution_count": 7,
   "id": "cf13b301-56e7-478a-b28d-2f4f3d2353ad",
   "metadata": {},
   "outputs": [
    {
     "ename": "SyntaxError",
     "evalue": "invalid syntax (3136496984.py, line 2)",
     "output_type": "error",
     "traceback": [
      "\u001b[1;36m  Cell \u001b[1;32mIn[7], line 2\u001b[1;36m\u001b[0m\n\u001b[1;33m    f = open(path + \"새파일4.txt\",\"r\",encoding=\"utf-8\") as f:\u001b[0m\n\u001b[1;37m                                                     ^\u001b[0m\n\u001b[1;31mSyntaxError\u001b[0m\u001b[1;31m:\u001b[0m invalid syntax\n"
     ]
    }
   ],
   "source": [
    "path = \"./testfile/\"\n",
    "f = open(path + \"새파일4.txt\",\"r\",encoding=\"utf-8\") as f:\n",
    "for line in f:\n",
    "    print(line)"
   ]
  },
  {
   "cell_type": "code",
   "execution_count": 9,
   "id": "f41ed42f-0f6b-431e-b9a5-a492129693e4",
   "metadata": {},
   "outputs": [],
   "source": [
    "# with 문과 함께 사용하기, 자동 열고, 닫기\n",
    "# 182p\n",
    "#'foo + bar'\n",
    "# file_with.py\n",
    "with open(\"foo.bat\",\"w\")as f:\n",
    "    f.write(\"Life is too short, you need python\")"
   ]
  },
  {
   "cell_type": "markdown",
   "id": "2ea81353-c6f9-48c1-bf8d-9ff240b00780",
   "metadata": {},
   "source": [
    "## 2.3. 프로그램 입출력"
   ]
  },
  {
   "cell_type": "code",
   "execution_count": 17,
   "id": "ad5dad83-2471-4d52-9d56-bf61906f0731",
   "metadata": {},
   "outputs": [
    {
     "name": "stdout",
     "output_type": "stream",
     "text": [
      "C:\\Dev\\Lang\\Python313\\Lib\\site-packages\\ipykernel_launcher.py\n",
      "-f\n",
      "C:\\Users\\Admin\\AppData\\Roaming\\jupyter\\runtime\\kernel-015270b7-19a8-44dd-a371-5ef9c07e9817.json\n"
     ]
    }
   ],
   "source": [
    "import sys\n",
    "args = sys.argv\n",
    "for i in args:\n",
    "    print(i)"
   ]
  },
  {
   "attachments": {
    "b20f7696-3143-4832-86a7-5de444af5430.png": {
     "image/png": "[encoded data removed]"
    }
   },
   "cell_type": "markdown",
   "id": "58a68239-1188-4680-9ac5-d4a72e2b48f8",
   "metadata": {},
   "source": [
    "<img src = \"attachment:b20f7696-3143-4832-86a7-5de444af5430.png\">"
   ]
  },
  {
   "cell_type": "code",
   "execution_count": 28,
   "id": "33ca586f-d686-4ab5-8a5d-a9dce62efbd1",
   "metadata": {},
   "outputs": [
    {
     "name": "stdout",
     "output_type": "stream",
     "text": [
      "====4단====\n",
      "4 x 1 = 4\n",
      "4 x 2 = 8\n",
      "4 x 3 = 12\n",
      "4 x 4 = 16\n",
      "4 x 5 = 20\n",
      "4 x 6 = 24\n",
      "4 x 7 = 28\n",
      "4 x 8 = 32\n",
      "4 x 9 = 36\n",
      "\n"
     ]
    }
   ],
   "source": [
    "import sys\n",
    "args = sys.argv\n",
    "aa,bb = int(args[1]),int(args[2])\n",
    "def gugu(a,b):\n",
    "    data = ''\n",
    "    for j in range(a,a+b):\n",
    "        print(f\"{str(j) + '단' :=^10}\")\n",
    "        for i in range(1,10):\n",
    "            data += (f'{j} x {i} = {j*i}') + '\\n'\n",
    "        return data\n",
    "print(gugu(aa,bb))"
   ]
  },
  {
   "cell_type": "code",
   "execution_count": 33,
   "id": "5fd0d34e-a0e3-4279-b02e-42dc311c39a5",
   "metadata": {},
   "outputs": [
    {
     "name": "stdout",
     "output_type": "stream",
     "text": [
      "===4단===\n",
      "4x1=4\n",
      "4x2=8\n",
      "4x3=12\n",
      "4x4=16\n",
      "4x5=20\n",
      "4x6=24\n",
      "4x7=28\n",
      "4x8=32\n",
      "4x9=36\n",
      "===4단===\n",
      "5x1=5\n",
      "5x2=10\n",
      "5x3=15\n",
      "5x4=20\n",
      "5x5=25\n",
      "5x6=30\n",
      "5x7=35\n",
      "5x8=40\n",
      "5x9=45\n"
     ]
    }
   ],
   "source": [
    "def gugu(a,b):\n",
    "    for i in range(a,a+b):\n",
    "        print(f\"==={a}단===\")\n",
    "        for j in range(1,10):\n",
    "            print(f\"{i}x{j}={i*j}\")\n",
    "gugu(4,2)"
   ]
  },
  {
   "cell_type": "code",
   "execution_count": null,
   "id": "9beaa2ea-0296-47cb-8bf5-3cb5019f494d",
   "metadata": {},
   "outputs": [],
   "source": []
  }
 ],
 "metadata": {
  "kernelspec": {
   "display_name": "Python 3 (ipykernel)",
   "language": "python",
   "name": "python3"
  },
  "language_info": {
   "codemirror_mode": {
    "name": "ipython",
    "version": 3
   },
   "file_extension": ".py",
   "mimetype": "text/x-python",
   "name": "python",
   "nbconvert_exporter": "python",
   "pygments_lexer": "ipython3",
   "version": "3.13.1"
  }
 },
 "nbformat": 4,
 "nbformat_minor": 5
}
