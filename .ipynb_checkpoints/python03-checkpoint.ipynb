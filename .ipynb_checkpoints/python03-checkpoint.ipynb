{
 "cells": [
  {
   "cell_type": "markdown",
   "id": "12f682b8-c122-4a4b-ac29-4a714864d428",
   "metadata": {},
   "source": [
    "# 제어문"
   ]
  },
  {
   "cell_type": "code",
   "execution_count": 19,
   "id": "88139a0e-27dc-48f3-b61a-c2cea97f1a62",
   "metadata": {},
   "outputs": [
    {
     "name": "stdout",
     "output_type": "stream",
     "text": [
      "항상 동작합니다!\n",
      "5가 큽니다\n"
     ]
    }
   ],
   "source": [
    "if True:\n",
    "    print(\"항상 동작합니다!\")\n",
    "if False:\n",
    "    print(\"이건 동작할까요?\")\n",
    "if [1,3]: # 리스트에 숫자가 있기 때문에 참\n",
    "    print(\"5가 큽니다\")\n",
    "if 4 > 10: # false\n",
    "    print(\"나올까요?\")"
   ]
  },
  {
   "cell_type": "code",
   "execution_count": 5,
   "id": "f62dc533-e3b9-432c-ab4b-5120a99c7c58",
   "metadata": {
    "scrolled": true
   },
   "outputs": [
    {
     "name": "stdout",
     "output_type": "stream",
     "text": [
      "가라\n"
     ]
    }
   ],
   "source": [
    "if False:\n",
    "    print(\"택시를\") # if 소속\n",
    "    print(\"타고\")\n",
    "print(\"가라\") # if 소속 아님"
   ]
  },
  {
   "cell_type": "code",
   "execution_count": 8,
   "id": "8a0eebfa-ad76-4387-98bf-ebe91a19cd51",
   "metadata": {},
   "outputs": [
    {
     "name": "stdout",
     "output_type": "stream",
     "text": [
      "=====논리 and=====\n",
      "True\n",
      "False\n",
      "False\n",
      "False\n",
      "=====논리 or=====\n",
      "True\n",
      "True\n",
      "True\n",
      "False\n",
      "=====not 연산=====\n"
     ]
    }
   ],
   "source": [
    "print(\"=====논리 and=====\")\n",
    "print(True and True)\n",
    "print(True and False)\n",
    "print(False and True)\n",
    "print(False and False)\n",
    "print(\"=====논리 or=====\")\n",
    "print(True or True)\n",
    "print(True or False)\n",
    "print(False or True)\n",
    "print(False or False)\n",
    "print(\"=====not 연산=====\")"
   ]
  },
  {
   "cell_type": "code",
   "execution_count": 11,
   "id": "c1f5bc10-1e30-4e71-9d99-962fcdb98b38",
   "metadata": {},
   "outputs": [
    {
     "name": "stdout",
     "output_type": "stream",
     "text": [
      "만납시다\n"
     ]
    }
   ],
   "source": [
    "이상형 = True\n",
    "다정 = True\n",
    "if 이상형 and 똑똑 :\n",
    "    print(\"만납시다\")\n",
    "else:\n",
    "    print(\"그래요..\")"
   ]
  },
  {
   "cell_type": "code",
   "execution_count": 12,
   "id": "aeb65cfe-59bd-4284-9c86-63fc0a9646f9",
   "metadata": {},
   "outputs": [
    {
     "name": "stdout",
     "output_type": "stream",
     "text": [
      "그렇군요...\n"
     ]
    }
   ],
   "source": [
    "이상형 = False\n",
    "다정 = False\n",
    "if 이상형 or 다정 :\n",
    "    print(\"만납시다\")\n",
    "else:\n",
    "    print(\"그렇군요...\")"
   ]
  },
  {
   "cell_type": "code",
   "execution_count": 13,
   "id": "f6b207eb-4a49-419d-b357-1f1f23b7616f",
   "metadata": {},
   "outputs": [
    {
     "name": "stdout",
     "output_type": "stream",
     "text": [
      "잘가요\n"
     ]
    }
   ],
   "source": [
    "주사 = True\n",
    "if not 주사 :\n",
    "    print(\"만나요\")\n",
    "else:\n",
    "    print(\"잘가요\")"
   ]
  },
  {
   "cell_type": "code",
   "execution_count": 14,
   "id": "d0022210-3a24-429a-9c8c-b45ea80a1626",
   "metadata": {},
   "outputs": [
    {
     "name": "stdout",
     "output_type": "stream",
     "text": [
      "택시를 타고 가라\n"
     ]
    }
   ],
   "source": [
    "money = 2000\n",
    "card = True\n",
    "if money >= 3000 or card:\n",
    "    print(\"택시를 타고 가라\")\n",
    "else:\n",
    "    print(\"걸어가라\")"
   ]
  },
  {
   "cell_type": "code",
   "execution_count": 21,
   "id": "753e7a22-a38d-4de1-afd9-7c9caf6b3acd",
   "metadata": {},
   "outputs": [
    {
     "name": "stdout",
     "output_type": "stream",
     "text": [
      "A회사 불합격입니다.\n",
      "B회사 합격입니다.\n",
      "C회사 합격입니다.\n"
     ]
    }
   ],
   "source": [
    "me = 'Python'\n",
    "compA = ['JAvA','Javascript','C','MySQL']\n",
    "compB = ['JAvA','Python','Javascript','C','MySQL']\n",
    "compC = ['JAvA','Python','HTML','MySQL']\n",
    "if me in compA:\n",
    "    print(\"A회사 합격입니다.\")\n",
    "else:\n",
    "    print(\"A회사 불합격입니다.\")\n",
    "if me in compB:\n",
    "    print(\"B회사 합격입니다.\")\n",
    "else:\n",
    "    print(\"B회사 불합격입니다.\")\n",
    "if me in compC:\n",
    "    print(\"C회사 합격입니다.\")\n",
    "else :\n",
    "    print(\"C회사 불합격입니다.\")"
   ]
  },
  {
   "cell_type": "code",
   "execution_count": 29,
   "id": "28be493b-a7b8-4881-9fca-2f5c63e240b1",
   "metadata": {},
   "outputs": [
    {
     "name": "stdin",
     "output_type": "stream",
     "text": [
      "점수를 입력하시오 50\n"
     ]
    },
    {
     "name": "stdout",
     "output_type": "stream",
     "text": [
      "F 입니다.\n"
     ]
    }
   ],
   "source": [
    "#내가 푼 거\n",
    "score = int(input(\"점수를 입력하시오\"))\n",
    "if 90<= score <100:\n",
    "    print(\"A 입니다.\")\n",
    "elif 80<= score <90:\n",
    "    print(\"B 입니다.\")\n",
    "elif 70<= score <80:\n",
    "    print(\"C 입니다.\")\n",
    "elif 60<= score <70:\n",
    "    print(\"D 입니다.\")\n",
    "else:\n",
    "    print(\"F 입니다.\")"
   ]
  },
  {
   "cell_type": "code",
   "execution_count": 31,
   "id": "9a8a1091-9d57-49b5-9d82-8f896fdc81db",
   "metadata": {},
   "outputs": [
    {
     "name": "stdin",
     "output_type": "stream",
     "text": [
      "점수를 입력하세요. 88\n"
     ]
    },
    {
     "name": "stdout",
     "output_type": "stream",
     "text": [
      "B 학점입니다.\n"
     ]
    }
   ],
   "source": [
    "# 방법1. if만 사용\n",
    "점수 = int(input(\"점수를 입력하세요.\"))\n",
    "grade = 'F'\n",
    "if 90 <= 점수: grade = 'A'\n",
    "if 80 <= 점수 <90: grade = 'B'\n",
    "if 70 <= 점수 <80: grade = 'C'\n",
    "if 60 <= 점수 <70: grade = 'D'\n",
    "print(f\"{grade} 학점입니다.\")"
   ]
  },
  {
   "cell_type": "code",
   "execution_count": 36,
   "id": "89f30617-2b48-47de-95cf-8ee4cf28e23b",
   "metadata": {},
   "outputs": [
    {
     "name": "stdin",
     "output_type": "stream",
     "text": [
      "점수를 입력하세요 77\n"
     ]
    },
    {
     "name": "stdout",
     "output_type": "stream",
     "text": [
      "C 학점입니다.\n"
     ]
    }
   ],
   "source": [
    "# 방법2. if, elif, else 전부 사용\n",
    "score = int(input(\"점수를 입력하세요\"))\n",
    "if 90 <= score : 등급 = 'A'\n",
    "elif 80 <= score : 등급 = 'B' # elif는 위에랑 이어서 써지는거기 때문에 이미 적용된건 안적어도 됨\n",
    "elif 70 <= score : 등급 = 'C'\n",
    "elif 60 <= score : 등급 = 'D'\n",
    "else: 등급 = 'f'\n",
    "print(f'{등급} 학점입니다.')"
   ]
  },
  {
   "cell_type": "code",
   "execution_count": 2,
   "id": "b32e9fe1-50ab-4c69-a4d0-d6e29880ca4f",
   "metadata": {},
   "outputs": [
    {
     "name": "stdin",
     "output_type": "stream",
     "text": [
      "온도를 입력하세요 10\n"
     ]
    },
    {
     "name": "stdout",
     "output_type": "stream",
     "text": [
      "겨울 날씨의 온도 입니다.\n"
     ]
    }
   ],
   "source": [
    "temperature = int(input(\"온도를 입력하세요\"))\n",
    "if 25 <= temperature : 계절 = \"여름\"\n",
    "elif 15 <= temperature : 계절 = \"봄\"\n",
    "elif 10 < temperature : 계절 = \"가을\"\n",
    "else : 계절 = \"겨울\"\n",
    "print(f'{계절} 날씨의 온도 입니다.')"
   ]
  },
  {
   "cell_type": "code",
   "execution_count": 64,
   "id": "9182c84d-c60a-4554-b3cb-429e688b08c5",
   "metadata": {},
   "outputs": [
    {
     "name": "stdout",
     "output_type": "stream",
     "text": [
      "다시 집에 가서 여권 가져오세요\n"
     ]
    }
   ],
   "source": [
    "porket = ['paper','money','cellphone']\n",
    "if 'money' in porket:\n",
    "    pass\n",
    "else:\n",
    "    print('카드로 계산하세요')\n",
    "\n",
    "if 'passport'in porket:\n",
    "    pass\n",
    "else:\n",
    "    print('다시 집에 가서 여권 가져오세요')\n",
    "\n",
    "if 'weapon' not in porket: # 아니면 참\n",
    "    pass\n",
    "else:\n",
    "    print('경찰에 신고하겠습니다.')"
   ]
  },
  {
   "cell_type": "code",
   "execution_count": 38,
   "id": "48b34d67-a619-49c2-8914-553842480a57",
   "metadata": {},
   "outputs": [
    {
     "name": "stdout",
     "output_type": "stream",
     "text": [
      "나무를 1번 찍었습니다.\n",
      "나무를 2번 찍었습니다.\n",
      "나무를 3번 찍었습니다.\n",
      "나무를 4번 찍었습니다.\n",
      "나무를 5번 찍었습니다.\n",
      "나무를 6번 찍었습니다.\n",
      "나무를 7번 찍었습니다.\n",
      "나무를 8번 찍었습니다.\n",
      "나무를 9번 찍었습니다.\n",
      "나무를 10번 찍었습니다.\n",
      "나무 넘어갑니다.\n"
     ]
    }
   ],
   "source": [
    "# 방법1\n",
    "treeHit = 0\n",
    "while treeHit < 10:\n",
    "    treeHit = treeHit + 1\n",
    "    print(\"나무를 %d번 찍었습니다.\" % treeHit)\n",
    "    if treeHit == 10:\n",
    "        print(\"나무 넘어갑니다.\")"
   ]
  },
  {
   "cell_type": "code",
   "execution_count": 40,
   "id": "62fe2903-4ab1-4745-91cf-27ad29d8790a",
   "metadata": {},
   "outputs": [
    {
     "name": "stdout",
     "output_type": "stream",
     "text": [
      "나무를1번 찍었습니다.\n",
      "나무를2번 찍었습니다.\n",
      "나무를3번 찍었습니다.\n",
      "나무를4번 찍었습니다.\n",
      "나무를5번 찍었습니다.\n",
      "나무를6번 찍었습니다.\n",
      "나무를7번 찍었습니다.\n",
      "나무를8번 찍었습니다.\n",
      "나무를9번 찍었습니다.\n",
      "나무를10번 찍었습니다.\n",
      "나무 넘어갑니다\n"
     ]
    }
   ],
   "source": [
    "# 방법2\n",
    "namu = 10\n",
    "while namu:\n",
    "    namu -=1 # '-= 숫자' 만큼 계속 빼주는 것\n",
    "    print(f\"나무를{10 - namu}번 찍었습니다.\")\n",
    "print(\"나무 넘어갑니다\")"
   ]
  },
  {
   "cell_type": "code",
   "execution_count": null,
   "id": "2097fba9-0153-4027-bd93-ee8b063782ab",
   "metadata": {},
   "outputs": [
    {
     "name": "stdout",
     "output_type": "stream",
     "text": [
      "\n",
      "    1. Add\n",
      "    2. Del\n",
      "    3. List\n",
      "    4. Quit\n",
      "\n"
     ]
    }
   ],
   "source": [
    "from IPython.display import clear_output\n",
    "print(\"선택해주세요\")\n",
    "prompt = \"\"\"\n",
    "    선택해 주세요\n",
    "    1. Add\n",
    "    2. Del\n",
    "    3. List\n",
    "    4. Quit\n",
    "\"\"\"\n",
    "number = 0\n",
    "while number !=4:\n",
    "    print(prompt)\n",
    "    number = int(input())\n",
    "    clear_output(wait=True) # 이전 질문 지우기\n",
    "print(\"시스템이 종료되었습니다.\")"
   ]
  },
  {
   "cell_type": "code",
   "execution_count": null,
   "id": "e9d85a49-324c-404a-84ff-071cc29da7cb",
   "metadata": {},
   "outputs": [],
   "source": [
    "# random 주사위\n",
    "import random as r\n",
    "# 방법 1\n",
    "# ran = int(r.random()*6 + 1)\n",
    "# print(ran)\n",
    "\n",
    "#방법 2\n",
    "box = [] # 띄워주면 초기화가 되는데 "
   ]
  },
  {
   "cell_type": "code",
   "execution_count": 15,
   "id": "eaf87a59-70c8-4235-89e3-5c5c1b3d36dd",
   "metadata": {},
   "outputs": [
    {
     "name": "stdout",
     "output_type": "stream",
     "text": [
      "[4, 2, 2, 5, 3, 2, 1, 1, 5, 3] 10\n"
     ]
    }
   ],
   "source": [
    "ran = r.randint(1,6)\n",
    "box.append(ran)\n",
    "\n",
    "print(box,len(box))"
   ]
  },
  {
   "cell_type": "code",
   "execution_count": 50,
   "id": "e5e38572-5f0f-49ab-ae8f-2b9ba4829c82",
   "metadata": {},
   "outputs": [
    {
     "name": "stdout",
     "output_type": "stream",
     "text": [
      "200000\n",
      "1이 33381번이 (16.69%)나왔습니다.\n",
      "2이 32825번이 (16.41%)나왔습니다.\n",
      "3이 33209번이 (16.60%)나왔습니다.\n",
      "4이 33237번이 (16.62%)나왔습니다.\n",
      "5이 33342번이 (16.67%)나왔습니다.\n",
      "6이 34006번이 (17.00%)나왔습니다.\n"
     ]
    }
   ],
   "source": [
    "# 주사위 자동으로 돌리기\n",
    "import random as r\n",
    "box = []\n",
    "auto = 0\n",
    "while auto < 200000 :\n",
    "    auto = auto + 1\n",
    "    random = r.randint(1,6)\n",
    "    box.append(random)\n",
    "print(len(box))\n",
    "\n",
    "# 리스트의 특정한 숫자가 몇번,몇%로 나오는지 찾아내기\n",
    "print(f'1이 {box.count(1)}번이 ({box.count(1)/len(box)*100:.2f}%)나왔습니다.')\n",
    "print(f'2이 {box.count(2)}번이 ({box.count(2)/len(box)*100:.2f}%)나왔습니다.')\n",
    "print(f'3이 {box.count(3)}번이 ({box.count(3)/len(box)*100:.2f}%)나왔습니다.')\n",
    "print(f'4이 {box.count(4)}번이 ({box.count(4)/len(box)*100:.2f}%)나왔습니다.')\n",
    "print(f'5이 {box.count(5)}번이 ({box.count(5)/len(box)*100:.2f}%)나왔습니다.')\n",
    "print(f'6이 {box.count(6)}번이 ({box.count(6)/len(box)*100:.2f}%)나왔습니다.')"
   ]
  },
  {
   "cell_type": "code",
   "execution_count": 73,
   "id": "d4ffb8a4-af5a-4b73-9706-b5056dc6a883",
   "metadata": {},
   "outputs": [
    {
     "name": "stdout",
     "output_type": "stream",
     "text": [
      "[1 2 3]\n"
     ]
    }
   ],
   "source": [
    "import numpy as np # numpy는 모듈명, np는 별칭\n",
    "array = np.array([1, 2, 3])\n",
    "print(array)"
   ]
  },
  {
   "cell_type": "code",
   "execution_count": 39,
   "id": "7ba99810-656d-4efe-8a41-90540aa4e963",
   "metadata": {},
   "outputs": [
    {
     "name": "stdout",
     "output_type": "stream",
     "text": [
      "250000회 정상 진행되었습니다.\n",
      "1이 41699번이 (16.68%) 나왔습니다.\n",
      "2이 41824번이 (16.73%) 나왔습니다.\n",
      "3이 41793번이 (16.72%) 나왔습니다.\n",
      "4이 41535번이 (16.61%) 나왔습니다.\n",
      "5이 41622번이 (16.65%) 나왔습니다.\n",
      "6이 41527번이 (16.61%) 나왔습니다.\n",
      "2번이 가장 많이 출력되었습니다\n"
     ]
    }
   ],
   "source": [
    "import random as r\n",
    "box = []\n",
    "auto = 0\n",
    "target = 250000\n",
    "while auto < target :\n",
    "    auto = auto + 1\n",
    "    random = r.randint(1,6)\n",
    "    box.append(random)\n",
    "if target == len(box):\n",
    "    print(f\"{target}회 정상 진행되었습니다.\")\n",
    "else:\n",
    "    print(f\"검증 결과 횟수 이상이 있습니다. 이유 : {target}회 목표로 동작하였으나, {len(box)}으로 측정되었습니다.\")\n",
    "\n",
    "# 리스트의 특정한 숫자가 몇번,몇%로 나오는지 찾아내기\n",
    "print(f'1이 {box.count(1)}번이 ({(box.count(1)/len(box))*100:.2f}%) 나왔습니다.')\n",
    "print(f'2이 {box.count(2)}번이 ({(box.count(2)/len(box))*100:.2f}%) 나왔습니다.')\n",
    "print(f'3이 {box.count(3)}번이 ({(box.count(3)/len(box))*100:.2f}%) 나왔습니다.')\n",
    "print(f'4이 {box.count(4)}번이 ({(box.count(4)/len(box))*100:.2f}%) 나왔습니다.')\n",
    "print(f'5이 {box.count(5)}번이 ({(box.count(5)/len(box))*100:.2f}%) 나왔습니다.')\n",
    "print(f'6이 {box.count(6)}번이 ({(box.count(6)/len(box))*100:.2f}%) 나왔습니다.')\n",
    "\n",
    "c1 = box.count(1)\n",
    "c2 = box.count(2)\n",
    "c3 = box.count(3)\n",
    "c4 = box.count(4)\n",
    "c5 = box.count(5)\n",
    "c6 = box.count(6)\n",
    "\n",
    "li = [c1,c2,c3,c4,c5,c6]\n",
    "\n",
    "if c1 >= max(li):\n",
    "    print('1번이 가장 많이 출력되었습니다')\n",
    "if c2 >= max(li):\n",
    "    print('2번이 가장 많이 출력되었습니다')\n",
    "if c3 >= max(li):\n",
    "    print('3번이 가장 많이 출력되었습니다')\n",
    "if c4 >= max(li):\n",
    "    print('4번이 가장 많이 출력되었습니다')\n",
    "if c5 >= max(li):\n",
    "    print('5번이 가장 많이 출력되었습니다')\n",
    "if c6 >= max(li):\n",
    "    print('6번이 가장 많이 출력되었습니다')\n"
   ]
  },
  {
   "cell_type": "code",
   "execution_count": null,
   "id": "10db6366-88ac-4e53-ad4a-fd25362f96fa",
   "metadata": {},
   "outputs": [],
   "source": [
    "import random as r\n",
    "box = []\n",
    "auto = 0\n",
    "target = 250000\n",
    "while auto < target :\n",
    "    auto = auto + 1\n",
    "    random = r.randint(1,6)\n",
    "    box.append(random)\n",
    "if target == len(box):\n",
    "    print(f\"{target}회 정상 진행되었습니다.\")\n",
    "else:\n",
    "    print(f\"검증 결과 횟수 이상이 있습니다. 이유 : {target}회 목표로 동작하였으나, {len(box)}으로 측정되었습니다.\")\n",
    "\n",
    "# 리스트의 특정한 숫자가 몇번,몇%로 나오는지 찾아내기\n",
    "bc = box.count(\n",
    "for box.count() in range(1,7):\n",
    "    if box[num]\n",
    "print(f'1이 {box.count(1)}번이 ({(box.count(1)/len(box))*100:.2f}%) 나왔습니다.')\n",
    "print(f'2이 {box.count(2)}번이 ({(box.count(2)/len(box))*100:.2f}%) 나왔습니다.')\n",
    "print(f'3이 {box.count(3)}번이 ({(box.count(3)/len(box))*100:.2f}%) 나왔습니다.')\n",
    "print(f'4이 {box.count(4)}번이 ({(box.count(4)/len(box))*100:.2f}%) 나왔습니다.')\n",
    "print(f'5이 {box.count(5)}번이 ({(box.count(5)/len(box))*100:.2f}%) 나왔습니다.')\n",
    "print(f'6이 {box.count(6)}번이 ({(box.count(6)/len(box))*100:.2f}%) 나왔습니다.')"
   ]
  },
  {
   "cell_type": "code",
   "execution_count": 71,
   "id": "36a81433-2398-4f80-86c7-8be37daa9d5b",
   "metadata": {},
   "outputs": [
    {
     "name": "stdout",
     "output_type": "stream",
     "text": [
      "one\n",
      "two\n",
      "three\n"
     ]
    }
   ],
   "source": [
    "#기본 for 문\n",
    "# test_list = \n",
    "test_list = ['one', 'two', 'three']\n",
    "for i in test_list: # test_list를 i에 대입\n",
    "    print(i)"
   ]
  },
  {
   "cell_type": "code",
   "execution_count": 74,
   "id": "ba723889-813e-43f7-b6a2-873a9638e8a2",
   "metadata": {},
   "outputs": [
    {
     "name": "stdout",
     "output_type": "stream",
     "text": [
      "1 2 11\n",
      "3 4 33\n",
      "5 6 55\n"
     ]
    }
   ],
   "source": [
    "# 다양한 for 문의 사용\n",
    "a = [(1,2,11),(3,4,33),(5,6,55)]\n",
    "for (x,y,z) in a:\n",
    "    print(x,y,z)"
   ]
  },
  {
   "cell_type": "code",
   "execution_count": 80,
   "id": "0a05c676-9b85-4bf2-8376-55f0118e2c0b",
   "metadata": {},
   "outputs": [
    {
     "name": "stdout",
     "output_type": "stream",
     "text": [
      "1번 학생은 합격입니다.\n",
      "2번 학생은 불합격입니다.\n",
      "3번 학생은 합격입니다.\n",
      "4번 학생은 불합격입니다.\n",
      "5번 학생은 합격입니다.\n"
     ]
    }
   ],
   "source": [
    "#marks1\n",
    "marks = [90, 25, 67, 45, 80]\n",
    "\n",
    "number = 0\n",
    "for mark in marks:\n",
    "    number = number + 1\n",
    "    if mark >= 60:\n",
    "        print(\"%d번 학생은 합격입니다.\" %number)\n",
    "    else:\n",
    "        print(\"%d번 학생은 불합격입니다.\" %number)"
   ]
  },
  {
   "cell_type": "code",
   "execution_count": 82,
   "id": "afc54972-3788-4cc2-a7da-016f77f1bfca",
   "metadata": {},
   "outputs": [],
   "source": [
    "#marks2\n",
    "marks = [90, 25, 67, 45, 80]\n",
    "\n",
    "number = 0\n",
    "for mark in marks:\n",
    "    number = number + 1\n",
    "    if mark < 60:\n",
    "        continue\n",
    "        print(\"%d번 학생 축하합니다. 합격입니다.\" %number)"
   ]
  },
  {
   "cell_type": "code",
   "execution_count": 84,
   "id": "4f0153a0-136b-4313-be16-5dc482aca2a0",
   "metadata": {},
   "outputs": [
    {
     "name": "stdout",
     "output_type": "stream",
     "text": [
      "1\n",
      "3\n",
      "5\n",
      "7\n",
      "9\n"
     ]
    }
   ],
   "source": [
    "numbers = [1,2,3,4,5,6,7,8,9,10]\n",
    "for n in numbers:\n",
    "    number = number + 1\n",
    "    if n % 2 == 0:\n",
    "        continue\n",
    "    print(n)"
   ]
  },
  {
   "cell_type": "code",
   "execution_count": 97,
   "id": "6111f1c4-75fb-4a61-8bf9-a67b20039e4b",
   "metadata": {},
   "outputs": [
    {
     "name": "stdout",
     "output_type": "stream",
     "text": [
      "55\n"
     ]
    }
   ],
   "source": [
    "add = 0\n",
    "for i in range(1,11):\n",
    "    add = add + i\n",
    "print(add)"
   ]
  },
  {
   "cell_type": "code",
   "execution_count": 90,
   "id": "2b642405-2a29-471f-afae-9454a8a62ee3",
   "metadata": {},
   "outputs": [
    {
     "name": "stdout",
     "output_type": "stream",
     "text": [
      "10\n",
      "9\n",
      "8\n",
      "7\n",
      "6\n",
      "5\n",
      "4\n",
      "3\n",
      "2\n",
      "1\n"
     ]
    }
   ],
   "source": [
    "for n in range(10,0,-1):\n",
    "    print(n)"
   ]
  },
  {
   "cell_type": "code",
   "execution_count": 92,
   "id": "be4742a0-77e5-4e7d-b6a0-dfe962cb9a06",
   "metadata": {},
   "outputs": [
    {
     "name": "stdout",
     "output_type": "stream",
     "text": [
      "[0, 2, 4, 6, 8, 10, 12, 14, 16, 18, 20, 22, 24, 26, 28, 30, 32, 34, 36, 38, 40, 42, 44, 46, 48, 50, 52, 54, 56, 58, 60, 62, 64, 66, 68, 70, 72, 74, 76, 78, 80, 82, 84, 86, 88, 90, 92, 94, 96, 98]\n"
     ]
    }
   ],
   "source": [
    "la = list(range(0,100,2))\n",
    "print(la)"
   ]
  },
  {
   "cell_type": "code",
   "execution_count": 93,
   "id": "eff9f6b2-ec90-418d-8b3e-cd8b0c5fc02e",
   "metadata": {},
   "outputs": [
    {
     "name": "stdout",
     "output_type": "stream",
     "text": [
      "0\n",
      "2\n",
      "4\n",
      "6\n",
      "8\n"
     ]
    }
   ],
   "source": [
    "for even in range(0,10,2):\n",
    "    print(even)"
   ]
  },
  {
   "cell_type": "code",
   "execution_count": 15,
   "id": "76254cd6-7967-4884-aef7-bea151e8ae80",
   "metadata": {},
   "outputs": [
    {
     "name": "stdout",
     "output_type": "stream",
     "text": [
      "8515\n"
     ]
    }
   ],
   "source": [
    "add = 0\n",
    "for i in range(1,131):\n",
    "    add = add + i\n",
    "print(add)"
   ]
  },
  {
   "cell_type": "code",
   "execution_count": 19,
   "id": "cd5e8cd0-bc08-4652-89be-26b5ccb3359e",
   "metadata": {},
   "outputs": [
    {
     "name": "stdout",
     "output_type": "stream",
     "text": [
      "     March 2025\n",
      "Su Mo Tu We Th Fr Sa\n",
      "                   1\n",
      " 2  3  4  5  6  7  8\n",
      " 9 10 11 12 13 14 15\n",
      "16 17 18 19 20 21 22\n",
      "23 24 25 26 27 28 29\n",
      "30 31\n",
      "\n"
     ]
    }
   ],
   "source": [
    "# 연습\n",
    "import calendar\n",
    "c = calendar.TextCalendar(calendar.SUNDAY)\n",
    "\n",
    "print(c.formatmonth(2025, 3))"
   ]
  },
  {
   "cell_type": "code",
   "execution_count": 1,
   "id": "95f5c18e-7f7b-4840-b485-1db4d6de4157",
   "metadata": {},
   "outputs": [
    {
     "name": "stdout",
     "output_type": "stream",
     "text": [
      "■■■■■■■■■■■"
     ]
    }
   ],
   "source": [
    "# 테스트 타이머\n",
    "import time as t\n",
    "for x in range(11):\n",
    "    print(f'■',end='')\n",
    "    t.sleep(1) # 숫자가 올라가는 속도"
   ]
  },
  {
   "cell_type": "code",
   "execution_count": 13,
   "id": "734e84fd-d323-4b62-be2a-e127c7f5ff87",
   "metadata": {},
   "outputs": [
    {
     "name": "stdout",
     "output_type": "stream",
     "text": [
      "<class 'list'>\n",
      "<class 'tuple'>\n"
     ]
    }
   ],
   "source": [
    "# 리스트 속도측정\n",
    "import time\n",
    "lt = []\n",
    "tp = []\n",
    "length = 30*1000*1000\n",
    "for x in range(length):\n",
    "    lt.append(x)\n",
    "for t in range(length):\n",
    "    tp.append(t)\n",
    "tp = tuple(tp)\n",
    "print(type(lt))\n",
    "print(type(tp))"
   ]
  },
  {
   "cell_type": "code",
   "execution_count": 19,
   "id": "7c778ed7-79f3-435a-a38d-bfc2f19364bc",
   "metadata": {},
   "outputs": [
    {
     "ename": "TypeError",
     "evalue": "unsupported operand type(s) for -: 'list' and 'list'",
     "output_type": "error",
     "traceback": [
      "\u001b[1;31m---------------------------------------------------------------------------\u001b[0m",
      "\u001b[1;31mTypeError\u001b[0m                                 Traceback (most recent call last)",
      "Cell \u001b[1;32mIn[19], line 4\u001b[0m\n\u001b[0;32m      2\u001b[0m start \u001b[38;5;241m=\u001b[39m time\u001b[38;5;241m.\u001b[39mtime()\n\u001b[0;32m      3\u001b[0m \u001b[38;5;28;01mfor\u001b[39;00m x \u001b[38;5;129;01min\u001b[39;00m lt:\n\u001b[1;32m----> 4\u001b[0m     \u001b[43mlt\u001b[49m\u001b[43m \u001b[49m\u001b[38;5;241;43m-\u001b[39;49m\u001b[43m \u001b[49m\u001b[43m[\u001b[49m\u001b[38;5;241;43m1\u001b[39;49m\u001b[43m,\u001b[49m\u001b[38;5;241;43m2\u001b[39;49m\u001b[43m,\u001b[49m\u001b[38;5;241;43m3\u001b[39;49m\u001b[43m,\u001b[49m\u001b[38;5;241;43m4\u001b[39;49m\u001b[43m,\u001b[49m\u001b[38;5;241;43m5\u001b[39;49m\u001b[43m]\u001b[49m\n\u001b[0;32m      5\u001b[0m \u001b[38;5;28mprint\u001b[39m(time\u001b[38;5;241m.\u001b[39mtime() \u001b[38;5;241m+\u001b[39m start)\n",
      "\u001b[1;31mTypeError\u001b[0m: unsupported operand type(s) for -: 'list' and 'list'"
     ]
    }
   ],
   "source": [
    "import time\n",
    "start = time.time()\n",
    "for x in lt:\n",
    "    lt - [1,2,3,4,5]\n",
    "print(time.time() + start)"
   ]
  },
  {
   "cell_type": "code",
   "execution_count": 15,
   "id": "fd3c2fd7-0f0e-4d88-b16e-0f8b5670d45d",
   "metadata": {},
   "outputs": [
    {
     "name": "stdout",
     "output_type": "stream",
     "text": [
      "1.1906366348266602\n"
     ]
    }
   ],
   "source": [
    "import time\n",
    "start = time.time()\n",
    "for x in tp:\n",
    "    tp = (1,2,3,4,5)\n",
    "print(time.time() - start)"
   ]
  },
  {
   "cell_type": "code",
   "execution_count": 21,
   "id": "13da2951-4af5-47b2-93f1-96016a69977a",
   "metadata": {},
   "outputs": [
    {
     "name": "stdout",
     "output_type": "stream",
     "text": [
      "Requirement already satisfied: pip in c:\\dev\\lang\\python313\\lib\\site-packages (24.3.1)\n",
      "Collecting pip\n",
      "  Downloading pip-25.0-py3-none-any.whl.metadata (3.7 kB)\n",
      "Downloading pip-25.0-py3-none-any.whl (1.8 MB)\n",
      "   ---------------------------------------- 0.0/1.8 MB ? eta -:--:--\n",
      "   ---------------------- ----------------- 1.0/1.8 MB 5.4 MB/s eta 0:00:01\n",
      "   ---------------------------------- ----- 1.6/1.8 MB 3.8 MB/s eta 0:00:01\n",
      "   ---------------------------------------- 1.8/1.8 MB 3.4 MB/s eta 0:00:00\n",
      "Installing collected packages: pip\n",
      "  Attempting uninstall: pip\n",
      "    Found existing installation: pip 24.3.1\n",
      "    Uninstalling pip-24.3.1:\n",
      "      Successfully uninstalled pip-24.3.1\n",
      "Successfully installed pip-25.0\n"
     ]
    }
   ],
   "source": [
    "# !pip install tqdm\n",
    "!python.exe -m pip install --upgrade pip"
   ]
  },
  {
   "cell_type": "code",
   "execution_count": 20,
   "id": "625047c2-9a55-4aaa-80ea-02a10984a49a",
   "metadata": {},
   "outputs": [
    {
     "name": "stderr",
     "output_type": "stream",
     "text": [
      "100%|████████████████████████████████████████████████████████████████████████████████| 100/100 [00:10<00:00,  9.78it/s]\n"
     ]
    }
   ],
   "source": [
    "from tqdm import tqdm # 진행률 확인\n",
    "import time as tt\n",
    "for x in tqdm(range(100)):\n",
    "    pass\n",
    "    tt.sleep(0.1)"
   ]
  },
  {
   "cell_type": "code",
   "execution_count": 40,
   "id": "31d8af68-81a9-42fd-9049-e53d1f2c6b73",
   "metadata": {},
   "outputs": [
    {
     "name": "stdout",
     "output_type": "stream",
     "text": [
      "최대가 :  152817000.0\n",
      "최소가 :  149809000.0\n",
      "시작가 :  152630000.0\n",
      "변화폭 :  3008000.0\n",
      "상승장\n"
     ]
    }
   ],
   "source": [
    "# 비트코인 시세로 상승장 하강장 구분하기\n",
    "import requests as req\n",
    "url = \"https://api.bithumb.com/public/ticker/ALL_KRW\"\n",
    "gdata = req.get(url).json()\n",
    "btc = gdata['data']['BTC']\n",
    "maxp = float(btc['max_price']) # 최대가\n",
    "minp = float(btc['min_price']) # 최소가\n",
    "epenp = float(btc['opening_price']) #시작가\n",
    "bandp = float(maxp) -float(minp) # 변화폭\n",
    "print(\"최대가 : \", maxp)\n",
    "print(\"최소가 : \", minp)\n",
    "print(\"시작가 : \", epenp)\n",
    "print(\"변화폭 : \", bandp)\n",
    "#epenp + bandp > maxp\n",
    "if (epenp + bandp) > maxp:\n",
    "    print(\"상승장\")\n",
    "else:\n",
    "    print(\"하강장\")"
   ]
  },
  {
   "cell_type": "code",
   "execution_count": 34,
   "id": "aa70740a-6101-4085-8678-a6e7aedd2e42",
   "metadata": {},
   "outputs": [
    {
     "name": "stdout",
     "output_type": "stream",
     "text": [
      "149950000\n"
     ]
    }
   ],
   "source": [
    "# 1분 캔들 기준\n",
    "import requests as req\n",
    "url = 'https://api.bithumb.com/v1/candles/minutes/1?market=KRW-BTC&count=1'\n",
    "btc_data = req.get(url).json()\n",
    "\n",
    "print(btc_data[0]['trade_price'])\n"
   ]
  },
  {
   "cell_type": "code",
   "execution_count": 56,
   "id": "d286a544-7e7b-49b0-9ce8-c94119c11b5f",
   "metadata": {},
   "outputs": [
    {
     "name": "stdout",
     "output_type": "stream",
     "text": [
      "2단\n",
      "2 x 1 = 2\n",
      "2 x 2 = 4\n",
      "2 x 3 = 6\n",
      "2 x 4 = 8\n",
      "2 x 5 = 10\n",
      "2 x 6 = 12\n",
      "2 x 7 = 14\n",
      "2 x 8 = 16\n",
      "2 x 9 = 18\n",
      "3단\n",
      "3 x 1 = 3\n",
      "3 x 2 = 6\n",
      "3 x 3 = 9\n",
      "3 x 4 = 12\n",
      "3 x 5 = 15\n",
      "3 x 6 = 18\n",
      "3 x 7 = 21\n",
      "3 x 8 = 24\n",
      "3 x 9 = 27\n",
      "4단\n",
      "4 x 1 = 4\n",
      "4 x 2 = 8\n",
      "4 x 3 = 12\n",
      "4 x 4 = 16\n",
      "4 x 5 = 20\n",
      "4 x 6 = 24\n",
      "4 x 7 = 28\n",
      "4 x 8 = 32\n",
      "4 x 9 = 36\n",
      "5단\n",
      "5 x 1 = 5\n",
      "5 x 2 = 10\n",
      "5 x 3 = 15\n",
      "5 x 4 = 20\n",
      "5 x 5 = 25\n",
      "5 x 6 = 30\n",
      "5 x 7 = 35\n",
      "5 x 8 = 40\n",
      "5 x 9 = 45\n",
      "6단\n",
      "6 x 1 = 6\n",
      "6 x 2 = 12\n",
      "6 x 3 = 18\n",
      "6 x 4 = 24\n",
      "6 x 5 = 30\n",
      "6 x 6 = 36\n",
      "6 x 7 = 42\n",
      "6 x 8 = 48\n",
      "6 x 9 = 54\n",
      "7단\n",
      "7 x 1 = 7\n",
      "7 x 2 = 14\n",
      "7 x 3 = 21\n",
      "7 x 4 = 28\n",
      "7 x 5 = 35\n",
      "7 x 6 = 42\n",
      "7 x 7 = 49\n",
      "7 x 8 = 56\n",
      "7 x 9 = 63\n",
      "8단\n",
      "8 x 1 = 8\n",
      "8 x 2 = 16\n",
      "8 x 3 = 24\n",
      "8 x 4 = 32\n",
      "8 x 5 = 40\n",
      "8 x 6 = 48\n",
      "8 x 7 = 56\n",
      "8 x 8 = 64\n",
      "8 x 9 = 72\n",
      "9단\n",
      "9 x 1 = 9\n",
      "9 x 2 = 18\n",
      "9 x 3 = 27\n",
      "9 x 4 = 36\n",
      "9 x 5 = 45\n",
      "9 x 6 = 54\n",
      "9 x 7 = 63\n",
      "9 x 8 = 72\n",
      "9 x 9 = 81\n"
     ]
    }
   ],
   "source": [
    "# 구구단\n",
    "for i in range(2,10):\n",
    "    print(f'{i}단')\n",
    "    for j in range(1,10):\n",
    "        print(f'{i} x {j} = {i*j}')"
   ]
  },
  {
   "cell_type": "markdown",
   "id": "68ca4d95-6077-43b9-8234-5d5d3060c65a",
   "metadata": {},
   "source": [
    "## 1.3.2 리스트 컴프리헨션"
   ]
  },
  {
   "cell_type": "code",
   "execution_count": 65,
   "id": "0772c50c-7711-4e74-97b0-9001b133b236",
   "metadata": {},
   "outputs": [
    {
     "name": "stdout",
     "output_type": "stream",
     "text": [
      "[3, 6, 9, 12]\n"
     ]
    }
   ],
   "source": [
    "# 기본적인 리스트에 값 넣기\n",
    "a = [1,2,3,4]\n",
    "result = []\n",
    "for num in a:\n",
    "    result.append(num*3)\n",
    "print(result)"
   ]
  },
  {
   "cell_type": "code",
   "execution_count": 66,
   "id": "a97dc6a4-bd93-4f45-aed1-d95e532f3432",
   "metadata": {},
   "outputs": [
    {
     "data": {
      "text/plain": [
       "[3, 6, 9, 12]"
      ]
     },
     "execution_count": 66,
     "metadata": {},
     "output_type": "execute_result"
    }
   ],
   "source": [
    "# 리스트 컴프리헨션\n",
    "[num*3 for num in [1,2,3,4]]"
   ]
  },
  {
   "cell_type": "code",
   "execution_count": 69,
   "id": "b619ae27-d018-40d8-a842-340c3ca85591",
   "metadata": {},
   "outputs": [
    {
     "name": "stdout",
     "output_type": "stream",
     "text": [
      "[0, 6, 12, 18, 24]\n"
     ]
    }
   ],
   "source": [
    "res = []\n",
    "for x in range(10):\n",
    "    if x%2==0:\n",
    "        res.append(x*3)\n",
    "print(res)"
   ]
  },
  {
   "cell_type": "code",
   "execution_count": 68,
   "id": "c5695575-9f17-406b-82b1-4d23aefb1a68",
   "metadata": {},
   "outputs": [
    {
     "data": {
      "text/plain": [
       "[0, 6, 12, 18, 24]"
      ]
     },
     "execution_count": 68,
     "metadata": {},
     "output_type": "execute_result"
    }
   ],
   "source": [
    "[x*3 for x in range(10) if x%2==0]"
   ]
  },
  {
   "cell_type": "code",
   "execution_count": 70,
   "id": "7e41fd6c-0cec-4698-8766-45fd70958255",
   "metadata": {},
   "outputs": [
    {
     "name": "stdout",
     "output_type": "stream",
     "text": [
      "[2, 4, 6, 8, 10, 12, 14, 16, 18, 3, 6, 9, 12, 15, 18, 21, 24, 27, 4, 8, 12, 16, 20, 24, 28, 32, 36, 5, 10, 15, 20, 25, 30, 35, 40, 45, 6, 12, 18, 24, 30, 36, 42, 48, 54, 7, 14, 21, 28, 35, 42, 49, 56, 63, 8, 16, 24, 32, 40, 48, 56, 64, 72, 9, 18, 27, 36, 45, 54, 63, 72, 81]\n"
     ]
    }
   ],
   "source": [
    "result = [ i * j for i in range(2,10) for j in range(1,10)]\n",
    "print(result)"
   ]
  },
  {
   "cell_type": "code",
   "execution_count": 71,
   "id": "64c8b6c5-4adb-4cb9-a2d8-6c709b958da5",
   "metadata": {},
   "outputs": [
    {
     "name": "stdout",
     "output_type": "stream",
     "text": [
      "2 x 1 = 2\n",
      "2 x 2 = 4\n",
      "2 x 3 = 6\n",
      "2 x 4 = 8\n",
      "2 x 5 = 10\n",
      "2 x 6 = 12\n",
      "2 x 7 = 14\n",
      "2 x 8 = 16\n",
      "2 x 9 = 18\n",
      "3 x 1 = 3\n",
      "3 x 2 = 6\n",
      "3 x 3 = 9\n",
      "3 x 4 = 12\n",
      "3 x 5 = 15\n",
      "3 x 6 = 18\n",
      "3 x 7 = 21\n",
      "3 x 8 = 24\n",
      "3 x 9 = 27\n",
      "4 x 1 = 4\n",
      "4 x 2 = 8\n",
      "4 x 3 = 12\n",
      "4 x 4 = 16\n",
      "4 x 5 = 20\n",
      "4 x 6 = 24\n",
      "4 x 7 = 28\n",
      "4 x 8 = 32\n",
      "4 x 9 = 36\n",
      "5 x 1 = 5\n",
      "5 x 2 = 10\n",
      "5 x 3 = 15\n",
      "5 x 4 = 20\n",
      "5 x 5 = 25\n",
      "5 x 6 = 30\n",
      "5 x 7 = 35\n",
      "5 x 8 = 40\n",
      "5 x 9 = 45\n",
      "6 x 1 = 6\n",
      "6 x 2 = 12\n",
      "6 x 3 = 18\n",
      "6 x 4 = 24\n",
      "6 x 5 = 30\n",
      "6 x 6 = 36\n",
      "6 x 7 = 42\n",
      "6 x 8 = 48\n",
      "6 x 9 = 54\n",
      "7 x 1 = 7\n",
      "7 x 2 = 14\n",
      "7 x 3 = 21\n",
      "7 x 4 = 28\n",
      "7 x 5 = 35\n",
      "7 x 6 = 42\n",
      "7 x 7 = 49\n",
      "7 x 8 = 56\n",
      "7 x 9 = 63\n",
      "8 x 1 = 8\n",
      "8 x 2 = 16\n",
      "8 x 3 = 24\n",
      "8 x 4 = 32\n",
      "8 x 5 = 40\n",
      "8 x 6 = 48\n",
      "8 x 7 = 56\n",
      "8 x 8 = 64\n",
      "8 x 9 = 72\n",
      "9 x 1 = 9\n",
      "9 x 2 = 18\n",
      "9 x 3 = 27\n",
      "9 x 4 = 36\n",
      "9 x 5 = 45\n",
      "9 x 6 = 54\n",
      "9 x 7 = 63\n",
      "9 x 8 = 72\n",
      "9 x 9 = 81\n"
     ]
    }
   ],
   "source": [
    "for a in [f'{j} x {i} = {j*i}' for j in range(2,10) for i in range(1,10)]:\n",
    "    print(a)"
   ]
  },
  {
   "cell_type": "code",
   "execution_count": 72,
   "id": "901d6231-e4cd-4812-8190-dc45533e8152",
   "metadata": {},
   "outputs": [
    {
     "name": "stdout",
     "output_type": "stream",
     "text": [
      "414\n",
      "[414, 313, 77, 66, 55, 22, 11]\n"
     ]
    }
   ],
   "source": [
    "a = [11,22,313,414,55,66,77]\n",
    "a.sort(reverse=True)\n",
    "print(a[0])\n",
    "print(a)\n",
    "# print(max(a))"
   ]
  },
  {
   "cell_type": "code",
   "execution_count": null,
   "id": "c1729443-0280-4bf4-9ecc-898db1791cc1",
   "metadata": {},
   "outputs": [],
   "source": []
  }
 ],
 "metadata": {
  "kernelspec": {
   "display_name": "Python 3 (ipykernel)",
   "language": "python",
   "name": "python3"
  },
  "language_info": {
   "codemirror_mode": {
    "name": "ipython",
    "version": 3
   },
   "file_extension": ".py",
   "mimetype": "text/x-python",
   "name": "python",
   "nbconvert_exporter": "python",
   "pygments_lexer": "ipython3",
   "version": "3.13.1"
  }
 },
 "nbformat": 4,
 "nbformat_minor": 5
}
