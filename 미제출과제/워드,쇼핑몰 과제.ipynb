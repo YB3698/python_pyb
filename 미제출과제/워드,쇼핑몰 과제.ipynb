{
 "cells": [
  {
   "cell_type": "markdown",
   "id": "ec5b257b-1f42-41be-848a-9ba013e2eb57",
   "metadata": {},
   "source": [
    "# 워드 카운트"
   ]
  },
  {
   "cell_type": "code",
   "execution_count": 2,
   "id": "11cda3a6-834f-4c7c-8cdf-d32b63d8affb",
   "metadata": {},
   "outputs": [
    {
     "name": "stdout",
     "output_type": "stream",
     "text": [
      "{'유방암': 9, '암': 9, '연구': 8, '검진': 5, '진단': 4, '노르웨이': 4, '이상': 4, '발견': 4, '조기': 4, '위험': 4, '일': 3, '편': 3, '발표': 3, '이번': 3, '유방': 3, '촬영': 3, '술': 3, '분석': 3, '인사이트': 3, '명': 3, '결과': 3, '감지': 3, '년': 3, '의료': 2, '유럽': 2, '영상의학': 2, '성과': 2, '학회': 2, '협력': 2, '제시': 2, '수행': 2, '연구진': 2, '국가': 2, '프로그램': 2, '데이터': 2, '판독': 2, '전문': 2, '수': 2, '양성': 2, '경우': 2, '실제': 2, '간격': 2, '탐지': 2, '입증': 2, '유지': 2, '여성': 2, '발생': 2, '점수': 2, '상승': 2, '인공지능': 1, '기업': 1, '이달': 1, '현지': 1, '시간': 1, '내달': 1, '오스트리아': 1, '빈': 1, '진행': 1, '회': 1, '분야': 1, '최신': 1, '영상': 1, '솔루션': 1, '활용': 1, '구연': 1, '포스터': 1, '권위': 1, '기관': 1, '기반': 1, '임상': 1, '가치': 1, '레지스트리': 1, '팀': 1, '공동': 1, '규모': 1, '건': 1, '현행': 1, '이중': 1, '시스템': 1, '중': 1, '역할': 1, '탐색': 1, '판단': 1, '시': 1, '기존': 1, '추가': 1, '효과': 1, '도입': 1, '전문의': 1, '업무': 1, '량': 1, '실증': 1, '것': 1, '다음': 1, '공중': 1, '보건': 1, '연구소': 1, '참여': 1, '적용': 1, '능력': 1, '평가': 1, '최종': 1, '전': 1, '향후': 1, '과정': 1, '사례': 1, '의심': 1, '병': 1, '변': 1, '정확도': 1, '식별': 1, '반면': 1, '지속': 1, '서범석': 1, '대표': 1, '공개': 1, '부족': 1, '문제 해결': 1, '가지': 1, '핵심': 1, '과제': 1, '해결책': 1, '점': 1, '의미': 1, '있다': 1, '말': 1}\n",
      "Counter({'유방암': 9, '암': 9, '연구': 8, '검진': 5, '진단': 4, '노르웨이': 4, '이상': 4, '발견': 4, '조기': 4, '위험': 4, '일': 3, '편': 3, '발표': 3, '이번': 3, '유방': 3, '촬영': 3, '술': 3, '분석': 3, '인사이트': 3, '명': 3, '결과': 3, '감지': 3, '년': 3, '의료': 2, '유럽': 2, '영상의학': 2, '성과': 2, '학회': 2, '협력': 2, '제시': 2, '수행': 2, '연구진': 2, '국가': 2, '프로그램': 2, '데이터': 2, '판독': 2, '전문': 2, '수': 2, '양성': 2, '경우': 2, '실제': 2, '간격': 2, '탐지': 2, '입증': 2, '유지': 2, '여성': 2, '발생': 2, '점수': 2, '상승': 2, '인공지능': 1, '기업': 1, '이달': 1, '현지': 1, '시간': 1, '내달': 1, '오스트리아': 1, '빈': 1, '진행': 1, '회': 1, '분야': 1, '최신': 1, '영상': 1, '솔루션': 1, '활용': 1, '구연': 1, '포스터': 1, '권위': 1, '기관': 1, '기반': 1, '임상': 1, '가치': 1, '레지스트리': 1, '팀': 1, '공동': 1, '규모': 1, '건': 1, '현행': 1, '이중': 1, '시스템': 1, '중': 1, '역할': 1, '탐색': 1, '판단': 1, '시': 1, '기존': 1, '추가': 1, '효과': 1, '도입': 1, '전문의': 1, '업무': 1, '량': 1, '실증': 1, '것': 1, '다음': 1, '공중': 1, '보건': 1, '연구소': 1, '참여': 1, '적용': 1, '능력': 1, '평가': 1, '최종': 1, '전': 1, '향후': 1, '과정': 1, '사례': 1, '의심': 1, '병': 1, '변': 1, '정확도': 1, '식별': 1, '반면': 1, '지속': 1, '서범석': 1, '대표': 1, '공개': 1, '부족': 1, '문제': 1, '해결': 1, '가지': 1, '핵심': 1, '과제': 1, '해결책': 1, '점': 1, '의미': 1, '있다': 1, '말': 1})\n"
     ]
    }
   ],
   "source": [
    "from konlpy.tag import Komoran\n",
    "from collections import Counter\n",
    "text = \"\"\"\n",
    "의료 인공지능(AI) 기업 루닛은 이달 26일(현지시간)부터 내달 2일까지 오스트리아 빈에서 진행되는 '2025 유럽영상의학회(ECR 2025)'에서 유방암 진단 분야의 최신 연구 성과 15편을 발표했다고 27일 밝혔다.\n",
    "루닛은 이번 학회에서 유방촬영술 AI 영상분석 솔루션 '루닛 인사이트 MMG'를 활용해 학회 주요 성과로 꼽히는 구연 발표 13편과 포스터 발표 2편을 선보였다. 특히 권위있는 유럽 의료기관들과의 협력 연구들을 통해 AI 기반 유방암 진단의 임상적 가치를 제시했다.\n",
    "이번 ECR 2025의 가장 주요 연구는 루닛이 노르웨이 암 레지스트리 연구팀과 공동으로 수행한 대규모 연구다. 연구진은 노르웨이 국가 유방암 검진 프로그램의 100만 건 이상 유방촬영술 데이터를 분석, 현행 이중판독 시스템에서 루닛 인사이트 MMG가 영상의학 전문의 두 명 중 한 명의 역할을 수행할 수 있는지를 탐색했다.\n",
    "연구 결과 AI가 유방암 양성 가능성이 10% 이상이라고 판단한 경우, 실제 검진 시 발견된 유방암의 79.9%를 찾아냈고 양성 가능성 5% 이상의 경우에는 실제 발견 유방암의 75.5%를 감지했다.\n",
    "또한 기존 검진이 놓친 간격암의 5.7%를 추가로 찾아내며 조기 탐지 효과를 입증했다. AI 도입으로 전문의의 판독 업무량을 크게 줄이면서도 암 발견율을 유지할 수 있음을 실증적으로 입증한 것이다.\n",
    "다음 연구에서 루닛은 노르웨이 공중보건 연구소 연구진과 협력해 지난 2004년부터 2018년까지 노르웨이 국가 유방암 검진 프로그램에 참여한 11만6000명 이상 여성의 유방촬영술 데이터에 루닛 인사이트 MMG를 적용, AI의 암 조기 탐지 능력을 평가했다.\n",
    "그 결과 AI는 암 최종 진단을 받기 6년 전부터 향후 암이 발생할 위험을 감지했다. 또한 검진 과정에서 유방암이 발견된 사례들을 AI로 분석한 결과, 암 발생 위험도 점수가 19.2에서 82.7로 크게 상승하며 유방암 의심 병변을 높은 정확도로 식별했다. 반면 암에 걸리지 않은 여성들은 지속적으로 낮은 AI 위험도 점수를 유지했고, 간격암에서도 AI가 조기에 위험도 상승을 원활히 감지해냈다.\n",
    "서범석 루닛 대표는 \"이번 ECR 2025에서 공개되는 연구들은 전문의 부족 문제 해결과 조기 진단이라는 두 가지 핵심 과제에 대한 해결책을 제시했다는 점에서 의미가 있다\"고 말했다.\n",
    "\"\"\"\n",
    "komoran = Komoran()\n",
    "nouns = komoran.nouns(text)\n",
    "\n",
    "# 하드코딩 결과\n",
    "def result():\n",
    "    box={}\n",
    "    for no in nouns:\n",
    "        a = nouns.count(no)\n",
    "        box[no]=a\n",
    "    box_sort = dict(sorted(box.items(), key=lambda item: item[1], reverse=True))\n",
    "    print(box_sort)\n",
    "\n",
    "# 검증\n",
    "def true():\n",
    "    nouns_text = \" \".join(nouns)\n",
    "    word_counts = Counter(nouns_text.split())\n",
    "    print(word_counts)\n",
    "\n",
    "result()\n",
    "true()"
   ]
  },
  {
   "cell_type": "markdown",
   "id": "d4ca5644-3bd2-45fb-8966-f2d7deeab4b4",
   "metadata": {},
   "source": [
    "# 쇼핑몰 판매량 데이터"
   ]
  },
  {
   "cell_type": "code",
   "execution_count": null,
   "id": "f1328821-d920-440b-b8d3-4dfb505554e1",
   "metadata": {},
   "outputs": [],
   "source": []
  },
  {
   "cell_type": "markdown",
   "id": "3cbc3730-14b2-48ee-a966-09ab976a9be7",
   "metadata": {},
   "source": [
    "#### 레벨 1 전처리된 데이터를 최소한으로 자신이 수정하여 다른 방향으로 인사이트를 얻기"
   ]
  },
  {
   "cell_type": "code",
   "execution_count": 37,
   "id": "04fcc27a-a86a-40b4-a1f4-e20c933c923a",
   "metadata": {},
   "outputs": [
    {
     "name": "stdout",
     "output_type": "stream",
     "text": [
      "\n",
      "아래의 그래프를 통해 인터넷 쇼핑 거래액과 모바일 쇼핑 거래 사이의 관계를 시각적으로 확인할 수 있습니다.\n",
      "두 플랫폼 간의 거래액 차이를 통해 소비자들이 어떤 플랫폼을 더 선호하는지를 파악\n",
      "\n"
     ]
    },
    {
     "data": {
      "image/png": "[encoded data removed]",
      "text/plain": [
       "<Figure size 1000x500 with 1 Axes>"
      ]
     },
     "metadata": {},
     "output_type": "display_data"
    }
   ],
   "source": [
    "import matplotlib\n",
    "import matplotlib.pyplot as plt\n",
    "import matplotlib.font_manager as fm\n",
    "import pandas as pd\n",
    "from datetime import datetime\n",
    "\n",
    "d2_path = \"./ref/D2Coding-Ver1.3.2-20180524.ttf\"\n",
    "fm.fontManager.addfont(d2_path)\n",
    "matplotlib.rcParams[\"font.family\"] = \"D2Coding\"\n",
    "\n",
    "file_path = \"./ref/온라인쇼핑몰_판매매체별_상품군별거래액_20250304100057.csv\"\n",
    "ori = pd.read_csv(file_path, encoding=\"EUC-KR\") # utf-8\n",
    "ori.columns = ['category', 'date', 'internet', 'mobile']\n",
    "ori\n",
    "\n",
    "fig, ax = plt.subplots(figsize=(10,5))\n",
    "for o in obj:\n",
    "    obj_data = ex_data[ex_data['category'] == o]\n",
    "    x_data = obj_data['date']\n",
    "    y_data2 = obj_data['internet']\n",
    "    y_data = obj_data['mobile']\n",
    "    ax.scatter(x_data, y_data, s=20, label=o)\n",
    "\n",
    "print(\"\"\"\n",
    "아래의 그래프를 통해 인터넷 쇼핑 거래액과 모바일 쇼핑 거래 사이의 관계를 시각적으로 확인할 수 있습니다.\n",
    "두 플랫폼 간의 거래액 차이를 통해 소비자들이 어떤 플랫폼을 더 선호하는지를 파악\n",
    "\"\"\")\n",
    "ax.set_xlabel(\"인터넷 쇼핑\")\n",
    "ax.set_ylabel(\"모바일 쇼핑\")\n",
    "ax.legend(loc=\"best\")\n",
    "plt.show()"
   ]
  },
  {
   "cell_type": "markdown",
   "id": "ab12febb-2dcb-4c11-ac06-4f53e6f209c6",
   "metadata": {},
   "source": [
    "#### 레벨 2 전처리조차 자신이 직접하여 재구성하기"
   ]
  },
  {
   "cell_type": "code",
   "execution_count": 32,
   "id": "7260410d-40b1-4150-8996-a617d1ca8dd4",
   "metadata": {},
   "outputs": [
    {
     "data": {
      "text/html": [
       "<div>\n",
       "<style scoped>\n",
       "    .dataframe tbody tr th:only-of-type {\n",
       "        vertical-align: middle;\n",
       "    }\n",
       "\n",
       "    .dataframe tbody tr th {\n",
       "        vertical-align: top;\n",
       "    }\n",
       "\n",
       "    .dataframe thead th {\n",
       "        text-align: right;\n",
       "    }\n",
       "</style>\n",
       "<table border=\"1\" class=\"dataframe\">\n",
       "  <thead>\n",
       "    <tr style=\"text-align: right;\">\n",
       "      <th></th>\n",
       "      <th>category</th>\n",
       "      <th>date</th>\n",
       "      <th>internet</th>\n",
       "      <th>mobile</th>\n",
       "    </tr>\n",
       "  </thead>\n",
       "  <tbody>\n",
       "    <tr>\n",
       "      <th>0</th>\n",
       "      <td>여행 및 교통서비스</td>\n",
       "      <td>2017</td>\n",
       "      <td>6799025</td>\n",
       "      <td>7779324</td>\n",
       "    </tr>\n",
       "    <tr>\n",
       "      <th>1</th>\n",
       "      <td>여행 및 교통서비스</td>\n",
       "      <td>2018</td>\n",
       "      <td>7194769</td>\n",
       "      <td>9386646</td>\n",
       "    </tr>\n",
       "    <tr>\n",
       "      <th>2</th>\n",
       "      <td>여행 및 교통서비스</td>\n",
       "      <td>2019</td>\n",
       "      <td>7313090</td>\n",
       "      <td>10709153</td>\n",
       "    </tr>\n",
       "    <tr>\n",
       "      <th>3</th>\n",
       "      <td>여행 및 교통서비스</td>\n",
       "      <td>2020</td>\n",
       "      <td>1907422</td>\n",
       "      <td>6055002</td>\n",
       "    </tr>\n",
       "    <tr>\n",
       "      <th>4</th>\n",
       "      <td>여행 및 교통서비스</td>\n",
       "      <td>2021</td>\n",
       "      <td>2086752</td>\n",
       "      <td>7018381</td>\n",
       "    </tr>\n",
       "    <tr>\n",
       "      <th>5</th>\n",
       "      <td>여행 및 교통서비스</td>\n",
       "      <td>2022</td>\n",
       "      <td>4879077</td>\n",
       "      <td>11937397</td>\n",
       "    </tr>\n",
       "    <tr>\n",
       "      <th>6</th>\n",
       "      <td>여행 및 교통서비스</td>\n",
       "      <td>2023</td>\n",
       "      <td>8006865</td>\n",
       "      <td>16130467</td>\n",
       "    </tr>\n",
       "    <tr>\n",
       "      <th>7</th>\n",
       "      <td>여행 및 교통서비스</td>\n",
       "      <td>2024 p)</td>\n",
       "      <td>8574068</td>\n",
       "      <td>17805249</td>\n",
       "    </tr>\n",
       "  </tbody>\n",
       "</table>\n",
       "</div>"
      ],
      "text/plain": [
       "     category     date  internet    mobile\n",
       "0  여행 및 교통서비스     2017   6799025   7779324\n",
       "1  여행 및 교통서비스     2018   7194769   9386646\n",
       "2  여행 및 교통서비스     2019   7313090  10709153\n",
       "3  여행 및 교통서비스     2020   1907422   6055002\n",
       "4  여행 및 교통서비스     2021   2086752   7018381\n",
       "5  여행 및 교통서비스     2022   4879077  11937397\n",
       "6  여행 및 교통서비스     2023   8006865  16130467\n",
       "7  여행 및 교통서비스  2024 p)   8574068  17805249"
      ]
     },
     "execution_count": 32,
     "metadata": {},
     "output_type": "execute_result"
    }
   ],
   "source": [
    "import matplotlib\n",
    "import matplotlib.pyplot as plt\n",
    "import matplotlib.font_manager as fm\n",
    "import pandas as pd\n",
    "from datetime import datetime\n",
    "\n",
    "d2_path = \"./ref/D2Coding-Ver1.3.2-20180524.ttf\"\n",
    "fm.fontManager.addfont(d2_path)\n",
    "matplotlib.rcParams[\"font.family\"] = \"D2Coding\"\n",
    "\n",
    "file_path = \"./ref/온라인쇼핑몰_판매매체별_상품군별거래액_20250304100057.csv\"\n",
    "ori = pd.read_csv(file_path, encoding=\"EUC-KR\") # utf-8\n",
    "ori.columns = ['category', 'date', 'internet', 'mobile']\n",
    "# obj = ['여행 및 교통서비스']\n",
    "# ex_data = ori[ori['category'].isin(obj)]\n",
    "# ex_data\n",
    "ori\n",
    "\n",
    "# fig, ax = plt.subplots(figsize=(10,5))\n",
    "# for o in obj:\n",
    "#     obj_data = ex_data[ex_data['category'] == o]\n",
    "#     x_data = obj_data['internet']\n",
    "#     y_data = obj_data['mobile']\n",
    "#     ax.scatter(x_data, y_data, s=20, label=o)\n",
    "\n",
    "# print(\"\"\"\n",
    "# 아래의 그래프를 통해 인터넷 쇼핑 거래액과 모바일 쇼핑 거래 사이의 관계를 시각적으로 확인할 수 있습니다.\n",
    "# 두 플랫폼 간의 거래액 차이를 통해 소비자들이 어떤 플랫폼을 더 선호하는지를 파악할 수 있습니다.\n",
    "# \"\"\")\n",
    "# ax.set_xlabel(\"인터넷 쇼핑\")\n",
    "# ax.set_ylabel(\"모바일 쇼핑\")\n",
    "# ax.legend(loc=\"best\")\n",
    "# plt.show()"
   ]
  },
  {
   "cell_type": "code",
   "execution_count": null,
   "id": "61bb1d8b-0623-4198-8f27-52c6d45be341",
   "metadata": {},
   "outputs": [],
   "source": []
  }
 ],
 "metadata": {
  "kernelspec": {
   "display_name": "Python 3 (ipykernel)",
   "language": "python",
   "name": "python3"
  },
  "language_info": {
   "codemirror_mode": {
    "name": "ipython",
    "version": 3
   },
   "file_extension": ".py",
   "mimetype": "text/x-python",
   "name": "python",
   "nbconvert_exporter": "python",
   "pygments_lexer": "ipython3",
   "version": "3.13.1"
  }
 },
 "nbformat": 4,
 "nbformat_minor": 5
}
