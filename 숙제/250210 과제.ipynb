{
 "cells": [
  {
   "cell_type": "markdown",
   "id": "da0ccb60-f7af-476b-b388-1c8f7bc488d2",
   "metadata": {},
   "source": [
    "# 250210 과제"
   ]
  },
  {
   "cell_type": "code",
   "execution_count": 14,
   "id": "d58cfb9d-ea04-45e7-b977-53c0e75f7331",
   "metadata": {},
   "outputs": [
    {
     "name": "stdout",
     "output_type": "stream",
     "text": [
      "33 22\n"
     ]
    }
   ],
   "source": [
    "# 1. 배열 요소 오름차순 나열\n",
    "# max,min,sort 안쓰고 오름차순 나열\n",
    "num = [33, 11, 22]\n",
    "if num[0] >= (num[1] and num[2]): m = 33\n",
    "if num[1] >= (num[0] and num[2]): m = 11\n",
    "if num[2] >= (num[1] and num[0]): m = 22\n",
    "    \n",
    "if num[0] <= (num[1] and num[2]): n = 33\n",
    "if num[1] <= (num[0] and num[2]): n = 11\n",
    "if num[2] <= (num[1] and num[0]): n = 22\n",
    "    \n",
    "print(m,n)"
   ]
  },
  {
   "cell_type": "code",
   "execution_count": 10,
   "id": "cdf857fa-1ae8-4486-8e31-61bbc174de70",
   "metadata": {},
   "outputs": [
    {
     "name": "stdout",
     "output_type": "stream",
     "text": [
      "max : 44\n"
     ]
    }
   ],
   "source": [
    "# 2. 요소 중 제일 큰 수 찾기\n",
    "num = [33, 11, 22, 44]\n",
    "if num[0] >= (num[1] and num[2] and num[3]): m = 'max : 33'\n",
    "if num[1] >= (num[0] and num[2] and num[3]): m = 'max : 11'\n",
    "if num[2] >= (num[1] and num[0] and num[3]): m = 'max : 22'\n",
    "if num[3] >= (num[1] and num[2] and num[0]): m = 'max : 44'\n",
    "\n",
    "print(m)"
   ]
  },
  {
   "cell_type": "code",
   "execution_count": null,
   "id": "c95c976b-fa65-4d8d-ae38-e431e963f760",
   "metadata": {},
   "outputs": [],
   "source": [
    "# 3.잔돈 계산 프로그램\n",
    "money = int(input('돈을 넣어주세요'))\n",
    "choice = int(input('1,330원 상품을 구입하셨습니다.'))\n"
   ]
  },
  {
   "cell_type": "code",
   "execution_count": 2,
   "id": "e0f717e6-7416-40cc-8fe9-103a26615d6a",
   "metadata": {},
   "outputs": [
    {
     "name": "stdin",
     "output_type": "stream",
     "text": [
      "가위, 바위, 보 중 하나를 내세요 :  가위\n"
     ]
    },
    {
     "name": "stdout",
     "output_type": "stream",
     "text": [
      "바위\n"
     ]
    }
   ],
   "source": [
    "# 4. 가위 바위 보 프로그램\n",
    "import random as r\n",
    "rps = input(\"사람 : 가위, 바위, 보 중 하나를 내세요 : \")\n",
    "result = ['가위', '바위', '보']\n",
    "if not rps in result:\n",
    "    print(\"잘못 내셨습니다. 다시 시도해주세요\")\n",
    "else:    \n",
    "    ran = r.randint(1,3)\n",
    "    print(result[ran])\n"
   ]
  },
  {
   "cell_type": "code",
   "execution_count": null,
   "id": "5819439c-1f7e-4b8a-842b-e36e86f7c47c",
   "metadata": {},
   "outputs": [],
   "source": []
  }
 ],
 "metadata": {
  "kernelspec": {
   "display_name": "Python 3 (ipykernel)",
   "language": "python",
   "name": "python3"
  },
  "language_info": {
   "codemirror_mode": {
    "name": "ipython",
    "version": 3
   },
   "file_extension": ".py",
   "mimetype": "text/x-python",
   "name": "python",
   "nbconvert_exporter": "python",
   "pygments_lexer": "ipython3",
   "version": "3.13.1"
  }
 },
 "nbformat": 4,
 "nbformat_minor": 5
}
