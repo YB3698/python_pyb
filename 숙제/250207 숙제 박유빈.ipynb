{
 "cells": [
  {
   "cell_type": "markdown",
   "id": "93ad4de6-2c8d-4858-a597-e57b0a1915a3",
   "metadata": {},
   "source": [
    "# 250207 숙제_박유빈"
   ]
  },
  {
   "cell_type": "markdown",
   "id": "8a51527d-41eb-4dfe-8eba-a3682c725085",
   "metadata": {},
   "source": [
    "## 1. 커피 자판기"
   ]
  },
  {
   "cell_type": "code",
   "execution_count": 2,
   "id": "f0f207c1-2948-4b9a-a70b-08d4facd993a",
   "metadata": {},
   "outputs": [
    {
     "name": "stdin",
     "output_type": "stream",
     "text": [
      "돈을 넣어주세요 300\n"
     ]
    },
    {
     "name": "stdout",
     "output_type": "stream",
     "text": [
      "맛있게 드세요!\n"
     ]
    },
    {
     "name": "stdin",
     "output_type": "stream",
     "text": [
      "돈을 넣어주세요 300\n"
     ]
    },
    {
     "name": "stdout",
     "output_type": "stream",
     "text": [
      "맛있게 드세요!\n"
     ]
    },
    {
     "name": "stdin",
     "output_type": "stream",
     "text": [
      "돈을 넣어주세요 300\n"
     ]
    },
    {
     "name": "stdout",
     "output_type": "stream",
     "text": [
      "맛있게 드세요!\n"
     ]
    },
    {
     "name": "stdin",
     "output_type": "stream",
     "text": [
      "돈을 넣어주세요 400\n"
     ]
    },
    {
     "name": "stdout",
     "output_type": "stream",
     "text": [
      "거스름돈 100원 입니다. 맛있게 드세요!\n"
     ]
    },
    {
     "name": "stdin",
     "output_type": "stream",
     "text": [
      "돈을 넣어주세요 500\n"
     ]
    },
    {
     "name": "stdout",
     "output_type": "stream",
     "text": [
      "거스름돈 200원 입니다. 맛있게 드세요!\n"
     ]
    },
    {
     "name": "stdin",
     "output_type": "stream",
     "text": [
      "돈을 넣어주세요 300\n"
     ]
    },
    {
     "name": "stdout",
     "output_type": "stream",
     "text": [
      "맛있게 드세요!\n"
     ]
    },
    {
     "name": "stdin",
     "output_type": "stream",
     "text": [
      "돈을 넣어주세요 300\n"
     ]
    },
    {
     "name": "stdout",
     "output_type": "stream",
     "text": [
      "맛있게 드세요!\n"
     ]
    },
    {
     "name": "stdin",
     "output_type": "stream",
     "text": [
      "돈을 넣어주세요 300\n"
     ]
    },
    {
     "name": "stdout",
     "output_type": "stream",
     "text": [
      "맛있게 드세요!\n"
     ]
    },
    {
     "name": "stdin",
     "output_type": "stream",
     "text": [
      "돈을 넣어주세요 300\n"
     ]
    },
    {
     "name": "stdout",
     "output_type": "stream",
     "text": [
      "맛있게 드세요!\n"
     ]
    },
    {
     "name": "stdin",
     "output_type": "stream",
     "text": [
      "돈을 넣어주세요 300\n"
     ]
    },
    {
     "name": "stdout",
     "output_type": "stream",
     "text": [
      "맛있게 드세요!\n",
      "커피가 없습니다. 죄송합니다. 다음에 또 이용 부탁드립니다.\n"
     ]
    }
   ],
   "source": [
    "coffee = 10\n",
    "while True :\n",
    "    money = int(input(\"돈을 넣어주세요\"))\n",
    "    if money == 300:\n",
    "        print(\"맛있게 드세요!\")\n",
    "        coffee = coffee - 1\n",
    "    elif money > 300:\n",
    "        print(\"거스름돈 %d원 입니다. 맛있게 드세요!\" % (money - 300))\n",
    "        coffee = coffee - 1\n",
    "    else:\n",
    "        print(\"문제가 있습니다. 돈을 돌려드리겠습니다.\")\n",
    "    if coffee == 0 :\n",
    "        print(\"커피가 없습니다. 죄송합니다. 다음에 또 이용 부탁드립니다.\")\n",
    "        break"
   ]
  },
  {
   "cell_type": "markdown",
   "id": "4d086194-550d-49ea-84ea-343117b7c04d",
   "metadata": {},
   "source": [
    "## 2. 주사위 돌리기"
   ]
  },
  {
   "cell_type": "code",
   "execution_count": 2,
   "id": "64b80e6c-2241-480e-a498-dc38ba394ee1",
   "metadata": {},
   "outputs": [
    {
     "name": "stdout",
     "output_type": "stream",
     "text": [
      "250000회 정상 진행되었습니다.\n",
      "1번이 41522번 (16.61%) 나왔습니다.\n",
      "2번이 41484번 (16.59%) 나왔습니다.\n",
      "3번이 41331번 (16.53%) 나왔습니다.\n",
      "4번이 41683번 (16.67%) 나왔습니다.\n",
      "5번이 41808번 (16.72%) 나왔습니다.\n",
      "6번이 42172번 (16.87%) 나왔습니다.\n",
      "6 번이 가장 많이 출력되었습니다.\n"
     ]
    }
   ],
   "source": [
    "import random as r\n",
    "box = []\n",
    "num = 0\n",
    "target = 250000\n",
    "while num < target :\n",
    "    num = num + 1\n",
    "    ran = r.randint(1,6)\n",
    "    box.append(ran)\n",
    "if target == len(box):\n",
    "    print(f\"{target}회 정상 진행되었습니다.\")\n",
    "else:\n",
    "    print(f\"검증 결과 횟수 이상이 있습니다. 이유 : {target}회 목표로 동작하였으나, {len(box)}으로 측정되었습니다.\")\n",
    "\n",
    "# 리스트의 특정한 숫자가 몇번,몇%로 나오는지 찾아내기\n",
    "li = []\n",
    "result = 0\n",
    "while result < 6:\n",
    "    result += 1\n",
    "    num1 = box.count(result)\n",
    "    per = (num1/len(box))*100\n",
    "    print(f'{result}번이 {num1}번 ({per:.2f}%) 나왔습니다.')\n",
    "    li.append(num1)\n",
    "result = li.index(max(li))+1\n",
    "print(result,'번이 가장 많이 출력되었습니다.')"
   ]
  },
  {
   "cell_type": "markdown",
   "id": "f9a513c2-fb6e-486a-84b1-33adffd8a94f",
   "metadata": {},
   "source": [
    "## 3. 되새김 문제 "
   ]
  },
  {
   "cell_type": "code",
   "execution_count": 7,
   "id": "abc9d7e2-dfc0-4e3f-8384-d44eeb0e18b1",
   "metadata": {},
   "outputs": [
    {
     "name": "stdout",
     "output_type": "stream",
     "text": [
      "need\n"
     ]
    }
   ],
   "source": [
    "# 1. 조건문의 참과 거짓\n",
    "a = \"Life is too short, you need python\"\n",
    "\n",
    "if \"wife\" in a: print(\"wife\")\n",
    "    # wife라는 단어는 a에 없기 때문에 거짓이라 출력되지 않는다.\n",
    "elif \"python\" in a and \"you\" not in a: print(\"python\") \n",
    "    # and함수는 둘 다 참이어야 하는데 you는 a에 있기 때문에 거짓이라 출력되지 않는다.\n",
    "elif \"shirt\" not in a: print(\"need\")\n",
    "    # shirt는 a에 없기 때문에 참이라서 need가 출력된다.\n",
    "elif \"need\" in a: print(\"need\")\n",
    "    # need는 a에 없기 때문에 거짓이라 출력되지 않는다.\n",
    "else: print(\"none\")\n",
    "# 하나가 참이여서 출력됐기 때문에 else는 출력되지 않는다."
   ]
  },
  {
   "cell_type": "code",
   "execution_count": 1,
   "id": "c70bdf06-3e74-49b2-95f0-8bf40b9791a4",
   "metadata": {},
   "outputs": [
    {
     "name": "stdout",
     "output_type": "stream",
     "text": [
      "166833\n"
     ]
    }
   ],
   "source": [
    "# 2. 1부터 1000까지의 자연수 중 3의 배수 합 구하기\n",
    "result = 0\n",
    "i = 1\n",
    "while i <= 1000:\n",
    "    if i % 3 == 0: \n",
    "       result += i\n",
    "    i += 1\n",
    "\n",
    "print(result)"
   ]
  },
  {
   "cell_type": "code",
   "execution_count": 26,
   "id": "de30b7eb-3897-4c8e-941c-5412b68b725d",
   "metadata": {},
   "outputs": [
    {
     "name": "stdout",
     "output_type": "stream",
     "text": [
      "*\n",
      "**\n",
      "***\n",
      "****\n",
      "*****\n"
     ]
    }
   ],
   "source": [
    "# 3. 별 표시하기\n",
    "i = 0\n",
    "while True:\n",
    "    i += 1\n",
    "    if i > 5 :break\n",
    "    print(i*'*')"
   ]
  },
  {
   "cell_type": "code",
   "execution_count": 4,
   "id": "352964be-a844-4a5d-9a82-d57f6fd6c54f",
   "metadata": {},
   "outputs": [
    {
     "name": "stdout",
     "output_type": "stream",
     "text": [
      "1\n",
      "2\n",
      "3\n",
      "4\n",
      "5\n",
      "6\n",
      "7\n",
      "8\n",
      "9\n",
      "10\n",
      "11\n",
      "12\n",
      "13\n",
      "14\n",
      "15\n",
      "16\n",
      "17\n",
      "18\n",
      "19\n",
      "20\n",
      "21\n",
      "22\n",
      "23\n",
      "24\n",
      "25\n",
      "26\n",
      "27\n",
      "28\n",
      "29\n",
      "30\n",
      "31\n",
      "32\n",
      "33\n",
      "34\n",
      "35\n",
      "36\n",
      "37\n",
      "38\n",
      "39\n",
      "40\n",
      "41\n",
      "42\n",
      "43\n",
      "44\n",
      "45\n",
      "46\n",
      "47\n",
      "48\n",
      "49\n",
      "50\n",
      "51\n",
      "52\n",
      "53\n",
      "54\n",
      "55\n",
      "56\n",
      "57\n",
      "58\n",
      "59\n",
      "60\n",
      "61\n",
      "62\n",
      "63\n",
      "64\n",
      "65\n",
      "66\n",
      "67\n",
      "68\n",
      "69\n",
      "70\n",
      "71\n",
      "72\n",
      "73\n",
      "74\n",
      "75\n",
      "76\n",
      "77\n",
      "78\n",
      "79\n",
      "80\n",
      "81\n",
      "82\n",
      "83\n",
      "84\n",
      "85\n",
      "86\n",
      "87\n",
      "88\n",
      "89\n",
      "90\n",
      "91\n",
      "92\n",
      "93\n",
      "94\n",
      "95\n",
      "96\n",
      "97\n",
      "98\n",
      "99\n",
      "100\n"
     ]
    }
   ],
   "source": [
    "# 1부터 100까지 출력하기\n",
    "for i in range(1,101):\n",
    "    print(i)"
   ]
  },
  {
   "cell_type": "code",
   "execution_count": 6,
   "id": "cadb3260-f5cb-490d-8721-75d1c314e821",
   "metadata": {},
   "outputs": [
    {
     "name": "stdout",
     "output_type": "stream",
     "text": [
      "79.7\n"
     ]
    }
   ],
   "source": [
    "# 5. 평균 점수 구하기\n",
    "A = [77, 60, 55, 75, 95, 90, 80, 80, 85, 100]\n",
    "total = 0\n",
    "for score in A:\n",
    "    total += score\n",
    "average = total/10\n",
    "print(average)"
   ]
  },
  {
   "cell_type": "code",
   "execution_count": 9,
   "id": "74379220-978d-4b52-a181-6011f3b968be",
   "metadata": {},
   "outputs": [
    {
     "name": "stdout",
     "output_type": "stream",
     "text": [
      "[2, 6, 10]\n"
     ]
    }
   ],
   "source": [
    "# 6. 리스트 컴프리헨션 사용하기\n",
    "number = [1, 2, 3, 4, 5]\n",
    "result = [num * 2 for num in number if num % 2 == 1]\n",
    "print(result)"
   ]
  },
  {
   "cell_type": "markdown",
   "id": "1365bd48-ec9c-4398-8a55-5f9f0dc9c408",
   "metadata": {},
   "source": [
    "## 4. 로또 만들기"
   ]
  },
  {
   "cell_type": "code",
   "execution_count": 63,
   "id": "2cbcd484-b8e9-4bae-a9d3-01ff5723caa7",
   "metadata": {},
   "outputs": [
    {
     "name": "stdout",
     "output_type": "stream",
     "text": [
      "[[5, 10, 14, 15, 28, 46], [1, 3, 11, 12, 35, 42], [9, 23, 30, 38, 45, 46], [11, 14, 20, 24, 37, 42], [9, 16, 18, 32, 39, 45], [1, 10, 22, 23, 25, 41], [1, 5, 16, 17, 31, 43], [1, 14, 25, 30, 33, 43], [12, 15, 18, 33, 36, 46], [13, 19, 28, 31, 38, 45]]\n",
      "0\n"
     ]
    }
   ],
   "source": [
    "box = []\n",
    "import random as r\n",
    "while len(box) < 10:\n",
    "    lotto = []\n",
    "    while len(lotto) < 6:\n",
    "        ran = r.randint(1,46)\n",
    "        if not ran in lotto:\n",
    "            lotto.append(ran)\n",
    "        lotto.sort()\n",
    "    box.append(lotto)\n",
    "print(box)\n",
    "print(lotto.count(4))"
   ]
  },
  {
   "cell_type": "code",
   "execution_count": 1,
   "id": "edc579b1-4fd1-438c-9fdf-f5bc100bfe35",
   "metadata": {},
   "outputs": [
    {
     "ename": "IndentationError",
     "evalue": "unexpected indent (337626533.py, line 2)",
     "output_type": "error",
     "traceback": [
      "\u001b[1;36m  Cell \u001b[1;32mIn[1], line 2\u001b[1;36m\u001b[0m\n\u001b[1;33m    lotto = []\u001b[0m\n\u001b[1;37m    ^\u001b[0m\n\u001b[1;31mIndentationError\u001b[0m\u001b[1;31m:\u001b[0m unexpected indent\n"
     ]
    }
   ],
   "source": [
    "import random as r\n",
    "    lotto = []\n",
    "    while len(lotto) < 6:\n",
    "        ran = r.randint(1,46)\n",
    "        if not ran in lotto:\n",
    "            lotto.append(ran)\n",
    "        lotto.sort()\n",
    "    box.append(lotto)\n",
    "print(lotto)"
   ]
  },
  {
   "cell_type": "code",
   "execution_count": 30,
   "id": "40a283d7-8039-4b6d-8b1d-80fe837a3eae",
   "metadata": {},
   "outputs": [
    {
     "name": "stdout",
     "output_type": "stream",
     "text": [
      "[1, 9, 13, 16, 21, 27] 6\n"
     ]
    }
   ],
   "source": [
    "import random as r\n",
    "box = []\n",
    "while len (box) < 6:\n",
    "    ran = r.randint(1,46) # 로또 번호는 45번까지 있음\n",
    "    if not ran in box: # box안에 ran이 없으면 집어넣어라는 말\n",
    "        box.append(ran) # 6에서 멈췄지만 이 문장때문에 한번 더 출력된거\n",
    "box.sort() # 오름차순\n",
    "print(box,len(box))"
   ]
  },
  {
   "cell_type": "code",
   "execution_count": 49,
   "id": "4e0a1077-f2f5-4d07-9a8c-e2d4665c443f",
   "metadata": {},
   "outputs": [
    {
     "name": "stdout",
     "output_type": "stream",
     "text": [
      "숫자1 : 출현한 횟수는 11회 입니다.\n",
      "숫자2 : 출현한 횟수는 8회 입니다.\n",
      "숫자3 : 출현한 횟수는 9회 입니다.\n",
      "숫자4 : 출현한 횟수는 17회 입니다.\n",
      "숫자5 : 출현한 횟수는 13회 입니다.\n",
      "숫자6 : 출현한 횟수는 13회 입니다.\n",
      "숫자7 : 출현한 횟수는 12회 입니다.\n",
      "숫자8 : 출현한 횟수는 10회 입니다.\n",
      "숫자9 : 출현한 횟수는 14회 입니다.\n",
      "숫자10 : 출현한 횟수는 13회 입니다.\n",
      "숫자11 : 출현한 횟수는 14회 입니다.\n",
      "숫자12 : 출현한 횟수는 17회 입니다.\n",
      "숫자13 : 출현한 횟수는 16회 입니다.\n",
      "숫자14 : 출현한 횟수는 14회 입니다.\n",
      "숫자15 : 출현한 횟수는 8회 입니다.\n",
      "숫자16 : 출현한 횟수는 7회 입니다.\n",
      "숫자17 : 출현한 횟수는 15회 입니다.\n",
      "숫자18 : 출현한 횟수는 11회 입니다.\n",
      "숫자19 : 출현한 횟수는 13회 입니다.\n",
      "숫자20 : 출현한 횟수는 13회 입니다.\n",
      "숫자21 : 출현한 횟수는 9회 입니다.\n",
      "숫자22 : 출현한 횟수는 17회 입니다.\n",
      "숫자23 : 출현한 횟수는 12회 입니다.\n",
      "숫자24 : 출현한 횟수는 11회 입니다.\n",
      "숫자25 : 출현한 횟수는 17회 입니다.\n",
      "숫자26 : 출현한 횟수는 17회 입니다.\n",
      "숫자27 : 출현한 횟수는 14회 입니다.\n",
      "숫자28 : 출현한 횟수는 16회 입니다.\n",
      "숫자29 : 출현한 횟수는 10회 입니다.\n",
      "숫자30 : 출현한 횟수는 11회 입니다.\n",
      "숫자31 : 출현한 횟수는 10회 입니다.\n",
      "숫자32 : 출현한 횟수는 19회 입니다.\n",
      "숫자33 : 출현한 횟수는 9회 입니다.\n",
      "숫자34 : 출현한 횟수는 12회 입니다.\n",
      "숫자35 : 출현한 횟수는 8회 입니다.\n",
      "숫자36 : 출현한 횟수는 19회 입니다.\n",
      "숫자37 : 출현한 횟수는 17회 입니다.\n",
      "숫자38 : 출현한 횟수는 12회 입니다.\n",
      "숫자39 : 출현한 횟수는 14회 입니다.\n",
      "숫자40 : 출현한 횟수는 15회 입니다.\n",
      "숫자41 : 출현한 횟수는 13회 입니다.\n",
      "숫자42 : 출현한 횟수는 14회 입니다.\n",
      "숫자43 : 출현한 횟수는 17회 입니다.\n",
      "숫자44 : 출현한 횟수는 18회 입니다.\n",
      "숫자45 : 출현한 횟수는 21회 입니다.\n",
      "[11, 8, 9, 17, 13, 13, 12, 10, 14, 13, 14, 17, 16, 14, 8, 7, 15, 11, 13, 13, 9, 17, 12, 11, 17, 17, 14, 16, 10, 11, 10, 19, 9, 12, 8, 19, 17, 12, 14, 15, 13, 14, 17, 18, 21] True\n",
      "출현 횟수 100에 대한 검증이 이상 없습니다.\n"
     ]
    }
   ],
   "source": [
    "# 참고용 1\n",
    "import random\n",
    "ls = []\n",
    "la = []\n",
    "how = 100\n",
    "for h in range(how):\n",
    "    lotto = sorted(random.sample(range(1,46),6))\n",
    "    la.append(lotto)\n",
    "    ls = ls + lotto\n",
    "# print(la,type(la))\n",
    "ss = []\n",
    "for n in range(1,46):\n",
    "    ss.append(ls.count(n))\n",
    "    print(f'숫자{n} : 출현한 횟수는 {ls.count(n)}회 입니다.')\n",
    "print(ss,sum(ss) == how*6)\n",
    "if sum(ss) == (how * 6):\n",
    "    print(f\"출현 횟수 {how}에 대한 검증이 이상 없습니다.\")"
   ]
  },
  {
   "cell_type": "code",
   "execution_count": 48,
   "id": "62d5163a-aba3-4079-b2b5-55aa4db590f7",
   "metadata": {},
   "outputs": [
    {
     "name": "stdout",
     "output_type": "stream",
     "text": [
      "{'num1': 16, 'num2': 12, 'num3': 15, 'num4': 11, 'num5': 12, 'num6': 14, 'num7': 13, 'num8': 13, 'num9': 13, 'num10': 16, 'num11': 11, 'num12': 10, 'num13': 20, 'num14': 14, 'num15': 9, 'num16': 15, 'num17': 13, 'num18': 14, 'num19': 22, 'num20': 15, 'num21': 13, 'num22': 6, 'num23': 13, 'num24': 14, 'num25': 11, 'num26': 13, 'num27': 13, 'num28': 13, 'num29': 14, 'num30': 8, 'num31': 17, 'num32': 15, 'num33': 12, 'num34': 8, 'num35': 11, 'num36': 17, 'num37': 14, 'num38': 13, 'num39': 10, 'num40': 15, 'num41': 14, 'num42': 16, 'num43': 8, 'num44': 13, 'num45': 21}\n",
      "600\n"
     ]
    }
   ],
   "source": [
    "# 참고용 2\n",
    "import random\n",
    "ls = []\n",
    "la = []\n",
    "how = 100\n",
    "for h in range(how):\n",
    "    lotto = sorted(random.sample(range(1,46),6))\n",
    "    la.append(lotto)\n",
    "    ls = ls + lotto\n",
    "dic = {}\n",
    "ss = []\n",
    "for n in range(1,46):\n",
    "    dic[f\"num{n}\"] = ls.count(n)\n",
    "print(dic)\n",
    "print(sum(dic.values()))"
   ]
  },
  {
   "cell_type": "code",
   "execution_count": 53,
   "id": "ac10463a-7660-4818-b8e5-9c6635976996",
   "metadata": {},
   "outputs": [
    {
     "name": "stdout",
     "output_type": "stream",
     "text": [
      "[3, 20, 22, 43, 48, 79, 82, 85, 92, 99] 10\n"
     ]
    }
   ],
   "source": [
    "# 참고용 3\n",
    "import random\n",
    "def 로또(파라미터=6, 매개변수=46): # 파라미터,매개변수만 입력하면 입력해야지만 출력되지만\n",
    "    box = []                     # 피라미터 = 값, 매개변수 = 값을 입력하면 출력값에 \n",
    "    while len(box) < 파라미터:    # 아무것도 입력하지 않아도 설정해둔 초기값으로 출력됨\n",
    "        ran = random.randint(1,매개변수)\n",
    "        if not ran in box:\n",
    "            box.append(ran)\n",
    "    box.sort()\n",
    "    print(box,len(box))\n",
    "# 로또(10,100) 10은 파라미터, 100은 매개변수값에 대입된다.\n",
    "로또() # 값을 넣으면 값대로 대입되지만 값을 넣지 않으면 초기값으로 출력된다."
   ]
  },
  {
   "cell_type": "code",
   "execution_count": null,
   "id": "a9f0376b-e2a6-45e4-b4da-0b30a38aa7fd",
   "metadata": {},
   "outputs": [],
   "source": []
  }
 ],
 "metadata": {
  "kernelspec": {
   "display_name": "Python 3 (ipykernel)",
   "language": "python",
   "name": "python3"
  },
  "language_info": {
   "codemirror_mode": {
    "name": "ipython",
    "version": 3
   },
   "file_extension": ".py",
   "mimetype": "text/x-python",
   "name": "python",
   "nbconvert_exporter": "python",
   "pygments_lexer": "ipython3",
   "version": "3.13.1"
  }
 },
 "nbformat": 4,
 "nbformat_minor": 5
}
