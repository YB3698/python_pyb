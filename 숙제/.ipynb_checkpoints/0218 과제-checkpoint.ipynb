{
 "cells": [
  {
   "cell_type": "markdown",
   "id": "76cf99b4-2a47-44ba-9291-2839f4aedb9c",
   "metadata": {},
   "source": [
    "# 0218 과제"
   ]
  },
  {
   "cell_type": "markdown",
   "id": "c4944007-a4f4-4c2d-9a46-65be1751909d",
   "metadata": {},
   "source": [
    "### 1. 생일 입력 받으면 몇일이 지났는지 계산"
   ]
  },
  {
   "cell_type": "code",
   "execution_count": 49,
   "id": "c720e171-dacd-498e-8a87-71aa84fb852f",
   "metadata": {
    "scrolled": true
   },
   "outputs": [
    {
     "name": "stdin",
     "output_type": "stream",
     "text": [
      "생일의 월을 입력해주세요 sjh\n",
      "생일의 일을 입력해주세요 idj\n"
     ]
    },
    {
     "ename": "ValueError",
     "evalue": "invalid literal for int() with base 10: 'sjh'",
     "output_type": "error",
     "traceback": [
      "\u001b[1;31m---------------------------------------------------------------------------\u001b[0m",
      "\u001b[1;31mValueError\u001b[0m                                Traceback (most recent call last)",
      "Cell \u001b[1;32mIn[49], line 5\u001b[0m\n\u001b[0;32m      3\u001b[0m month \u001b[38;5;241m=\u001b[39m \u001b[38;5;28minput\u001b[39m(\u001b[38;5;124m\"\u001b[39m\u001b[38;5;124m생일의 월을 입력해주세요\u001b[39m\u001b[38;5;124m\"\u001b[39m)\n\u001b[0;32m      4\u001b[0m day \u001b[38;5;241m=\u001b[39m \u001b[38;5;28minput\u001b[39m(\u001b[38;5;124m\"\u001b[39m\u001b[38;5;124m생일의 일을 입력해주세요\u001b[39m\u001b[38;5;124m\"\u001b[39m)\n\u001b[1;32m----> 5\u001b[0m m \u001b[38;5;241m=\u001b[39m \u001b[38;5;28;43mint\u001b[39;49m\u001b[43m(\u001b[49m\u001b[43mmonth\u001b[49m\u001b[43m)\u001b[49m\n\u001b[0;32m      6\u001b[0m d \u001b[38;5;241m=\u001b[39m \u001b[38;5;28mint\u001b[39m(day)\n\u001b[0;32m      7\u001b[0m bir \u001b[38;5;241m=\u001b[39m datetime\u001b[38;5;241m.\u001b[39mdate(\u001b[38;5;241m2025\u001b[39m,m,d)\n",
      "\u001b[1;31mValueError\u001b[0m: invalid literal for int() with base 10: 'sjh'"
     ]
    }
   ],
   "source": [
    "# 내가 품 1\n",
    "import datetime\n",
    "month = input(\"생일의 월을 입력해주세요\")\n",
    "day = input(\"생일의 일을 입력해주세요\")\n",
    "m = int(month)\n",
    "d = int(day)\n",
    "bir = datetime.date(2025,m,d)\n",
    "today = datetime.datetime.now().date()\n",
    "week = ['월','화','수','목', '금' , '토', '일']\n",
    "def day():\n",
    "    if bir > today:\n",
    "        dday1 = bir - today\n",
    "        print(dday1.days,\"일 남았습니다.\")\n",
    "    elif bir < today:\n",
    "        dday2 = today - bir\n",
    "        print(dday2.days,\"일 지났습니다,\")\n",
    "    elif bir == today:\n",
    "        print(\"오늘이 생일이시군요. 생일 축하합니다🎉\")\n",
    "    elif type(m) != int and type(d) != int:\n",
    "        print(\"잘못입력하셨습니다. 다시 입력해주세요\")\n",
    "                \n",
    "day()"
   ]
  },
  {
   "cell_type": "code",
   "execution_count": 44,
   "id": "32b9a9c0-15b0-4c64-ad40-d5a6e92a2b61",
   "metadata": {},
   "outputs": [
    {
     "name": "stdin",
     "output_type": "stream",
     "text": [
      "생일의 월을 입력해주세요 07\n",
      "생일의 일을 입력해주세요 16\n"
     ]
    },
    {
     "data": {
      "text/plain": [
       "(int, False)"
      ]
     },
     "execution_count": 44,
     "metadata": {},
     "output_type": "execute_result"
    }
   ],
   "source": [
    "month = input(\"생일의 월을 입력해주세요\")\n",
    "day = input(\"생일의 일을 입력해주세요\")\n",
    "m = int(month)\n",
    "d = int(day)\n",
    "type(m), type(d) != int"
   ]
  },
  {
   "cell_type": "code",
   "execution_count": null,
   "id": "6c7c8d75-154d-4436-95c7-7376fe1dd7de",
   "metadata": {},
   "outputs": [],
   "source": [
    "# 내가 품 2\n",
    "import datetime\n",
    "month = input(\"생일의 월을 입력해주세요\")\n",
    "day = input(\"생일의 일을 입력해주세요\")\n",
    "m = int(month)\n",
    "d = int(day)\n",
    "bir = datetime.date(2025,m,d)\n",
    "today = datetime.datetime.now().date()\n",
    "week = ['월','화','수','목', '금' , '토', '일']\n",
    "def day():\n",
    "    while "
   ]
  },
  {
   "cell_type": "code",
   "execution_count": 17,
   "id": "dffb89fa-c7df-4083-b4da-2c8269327a7e",
   "metadata": {},
   "outputs": [
    {
     "name": "stdin",
     "output_type": "stream",
     "text": [
      "생일의 월을 입력해주세요 07\n",
      "생일의 일을 입력해주세요 16\n"
     ]
    },
    {
     "name": "stdout",
     "output_type": "stream",
     "text": [
      "2025-07-16\n"
     ]
    }
   ],
   "source": [
    "import datetime\n",
    "\n",
    "month = input(\"생일의 월을 입력해주세요\")\n",
    "day = input(\"생일의 일을 입력해주세요\")\n",
    "m = int(month)\n",
    "d = int(day)\n",
    "print(datetime.date(2025,m,d))"
   ]
  },
  {
   "cell_type": "markdown",
   "id": "be989574-2f18-4f51-a64a-8e54c0931408",
   "metadata": {},
   "source": [
    "### 2. 오늘부터 어린이날이 몇일 남았는지 계산"
   ]
  },
  {
   "cell_type": "code",
   "execution_count": 23,
   "id": "10b0a40c-3e87-4929-a48d-ef82a2d5c745",
   "metadata": {},
   "outputs": [
    {
     "name": "stdout",
     "output_type": "stream",
     "text": [
      "어린이날은 월요일입니다. 현재 어린이날까지 76 일 남았습니다.\n"
     ]
    }
   ],
   "source": [
    "import datetime\n",
    "\n",
    "def childrens():\n",
    "    chil = datetime.date(2025,5,5)\n",
    "    today = datetime.datetime.now().date()\n",
    "    week = ['월','화','수','목', '금' , '토', '일']\n",
    "    day = chil - today\n",
    "    print(\"어린이날은\",week[chil.weekday()]+\"요일입니다. 현재 어린이날까지\",day.days,\"일 남았습니다.\")\n",
    "    \n",
    "childrens()"
   ]
  },
  {
   "cell_type": "markdown",
   "id": "2edf71ec-1902-4a1b-80c2-549333e6a514",
   "metadata": {},
   "source": [
    "### 3. 오늘부터 어버이날이 몇일 남았는지, 그날은 무슨 요일인지 계산"
   ]
  },
  {
   "cell_type": "code",
   "execution_count": null,
   "id": "28118298-c075-4050-a7aa-90641c7bbc84",
   "metadata": {},
   "outputs": [],
   "source": []
  },
  {
   "cell_type": "markdown",
   "id": "452a1e37-d164-496e-84b1-49ea6cd706c4",
   "metadata": {},
   "source": [
    "### 4. 오늘부터 크리스마스가 몇일 남았는지, 그날은 무슨 요일인지 계산"
   ]
  },
  {
   "cell_type": "code",
   "execution_count": null,
   "id": "552851c9-ee85-4c8b-abbd-1447a053c000",
   "metadata": {},
   "outputs": [],
   "source": []
  },
  {
   "cell_type": "markdown",
   "id": "2c5ea924-00db-400d-8535-1bf84e6cbc06",
   "metadata": {},
   "source": [
    "### 5. 수료 후 추석까지 몇일 남았는지, 그날은 무슨 요일인지 계산"
   ]
  },
  {
   "cell_type": "code",
   "execution_count": null,
   "id": "3208bd5e-b95d-4bf3-86a0-15c5e5435f54",
   "metadata": {},
   "outputs": [],
   "source": []
  },
  {
   "cell_type": "markdown",
   "id": "99225918-0738-4a68-9ecb-56c78a3d6a3d",
   "metadata": {},
   "source": [
    "## 조별과제 p305"
   ]
  },
  {
   "cell_type": "markdown",
   "id": "e7cc782c-3136-42eb-aa44-2dabec12c7d1",
   "metadata": {},
   "source": [
    "#### * 구구단 프로그램 만들기"
   ]
  },
  {
   "cell_type": "code",
   "execution_count": 4,
   "id": "bd570841-895b-4aa8-824f-b5f5bf46cb2b",
   "metadata": {},
   "outputs": [],
   "source": [
    "result = []\n",
    "def gugu(n):\n",
    "    i = 1\n",
    "    while i < 10 :\n",
    "        a = n*i\n",
    "        result.append(a)"
   ]
  },
  {
   "cell_type": "code",
   "execution_count": null,
   "id": "ea7c7a7a-c3b8-4924-a161-a6644842d39c",
   "metadata": {},
   "outputs": [],
   "source": [
    "gugu(2)"
   ]
  },
  {
   "cell_type": "code",
   "execution_count": null,
   "id": "26cec735-0581-4569-ad9b-b5a58631002f",
   "metadata": {},
   "outputs": [],
   "source": [
    "print(\"안녕\")"
   ]
  },
  {
   "cell_type": "code",
   "execution_count": null,
   "id": "5423a205-4287-4d68-a87e-f157e948ca96",
   "metadata": {},
   "outputs": [],
   "source": []
  },
  {
   "cell_type": "code",
   "execution_count": null,
   "id": "590d34dc-150f-4423-8973-47436c8770c4",
   "metadata": {},
   "outputs": [],
   "source": []
  }
 ],
 "metadata": {
  "kernelspec": {
   "display_name": "Python 3 (ipykernel)",
   "language": "python",
   "name": "python3"
  },
  "language_info": {
   "codemirror_mode": {
    "name": "ipython",
    "version": 3
   },
   "file_extension": ".py",
   "mimetype": "text/x-python",
   "name": "python",
   "nbconvert_exporter": "python",
   "pygments_lexer": "ipython3",
   "version": "3.13.1"
  }
 },
 "nbformat": 4,
 "nbformat_minor": 5
}
