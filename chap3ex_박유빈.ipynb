{
 "cells": [
  {
   "cell_type": "markdown",
   "id": "56db1f39-aad3-482e-ab91-70a8e798dfea",
   "metadata": {},
   "source": [
    "# 250207 되새김문제3 박유빈"
   ]
  },
  {
   "cell_type": "code",
   "execution_count": 1,
   "id": "b1eb3b32-145b-4531-be92-ab0a12a330b6",
   "metadata": {},
   "outputs": [
    {
     "name": "stdout",
     "output_type": "stream",
     "text": [
      "need\n"
     ]
    }
   ],
   "source": [
    "# 1. 조건문의 참과 거짓\n",
    "a = \"Life is too short, you need python\"\n",
    "\n",
    "if \"wife\" in a: print(\"wife\")\n",
    "    # wife라는 단어는 a에 없기 때문에 거짓이라 출력되지 않는다.\n",
    "elif \"python\" in a and \"you\" not in a: print(\"python\") \n",
    "    # and함수는 둘 다 참이어야 하는데 you는 a에 있기 때문에 거짓이라 출력되지 않는다.\n",
    "elif \"shirt\" not in a: print(\"need\")\n",
    "    # shirt는 a에 없기 때문에 참이라서 need가 출력된다.\n",
    "elif \"need\" in a: print(\"need\")\n",
    "    # need는 a에 없기 때문에 거짓이라 출력되지 않는다.\n",
    "else: print(\"none\")\n",
    "# 하나가 참이여서 출력됐기 때문에 else는 출력되지 않는다."
   ]
  },
  {
   "cell_type": "code",
   "execution_count": 2,
   "id": "0a09f80e-e4b0-48b1-be9c-7e4345ba71d8",
   "metadata": {},
   "outputs": [
    {
     "name": "stdout",
     "output_type": "stream",
     "text": [
      "166833\n"
     ]
    }
   ],
   "source": [
    "# 2. 1부터 1000까지의 자연수 중 3의 배수 합 구하기\n",
    "result = 0\n",
    "i = 1\n",
    "while i <= 1000:\n",
    "    if i % 3 == 0: \n",
    "       result += i\n",
    "    i += 1\n",
    "\n",
    "print(result)"
   ]
  },
  {
   "cell_type": "code",
   "execution_count": 3,
   "id": "c9540c1a-2fee-419b-a54c-de8f31d09fa4",
   "metadata": {},
   "outputs": [
    {
     "name": "stdout",
     "output_type": "stream",
     "text": [
      "*\n",
      "**\n",
      "***\n",
      "****\n",
      "*****\n"
     ]
    }
   ],
   "source": [
    "# 3. 별 표시하기\n",
    "i = 0\n",
    "while True:\n",
    "    i += 1\n",
    "    if i > 5 :break\n",
    "    print(i*'*')"
   ]
  },
  {
   "cell_type": "code",
   "execution_count": 4,
   "id": "c4a491ef-c769-43b6-a0b3-800acd587b9a",
   "metadata": {},
   "outputs": [
    {
     "name": "stdout",
     "output_type": "stream",
     "text": [
      "1\n",
      "2\n",
      "3\n",
      "4\n",
      "5\n",
      "6\n",
      "7\n",
      "8\n",
      "9\n",
      "10\n",
      "11\n",
      "12\n",
      "13\n",
      "14\n",
      "15\n",
      "16\n",
      "17\n",
      "18\n",
      "19\n",
      "20\n",
      "21\n",
      "22\n",
      "23\n",
      "24\n",
      "25\n",
      "26\n",
      "27\n",
      "28\n",
      "29\n",
      "30\n",
      "31\n",
      "32\n",
      "33\n",
      "34\n",
      "35\n",
      "36\n",
      "37\n",
      "38\n",
      "39\n",
      "40\n",
      "41\n",
      "42\n",
      "43\n",
      "44\n",
      "45\n",
      "46\n",
      "47\n",
      "48\n",
      "49\n",
      "50\n",
      "51\n",
      "52\n",
      "53\n",
      "54\n",
      "55\n",
      "56\n",
      "57\n",
      "58\n",
      "59\n",
      "60\n",
      "61\n",
      "62\n",
      "63\n",
      "64\n",
      "65\n",
      "66\n",
      "67\n",
      "68\n",
      "69\n",
      "70\n",
      "71\n",
      "72\n",
      "73\n",
      "74\n",
      "75\n",
      "76\n",
      "77\n",
      "78\n",
      "79\n",
      "80\n",
      "81\n",
      "82\n",
      "83\n",
      "84\n",
      "85\n",
      "86\n",
      "87\n",
      "88\n",
      "89\n",
      "90\n",
      "91\n",
      "92\n",
      "93\n",
      "94\n",
      "95\n",
      "96\n",
      "97\n",
      "98\n",
      "99\n",
      "100\n"
     ]
    }
   ],
   "source": [
    "# 1부터 100까지 출력하기\n",
    "for i in range(1,101):\n",
    "    print(i)"
   ]
  },
  {
   "cell_type": "code",
   "execution_count": 5,
   "id": "50651233-da68-41fe-8cab-7ce9156e0d31",
   "metadata": {},
   "outputs": [
    {
     "name": "stdout",
     "output_type": "stream",
     "text": [
      "79.7\n"
     ]
    }
   ],
   "source": [
    "# 5. 평균 점수 구하기\n",
    "A = [77, 60, 55, 75, 95, 90, 80, 80, 85, 100]\n",
    "total = 0\n",
    "for score in A:\n",
    "    total += score\n",
    "average = total/10\n",
    "print(average)"
   ]
  },
  {
   "cell_type": "code",
   "execution_count": 6,
   "id": "67fe0c22-e70d-4274-9e75-ee8025109e03",
   "metadata": {},
   "outputs": [
    {
     "name": "stdout",
     "output_type": "stream",
     "text": [
      "[2, 6, 10]\n"
     ]
    }
   ],
   "source": [
    "# 6. 리스트 컴프리헨션 사용하기\n",
    "number = [1, 2, 3, 4, 5]\n",
    "result = [num * 2 for num in number if num % 2 == 1]\n",
    "print(result)"
   ]
  },
  {
   "cell_type": "code",
   "execution_count": null,
   "id": "d9253cc2-12ab-4fff-b563-91dc664d256a",
   "metadata": {},
   "outputs": [],
   "source": []
  }
 ],
 "metadata": {
  "kernelspec": {
   "display_name": "Python 3 (ipykernel)",
   "language": "python",
   "name": "python3"
  },
  "language_info": {
   "codemirror_mode": {
    "name": "ipython",
    "version": 3
   },
   "file_extension": ".py",
   "mimetype": "text/x-python",
   "name": "python",
   "nbconvert_exporter": "python",
   "pygments_lexer": "ipython3",
   "version": "3.13.1"
  }
 },
 "nbformat": 4,
 "nbformat_minor": 5
}
