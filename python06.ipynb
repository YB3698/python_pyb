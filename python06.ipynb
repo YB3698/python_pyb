{
 "cells": [
  {
   "cell_type": "markdown",
   "id": "344583f1-d71b-43da-be7d-4f294b7eb8d0",
   "metadata": {},
   "source": [
    "# 모듈"
   ]
  },
  {
   "cell_type": "markdown",
   "id": "9c61f116-9c85-4635-b832-cd026945507e",
   "metadata": {},
   "source": [
    "## 1.1 모듈 만들기"
   ]
  },
  {
   "cell_type": "code",
   "execution_count": 12,
   "id": "d6f863b6-b4fb-4c47-9a9e-26c9c7a79ac4",
   "metadata": {},
   "outputs": [],
   "source": [
    "# 모듈 만들기\n",
    "# def add(a,b):\n",
    "#     return a + b\n",
    "# def sub(a,b):\n",
    "#     return a - b"
   ]
  },
  {
   "cell_type": "code",
   "execution_count": 2,
   "id": "8756f885-382f-4d7a-a736-e5c62814e6b2",
   "metadata": {},
   "outputs": [
    {
     "name": "stdout",
     "output_type": "stream",
     "text": [
      "5\n",
      "2\n",
      "mod1\n",
      "전 모듈로 임포트 되었어요.\n",
      "33\n",
      "11\n"
     ]
    }
   ],
   "source": [
    "import mod1 # 위 코드로 mod1.py라는 파일을 만들어놨음\n",
    "print(mod1.add(11,22))\n",
    "print(mod1.sub(33,22))"
   ]
  },
  {
   "cell_type": "code",
   "execution_count": 4,
   "id": "55048001-a781-4e19-9965-f0e1251ca770",
   "metadata": {},
   "outputs": [],
   "source": [
    "with open(\"mod2.py\",\"w\") as f:\n",
    "    data = \"\"\"def mul(a,b):\n",
    "    return a*b\n",
    "def div(a,b):\n",
    "    return a/b\"\"\"\n",
    "    f.write(data)"
   ]
  },
  {
   "cell_type": "code",
   "execution_count": 5,
   "id": "ac87c72c-a1da-4669-afce-c3709e8df95c",
   "metadata": {},
   "outputs": [
    {
     "name": "stdout",
     "output_type": "stream",
     "text": [
      "12\n",
      "2.0\n"
     ]
    }
   ],
   "source": [
    "import mod2\n",
    "print(mod2.mul(3,4))\n",
    "print(mod2.div(8,4))"
   ]
  },
  {
   "cell_type": "code",
   "execution_count": 6,
   "id": "ccf4bc05-8404-4dd4-91f9-8ebb9b3f16f5",
   "metadata": {},
   "outputs": [
    {
     "name": "stdout",
     "output_type": "stream",
     "text": [
      "33\n",
      "11\n",
      "12\n",
      "2.0\n"
     ]
    }
   ],
   "source": [
    "import mod1, mod2\n",
    "print(mod1.add(11,22))\n",
    "print(mod1.sub(33,22))\n",
    "print(mod2.mul(3,4))\n",
    "print(mod2.div(8,4))"
   ]
  },
  {
   "cell_type": "code",
   "execution_count": 15,
   "id": "f4fa49b9-9323-41c5-a029-fcabf8783f2d",
   "metadata": {},
   "outputs": [
    {
     "ename": "SyntaxError",
     "evalue": "invalid syntax (1395826910.py, line 4)",
     "output_type": "error",
     "traceback": [
      "\u001b[1;36m  Cell \u001b[1;32mIn[15], line 4\u001b[1;36m\u001b[0m\n\u001b[1;33m    import mod1 as m1, import mod2 as m2\u001b[0m\n\u001b[1;37m                       ^\u001b[0m\n\u001b[1;31mSyntaxError\u001b[0m\u001b[1;31m:\u001b[0m invalid syntax\n"
     ]
    }
   ],
   "source": [
    "# import mod1 as m1 \n",
    "# import mod2 as m2\n",
    "\n",
    "import mod1 as m1, import mod2 as m2\n",
    "print(mod1.add(11,22))\n",
    "print(mod1.sub(33,22))\n",
    "print(mod2.mul(3,4))\n",
    "print(mod2.div(8,4))"
   ]
  },
  {
   "cell_type": "code",
   "execution_count": 16,
   "id": "99c15d4a-e596-431c-9087-732786ebba54",
   "metadata": {},
   "outputs": [
    {
     "name": "stdout",
     "output_type": "stream",
     "text": [
      "77\n"
     ]
    }
   ],
   "source": [
    "from mod1 import add, sub\n",
    "print(add(33,44))"
   ]
  },
  {
   "cell_type": "code",
   "execution_count": 17,
   "id": "d1d5af61-33a0-4827-ba0b-ad01d94e7bf7",
   "metadata": {},
   "outputs": [
    {
     "name": "stdout",
     "output_type": "stream",
     "text": [
      "20\n"
     ]
    }
   ],
   "source": [
    "from mod2 import *\n",
    "print(mul(4,5))"
   ]
  },
  {
   "cell_type": "markdown",
   "id": "6bd83f2b-7383-4aa7-86ee-3c11a5fa4668",
   "metadata": {},
   "source": [
    "## 1.2. `__main__`의 의미"
   ]
  },
  {
   "cell_type": "code",
   "execution_count": 18,
   "id": "244a2395-2a5b-4012-83d6-c933caf2ce22",
   "metadata": {},
   "outputs": [],
   "source": [
    "with open(\"mod1.py\",\"a\") as f:\n",
    "    text = \"\"\"\\nprint(add(1,4))\\nprint(sub(4,2))\"\"\"\n",
    "    f.write(text)"
   ]
  },
  {
   "cell_type": "code",
   "execution_count": null,
   "id": "53ff2cca-c4d6-4ed7-b151-9ada18f20fe5",
   "metadata": {},
   "outputs": [],
   "source": [
    "매직커멘드\n",
    "%%bash : 리눅스\n",
    "%%cmd : 윈도우"
   ]
  },
  {
   "cell_type": "code",
   "execution_count": 19,
   "id": "0df4c6e1-76b3-447a-ba14-354842b5f557",
   "metadata": {},
   "outputs": [
    {
     "name": "stdout",
     "output_type": "stream",
     "text": [
      "Microsoft Windows [Version 10.0.26100.2894]\n",
      "(c) Microsoft Corporation. All rights reserved.\n",
      "\n",
      "yb\\code>python mod1.py\n",
      "5\n",
      "2\n",
      "__main__\n",
      "�� ���Ϸ� ������ �Ǿ����.\n",
      "5\n",
      "2\n",
      "\n",
      "D:\\pyb\\code>"
     ]
    }
   ],
   "source": [
    "%%cmd\n",
    "python mod1.py"
   ]
  },
  {
   "cell_type": "code",
   "execution_count": 20,
   "id": "0dcebbc9-388a-4d4c-a2c9-dc2e2087c7c7",
   "metadata": {},
   "outputs": [
    {
     "data": {
      "text/plain": [
       "['__builtins__',\n",
       " '__cached__',\n",
       " '__doc__',\n",
       " '__file__',\n",
       " '__loader__',\n",
       " '__name__',\n",
       " '__package__',\n",
       " '__spec__',\n",
       " 'add',\n",
       " 'sub']"
      ]
     },
     "execution_count": 20,
     "metadata": {},
     "output_type": "execute_result"
    }
   ],
   "source": [
    "import mod1\n",
    "dir(mod1)"
   ]
  },
  {
   "cell_type": "code",
   "execution_count": 22,
   "id": "41f39c77-6e4f-4926-b505-c6aee704326b",
   "metadata": {},
   "outputs": [
    {
     "ename": "SyntaxError",
     "evalue": "unexpected character after line continuation character (2670979618.py, line 2)",
     "output_type": "error",
     "traceback": [
      "\u001b[1;36m  Cell \u001b[1;32mIn[22], line 2\u001b[1;36m\u001b[0m\n\u001b[1;33m    content = \"\"\\nprint(__)\"\"\u001b[0m\n\u001b[1;37m                 ^\u001b[0m\n\u001b[1;31mSyntaxError\u001b[0m\u001b[1;31m:\u001b[0m unexpected character after line continuation character\n"
     ]
    }
   ],
   "source": [
    "with open('mod1.py','a') as f:\n",
    "    content = \"\"\\nprint(__)\"\""
   ]
  },
  {
   "cell_type": "code",
   "execution_count": null,
   "id": "f66ce3df-3557-4867-aba2-61675f015d91",
   "metadata": {},
   "outputs": [],
   "source": []
  },
  {
   "cell_type": "code",
   "execution_count": null,
   "id": "b24fa878-12cc-4a93-9514-dc27b714200c",
   "metadata": {},
   "outputs": [],
   "source": []
  },
  {
   "cell_type": "markdown",
   "id": "dd7fe4ad-6189-4e3d-9a1f-bea27ffb0d4a",
   "metadata": {},
   "source": [
    "## 1.3. 클래스나 변수등을 포함한 모듈"
   ]
  },
  {
   "cell_type": "code",
   "execution_count": 1,
   "id": "1af38cad-fe25-4bca-a4fe-b2d1593e82ce",
   "metadata": {},
   "outputs": [],
   "source": [
    "with open(\"mod3.py\",\"w\") as f:\n",
    "    text = \"\"\"PI = 3.141592\\n\\nclass Math:\\n\\tdef solv(self,r):\\n\\t\\treturn PI * (r**2)\\n\\ndef add(a,b):\\n\\treturn a+b\"\"\"\n",
    "    f.write(text)"
   ]
  },
  {
   "cell_type": "code",
   "execution_count": 2,
   "id": "f90ef902-8639-4174-94a6-3a317bd3d1e9",
   "metadata": {},
   "outputs": [
    {
     "name": "stdout",
     "output_type": "stream",
     "text": [
      "3.141592\n",
      "314.1592\n",
      "7.5415920000000005\n"
     ]
    }
   ],
   "source": [
    "import mod3\n",
    "# 변수\n",
    "print(mod3.PI)\n",
    "# 클래스\n",
    "a = mod3.Math()\n",
    "print(a.solv(10))\n",
    "# 함수\n",
    "print(mod3.add(mod3.PI,4.4))"
   ]
  },
  {
   "cell_type": "markdown",
   "id": "ba4573fa-9cb4-4185-b4de-e93ceb1198bd",
   "metadata": {},
   "source": [
    "## 1.4. 다른 디렉터리에 있는 모듈 불러오는 방법"
   ]
  },
  {
   "cell_type": "code",
   "execution_count": 5,
   "id": "ecc0567a-1dc8-4874-8aa5-0250acb8829e",
   "metadata": {},
   "outputs": [
    {
     "data": {
      "text/plain": [
       "['C:\\\\Dev\\\\Lang\\\\Python313\\\\python313.zip',\n",
       " 'C:\\\\Dev\\\\Lang\\\\Python313\\\\DLLs',\n",
       " 'C:\\\\Dev\\\\Lang\\\\Python313\\\\Lib',\n",
       " 'C:\\\\Dev\\\\Lang\\\\Python313',\n",
       " '',\n",
       " 'C:\\\\Dev\\\\Lang\\\\Python313\\\\Lib\\\\site-packages',\n",
       " 'C:\\\\Dev\\\\Lang\\\\Python313\\\\Lib\\\\site-packages\\\\win32',\n",
       " 'C:\\\\Dev\\\\Lang\\\\Python313\\\\Lib\\\\site-packages\\\\win32\\\\lib',\n",
       " 'C:\\\\Dev\\\\Lang\\\\Python313\\\\Lib\\\\site-packages\\\\Pythonwin']"
      ]
     },
     "execution_count": 5,
     "metadata": {},
     "output_type": "execute_result"
    }
   ],
   "source": [
    "import sys\n",
    "sys.path"
   ]
  },
  {
   "cell_type": "code",
   "execution_count": 7,
   "id": "b52265d8-4997-4b6c-b220-df2599a3dcca",
   "metadata": {},
   "outputs": [
    {
     "data": {
      "text/plain": [
       "['C:\\\\Dev\\\\Lang\\\\Python313\\\\python313.zip',\n",
       " 'C:\\\\Dev\\\\Lang\\\\Python313\\\\DLLs',\n",
       " 'C:\\\\Dev\\\\Lang\\\\Python313\\\\Lib',\n",
       " 'C:\\\\Dev\\\\Lang\\\\Python313',\n",
       " '',\n",
       " 'C:\\\\Dev\\\\Lang\\\\Python313\\\\Lib\\\\site-packages',\n",
       " 'C:\\\\Dev\\\\Lang\\\\Python313\\\\Lib\\\\site-packages\\\\win32',\n",
       " 'C:\\\\Dev\\\\Lang\\\\Python313\\\\Lib\\\\site-packages\\\\win32\\\\lib',\n",
       " 'C:\\\\Dev\\\\Lang\\\\Python313\\\\Lib\\\\site-packages\\\\Pythonwin',\n",
       " 'PS D:\\\\pyb\\\\code\\\\mymod>',\n",
       " 'PS D:\\\\pyb\\\\code\\\\mymod>']"
      ]
     },
     "execution_count": 7,
     "metadata": {},
     "output_type": "execute_result"
    }
   ],
   "source": [
    "sys.path.append('PS D:\\\\pyb\\\\code\\\\mymod>')\n",
    "sys.path"
   ]
  },
  {
   "cell_type": "code",
   "execution_count": 7,
   "id": "3cf859de-9093-4506-9e1b-a5811713073d",
   "metadata": {},
   "outputs": [
    {
     "name": "stdout",
     "output_type": "stream",
     "text": [
      "Microsoft Windows [Version 10.0.26100.2894]\n",
      "(c) Microsoft Corporation. All rights reserved.\n",
      "\n",
      "yb\\code>set PYTHONPATH=D:\\\\pyb\\code\n",
      "\n",
      "D:\\pyb\\code>"
     ]
    }
   ],
   "source": [
    "%%cmd\n",
    "set PYTHONPATH=D:\\\\pyb\\code"
   ]
  },
  {
   "attachments": {
    "8aa8a6f5-52e7-4396-9f71-f8da26f2443c.png": {
     "image/png": "[encoded data removed]"
    }
   },
   "cell_type": "markdown",
   "id": "46c56b69-5679-48b6-a629-8e477769a2f4",
   "metadata": {},
   "source": [
    "![image.png](attachment:8aa8a6f5-52e7-4396-9f71-f8da26f2443c.png)"
   ]
  },
  {
   "cell_type": "code",
   "execution_count": 9,
   "id": "e48b3aff-b2ae-4dcc-ba66-49cf44dfcfa5",
   "metadata": {},
   "outputs": [
    {
     "name": "stdout",
     "output_type": "stream",
     "text": [
      "Requirement already satisfied: pip in c:\\dev\\lang\\python313\\lib\\site-packages (25.0)\n",
      "Collecting pip\n",
      "  Downloading pip-25.0.1-py3-none-any.whl.metadata (3.7 kB)\n",
      "Downloading pip-25.0.1-py3-none-any.whl (1.8 MB)\n",
      "   ---------------------------------------- 0.0/1.8 MB ? eta -:--:--\n",
      "   ---------------------------------------- 1.8/1.8 MB 46.4 MB/s eta 0:00:00\n",
      "Installing collected packages: pip\n",
      "  Attempting uninstall: pip\n",
      "    Found existing installation: pip 25.0\n",
      "    Uninstalling pip-25.0:\n",
      "      Successfully uninstalled pip-25.0\n",
      "Successfully installed pip-25.0.1\n"
     ]
    }
   ],
   "source": [
    "# !pip install python-dotenv\n",
    "!python.exe -m pip install --upgrade pip"
   ]
  },
  {
   "cell_type": "code",
   "execution_count": 13,
   "id": "1ac4913d-758f-4ea1-a164-26b4a07408af",
   "metadata": {},
   "outputs": [
    {
     "name": "stdout",
     "output_type": "stream",
     "text": [
      "myphone01077777777\n",
      "http://www.google.com\n",
      "이게 될까?? 모르겠어요..!\n"
     ]
    }
   ],
   "source": [
    "from dotenv import load_dotenv\n",
    "import os\n",
    "\n",
    "# .env 파일 로드\n",
    "load_dotenv()\n",
    "\n",
    "SKEY = os.getenv(\"SECRET_KEY\")\n",
    "print(SKEY)\n",
    "DBUG = os.getenv(\"DEBUG\")\n",
    "print(DBUG)\n",
    "TEST = os.getenv(\"TEST\")\n",
    "print(TEST)"
   ]
  },
  {
   "cell_type": "code",
   "execution_count": 25,
   "id": "55e6951b-a98c-4cdc-9e89-156b80be9980",
   "metadata": {},
   "outputs": [
    {
     "name": "stdout",
     "output_type": "stream",
     "text": [
      "[속보] 임종훈 한미사이언스 대표 사임…송영숙, 대표 선임\n",
      "임종훈 한미사이언스 대표 사임…송영숙 회장, 대표 선임\n",
      "https://biz.sbs.co.kr/article_hub/20000217807?division=NAVER\n",
      "[속보]최상목 &quot;정부도 추경 필요 입장&quot;\n",
      "정부가 추가경정예산(추경) 편성의 필요성을 인정하며 국회와 논의할 뜻을 밝혔다. 최상목 권한대행은 이날 오후 국회에서 열린 대정부질문에서 더불어민주당이 발표한 35조 원 규모의 추경 예산과 관련해 대통령실만... \n",
      "https://www.sedaily.com/NewsView/2GOYDUZ775\n",
      "[속보] 한미사이언스 대표이사, 임종훈에서 송영숙으로 변경\n",
      "한미사이언스(008930)는 임종훈 한미사이언스 대표가 사임함에 따라 이사회 결의를 통해 송영숙 대표이사를 신규선임했다고 13일 밝혔다.\n",
      "https://www.sedaily.com/NewsView/2GOYCTWQSP\n",
      "[속보] 조성현 &quot;이진우, 계엄 당일 공포탄 챙기라고 지시&quot;\n",
      "조성현 &quot;이진우, 계엄 당일 공포탄 챙기라고 지시&quot;\n",
      "https://www.newscj.com/news/articleView.html?idxno=3233672\n",
      "[속보] 국힘 윤리위, 尹 제명·출당 등 징계 않기로\n",
      "국민의힘 중앙윤리위원회가 12·3 비상계엄을 선포한 윤석열 대통령에 대한 징계 절차 종결을 선언하고 제명·탈당 권유 등 징계 조치를 하지 않기로 결론을 내렸다. 여상원 윤리위원장은 13일 오전 서울 여의도 당사에서... \n",
      "https://www.imaeil.com/page/view/2025021316083091059\n",
      "[속보]조성현 &quot;이진우, 공포탄 지참해 국회 출동 지시&quot;\n",
      "\n",
      "https://www.newsis.com/view/NISX20250213_0003064608\n",
      "[속보]'경영권 분쟁' 차남 임종훈, 한미사이언스 대표사임\n",
      "\n",
      "https://www.newsis.com/view/NISX20250213_0003064289\n",
      "[속보]송영숙, 한미사이언스 대표로 '복귀'…해임 9개월만\n",
      "\n",
      "https://www.newsis.com/view/NISX20250213_0003064292\n",
      "[속보] 임종훈 한미사이언스 대표 사임…송영숙 회장, 대표 선임\n",
      "13일 한미사이언스는 이날 이사회에서 임종훈 대표이사가 사임, 송영숙 한미약품그룹 회장을 신임 대표이사로 선임했다고 밝혔다.\n",
      "http://news.mt.co.kr/mtview.php?no=2025021315425272941\n",
      "[속보] 국힘 윤리위, 尹 징계 않기로 결정…&quot;이미 종결된 사안&quot;\n",
      "국민의힘 중앙윤리위원회가 한동훈 전 대표의 요구로 시작된 윤석열 대통령 징계 절차 종결을 선언, 제명·탈당 권유 등 징계 조치를 하지 않기로 했다. 여상원 윤리위원장은 13일 여의도 당사에서 약 3시간 동안 진행된... \n",
      "https://www.daejonilbo.com/news/articleView.html?idxno=2183904\n"
     ]
    }
   ],
   "source": [
    "# 네이버 검색 API 예제 - 블로그 검색\n",
    "import os\n",
    "import sys\n",
    "import urllib.request\n",
    "import json\n",
    "\n",
    "load_dotenv()\n",
    "client_id = os.environ.get(\"MY_ID\")\n",
    "client_secret = os.environ.get(\"MY_SECRET\")\n",
    "\n",
    "encText = urllib.parse.quote(\"속보\")\n",
    "url = \"https://openapi.naver.com/v1/search/news.json?query=\" + encText # JSON 결과\n",
    "# url = \"https://openapi.naver.com/v1/search/blog.xml?query=\" + encText # XML 결과\n",
    "request = urllib.request.Request(url)\n",
    "request.add_header(\"X-Naver-Client-Id\",client_id)\n",
    "request.add_header(\"X-Naver-Client-Secret\",client_secret)\n",
    "response = urllib.request.urlopen(request)\n",
    "rescode = response.getcode()\n",
    "if(rescode==200):\n",
    "    response_body = response.read()\n",
    "    result = response_body.decode('utf-8')\n",
    "    data = json.loads(result)\n",
    "    ldata = data['items']\n",
    "    for n in ldata:\n",
    "        print(n['title'].replace('<b>','').replace('</b>',''))\n",
    "        print(n['description'])\n",
    "        print(n['originallink'])\n",
    "else:\n",
    "    print(\"Error Code:\" + rescode)"
   ]
  },
  {
   "cell_type": "code",
   "execution_count": 14,
   "id": "a77d724b-1a1a-436a-a719-055f1d6dc63c",
   "metadata": {},
   "outputs": [
    {
     "name": "stdout",
     "output_type": "stream",
     "text": [
      "Requirement already satisfied: qrcode in c:\\dev\\lang\\python313\\lib\\site-packages (8.0)\n",
      "Requirement already satisfied: colorama in c:\\dev\\lang\\python313\\lib\\site-packages (from qrcode) (0.4.6)\n"
     ]
    }
   ],
   "source": [
    "!pip install qrcode"
   ]
  },
  {
   "cell_type": "code",
   "execution_count": 15,
   "id": "29a2fa5c-55aa-4e4a-9b54-7237ea03f779",
   "metadata": {},
   "outputs": [],
   "source": [
    "import qrcode\n",
    "\n",
    "def qrcode_maker(text,filename='qr.png'):\n",
    "    qr = qrcode.make(text)\n",
    "    qr.save(filename)\n",
    "\n",
    "qrcode_maker(\"안녕하세요\")\n",
    "qrcode_maker('www.naver.com,','naver.png')"
   ]
  },
  {
   "cell_type": "code",
   "execution_count": 16,
   "id": "d78ebdc3-37d7-48ca-b42d-ce0d1eafcc1f",
   "metadata": {},
   "outputs": [
    {
     "data": {
      "text/html": [
       "<image src=\"qr.png\" width=100>"
      ],
      "text/plain": [
       "<IPython.core.display.HTML object>"
      ]
     },
     "metadata": {},
     "output_type": "display_data"
    }
   ],
   "source": [
    "from IPython.display import display, HTML\n",
    "from PIL import Image\n",
    "\n",
    "image_path = 'qr.png'\n",
    "img = Image.open(image_path)\n",
    "htmlcode = '<image src=\"qr.png\" width=100>'\n",
    "display(HTML(htmlcode))"
   ]
  },
  {
   "cell_type": "code",
   "execution_count": 17,
   "id": "33257191-938d-457d-a5a8-4cc7cd89d370",
   "metadata": {},
   "outputs": [],
   "source": [
    "positive_words = []"
   ]
  },
  {
   "cell_type": "code",
   "execution_count": null,
   "id": "a1e0e939-44ea-495c-b91d-59dcd9195c7d",
   "metadata": {},
   "outputs": [],
   "source": []
  }
 ],
 "metadata": {
  "kernelspec": {
   "display_name": "Python 3 (ipykernel)",
   "language": "python",
   "name": "python3"
  },
  "language_info": {
   "codemirror_mode": {
    "name": "ipython",
    "version": 3
   },
   "file_extension": ".py",
   "mimetype": "text/x-python",
   "name": "python",
   "nbconvert_exporter": "python",
   "pygments_lexer": "ipython3",
   "version": "3.13.1"
  }
 },
 "nbformat": 4,
 "nbformat_minor": 5
}
