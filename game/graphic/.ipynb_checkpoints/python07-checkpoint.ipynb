{
 "cells": [
  {
   "cell_type": "markdown",
   "id": "f1daaa8b-2c0f-4730-ba93-5bd7c566141f",
   "metadata": {},
   "source": [
    "# 내장함수"
   ]
  },
  {
   "cell_type": "code",
   "execution_count": 2,
   "id": "fec4271e-aa37-4456-8897-ef0c792fdbdb",
   "metadata": {},
   "outputs": [
    {
     "name": "stdout",
     "output_type": "stream",
     "text": [
      "3\n",
      "1.2\n"
     ]
    }
   ],
   "source": [
    "# abs *\n",
    "print(abs(-3))\n",
    "print(abs(-1.2))"
   ]
  },
  {
   "cell_type": "code",
   "execution_count": 9,
   "id": "58ccefa1-b1c0-49c6-bac8-e744210d5203",
   "metadata": {},
   "outputs": [
    {
     "name": "stdout",
     "output_type": "stream",
     "text": [
      "True\n",
      "False\n",
      "True\n"
     ]
    }
   ],
   "source": [
    "# all *\n",
    "print(all([1,2,3]))\n",
    "print(all([11,22,0,44,55])) # 0이 있으면 false\n",
    "print(all([])) # 특이사항"
   ]
  },
  {
   "cell_type": "code",
   "execution_count": 12,
   "id": "f7b9b640-a378-405e-821c-c11f2e3e8529",
   "metadata": {},
   "outputs": [
    {
     "name": "stdout",
     "output_type": "stream",
     "text": [
      "True\n",
      "False\n",
      "False\n"
     ]
    }
   ],
   "source": [
    "# any *\n",
    "print(any([1,2,3,0]))\n",
    "print(any([0,\"\",[],False]))\n",
    "print(any([]))"
   ]
  },
  {
   "cell_type": "code",
   "execution_count": 15,
   "id": "5c22a781-7fc6-4a75-aeb4-4f6547a64afe",
   "metadata": {},
   "outputs": [
    {
     "name": "stdout",
     "output_type": "stream",
     "text": [
      "A\n",
      "가\n",
      "65\n",
      "44032\n"
     ]
    }
   ],
   "source": [
    "# 아스키코드\n",
    "print(chr(65))\n",
    "print(chr(44032))\n",
    "# 유니코드 - UTF -8(인코딩방식)\n",
    "print(ord('A'))\n",
    "print(ord('가'))"
   ]
  },
  {
   "cell_type": "code",
   "execution_count": 111,
   "id": "6024c34e-0262-4c6e-9efe-8f8f8eb949a3",
   "metadata": {},
   "outputs": [
    {
     "name": "stdout",
     "output_type": "stream",
     "text": [
      "A B C D E F G H I J K L M N O P Q R S T U V W X Y Z "
     ]
    }
   ],
   "source": [
    "# 1. 아스키코드표를 보고 A부터 Z까지 차례로 모두 출력하라.\n",
    "for x in range(65,91):\n",
    "    print(chr(x),end = \" \")"
   ]
  },
  {
   "cell_type": "code",
   "execution_count": 112,
   "id": "eaf1d7e8-c74f-4d34-a16f-57dfd95b652e",
   "metadata": {},
   "outputs": [
    {
     "name": "stdout",
     "output_type": "stream",
     "text": [
      "z y x w v u t s r q p o n m l k j i h g f e d c b a "
     ]
    }
   ],
   "source": [
    "# 2. 아스키코드표를 보고 a부터 z까지 역순으로 모두 출력하라.\n",
    "box = []\n",
    "for x in range(122,96,-1):\n",
    "   print(chr(x),end=' ')"
   ]
  },
  {
   "cell_type": "code",
   "execution_count": 113,
   "id": "7b34bd64-dba4-45ba-b2bb-880a0f6f687a",
   "metadata": {},
   "outputs": [
    {
     "name": "stdout",
     "output_type": "stream",
     "text": [
      "\n",
      "\n",
      "A1 A2 A3 A4 A5 A6 A7 A8 A9 A10 \n",
      "\n",
      "B1 B2 B3 B4 B5 B6 B7 B8 B9 B10 \n",
      "\n",
      "C1 C2 C3 C4 C5 C6 C7 C8 C9 C10 "
     ]
    }
   ],
   "source": [
    "# 3. A1부터 A10까지 증가 후 B1부터 B10까지 증가, 그리고 C1부터 C10까지 증가\n",
    "for x in range(65,68):\n",
    "        print('\\n')\n",
    "        for i in range(1,11):\n",
    "                print(chr(x)+str(i),end=' ')"
   ]
  },
  {
   "cell_type": "code",
   "execution_count": 1,
   "id": "ba4eb545-b3e4-44ad-a442-a93cd459eca5",
   "metadata": {},
   "outputs": [],
   "source": [
    "class Ascii:\n",
    "    def __init__(self):\n",
    "        self.result = 0\n",
    "\n",
    "    def ex1(self):\n",
    "        for i in range(65, 91):\n",
    "            print(chr(i),end = ' ')\n",
    "\n",
    "    def  ex2(self):\n",
    "        for j in range(122,96,-1):\n",
    "            print(chr(j),end='')\n",
    "\n",
    "    def ex3(self):\n",
    "        for i in range(3):\n",
    "            print('\\n')\n",
    "            for j in range(1,11):\n",
    "                print(chr(i+65) + str(j) + '\\t',end='')"
   ]
  },
  {
   "cell_type": "code",
   "execution_count": 4,
   "id": "9f8b50ed-de2b-43af-861a-9d6c4790d643",
   "metadata": {},
   "outputs": [
    {
     "name": "stdout",
     "output_type": "stream",
     "text": [
      "A B C D E F G H I J K L M N O P Q R S T U V W X Y Z zyxwvutsrqponmlkjihgfedcba\n",
      "\n",
      "A1\tA2\tA3\tA4\tA5\tA6\tA7\tA8\tA9\tA10\t\n",
      "\n",
      "B1\tB2\tB3\tB4\tB5\tB6\tB7\tB8\tB9\tB10\t\n",
      "\n",
      "C1\tC2\tC3\tC4\tC5\tC6\tC7\tC8\tC9\tC10\t"
     ]
    }
   ],
   "source": [
    "ascii = Ascii()\n",
    "ascii.ex1()\n",
    "ascii.ex2()\n",
    "ascii.ex3()"
   ]
  },
  {
   "cell_type": "code",
   "execution_count": 15,
   "id": "e108d178-832d-4c43-8e52-1511f919ebb5",
   "metadata": {},
   "outputs": [
    {
     "data": {
      "text/plain": [
       "'A'"
      ]
     },
     "execution_count": 15,
     "metadata": {},
     "output_type": "execute_result"
    }
   ],
   "source": [
    "def abc(first, second):\n",
    "    for i in range(first, second):\n",
    "        return chr(i)\n",
    "\n",
    "abc(65,90)"
   ]
  },
  {
   "cell_type": "code",
   "execution_count": null,
   "id": "4cbdb2dd-1bf7-4629-bcd8-1393dea294bb",
   "metadata": {},
   "outputs": [],
   "source": [
    "positive_words = [\"좋아\", \"행복\", \"멋져\", \"최고\", \"사랑해\"]"
   ]
  }
 ],
 "metadata": {
  "kernelspec": {
   "display_name": "Python 3 (ipykernel)",
   "language": "python",
   "name": "python3"
  },
  "language_info": {
   "codemirror_mode": {
    "name": "ipython",
    "version": 3
   },
   "file_extension": ".py",
   "mimetype": "text/x-python",
   "name": "python",
   "nbconvert_exporter": "python",
   "pygments_lexer": "ipython3",
   "version": "3.13.1"
  }
 },
 "nbformat": 4,
 "nbformat_minor": 5
}
